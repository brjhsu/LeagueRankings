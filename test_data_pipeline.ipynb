{
 "cells": [
  {
   "cell_type": "code",
   "execution_count": 1,
   "id": "initial_id",
   "metadata": {
    "collapsed": true,
    "ExecuteTime": {
     "end_time": "2023-09-04T17:55:07.804109700Z",
     "start_time": "2023-09-04T17:55:07.162098900Z"
    }
   },
   "outputs": [],
   "source": [
    "import pandas as pd\n",
    "import requests\n",
    "import json\n",
    "import gzip\n",
    "import shutil\n",
    "import time\n",
    "import os\n",
    "from io import BytesIO\n",
    "import numpy as np"
   ]
  },
  {
   "cell_type": "code",
   "execution_count": 2,
   "outputs": [],
   "source": [
    "S3_BUCKET_URL = \"https://power-rankings-dataset-gprhack.s3.us-west-2.amazonaws.com\"\n",
    "\n",
    "\n",
    "def download_gzip_and_write_to_json(file_name):\n",
    "    # If file already exists locally do not re-download game\n",
    "    if os.path.isfile(f\"{file_name}.json\"):\n",
    "       return\n",
    "\n",
    "    response = requests.get(f\"{S3_BUCKET_URL}/{file_name}.json.gz\")\n",
    "    if response.status_code == 200:\n",
    "       try:\n",
    "           gzip_bytes = BytesIO(response.content)\n",
    "           with gzip.GzipFile(fileobj=gzip_bytes, mode=\"rb\") as gzipped_file:\n",
    "               with open(f\"{file_name}.json\", 'wb') as output_file:\n",
    "                   shutil.copyfileobj(gzipped_file, output_file)\n",
    "               print(f\"{file_name}.json written\")\n",
    "       except Exception as e:\n",
    "           print(\"Error:\", e)\n",
    "    else:\n",
    "       print(f\"Failed to download {file_name}\")\n",
    "\n",
    "\n",
    "def download_esports_files():\n",
    "   directory = \"esports-data\"\n",
    "   if not os.path.exists(directory):\n",
    "       os.makedirs(directory)\n",
    "\n",
    "   esports_data_files = [\"leagues\", \"tournaments\", \"players\", \"teams\", \"mapping_data\"]\n",
    "   for file_name in esports_data_files:\n",
    "       download_gzip_and_write_to_json(f\"{directory}/{file_name}\")\n",
    "\n",
    "\n",
    "def download_games(year):\n",
    "    start_time = time.time()\n",
    "    with open(\"esports-data/tournaments.json\", \"r\") as json_file:\n",
    "       tournaments_data = json.load(json_file)\n",
    "    with open(\"esports-data/mapping_data.json\", \"r\") as json_file:\n",
    "       mappings_data = json.load(json_file)\n",
    "\n",
    "    directory = \"games\"\n",
    "    if not os.path.exists(directory):\n",
    "       os.makedirs(directory)\n",
    "\n",
    "    mappings = {\n",
    "       esports_game[\"esportsGameId\"]: esports_game for esports_game in mappings_data\n",
    "    }\n",
    "\n",
    "    game_counter = 0\n",
    "\n",
    "    for tournament in tournaments_data:\n",
    "       start_date = tournament.get(\"startDate\", \"\")\n",
    "       if start_date.startswith(str(year)):\n",
    "           print(f\"Processing {tournament['slug']}\")\n",
    "           for stage in tournament[\"stages\"]:\n",
    "               for section in stage[\"sections\"]:\n",
    "                   for match in section[\"matches\"]:\n",
    "                       for game in match[\"games\"]:\n",
    "                           if game[\"state\"] == \"completed\":\n",
    "                               try:\n",
    "                                   platform_game_id = mappings[game[\"id\"]][\"platformGameId\"]\n",
    "                               except KeyError:\n",
    "                                   print(f\"{platform_game_id} {game['id']} not found in the mapping table\")\n",
    "                                   continue\n",
    "\n",
    "                               download_gzip_and_write_to_json(f\"{directory}/{platform_game_id}\")\n",
    "                               game_counter += 1\n",
    "\n",
    "                           if game_counter % 10 == 0:\n",
    "                               print(\n",
    "                                   f\"----- Processed {game_counter} games, current run time: \\\n",
    "                                   {round((time.time() - start_time)/60, 2)} minutes\")\n",
    "                               break \n",
    "                             \n",
    "                                \n"
   ],
   "metadata": {
    "collapsed": false,
    "ExecuteTime": {
     "end_time": "2023-09-04T02:52:13.082108Z",
     "start_time": "2023-09-04T02:52:13.049164500Z"
    }
   },
   "id": "65494b7acec2280a"
  },
  {
   "cell_type": "code",
   "execution_count": 4,
   "outputs": [
    {
     "data": {
      "text/plain": "['leagues.json',\n 'mapping_data.json',\n 'players.json',\n 'teams.json',\n 'tournaments.json']"
     },
     "execution_count": 4,
     "metadata": {},
     "output_type": "execute_result"
    }
   ],
   "source": [
    "# Downloads basic data (not per-game data) for all esports games\n",
    "download_esports_files()\n",
    "os.chdir('esports-data')\n",
    "os.listdir()"
   ],
   "metadata": {
    "collapsed": false,
    "ExecuteTime": {
     "end_time": "2023-09-02T22:11:38.117417500Z",
     "start_time": "2023-09-02T22:11:38.095465300Z"
    }
   },
   "id": "f20611610f52d251"
  },
  {
   "cell_type": "code",
   "execution_count": 3,
   "outputs": [],
   "source": [
    "# Check tournaments data by reading one json at a time \n",
    "os.chdir('esports-data')\n",
    "with open(\"tournaments.json\", \"r\") as json_file:\n",
    "   tournament_data = json.load(json_file)"
   ],
   "metadata": {
    "collapsed": false,
    "ExecuteTime": {
     "end_time": "2023-09-04T18:12:45.211224600Z",
     "start_time": "2023-09-04T18:12:43.597356600Z"
    }
   },
   "id": "97ffd30efdb6b558"
  },
  {
   "cell_type": "code",
   "execution_count": 5,
   "outputs": [
    {
     "data": {
      "text/plain": "248"
     },
     "execution_count": 5,
     "metadata": {},
     "output_type": "execute_result"
    }
   ],
   "source": [
    "len(tournament_data)"
   ],
   "metadata": {
    "collapsed": false,
    "ExecuteTime": {
     "end_time": "2023-09-04T18:13:01.010203100Z",
     "start_time": "2023-09-04T18:13:00.985250400Z"
    }
   },
   "id": "6fed834c48dc87db"
  },
  {
   "cell_type": "code",
   "execution_count": 104,
   "outputs": [
    {
     "name": "stdout",
     "output_type": "stream",
     "text": [
      "['lec_spring_2022', 'lec_spring_2021', 'lec_spring_2020', 'lec_spring_2023', 'lec_summer_2023', 'lec_summer_2022', 'lec_season_finals_2023', 'lec_summer_2020', 'lec_winter_2023', 'lec_summer_2021']\n"
     ]
    }
   ],
   "source": [
    "\n",
    "tournament_names = [x['slug'] for x in tournament_data]\n",
    "na_tournaments = [x for x in tournament_names if 'lec' in x]\n",
    "print(na_tournaments)"
   ],
   "metadata": {
    "collapsed": false,
    "ExecuteTime": {
     "end_time": "2023-09-04T21:00:07.528996600Z",
     "start_time": "2023-09-04T21:00:07.459182900Z"
    }
   },
   "id": "41e4f2d5945ff22d"
  },
  {
   "cell_type": "code",
   "execution_count": 133,
   "outputs": [],
   "source": [
    "lcs = [x for x in tournament_data if x['slug']=='lcs_summer_2023'][0]"
   ],
   "metadata": {
    "collapsed": false,
    "ExecuteTime": {
     "end_time": "2023-09-04T21:21:07.757680300Z",
     "start_time": "2023-09-04T21:21:07.681257Z"
    }
   },
   "id": "56a753e19dbe199e"
  },
  {
   "cell_type": "code",
   "execution_count": 134,
   "outputs": [
    {
     "data": {
      "text/plain": "['Regular Season', 'Playoffs']"
     },
     "execution_count": 134,
     "metadata": {},
     "output_type": "execute_result"
    }
   ],
   "source": [
    "# General idea is - use regular season and groups as training data, then try to predict the outcomes of the playoffs stage \n",
    "[x['name'] for x in lcs['stages']]"
   ],
   "metadata": {
    "collapsed": false,
    "ExecuteTime": {
     "end_time": "2023-09-04T21:21:08.220510300Z",
     "start_time": "2023-09-04T21:21:08.189589800Z"
    }
   },
   "id": "5e25350fe1c52696"
  },
  {
   "cell_type": "code",
   "execution_count": null,
   "outputs": [],
   "source": [
    "\"\"\"\n",
    "Notes on tournament match data structure\n",
    "- Each tournament has a list of stages (e.g. Regular Season, Groups, Playoffs)\n",
    "- Each stage has a list of sections, this is usually 1, but can be more for things like ['Play In Groups', 'Play In Knockouts', 'Groups', 'knockouts'] \n",
    "    For example (e.g. can be group A and group B) \n",
    "- Within each stage theres ['name', 'matches', 'rankings']\n",
    "- Rankings are not always available (e.g. for playoffs)\n",
    "\"\"\""
   ],
   "metadata": {
    "collapsed": false
   },
   "id": "8eef6dd327e32826"
  },
  {
   "cell_type": "code",
   "execution_count": 135,
   "outputs": [
    {
     "data": {
      "text/plain": "dict_keys(['name', 'matches', 'rankings'])"
     },
     "execution_count": 135,
     "metadata": {},
     "output_type": "execute_result"
    }
   ],
   "source": [
    "lcs['stages'][1]['sections'][0].keys()"
   ],
   "metadata": {
    "collapsed": false,
    "ExecuteTime": {
     "end_time": "2023-09-04T21:21:17.560480800Z",
     "start_time": "2023-09-04T21:21:17.524065800Z"
    }
   },
   "id": "2376c9933d30521f"
  },
  {
   "cell_type": "code",
   "execution_count": 71,
   "outputs": [
    {
     "data": {
      "text/plain": "['Playoffs']"
     },
     "execution_count": 71,
     "metadata": {},
     "output_type": "execute_result"
    }
   ],
   "source": [
    "# G\n",
    "[x['name'] for x in lcs['stages'][1]['sections']]"
   ],
   "metadata": {
    "collapsed": false,
    "ExecuteTime": {
     "end_time": "2023-09-04T19:50:33.311641100Z",
     "start_time": "2023-09-04T19:50:33.250770900Z"
    }
   },
   "id": "29438c087f635d39"
  },
  {
   "cell_type": "code",
   "execution_count": 86,
   "outputs": [
    {
     "data": {
      "text/plain": "1"
     },
     "execution_count": 86,
     "metadata": {},
     "output_type": "execute_result"
    }
   ],
   "source": [
    "len(lcs['stages'][1]['sections'])"
   ],
   "metadata": {
    "collapsed": false,
    "ExecuteTime": {
     "end_time": "2023-09-04T20:05:27.500797800Z",
     "start_time": "2023-09-04T20:05:27.433711500Z"
    }
   },
   "id": "ee3953cf6227caf6"
  },
  {
   "cell_type": "code",
   "execution_count": 83,
   "outputs": [
    {
     "data": {
      "text/plain": "[{'ordinal': 1,\n  'teams': [{'id': '98767991877340524',\n    'side': None,\n    'record': {'wins': 14, 'losses': 5, 'ties': 0},\n    'result': None,\n    'players': [{'id': '99101098218071815', 'role': 'jungle'},\n     {'id': '110495237550529160', 'role': 'support'},\n     {'id': '98767991801635485', 'role': 'support'},\n     {'id': '102206337829139149', 'role': 'top'},\n     {'id': '103524169393525450', 'role': 'mid'},\n     {'id': '105388936922706146', 'role': 'bottom'}]}]},\n {'ordinal': 2,\n  'teams': [{'id': '99294153824386385',\n    'side': None,\n    'record': {'wins': 13, 'losses': 6, 'ties': 0},\n    'result': None,\n    'players': [{'id': '98926509838831804', 'role': 'top'},\n     {'id': '101422378834657466', 'role': 'mid'},\n     {'id': '104573330241006058', 'role': 'jungle'},\n     {'id': '98926509793730393', 'role': 'support'},\n     {'id': '98926509773553311', 'role': 'bottom'},\n     {'id': '106857889055026954', 'role': 'bottom'},\n     {'id': '99566406289925827', 'role': 'none'}]}]},\n {'ordinal': 3,\n  'teams': [{'id': '103461966951059521',\n    'side': None,\n    'record': {'wins': 12, 'losses': 6, 'ties': 0},\n    'result': None,\n    'players': [{'id': '108316130077640774', 'role': 'jungle'},\n     {'id': '98926509769517547', 'role': 'jungle'},\n     {'id': '103478281372021286', 'role': 'top'},\n     {'id': '105560175889210064', 'role': 'bottom'},\n     {'id': '101383792840788117', 'role': 'support'},\n     {'id': '101389713966873995', 'role': 'jungle'},\n     {'id': '105504920899018806', 'role': 'mid'}]}]},\n {'ordinal': 4,\n  'teams': [{'id': '98926509885559666',\n    'side': None,\n    'record': {'wins': 10, 'losses': 8, 'ties': 0},\n    'result': None,\n    'players': [{'id': '99322214662601038', 'role': 'top'},\n     {'id': '106857825862018379', 'role': 'top'},\n     {'id': '101383792849832093', 'role': 'mid'},\n     {'id': '105510944671654183', 'role': 'bottom'},\n     {'id': '98767991789638893', 'role': 'support'},\n     {'id': '103495716563691380', 'role': 'jungle'},\n     {'id': '102206361431680174', 'role': 'jungle'},\n     {'id': '98926509788722983', 'role': 'bottom'},\n     {'id': '107577679924578125', 'role': 'support'},\n     {'id': '99566404538979273', 'role': 'top'},\n     {'id': '105957619949286329', 'role': 'mid'}]}]},\n {'ordinal': 5,\n  'teams': [{'id': '106972778172351142',\n    'side': None,\n    'record': {'wins': 9, 'losses': 9, 'ties': 0},\n    'result': None,\n    'players': [{'id': '99566406314527111', 'role': 'bottom'},\n     {'id': '98767991788229386', 'role': 'support'},\n     {'id': '99101098225032611', 'role': 'mid'},\n     {'id': '98926509814242904', 'role': 'none'},\n     {'id': '98926509773296197', 'role': 'none'},\n     {'id': '99322408701435122', 'role': 'top'},\n     {'id': '98767975969375854', 'role': 'jungle'}]}]},\n {'ordinal': 6,\n  'teams': [{'id': '98767991860392497',\n    'side': None,\n    'record': {'wins': 8, 'losses': 10, 'ties': 0},\n    'result': None,\n    'players': [{'id': '100764658202911967', 'role': 'jungle'},\n     {'id': '98926509745704018', 'role': 'bottom'},\n     {'id': '98767991787052097', 'role': 'top'},\n     {'id': '104253650601859992', 'role': 'support'}]}]},\n {'ordinal': 7,\n  'teams': [{'id': '98926509883054987',\n    'side': None,\n    'record': {'wins': 8, 'losses': 11, 'ties': 0},\n    'result': None,\n    'players': [{'id': '104151010613801698', 'role': 'bottom'},\n     {'id': '98926509766240677', 'role': 'jungle'},\n     {'id': '98767991798919851', 'role': 'mid'},\n     {'id': '102186438403674539', 'role': 'top'},\n     {'id': '104321223175760818', 'role': 'support'},\n     {'id': '106857834302830803', 'role': 'jungle'}]}]},\n {'ordinal': 8,\n  'teams': [{'id': '99294153828264740',\n    'side': None,\n    'record': {'wins': 7, 'losses': 12, 'ties': 0},\n    'result': None,\n    'players': [{'id': '99322214616775017', 'role': 'mid'},\n     {'id': '98926509785257793', 'role': 'top'},\n     {'id': '107569568015156338', 'role': 'top'},\n     {'id': '98767991769705572', 'role': 'bottom'},\n     {'id': '106625308523122120', 'role': 'support'},\n     {'id': '104559243245199489', 'role': 'top'},\n     {'id': '99603798169593745', 'role': 'jungle'},\n     {'id': '107492071007218117', 'role': 'none'}]}]},\n {'ordinal': 9,\n  'teams': [{'id': '98926509892121852',\n    'side': None,\n    'record': {'wins': 6, 'losses': 12, 'ties': 0},\n    'result': None,\n    'players': [{'id': '99101098208825497', 'role': 'support'},\n     {'id': '105501715923396261', 'role': 'mid'},\n     {'id': '105516144317866417', 'role': 'bottom'},\n     {'id': '98767991746528652', 'role': 'top'},\n     {'id': '108369186353082038', 'role': 'bottom'},\n     {'id': '107424739201710992', 'role': 'support'},\n     {'id': '99101098220080545', 'role': 'jungle'}]}]},\n {'ordinal': 10,\n  'teams': [{'id': '98767991930907107',\n    'side': None,\n    'record': {'wins': 5, 'losses': 13, 'ties': 0},\n    'result': None,\n    'players': [{'id': '99101098206728963', 'role': 'mid'},\n     {'id': '101383793877071109', 'role': 'bottom'},\n     {'id': '101383793865143549', 'role': 'support'},\n     {'id': '101422616387054298', 'role': 'mid'}]}]}]"
     },
     "execution_count": 83,
     "metadata": {},
     "output_type": "execute_result"
    }
   ],
   "source": [
    "rankings_data = lcs['stages'][0]['sections'][0]['rankings']\n",
    "rankings_data"
   ],
   "metadata": {
    "collapsed": false,
    "ExecuteTime": {
     "end_time": "2023-09-04T20:02:45.054554400Z",
     "start_time": "2023-09-04T20:02:44.955978300Z"
    }
   },
   "id": "2e38a41e46ecd288"
  },
  {
   "cell_type": "code",
   "execution_count": 102,
   "outputs": [
    {
     "data": {
      "text/plain": "              team_id  rank\n0   98767991877340524     1\n1   99294153824386385     2\n2  103461966951059521     3\n3   98926509885559666     4\n4  106972778172351142     5\n5   98767991860392497     6\n6   98926509883054987     7\n7   99294153828264740     8\n8   98926509892121852     9\n9   98767991930907107    10",
      "text/html": "<div>\n<style scoped>\n    .dataframe tbody tr th:only-of-type {\n        vertical-align: middle;\n    }\n\n    .dataframe tbody tr th {\n        vertical-align: top;\n    }\n\n    .dataframe thead th {\n        text-align: right;\n    }\n</style>\n<table border=\"1\" class=\"dataframe\">\n  <thead>\n    <tr style=\"text-align: right;\">\n      <th></th>\n      <th>team_id</th>\n      <th>rank</th>\n    </tr>\n  </thead>\n  <tbody>\n    <tr>\n      <th>0</th>\n      <td>98767991877340524</td>\n      <td>1</td>\n    </tr>\n    <tr>\n      <th>1</th>\n      <td>99294153824386385</td>\n      <td>2</td>\n    </tr>\n    <tr>\n      <th>2</th>\n      <td>103461966951059521</td>\n      <td>3</td>\n    </tr>\n    <tr>\n      <th>3</th>\n      <td>98926509885559666</td>\n      <td>4</td>\n    </tr>\n    <tr>\n      <th>4</th>\n      <td>106972778172351142</td>\n      <td>5</td>\n    </tr>\n    <tr>\n      <th>5</th>\n      <td>98767991860392497</td>\n      <td>6</td>\n    </tr>\n    <tr>\n      <th>6</th>\n      <td>98926509883054987</td>\n      <td>7</td>\n    </tr>\n    <tr>\n      <th>7</th>\n      <td>99294153828264740</td>\n      <td>8</td>\n    </tr>\n    <tr>\n      <th>8</th>\n      <td>98926509892121852</td>\n      <td>9</td>\n    </tr>\n    <tr>\n      <th>9</th>\n      <td>98767991930907107</td>\n      <td>10</td>\n    </tr>\n  </tbody>\n</table>\n</div>"
     },
     "execution_count": 102,
     "metadata": {},
     "output_type": "execute_result"
    }
   ],
   "source": [
    "def get_rankings_results(rankings_data):\n",
    "    \"\"\"\n",
    "    Get the rankings results for a given tournament. This is generally available for only the 'Regular Season' and 'Groups' stages\n",
    "    :param rankings_data: Found in tournament['stages'][x]['sections'][0]['rankings']\n",
    "    :return: a pandas dataframe indicating the resulting rankings for each team [teamId, rank]\n",
    "    \"\"\"\n",
    "    rankings, teamIds = [], []\n",
    "    for x in rankings_data:\n",
    "        rankings.append(x['ordinal'])\n",
    "        teamIds.append(x['teams'][0]['id'])\n",
    "    return pd.DataFrame({'team_id': teamIds, 'rank': rankings})\n",
    "\n",
    "get_rankings_results(lcs['stages'][0]['sections'][0]['rankings'])"
   ],
   "metadata": {
    "collapsed": false,
    "ExecuteTime": {
     "end_time": "2023-09-04T20:51:14.977183400Z",
     "start_time": "2023-09-04T20:51:14.916665100Z"
    }
   },
   "id": "c3434d621e167f05"
  },
  {
   "cell_type": "code",
   "execution_count": 144,
   "outputs": [
    {
     "data": {
      "text/plain": "        esportsGameId          team_id_1  outcome_1           team_id_2  \\\n0  110767955468280157  98926509885559666          0  106972778172351142   \n1  110767955468411230  98926509885559666          0  106972778172351142   \n2  110767955468411231  98926509885559666          1  106972778172351142   \n3  110767955468411232  98926509885559666          0  106972778172351142   \n\n   outcome_2  \n0          1  \n1          1  \n2          0  \n3          1  ",
      "text/html": "<div>\n<style scoped>\n    .dataframe tbody tr th:only-of-type {\n        vertical-align: middle;\n    }\n\n    .dataframe tbody tr th {\n        vertical-align: top;\n    }\n\n    .dataframe thead th {\n        text-align: right;\n    }\n</style>\n<table border=\"1\" class=\"dataframe\">\n  <thead>\n    <tr style=\"text-align: right;\">\n      <th></th>\n      <th>esportsGameId</th>\n      <th>team_id_1</th>\n      <th>outcome_1</th>\n      <th>team_id_2</th>\n      <th>outcome_2</th>\n    </tr>\n  </thead>\n  <tbody>\n    <tr>\n      <th>0</th>\n      <td>110767955468280157</td>\n      <td>98926509885559666</td>\n      <td>0</td>\n      <td>106972778172351142</td>\n      <td>1</td>\n    </tr>\n    <tr>\n      <th>1</th>\n      <td>110767955468411230</td>\n      <td>98926509885559666</td>\n      <td>0</td>\n      <td>106972778172351142</td>\n      <td>1</td>\n    </tr>\n    <tr>\n      <th>2</th>\n      <td>110767955468411231</td>\n      <td>98926509885559666</td>\n      <td>1</td>\n      <td>106972778172351142</td>\n      <td>0</td>\n    </tr>\n    <tr>\n      <th>3</th>\n      <td>110767955468411232</td>\n      <td>98926509885559666</td>\n      <td>0</td>\n      <td>106972778172351142</td>\n      <td>1</td>\n    </tr>\n  </tbody>\n</table>\n</div>"
     },
     "execution_count": 144,
     "metadata": {},
     "output_type": "execute_result"
    }
   ],
   "source": [
    "def get_game_data_full(games_data):\n",
    "    # Iterate through t events of the match (could consist of one or many games) \n",
    "    # Look in the ['games'][t]['id'] field to get the game ID\n",
    "    # Look in the ['games'][t]['state'] field to see if the game is 'completed'\n",
    "    # Look in the ['games'][t]['teams'] field to get the team IDs\n",
    "    # Look in the ['games'][t]['teams'][x]['result']['outcome'] field to get the result of the game for each team\n",
    "    # We technically only need the 'state' to verify completion and 'id' to fetch details of the game, but load in other fields for verification\n",
    "    game_tables = []\n",
    "    for game in games_data['games']:\n",
    "        game_state = game['state']\n",
    "        if game_state == 'completed':\n",
    "            game_id = game['id']\n",
    "            team_ids, team_outcomes = [], []\n",
    "            for team in game['teams']:\n",
    "                team_ids.append(team['id'])\n",
    "                team_outcome = 1 if team['result']['outcome']=='win' else 0\n",
    "                team_outcomes.append(team_outcome)\n",
    "            game_tables.append(pd.DataFrame({'esportsGameId': game_id, \n",
    "                                             'team_id_1': team_ids[0], 'outcome_1': team_outcomes[0],\n",
    "                                             'team_id_2': team_ids[1], 'outcome_2': team_outcomes[1]}, index=[0]))\n",
    "    return pd.concat(game_tables, ignore_index=True)\n",
    "\n",
    "def get_game_data_ids(games_data):\n",
    "    # Only returns the necessary information for lookup in the mapping table\n",
    "    game_ids = []\n",
    "    for game in games_data:\n",
    "        if game['state']=='completed':\n",
    "            game_ids.append(game['id'])\n",
    "    return pd.DataFrame({'esportsGameId': game_ids})\n",
    "\n",
    "get_game_data_full(lcs['stages'][1]['sections'][0]['matches'][0])"
   ],
   "metadata": {
    "collapsed": false,
    "ExecuteTime": {
     "end_time": "2023-09-04T21:30:47.522209100Z",
     "start_time": "2023-09-04T21:30:47.444417900Z"
    }
   },
   "id": "6d6ce61902e064bb"
  },
  {
   "cell_type": "code",
   "execution_count": 146,
   "outputs": [
    {
     "data": {
      "text/plain": "92"
     },
     "execution_count": 146,
     "metadata": {},
     "output_type": "execute_result"
    }
   ],
   "source": [
    "len(lcs['stages'][0]['sections'][0]['matches'])"
   ],
   "metadata": {
    "collapsed": false,
    "ExecuteTime": {
     "end_time": "2023-09-04T21:32:09.457455Z",
     "start_time": "2023-09-04T21:32:09.385136200Z"
    }
   },
   "id": "e4345520affd1a3a"
  },
  {
   "cell_type": "code",
   "execution_count": 147,
   "outputs": [],
   "source": [
    "game_rows = []\n",
    "for game_data in lcs['stages'][0]['sections'][0]['matches']:\n",
    "    game_rows.append(get_game_data_full(game_data))"
   ],
   "metadata": {
    "collapsed": false,
    "ExecuteTime": {
     "end_time": "2023-09-04T21:32:46.145815600Z",
     "start_time": "2023-09-04T21:32:45.665782400Z"
    }
   },
   "id": "5cd1db5b7b3713f2"
  },
  {
   "cell_type": "code",
   "execution_count": 148,
   "outputs": [
    {
     "data": {
      "text/plain": "         esportsGameId          team_id_1  outcome_1           team_id_2  \\\n0   110303581088134849  99294153828264740          0   98767991877340524   \n1   110303581088331459  98767991877340524          1  103461966951059521   \n2   110303581088331461  98767991877340524          1   99294153824386385   \n3   110303581088331463  98926509885559666          1   98767991877340524   \n4   110303581088331465  98767991877340524          1   98926509892121852   \n..                 ...                ...        ...                 ...   \n87  110303581088528239  98767991930907107          1  106972778172351142   \n88  110303581088528241  98767991860392497          1  106972778172351142   \n89  110303581088528243  98767991930907107          0   98767991860392497   \n90  110754941553978394  98926509883054987          1   99294153828264740   \n91  110755083390921842  99294153824386385          0   98767991877340524   \n\n    outcome_2  \n0           1  \n1           0  \n2           0  \n3           0  \n4           0  \n..        ...  \n87          0  \n88          0  \n89          1  \n90          0  \n91          1  \n\n[92 rows x 5 columns]",
      "text/html": "<div>\n<style scoped>\n    .dataframe tbody tr th:only-of-type {\n        vertical-align: middle;\n    }\n\n    .dataframe tbody tr th {\n        vertical-align: top;\n    }\n\n    .dataframe thead th {\n        text-align: right;\n    }\n</style>\n<table border=\"1\" class=\"dataframe\">\n  <thead>\n    <tr style=\"text-align: right;\">\n      <th></th>\n      <th>esportsGameId</th>\n      <th>team_id_1</th>\n      <th>outcome_1</th>\n      <th>team_id_2</th>\n      <th>outcome_2</th>\n    </tr>\n  </thead>\n  <tbody>\n    <tr>\n      <th>0</th>\n      <td>110303581088134849</td>\n      <td>99294153828264740</td>\n      <td>0</td>\n      <td>98767991877340524</td>\n      <td>1</td>\n    </tr>\n    <tr>\n      <th>1</th>\n      <td>110303581088331459</td>\n      <td>98767991877340524</td>\n      <td>1</td>\n      <td>103461966951059521</td>\n      <td>0</td>\n    </tr>\n    <tr>\n      <th>2</th>\n      <td>110303581088331461</td>\n      <td>98767991877340524</td>\n      <td>1</td>\n      <td>99294153824386385</td>\n      <td>0</td>\n    </tr>\n    <tr>\n      <th>3</th>\n      <td>110303581088331463</td>\n      <td>98926509885559666</td>\n      <td>1</td>\n      <td>98767991877340524</td>\n      <td>0</td>\n    </tr>\n    <tr>\n      <th>4</th>\n      <td>110303581088331465</td>\n      <td>98767991877340524</td>\n      <td>1</td>\n      <td>98926509892121852</td>\n      <td>0</td>\n    </tr>\n    <tr>\n      <th>...</th>\n      <td>...</td>\n      <td>...</td>\n      <td>...</td>\n      <td>...</td>\n      <td>...</td>\n    </tr>\n    <tr>\n      <th>87</th>\n      <td>110303581088528239</td>\n      <td>98767991930907107</td>\n      <td>1</td>\n      <td>106972778172351142</td>\n      <td>0</td>\n    </tr>\n    <tr>\n      <th>88</th>\n      <td>110303581088528241</td>\n      <td>98767991860392497</td>\n      <td>1</td>\n      <td>106972778172351142</td>\n      <td>0</td>\n    </tr>\n    <tr>\n      <th>89</th>\n      <td>110303581088528243</td>\n      <td>98767991930907107</td>\n      <td>0</td>\n      <td>98767991860392497</td>\n      <td>1</td>\n    </tr>\n    <tr>\n      <th>90</th>\n      <td>110754941553978394</td>\n      <td>98926509883054987</td>\n      <td>1</td>\n      <td>99294153828264740</td>\n      <td>0</td>\n    </tr>\n    <tr>\n      <th>91</th>\n      <td>110755083390921842</td>\n      <td>99294153824386385</td>\n      <td>0</td>\n      <td>98767991877340524</td>\n      <td>1</td>\n    </tr>\n  </tbody>\n</table>\n<p>92 rows × 5 columns</p>\n</div>"
     },
     "execution_count": 148,
     "metadata": {},
     "output_type": "execute_result"
    }
   ],
   "source": [
    "pd.concat(game_rows, ignore_index=True)"
   ],
   "metadata": {
    "collapsed": false,
    "ExecuteTime": {
     "end_time": "2023-09-04T21:32:50.928411Z",
     "start_time": "2023-09-04T21:32:50.845028300Z"
    }
   },
   "id": "ae888a2fb8fc2ff5"
  },
  {
   "cell_type": "code",
   "execution_count": null,
   "outputs": [],
   "source": [
    "class TournamentDataProcessor:\n",
    "    \"\"\"\n",
    "    Class that processes tournament data with functionality to\n",
    "    - Get the rankings results for a given tournament. This is generally available for only the 'Regular Season' and 'Groups' stages\n",
    "    - Get the individual game data for a given tournament. This is generally available for only the 'Regular Season' and 'Groups' stages\n",
    "    \"\"\"\n",
    "    def __init__(self):\n",
    "        pass"
   ],
   "metadata": {
    "collapsed": false
   },
   "id": "9faf7cac1d8fb576"
  },
  {
   "cell_type": "code",
   "execution_count": 29,
   "outputs": [],
   "source": [
    "# os.chdir('esports-data')\n",
    "with open(\"mapping_data.json\", \"r\") as json_file:\n",
    "   mappings_data = json.load(json_file)\n",
    "\n",
    "directory = \"games\"\n",
    "if not os.path.exists(directory):\n",
    "   os.makedirs(directory)\n",
    "\n",
    "mappings = {\n",
    "   esports_game[\"esportsGameId\"]: esports_game for esports_game in mappings_data\n",
    "}"
   ],
   "metadata": {
    "collapsed": false,
    "ExecuteTime": {
     "end_time": "2023-09-04T18:40:02.856501700Z",
     "start_time": "2023-09-04T18:40:02.575394500Z"
    }
   },
   "id": "ab445f55852a7af3"
  },
  {
   "cell_type": "code",
   "execution_count": 5,
   "outputs": [
    {
     "data": {
      "text/plain": "{'esportsGameId': '110310652412257228',\n 'platformGameId': 'ESPORTSTMNT04:2685686',\n 'teamMapping': {'200': '109539776003058530', '100': '109539873500788632'},\n 'participantMapping': {'3': '107648411781760623',\n  '5': '101389608247181162',\n  '10': '106302540732814072',\n  '2': '110378596829382151',\n  '1': '110378594503521823',\n  '9': '105655995799330206',\n  '7': '109539786056381355',\n  '8': '107156535965754342',\n  '6': '109704758065825536',\n  '4': '103890014776920379'}}"
     },
     "execution_count": 5,
     "metadata": {},
     "output_type": "execute_result"
    }
   ],
   "source": [
    "# Pick out a specific game ID to analyze what data we get for each game \n",
    "platform_game_id = mappings['105596416965466997']['platformGameId']\n",
    "mappings['110310652412257228']"
   ],
   "metadata": {
    "collapsed": false,
    "ExecuteTime": {
     "end_time": "2023-09-04T02:52:29.993903400Z",
     "start_time": "2023-09-04T02:52:29.964982500Z"
    }
   },
   "id": "c57eab1fd4d1dcb6"
  },
  {
   "cell_type": "code",
   "execution_count": 33,
   "outputs": [
    {
     "name": "stdout",
     "output_type": "stream",
     "text": [
      "games/ESPORTSTMNT04:1610258.json written\n"
     ]
    }
   ],
   "source": [
    "download_gzip_and_write_to_json(f\"{directory}/{platform_game_id}\")"
   ],
   "metadata": {
    "collapsed": false,
    "ExecuteTime": {
     "end_time": "2023-09-03T00:01:14.436593500Z",
     "start_time": "2023-09-03T00:01:12.818156Z"
    }
   },
   "id": "8e943c23d0b1e0bb"
  },
  {
   "cell_type": "code",
   "execution_count": 42,
   "outputs": [],
   "source": [
    "# Notes: \n",
    "# Participants 1-5 are on team 100 and 6-10 are on team 200\n",
    "participant_mapping = {\n",
    "    '1': '100_top',\n",
    "    '2': '100_jungle',\n",
    "    '3': '100_mid',\n",
    "    '4': '100_bot',\n",
    "    '5': '100_support',\n",
    "    '6': '200_top',\n",
    "    '7': '200_jungle',\n",
    "    '8': '200_mid',\n",
    "    '9': '200_bot',\n",
    "    '10': '200_support'\n",
    "}"
   ],
   "metadata": {
    "collapsed": false,
    "ExecuteTime": {
     "end_time": "2023-09-03T00:21:00.484282400Z",
     "start_time": "2023-09-03T00:21:00.435385700Z"
    }
   },
   "id": "7b86dae3ca614db2"
  },
  {
   "cell_type": "code",
   "execution_count": 6,
   "outputs": [],
   "source": [
    "# with open(\"games/ESPORTSTMNT04:2685686.json\", \"r\") as json_file:\n",
    "with open(\"games/ESPORTSTMNT04:1610258.json\", \"r\") as json_file:\n",
    "    game_data = json.load(json_file)"
   ],
   "metadata": {
    "collapsed": false,
    "ExecuteTime": {
     "end_time": "2023-09-04T02:52:47.308277600Z",
     "start_time": "2023-09-04T02:52:45.377717400Z"
    }
   },
   "id": "a76847b2914fdb73"
  },
  {
   "cell_type": "code",
   "execution_count": 51,
   "outputs": [
    {
     "data": {
      "text/plain": "{'eventTime': '2021-03-08T18:36:43.326Z',\n 'eventType': 'game_end',\n 'platformGameId': 'ESPORTSTMNT04:1610258',\n 'gameTime': 1861532,\n 'stageID': 1,\n 'wallTime': 1615228603324,\n 'sequenceIndex': 3059,\n 'gameName': '105596416965466996|game1',\n 'winningTeam': 100,\n 'playbackID': 1}"
     },
     "execution_count": 51,
     "metadata": {},
     "output_type": "execute_result"
    }
   ],
   "source": [
    "game_data[-1] # Game metadata at the end"
   ],
   "metadata": {
    "collapsed": false,
    "ExecuteTime": {
     "end_time": "2023-09-03T06:34:34.576135900Z",
     "start_time": "2023-09-03T06:34:34.492558400Z"
    }
   },
   "id": "bcb1439426848586"
  },
  {
   "cell_type": "code",
   "execution_count": 14,
   "outputs": [
    {
     "data": {
      "text/plain": "{'eventTime': '2021-03-08T18:05:41.908Z',\n 'eventType': 'stats_update',\n 'platformGameId': 'ESPORTSTMNT04:1610258',\n 'gameTime': 0,\n 'participants': [{'magicPenetrationPercent': 0,\n   'alive': True,\n   'participantID': 1,\n   'spellVamp': 0,\n   'primaryAbilityResource': 340,\n   'cooldownReduction': 0,\n   'lifeSteal': 0,\n   'primaryAbilityResourceRegen': 0,\n   'magicPenetrationPercentBonus': 0,\n   'magicPenetration': 0,\n   'summonerSpell2CooldownRemaining': 15,\n   'healthMax': 590,\n   'position': {'z': 581, 'x': 554},\n   'magicResist': 32,\n   'primaryAbilityResourceMax': 340,\n   'armorPenetrationPercentBonus': 0,\n   'summonerSpell1Name': 'SummonerFlash',\n   'attackDamage': 25,\n   'teamID': 100,\n   'championName': 'Ornn',\n   'ccReduction': 0,\n   'armorPenetrationPercent': 0,\n   'currentGold': 500,\n   'playerName': 'Z10 Kaylem',\n   'healthRegen': 0,\n   'respawnTimer': 0,\n   'attackSpeed': 100,\n   'shutdownValue': 0,\n   'XP': 0,\n   'ultimateCooldownRemaining': 0,\n   'summonerSpell1CooldownRemaining': 15,\n   'armor': 33,\n   'level': 1,\n   'armorPenetration': 0,\n   'accountID': 2481962886014624,\n   'totalGold': 500,\n   'health': 590,\n   'ultimateName': 'OrnnR',\n   'abilityPower': 0,\n   'stats': [{'value': 0, 'name': 'MINIONS_KILLED'},\n    {'value': 0, 'name': 'NEUTRAL_MINIONS_KILLED'},\n    {'value': 0, 'name': 'NEUTRAL_MINIONS_KILLED_YOUR_JUNGLE'},\n    {'value': 0, 'name': 'NEUTRAL_MINIONS_KILLED_ENEMY_JUNGLE'},\n    {'value': 0, 'name': 'CHAMPIONS_KILLED'},\n    {'value': 0, 'name': 'NUM_DEATHS'},\n    {'value': 0, 'name': 'ASSISTS'},\n    {'value': 0, 'name': 'PERK0'},\n    {'value': 0, 'name': 'PERK0_VAR1'},\n    {'value': 0, 'name': 'PERK0_VAR2'},\n    {'value': 0, 'name': 'PERK0_VAR3'},\n    {'value': 0, 'name': 'PERK1'},\n    {'value': 0, 'name': 'PERK1_VAR1'},\n    {'value': 0, 'name': 'PERK1_VAR2'},\n    {'value': 0, 'name': 'PERK1_VAR3'},\n    {'value': 0, 'name': 'PERK2'},\n    {'value': 0, 'name': 'PERK2_VAR1'},\n    {'value': 0, 'name': 'PERK2_VAR2'},\n    {'value': 0, 'name': 'PERK2_VAR3'},\n    {'value': 0, 'name': 'PERK3'},\n    {'value': 0, 'name': 'PERK3_VAR1'},\n    {'value': 0, 'name': 'PERK3_VAR2'},\n    {'value': 0, 'name': 'PERK3_VAR3'},\n    {'value': 0, 'name': 'PERK4'},\n    {'value': 0, 'name': 'PERK4_VAR1'},\n    {'value': 0, 'name': 'PERK4_VAR2'},\n    {'value': 0, 'name': 'PERK4_VAR3'},\n    {'value': 0, 'name': 'PERK5'},\n    {'value': 0, 'name': 'PERK5_VAR1'},\n    {'value': 0, 'name': 'PERK5_VAR2'},\n    {'value': 0, 'name': 'PERK5_VAR3'},\n    {'value': 0, 'name': 'WARD_PLACED'},\n    {'value': 0, 'name': 'WARD_KILLED'},\n    {'value': 0, 'name': 'VISION_SCORE'},\n    {'value': 0, 'name': 'TOTAL_DAMAGE_DEALT'},\n    {'value': 0, 'name': 'PHYSICAL_DAMAGE_DEALT_PLAYER'},\n    {'value': 0, 'name': 'MAGIC_DAMAGE_DEALT_PLAYER'},\n    {'value': 0, 'name': 'TRUE_DAMAGE_DEALT_PLAYER'},\n    {'value': 0, 'name': 'TOTAL_DAMAGE_DEALT_TO_CHAMPIONS'},\n    {'value': 0, 'name': 'PHYSICAL_DAMAGE_DEALT_TO_CHAMPIONS'},\n    {'value': 0, 'name': 'MAGIC_DAMAGE_DEALT_TO_CHAMPIONS'},\n    {'value': 0, 'name': 'TRUE_DAMAGE_DEALT_TO_CHAMPIONS'},\n    {'value': 0, 'name': 'TOTAL_DAMAGE_TAKEN'},\n    {'value': 0, 'name': 'PHYSICAL_DAMAGE_TAKEN'},\n    {'value': 0, 'name': 'MAGIC_DAMAGE_TAKEN'},\n    {'value': 0, 'name': 'TRUE_DAMAGE_TAKEN'},\n    {'value': 0, 'name': 'TOTAL_DAMAGE_SELF_MITIGATED'},\n    {'value': 0, 'name': 'TOTAL_DAMAGE_SHIELDED_ON_TEAMMATES'},\n    {'value': 0, 'name': 'TOTAL_DAMAGE_DEALT_TO_BUILDINGS'},\n    {'value': 0, 'name': 'TOTAL_DAMAGE_DEALT_TO_TURRETS'},\n    {'value': 0, 'name': 'TOTAL_DAMAGE_DEALT_TO_OBJECTIVES'},\n    {'value': 0, 'name': 'TOTAL_TIME_CROWD_CONTROL_DEALT'},\n    {'value': 0, 'name': 'TOTAL_HEAL_ON_TEAMMATES'},\n    {'value': 0, 'name': 'TIME_CCING_OTHERS'}],\n   'summonerSpell2Name': 'SummonerTeleport',\n   'goldPerSecond': 0},\n  {'magicPenetrationPercent': 0,\n   'alive': True,\n   'participantID': 2,\n   'spellVamp': 0,\n   'primaryAbilityResource': 320,\n   'cooldownReduction': 0,\n   'lifeSteal': 0,\n   'primaryAbilityResourceRegen': 0,\n   'magicPenetrationPercentBonus': 0,\n   'magicPenetration': 0,\n   'summonerSpell2CooldownRemaining': 15,\n   'healthMax': 580,\n   'position': {'z': 345, 'x': 557},\n   'magicResist': 32,\n   'primaryAbilityResourceMax': 320,\n   'armorPenetrationPercentBonus': 0,\n   'summonerSpell1Name': 'SummonerSmite',\n   'attackDamage': 25,\n   'teamID': 100,\n   'championName': 'Skarner',\n   'ccReduction': 0,\n   'armorPenetrationPercent': 0,\n   'currentGold': 500,\n   'playerName': 'Z10 Ryuzaki',\n   'healthRegen': 0,\n   'respawnTimer': 0,\n   'attackSpeed': 100,\n   'shutdownValue': 0,\n   'XP': 0,\n   'ultimateCooldownRemaining': 0,\n   'summonerSpell1CooldownRemaining': 15,\n   'armor': 38,\n   'level': 1,\n   'armorPenetration': 0,\n   'accountID': 2379676522784320,\n   'totalGold': 500,\n   'health': 580,\n   'ultimateName': 'SkarnerImpale',\n   'abilityPower': 0,\n   'stats': [{'value': 0, 'name': 'MINIONS_KILLED'},\n    {'value': 0, 'name': 'NEUTRAL_MINIONS_KILLED'},\n    {'value': 0, 'name': 'NEUTRAL_MINIONS_KILLED_YOUR_JUNGLE'},\n    {'value': 0, 'name': 'NEUTRAL_MINIONS_KILLED_ENEMY_JUNGLE'},\n    {'value': 0, 'name': 'CHAMPIONS_KILLED'},\n    {'value': 0, 'name': 'NUM_DEATHS'},\n    {'value': 0, 'name': 'ASSISTS'},\n    {'value': 0, 'name': 'PERK0'},\n    {'value': 0, 'name': 'PERK0_VAR1'},\n    {'value': 0, 'name': 'PERK0_VAR2'},\n    {'value': 0, 'name': 'PERK0_VAR3'},\n    {'value': 0, 'name': 'PERK1'},\n    {'value': 0, 'name': 'PERK1_VAR1'},\n    {'value': 0, 'name': 'PERK1_VAR2'},\n    {'value': 0, 'name': 'PERK1_VAR3'},\n    {'value': 0, 'name': 'PERK2'},\n    {'value': 0, 'name': 'PERK2_VAR1'},\n    {'value': 0, 'name': 'PERK2_VAR2'},\n    {'value': 0, 'name': 'PERK2_VAR3'},\n    {'value': 0, 'name': 'PERK3'},\n    {'value': 0, 'name': 'PERK3_VAR1'},\n    {'value': 0, 'name': 'PERK3_VAR2'},\n    {'value': 0, 'name': 'PERK3_VAR3'},\n    {'value': 0, 'name': 'PERK4'},\n    {'value': 0, 'name': 'PERK4_VAR1'},\n    {'value': 0, 'name': 'PERK4_VAR2'},\n    {'value': 0, 'name': 'PERK4_VAR3'},\n    {'value': 0, 'name': 'PERK5'},\n    {'value': 0, 'name': 'PERK5_VAR1'},\n    {'value': 0, 'name': 'PERK5_VAR2'},\n    {'value': 0, 'name': 'PERK5_VAR3'},\n    {'value': 0, 'name': 'WARD_PLACED'},\n    {'value': 0, 'name': 'WARD_KILLED'},\n    {'value': 0, 'name': 'VISION_SCORE'},\n    {'value': 0, 'name': 'TOTAL_DAMAGE_DEALT'},\n    {'value': 0, 'name': 'PHYSICAL_DAMAGE_DEALT_PLAYER'},\n    {'value': 0, 'name': 'MAGIC_DAMAGE_DEALT_PLAYER'},\n    {'value': 0, 'name': 'TRUE_DAMAGE_DEALT_PLAYER'},\n    {'value': 0, 'name': 'TOTAL_DAMAGE_DEALT_TO_CHAMPIONS'},\n    {'value': 0, 'name': 'PHYSICAL_DAMAGE_DEALT_TO_CHAMPIONS'},\n    {'value': 0, 'name': 'MAGIC_DAMAGE_DEALT_TO_CHAMPIONS'},\n    {'value': 0, 'name': 'TRUE_DAMAGE_DEALT_TO_CHAMPIONS'},\n    {'value': 0, 'name': 'TOTAL_DAMAGE_TAKEN'},\n    {'value': 0, 'name': 'PHYSICAL_DAMAGE_TAKEN'},\n    {'value': 0, 'name': 'MAGIC_DAMAGE_TAKEN'},\n    {'value': 0, 'name': 'TRUE_DAMAGE_TAKEN'},\n    {'value': 0, 'name': 'TOTAL_DAMAGE_SELF_MITIGATED'},\n    {'value': 0, 'name': 'TOTAL_DAMAGE_SHIELDED_ON_TEAMMATES'},\n    {'value': 0, 'name': 'TOTAL_DAMAGE_DEALT_TO_BUILDINGS'},\n    {'value': 0, 'name': 'TOTAL_DAMAGE_DEALT_TO_TURRETS'},\n    {'value': 0, 'name': 'TOTAL_DAMAGE_DEALT_TO_OBJECTIVES'},\n    {'value': 0, 'name': 'TOTAL_TIME_CROWD_CONTROL_DEALT'},\n    {'value': 0, 'name': 'TOTAL_HEAL_ON_TEAMMATES'},\n    {'value': 0, 'name': 'TIME_CCING_OTHERS'}],\n   'summonerSpell2Name': 'SummonerFlash',\n   'goldPerSecond': 0},\n  {'magicPenetrationPercent': 0,\n   'alive': True,\n   'participantID': 3,\n   'spellVamp': 0,\n   'primaryAbilityResource': 480,\n   'cooldownReduction': 0,\n   'lifeSteal': 0,\n   'primaryAbilityResourceRegen': 0,\n   'magicPenetrationPercentBonus': 0,\n   'magicPenetration': 0,\n   'summonerSpell2CooldownRemaining': 15,\n   'healthMax': 552,\n   'position': {'z': 269, 'x': 335},\n   'magicResist': 30,\n   'primaryAbilityResourceMax': 480,\n   'armorPenetrationPercentBonus': 0,\n   'summonerSpell1Name': 'SummonerTeleport',\n   'attackDamage': 25,\n   'teamID': 100,\n   'championName': 'Azir',\n   'ccReduction': 0,\n   'armorPenetrationPercent': 0,\n   'currentGold': 500,\n   'playerName': 'Z10 Meight',\n   'healthRegen': 0,\n   'respawnTimer': 0,\n   'attackSpeed': 100,\n   'shutdownValue': 0,\n   'XP': 0,\n   'ultimateCooldownRemaining': 0,\n   'summonerSpell1CooldownRemaining': 15,\n   'armor': 19,\n   'level': 1,\n   'armorPenetration': 0,\n   'accountID': 2636053565556448,\n   'totalGold': 500,\n   'health': 552,\n   'ultimateName': 'AzirR',\n   'abilityPower': 0,\n   'stats': [{'value': 0, 'name': 'MINIONS_KILLED'},\n    {'value': 0, 'name': 'NEUTRAL_MINIONS_KILLED'},\n    {'value': 0, 'name': 'NEUTRAL_MINIONS_KILLED_YOUR_JUNGLE'},\n    {'value': 0, 'name': 'NEUTRAL_MINIONS_KILLED_ENEMY_JUNGLE'},\n    {'value': 0, 'name': 'CHAMPIONS_KILLED'},\n    {'value': 0, 'name': 'NUM_DEATHS'},\n    {'value': 0, 'name': 'ASSISTS'},\n    {'value': 0, 'name': 'PERK0'},\n    {'value': 0, 'name': 'PERK0_VAR1'},\n    {'value': 0, 'name': 'PERK0_VAR2'},\n    {'value': 0, 'name': 'PERK0_VAR3'},\n    {'value': 0, 'name': 'PERK1'},\n    {'value': 0, 'name': 'PERK1_VAR1'},\n    {'value': 0, 'name': 'PERK1_VAR2'},\n    {'value': 0, 'name': 'PERK1_VAR3'},\n    {'value': 0, 'name': 'PERK2'},\n    {'value': 0, 'name': 'PERK2_VAR1'},\n    {'value': 0, 'name': 'PERK2_VAR2'},\n    {'value': 0, 'name': 'PERK2_VAR3'},\n    {'value': 0, 'name': 'PERK3'},\n    {'value': 0, 'name': 'PERK3_VAR1'},\n    {'value': 0, 'name': 'PERK3_VAR2'},\n    {'value': 0, 'name': 'PERK3_VAR3'},\n    {'value': 0, 'name': 'PERK4'},\n    {'value': 0, 'name': 'PERK4_VAR1'},\n    {'value': 0, 'name': 'PERK4_VAR2'},\n    {'value': 0, 'name': 'PERK4_VAR3'},\n    {'value': 0, 'name': 'PERK5'},\n    {'value': 0, 'name': 'PERK5_VAR1'},\n    {'value': 0, 'name': 'PERK5_VAR2'},\n    {'value': 0, 'name': 'PERK5_VAR3'},\n    {'value': 0, 'name': 'WARD_PLACED'},\n    {'value': 0, 'name': 'WARD_KILLED'},\n    {'value': 0, 'name': 'VISION_SCORE'},\n    {'value': 0, 'name': 'TOTAL_DAMAGE_DEALT'},\n    {'value': 0, 'name': 'PHYSICAL_DAMAGE_DEALT_PLAYER'},\n    {'value': 0, 'name': 'MAGIC_DAMAGE_DEALT_PLAYER'},\n    {'value': 0, 'name': 'TRUE_DAMAGE_DEALT_PLAYER'},\n    {'value': 0, 'name': 'TOTAL_DAMAGE_DEALT_TO_CHAMPIONS'},\n    {'value': 0, 'name': 'PHYSICAL_DAMAGE_DEALT_TO_CHAMPIONS'},\n    {'value': 0, 'name': 'MAGIC_DAMAGE_DEALT_TO_CHAMPIONS'},\n    {'value': 0, 'name': 'TRUE_DAMAGE_DEALT_TO_CHAMPIONS'},\n    {'value': 0, 'name': 'TOTAL_DAMAGE_TAKEN'},\n    {'value': 0, 'name': 'PHYSICAL_DAMAGE_TAKEN'},\n    {'value': 0, 'name': 'MAGIC_DAMAGE_TAKEN'},\n    {'value': 0, 'name': 'TRUE_DAMAGE_TAKEN'},\n    {'value': 0, 'name': 'TOTAL_DAMAGE_SELF_MITIGATED'},\n    {'value': 0, 'name': 'TOTAL_DAMAGE_SHIELDED_ON_TEAMMATES'},\n    {'value': 0, 'name': 'TOTAL_DAMAGE_DEALT_TO_BUILDINGS'},\n    {'value': 0, 'name': 'TOTAL_DAMAGE_DEALT_TO_TURRETS'},\n    {'value': 0, 'name': 'TOTAL_DAMAGE_DEALT_TO_OBJECTIVES'},\n    {'value': 0, 'name': 'TOTAL_TIME_CROWD_CONTROL_DEALT'},\n    {'value': 0, 'name': 'TOTAL_HEAL_ON_TEAMMATES'},\n    {'value': 0, 'name': 'TIME_CCING_OTHERS'}],\n   'summonerSpell2Name': 'SummonerFlash',\n   'goldPerSecond': 0},\n  {'magicPenetrationPercent': 0,\n   'alive': True,\n   'participantID': 4,\n   'spellVamp': 0,\n   'primaryAbilityResource': 315,\n   'cooldownReduction': 0,\n   'lifeSteal': 0,\n   'primaryAbilityResourceRegen': 0,\n   'magicPenetrationPercentBonus': 0,\n   'magicPenetration': 0,\n   'summonerSpell2CooldownRemaining': 15,\n   'healthMax': 510,\n   'position': {'z': 457, 'x': 194},\n   'magicResist': 30,\n   'primaryAbilityResourceMax': 315,\n   'armorPenetrationPercentBonus': 0,\n   'summonerSpell1Name': 'SummonerHeal',\n   'attackDamage': 25,\n   'teamID': 100,\n   'championName': 'Caitlyn',\n   'ccReduction': 0,\n   'armorPenetrationPercent': 0,\n   'currentGold': 500,\n   'playerName': 'Z10 Khantos',\n   'healthRegen': 0,\n   'respawnTimer': 0,\n   'attackSpeed': 100,\n   'shutdownValue': 0,\n   'XP': 0,\n   'ultimateCooldownRemaining': 0,\n   'summonerSpell1CooldownRemaining': 15,\n   'armor': 28,\n   'level': 1,\n   'armorPenetration': 0,\n   'accountID': 2636065980516064,\n   'totalGold': 500,\n   'health': 510,\n   'ultimateName': 'CaitlynAceintheHole',\n   'abilityPower': 0,\n   'stats': [{'value': 0, 'name': 'MINIONS_KILLED'},\n    {'value': 0, 'name': 'NEUTRAL_MINIONS_KILLED'},\n    {'value': 0, 'name': 'NEUTRAL_MINIONS_KILLED_YOUR_JUNGLE'},\n    {'value': 0, 'name': 'NEUTRAL_MINIONS_KILLED_ENEMY_JUNGLE'},\n    {'value': 0, 'name': 'CHAMPIONS_KILLED'},\n    {'value': 0, 'name': 'NUM_DEATHS'},\n    {'value': 0, 'name': 'ASSISTS'},\n    {'value': 0, 'name': 'PERK0'},\n    {'value': 0, 'name': 'PERK0_VAR1'},\n    {'value': 0, 'name': 'PERK0_VAR2'},\n    {'value': 0, 'name': 'PERK0_VAR3'},\n    {'value': 0, 'name': 'PERK1'},\n    {'value': 0, 'name': 'PERK1_VAR1'},\n    {'value': 0, 'name': 'PERK1_VAR2'},\n    {'value': 0, 'name': 'PERK1_VAR3'},\n    {'value': 0, 'name': 'PERK2'},\n    {'value': 0, 'name': 'PERK2_VAR1'},\n    {'value': 0, 'name': 'PERK2_VAR2'},\n    {'value': 0, 'name': 'PERK2_VAR3'},\n    {'value': 0, 'name': 'PERK3'},\n    {'value': 0, 'name': 'PERK3_VAR1'},\n    {'value': 0, 'name': 'PERK3_VAR2'},\n    {'value': 0, 'name': 'PERK3_VAR3'},\n    {'value': 0, 'name': 'PERK4'},\n    {'value': 0, 'name': 'PERK4_VAR1'},\n    {'value': 0, 'name': 'PERK4_VAR2'},\n    {'value': 0, 'name': 'PERK4_VAR3'},\n    {'value': 0, 'name': 'PERK5'},\n    {'value': 0, 'name': 'PERK5_VAR1'},\n    {'value': 0, 'name': 'PERK5_VAR2'},\n    {'value': 0, 'name': 'PERK5_VAR3'},\n    {'value': 0, 'name': 'WARD_PLACED'},\n    {'value': 0, 'name': 'WARD_KILLED'},\n    {'value': 0, 'name': 'VISION_SCORE'},\n    {'value': 0, 'name': 'TOTAL_DAMAGE_DEALT'},\n    {'value': 0, 'name': 'PHYSICAL_DAMAGE_DEALT_PLAYER'},\n    {'value': 0, 'name': 'MAGIC_DAMAGE_DEALT_PLAYER'},\n    {'value': 0, 'name': 'TRUE_DAMAGE_DEALT_PLAYER'},\n    {'value': 0, 'name': 'TOTAL_DAMAGE_DEALT_TO_CHAMPIONS'},\n    {'value': 0, 'name': 'PHYSICAL_DAMAGE_DEALT_TO_CHAMPIONS'},\n    {'value': 0, 'name': 'MAGIC_DAMAGE_DEALT_TO_CHAMPIONS'},\n    {'value': 0, 'name': 'TRUE_DAMAGE_DEALT_TO_CHAMPIONS'},\n    {'value': 0, 'name': 'TOTAL_DAMAGE_TAKEN'},\n    {'value': 0, 'name': 'PHYSICAL_DAMAGE_TAKEN'},\n    {'value': 0, 'name': 'MAGIC_DAMAGE_TAKEN'},\n    {'value': 0, 'name': 'TRUE_DAMAGE_TAKEN'},\n    {'value': 0, 'name': 'TOTAL_DAMAGE_SELF_MITIGATED'},\n    {'value': 0, 'name': 'TOTAL_DAMAGE_SHIELDED_ON_TEAMMATES'},\n    {'value': 0, 'name': 'TOTAL_DAMAGE_DEALT_TO_BUILDINGS'},\n    {'value': 0, 'name': 'TOTAL_DAMAGE_DEALT_TO_TURRETS'},\n    {'value': 0, 'name': 'TOTAL_DAMAGE_DEALT_TO_OBJECTIVES'},\n    {'value': 0, 'name': 'TOTAL_TIME_CROWD_CONTROL_DEALT'},\n    {'value': 0, 'name': 'TOTAL_HEAL_ON_TEAMMATES'},\n    {'value': 0, 'name': 'TIME_CCING_OTHERS'}],\n   'summonerSpell2Name': 'SummonerFlash',\n   'goldPerSecond': 0},\n  {'magicPenetrationPercent': 0,\n   'alive': True,\n   'participantID': 5,\n   'spellVamp': 0,\n   'primaryAbilityResource': 274,\n   'cooldownReduction': 0,\n   'lifeSteal': 0,\n   'primaryAbilityResourceRegen': 0,\n   'magicPenetrationPercentBonus': 0,\n   'magicPenetration': 0,\n   'summonerSpell2CooldownRemaining': 15,\n   'healthMax': 561,\n   'position': {'z': 650, 'x': 329},\n   'magicResist': 30,\n   'primaryAbilityResourceMax': 274,\n   'armorPenetrationPercentBonus': 0,\n   'summonerSpell1Name': 'SummonerFlash',\n   'attackDamage': 25,\n   'teamID': 100,\n   'championName': 'Thresh',\n   'ccReduction': 0,\n   'armorPenetrationPercent': 0,\n   'currentGold': 500,\n   'playerName': 'Z10 Nikola',\n   'healthRegen': 0,\n   'respawnTimer': 0,\n   'attackSpeed': 100,\n   'shutdownValue': 0,\n   'XP': 0,\n   'ultimateCooldownRemaining': 0,\n   'summonerSpell1CooldownRemaining': 15,\n   'armor': 28,\n   'level': 1,\n   'armorPenetration': 0,\n   'accountID': 2426581637268864,\n   'totalGold': 500,\n   'health': 561,\n   'ultimateName': 'ThreshRPenta',\n   'abilityPower': 0,\n   'stats': [{'value': 0, 'name': 'MINIONS_KILLED'},\n    {'value': 0, 'name': 'NEUTRAL_MINIONS_KILLED'},\n    {'value': 0, 'name': 'NEUTRAL_MINIONS_KILLED_YOUR_JUNGLE'},\n    {'value': 0, 'name': 'NEUTRAL_MINIONS_KILLED_ENEMY_JUNGLE'},\n    {'value': 0, 'name': 'CHAMPIONS_KILLED'},\n    {'value': 0, 'name': 'NUM_DEATHS'},\n    {'value': 0, 'name': 'ASSISTS'},\n    {'value': 0, 'name': 'PERK0'},\n    {'value': 0, 'name': 'PERK0_VAR1'},\n    {'value': 0, 'name': 'PERK0_VAR2'},\n    {'value': 0, 'name': 'PERK0_VAR3'},\n    {'value': 0, 'name': 'PERK1'},\n    {'value': 0, 'name': 'PERK1_VAR1'},\n    {'value': 0, 'name': 'PERK1_VAR2'},\n    {'value': 0, 'name': 'PERK1_VAR3'},\n    {'value': 0, 'name': 'PERK2'},\n    {'value': 0, 'name': 'PERK2_VAR1'},\n    {'value': 0, 'name': 'PERK2_VAR2'},\n    {'value': 0, 'name': 'PERK2_VAR3'},\n    {'value': 0, 'name': 'PERK3'},\n    {'value': 0, 'name': 'PERK3_VAR1'},\n    {'value': 0, 'name': 'PERK3_VAR2'},\n    {'value': 0, 'name': 'PERK3_VAR3'},\n    {'value': 0, 'name': 'PERK4'},\n    {'value': 0, 'name': 'PERK4_VAR1'},\n    {'value': 0, 'name': 'PERK4_VAR2'},\n    {'value': 0, 'name': 'PERK4_VAR3'},\n    {'value': 0, 'name': 'PERK5'},\n    {'value': 0, 'name': 'PERK5_VAR1'},\n    {'value': 0, 'name': 'PERK5_VAR2'},\n    {'value': 0, 'name': 'PERK5_VAR3'},\n    {'value': 0, 'name': 'WARD_PLACED'},\n    {'value': 0, 'name': 'WARD_KILLED'},\n    {'value': 0, 'name': 'VISION_SCORE'},\n    {'value': 0, 'name': 'TOTAL_DAMAGE_DEALT'},\n    {'value': 0, 'name': 'PHYSICAL_DAMAGE_DEALT_PLAYER'},\n    {'value': 0, 'name': 'MAGIC_DAMAGE_DEALT_PLAYER'},\n    {'value': 0, 'name': 'TRUE_DAMAGE_DEALT_PLAYER'},\n    {'value': 0, 'name': 'TOTAL_DAMAGE_DEALT_TO_CHAMPIONS'},\n    {'value': 0, 'name': 'PHYSICAL_DAMAGE_DEALT_TO_CHAMPIONS'},\n    {'value': 0, 'name': 'MAGIC_DAMAGE_DEALT_TO_CHAMPIONS'},\n    {'value': 0, 'name': 'TRUE_DAMAGE_DEALT_TO_CHAMPIONS'},\n    {'value': 0, 'name': 'TOTAL_DAMAGE_TAKEN'},\n    {'value': 0, 'name': 'PHYSICAL_DAMAGE_TAKEN'},\n    {'value': 0, 'name': 'MAGIC_DAMAGE_TAKEN'},\n    {'value': 0, 'name': 'TRUE_DAMAGE_TAKEN'},\n    {'value': 0, 'name': 'TOTAL_DAMAGE_SELF_MITIGATED'},\n    {'value': 0, 'name': 'TOTAL_DAMAGE_SHIELDED_ON_TEAMMATES'},\n    {'value': 0, 'name': 'TOTAL_DAMAGE_DEALT_TO_BUILDINGS'},\n    {'value': 0, 'name': 'TOTAL_DAMAGE_DEALT_TO_TURRETS'},\n    {'value': 0, 'name': 'TOTAL_DAMAGE_DEALT_TO_OBJECTIVES'},\n    {'value': 0, 'name': 'TOTAL_TIME_CROWD_CONTROL_DEALT'},\n    {'value': 0, 'name': 'TOTAL_HEAL_ON_TEAMMATES'},\n    {'value': 0, 'name': 'TIME_CCING_OTHERS'}],\n   'summonerSpell2Name': 'SummonerDot',\n   'goldPerSecond': 0},\n  {'magicPenetrationPercent': 0,\n   'alive': True,\n   'participantID': 6,\n   'spellVamp': 0,\n   'primaryAbilityResource': 330,\n   'cooldownReduction': 0,\n   'lifeSteal': 0,\n   'primaryAbilityResourceRegen': 0,\n   'magicPenetrationPercentBonus': 0,\n   'magicPenetration': 0,\n   'summonerSpell2CooldownRemaining': 15,\n   'healthMax': 545,\n   'position': {'z': 14271, 'x': 14180},\n   'magicResist': 32,\n   'primaryAbilityResourceMax': 330,\n   'armorPenetrationPercentBonus': 0,\n   'summonerSpell1Name': 'SummonerFlash',\n   'attackDamage': 25,\n   'teamID': 200,\n   'championName': 'Sion',\n   'ccReduction': 0,\n   'armorPenetrationPercent': 0,\n   'currentGold': 500,\n   'playerName': 'C4 Zeiko',\n   'healthRegen': 0,\n   'respawnTimer': 0,\n   'attackSpeed': 100,\n   'shutdownValue': 0,\n   'XP': 0,\n   'ultimateCooldownRemaining': 0,\n   'summonerSpell1CooldownRemaining': 15,\n   'armor': 32,\n   'level': 1,\n   'armorPenetration': 0,\n   'accountID': 2636053698062048,\n   'totalGold': 500,\n   'health': 545,\n   'ultimateName': 'SionR',\n   'abilityPower': 0,\n   'stats': [{'value': 0, 'name': 'MINIONS_KILLED'},\n    {'value': 0, 'name': 'NEUTRAL_MINIONS_KILLED'},\n    {'value': 0, 'name': 'NEUTRAL_MINIONS_KILLED_YOUR_JUNGLE'},\n    {'value': 0, 'name': 'NEUTRAL_MINIONS_KILLED_ENEMY_JUNGLE'},\n    {'value': 0, 'name': 'CHAMPIONS_KILLED'},\n    {'value': 0, 'name': 'NUM_DEATHS'},\n    {'value': 0, 'name': 'ASSISTS'},\n    {'value': 0, 'name': 'PERK0'},\n    {'value': 0, 'name': 'PERK0_VAR1'},\n    {'value': 0, 'name': 'PERK0_VAR2'},\n    {'value': 0, 'name': 'PERK0_VAR3'},\n    {'value': 0, 'name': 'PERK1'},\n    {'value': 0, 'name': 'PERK1_VAR1'},\n    {'value': 0, 'name': 'PERK1_VAR2'},\n    {'value': 0, 'name': 'PERK1_VAR3'},\n    {'value': 0, 'name': 'PERK2'},\n    {'value': 0, 'name': 'PERK2_VAR1'},\n    {'value': 0, 'name': 'PERK2_VAR2'},\n    {'value': 0, 'name': 'PERK2_VAR3'},\n    {'value': 0, 'name': 'PERK3'},\n    {'value': 0, 'name': 'PERK3_VAR1'},\n    {'value': 0, 'name': 'PERK3_VAR2'},\n    {'value': 0, 'name': 'PERK3_VAR3'},\n    {'value': 0, 'name': 'PERK4'},\n    {'value': 0, 'name': 'PERK4_VAR1'},\n    {'value': 0, 'name': 'PERK4_VAR2'},\n    {'value': 0, 'name': 'PERK4_VAR3'},\n    {'value': 0, 'name': 'PERK5'},\n    {'value': 0, 'name': 'PERK5_VAR1'},\n    {'value': 0, 'name': 'PERK5_VAR2'},\n    {'value': 0, 'name': 'PERK5_VAR3'},\n    {'value': 0, 'name': 'WARD_PLACED'},\n    {'value': 0, 'name': 'WARD_KILLED'},\n    {'value': 0, 'name': 'VISION_SCORE'},\n    {'value': 0, 'name': 'TOTAL_DAMAGE_DEALT'},\n    {'value': 0, 'name': 'PHYSICAL_DAMAGE_DEALT_PLAYER'},\n    {'value': 0, 'name': 'MAGIC_DAMAGE_DEALT_PLAYER'},\n    {'value': 0, 'name': 'TRUE_DAMAGE_DEALT_PLAYER'},\n    {'value': 0, 'name': 'TOTAL_DAMAGE_DEALT_TO_CHAMPIONS'},\n    {'value': 0, 'name': 'PHYSICAL_DAMAGE_DEALT_TO_CHAMPIONS'},\n    {'value': 0, 'name': 'MAGIC_DAMAGE_DEALT_TO_CHAMPIONS'},\n    {'value': 0, 'name': 'TRUE_DAMAGE_DEALT_TO_CHAMPIONS'},\n    {'value': 0, 'name': 'TOTAL_DAMAGE_TAKEN'},\n    {'value': 0, 'name': 'PHYSICAL_DAMAGE_TAKEN'},\n    {'value': 0, 'name': 'MAGIC_DAMAGE_TAKEN'},\n    {'value': 0, 'name': 'TRUE_DAMAGE_TAKEN'},\n    {'value': 0, 'name': 'TOTAL_DAMAGE_SELF_MITIGATED'},\n    {'value': 0, 'name': 'TOTAL_DAMAGE_SHIELDED_ON_TEAMMATES'},\n    {'value': 0, 'name': 'TOTAL_DAMAGE_DEALT_TO_BUILDINGS'},\n    {'value': 0, 'name': 'TOTAL_DAMAGE_DEALT_TO_TURRETS'},\n    {'value': 0, 'name': 'TOTAL_DAMAGE_DEALT_TO_OBJECTIVES'},\n    {'value': 0, 'name': 'TOTAL_TIME_CROWD_CONTROL_DEALT'},\n    {'value': 0, 'name': 'TOTAL_HEAL_ON_TEAMMATES'},\n    {'value': 0, 'name': 'TIME_CCING_OTHERS'}],\n   'summonerSpell2Name': 'SummonerTeleport',\n   'goldPerSecond': 0},\n  {'magicPenetrationPercent': 0,\n   'alive': True,\n   'participantID': 7,\n   'spellVamp': 0,\n   'primaryAbilityResource': 410,\n   'cooldownReduction': 0,\n   'lifeSteal': 0,\n   'primaryAbilityResourceRegen': 0,\n   'magicPenetrationPercentBonus': 0,\n   'magicPenetration': 0,\n   'summonerSpell2CooldownRemaining': 15,\n   'healthMax': 580,\n   'position': {'z': 14506, 'x': 14176},\n   'magicResist': 32,\n   'primaryAbilityResourceMax': 410,\n   'armorPenetrationPercentBonus': 0,\n   'summonerSpell1Name': 'SummonerFlash',\n   'attackDamage': 25,\n   'teamID': 200,\n   'championName': 'Lillia',\n   'ccReduction': 0,\n   'armorPenetrationPercent': 0,\n   'currentGold': 500,\n   'playerName': 'C4 OmulFinn',\n   'healthRegen': 0,\n   'respawnTimer': 0,\n   'attackSpeed': 100,\n   'shutdownValue': 0,\n   'XP': 0,\n   'ultimateCooldownRemaining': 0,\n   'summonerSpell1CooldownRemaining': 15,\n   'armor': 20,\n   'level': 1,\n   'armorPenetration': 0,\n   'accountID': 2636054190139104,\n   'totalGold': 500,\n   'health': 580,\n   'ultimateName': 'LilliaR',\n   'abilityPower': 0,\n   'stats': [{'value': 0, 'name': 'MINIONS_KILLED'},\n    {'value': 0, 'name': 'NEUTRAL_MINIONS_KILLED'},\n    {'value': 0, 'name': 'NEUTRAL_MINIONS_KILLED_YOUR_JUNGLE'},\n    {'value': 0, 'name': 'NEUTRAL_MINIONS_KILLED_ENEMY_JUNGLE'},\n    {'value': 0, 'name': 'CHAMPIONS_KILLED'},\n    {'value': 0, 'name': 'NUM_DEATHS'},\n    {'value': 0, 'name': 'ASSISTS'},\n    {'value': 0, 'name': 'PERK0'},\n    {'value': 0, 'name': 'PERK0_VAR1'},\n    {'value': 0, 'name': 'PERK0_VAR2'},\n    {'value': 0, 'name': 'PERK0_VAR3'},\n    {'value': 0, 'name': 'PERK1'},\n    {'value': 0, 'name': 'PERK1_VAR1'},\n    {'value': 0, 'name': 'PERK1_VAR2'},\n    {'value': 0, 'name': 'PERK1_VAR3'},\n    {'value': 0, 'name': 'PERK2'},\n    {'value': 0, 'name': 'PERK2_VAR1'},\n    {'value': 0, 'name': 'PERK2_VAR2'},\n    {'value': 0, 'name': 'PERK2_VAR3'},\n    {'value': 0, 'name': 'PERK3'},\n    {'value': 0, 'name': 'PERK3_VAR1'},\n    {'value': 0, 'name': 'PERK3_VAR2'},\n    {'value': 0, 'name': 'PERK3_VAR3'},\n    {'value': 0, 'name': 'PERK4'},\n    {'value': 0, 'name': 'PERK4_VAR1'},\n    {'value': 0, 'name': 'PERK4_VAR2'},\n    {'value': 0, 'name': 'PERK4_VAR3'},\n    {'value': 0, 'name': 'PERK5'},\n    {'value': 0, 'name': 'PERK5_VAR1'},\n    {'value': 0, 'name': 'PERK5_VAR2'},\n    {'value': 0, 'name': 'PERK5_VAR3'},\n    {'value': 0, 'name': 'WARD_PLACED'},\n    {'value': 0, 'name': 'WARD_KILLED'},\n    {'value': 0, 'name': 'VISION_SCORE'},\n    {'value': 0, 'name': 'TOTAL_DAMAGE_DEALT'},\n    {'value': 0, 'name': 'PHYSICAL_DAMAGE_DEALT_PLAYER'},\n    {'value': 0, 'name': 'MAGIC_DAMAGE_DEALT_PLAYER'},\n    {'value': 0, 'name': 'TRUE_DAMAGE_DEALT_PLAYER'},\n    {'value': 0, 'name': 'TOTAL_DAMAGE_DEALT_TO_CHAMPIONS'},\n    {'value': 0, 'name': 'PHYSICAL_DAMAGE_DEALT_TO_CHAMPIONS'},\n    {'value': 0, 'name': 'MAGIC_DAMAGE_DEALT_TO_CHAMPIONS'},\n    {'value': 0, 'name': 'TRUE_DAMAGE_DEALT_TO_CHAMPIONS'},\n    {'value': 0, 'name': 'TOTAL_DAMAGE_TAKEN'},\n    {'value': 0, 'name': 'PHYSICAL_DAMAGE_TAKEN'},\n    {'value': 0, 'name': 'MAGIC_DAMAGE_TAKEN'},\n    {'value': 0, 'name': 'TRUE_DAMAGE_TAKEN'},\n    {'value': 0, 'name': 'TOTAL_DAMAGE_SELF_MITIGATED'},\n    {'value': 0, 'name': 'TOTAL_DAMAGE_SHIELDED_ON_TEAMMATES'},\n    {'value': 0, 'name': 'TOTAL_DAMAGE_DEALT_TO_BUILDINGS'},\n    {'value': 0, 'name': 'TOTAL_DAMAGE_DEALT_TO_TURRETS'},\n    {'value': 0, 'name': 'TOTAL_DAMAGE_DEALT_TO_OBJECTIVES'},\n    {'value': 0, 'name': 'TOTAL_TIME_CROWD_CONTROL_DEALT'},\n    {'value': 0, 'name': 'TOTAL_HEAL_ON_TEAMMATES'},\n    {'value': 0, 'name': 'TIME_CCING_OTHERS'}],\n   'summonerSpell2Name': 'SummonerSmite',\n   'goldPerSecond': 0},\n  {'magicPenetrationPercent': 0,\n   'alive': True,\n   'participantID': 8,\n   'spellVamp': 0,\n   'primaryAbilityResource': 374,\n   'cooldownReduction': 0,\n   'lifeSteal': 0,\n   'primaryAbilityResourceRegen': 0,\n   'magicPenetrationPercentBonus': 0,\n   'magicPenetration': 0,\n   'summonerSpell2CooldownRemaining': 15,\n   'healthMax': 534,\n   'position': {'z': 14582, 'x': 14398},\n   'magicResist': 30,\n   'primaryAbilityResourceMax': 374,\n   'armorPenetrationPercentBonus': 0,\n   'summonerSpell1Name': 'SummonerTeleport',\n   'attackDamage': 25,\n   'teamID': 200,\n   'championName': 'Karma',\n   'ccReduction': 0,\n   'armorPenetrationPercent': 0,\n   'currentGold': 500,\n   'playerName': 'C4 Jacob',\n   'healthRegen': 0,\n   'respawnTimer': 0,\n   'attackSpeed': 100,\n   'shutdownValue': 0,\n   'XP': 0,\n   'ultimateCooldownRemaining': 0,\n   'summonerSpell1CooldownRemaining': 15,\n   'armor': 26,\n   'level': 1,\n   'armorPenetration': 0,\n   'accountID': 2665315577996544,\n   'totalGold': 500,\n   'health': 534,\n   'ultimateName': 'KarmaMantra',\n   'abilityPower': 0,\n   'stats': [{'value': 0, 'name': 'MINIONS_KILLED'},\n    {'value': 0, 'name': 'NEUTRAL_MINIONS_KILLED'},\n    {'value': 0, 'name': 'NEUTRAL_MINIONS_KILLED_YOUR_JUNGLE'},\n    {'value': 0, 'name': 'NEUTRAL_MINIONS_KILLED_ENEMY_JUNGLE'},\n    {'value': 0, 'name': 'CHAMPIONS_KILLED'},\n    {'value': 0, 'name': 'NUM_DEATHS'},\n    {'value': 0, 'name': 'ASSISTS'},\n    {'value': 0, 'name': 'PERK0'},\n    {'value': 0, 'name': 'PERK0_VAR1'},\n    {'value': 0, 'name': 'PERK0_VAR2'},\n    {'value': 0, 'name': 'PERK0_VAR3'},\n    {'value': 0, 'name': 'PERK1'},\n    {'value': 0, 'name': 'PERK1_VAR1'},\n    {'value': 0, 'name': 'PERK1_VAR2'},\n    {'value': 0, 'name': 'PERK1_VAR3'},\n    {'value': 0, 'name': 'PERK2'},\n    {'value': 0, 'name': 'PERK2_VAR1'},\n    {'value': 0, 'name': 'PERK2_VAR2'},\n    {'value': 0, 'name': 'PERK2_VAR3'},\n    {'value': 0, 'name': 'PERK3'},\n    {'value': 0, 'name': 'PERK3_VAR1'},\n    {'value': 0, 'name': 'PERK3_VAR2'},\n    {'value': 0, 'name': 'PERK3_VAR3'},\n    {'value': 0, 'name': 'PERK4'},\n    {'value': 0, 'name': 'PERK4_VAR1'},\n    {'value': 0, 'name': 'PERK4_VAR2'},\n    {'value': 0, 'name': 'PERK4_VAR3'},\n    {'value': 0, 'name': 'PERK5'},\n    {'value': 0, 'name': 'PERK5_VAR1'},\n    {'value': 0, 'name': 'PERK5_VAR2'},\n    {'value': 0, 'name': 'PERK5_VAR3'},\n    {'value': 0, 'name': 'WARD_PLACED'},\n    {'value': 0, 'name': 'WARD_KILLED'},\n    {'value': 0, 'name': 'VISION_SCORE'},\n    {'value': 0, 'name': 'TOTAL_DAMAGE_DEALT'},\n    {'value': 0, 'name': 'PHYSICAL_DAMAGE_DEALT_PLAYER'},\n    {'value': 0, 'name': 'MAGIC_DAMAGE_DEALT_PLAYER'},\n    {'value': 0, 'name': 'TRUE_DAMAGE_DEALT_PLAYER'},\n    {'value': 0, 'name': 'TOTAL_DAMAGE_DEALT_TO_CHAMPIONS'},\n    {'value': 0, 'name': 'PHYSICAL_DAMAGE_DEALT_TO_CHAMPIONS'},\n    {'value': 0, 'name': 'MAGIC_DAMAGE_DEALT_TO_CHAMPIONS'},\n    {'value': 0, 'name': 'TRUE_DAMAGE_DEALT_TO_CHAMPIONS'},\n    {'value': 0, 'name': 'TOTAL_DAMAGE_TAKEN'},\n    {'value': 0, 'name': 'PHYSICAL_DAMAGE_TAKEN'},\n    {'value': 0, 'name': 'MAGIC_DAMAGE_TAKEN'},\n    {'value': 0, 'name': 'TRUE_DAMAGE_TAKEN'},\n    {'value': 0, 'name': 'TOTAL_DAMAGE_SELF_MITIGATED'},\n    {'value': 0, 'name': 'TOTAL_DAMAGE_SHIELDED_ON_TEAMMATES'},\n    {'value': 0, 'name': 'TOTAL_DAMAGE_DEALT_TO_BUILDINGS'},\n    {'value': 0, 'name': 'TOTAL_DAMAGE_DEALT_TO_TURRETS'},\n    {'value': 0, 'name': 'TOTAL_DAMAGE_DEALT_TO_OBJECTIVES'},\n    {'value': 0, 'name': 'TOTAL_TIME_CROWD_CONTROL_DEALT'},\n    {'value': 0, 'name': 'TOTAL_HEAL_ON_TEAMMATES'},\n    {'value': 0, 'name': 'TIME_CCING_OTHERS'}],\n   'summonerSpell2Name': 'SummonerFlash',\n   'goldPerSecond': 0},\n  {'magicPenetrationPercent': 0,\n   'alive': True,\n   'participantID': 9,\n   'spellVamp': 0,\n   'primaryAbilityResource': 300,\n   'cooldownReduction': 0,\n   'lifeSteal': 0,\n   'primaryAbilityResourceRegen': 0,\n   'magicPenetrationPercentBonus': 0,\n   'magicPenetration': 0,\n   'summonerSpell2CooldownRemaining': 15,\n   'healthMax': 585,\n   'position': {'z': 14394, 'x': 14539},\n   'magicResist': 30,\n   'primaryAbilityResourceMax': 300,\n   'armorPenetrationPercentBonus': 0,\n   'summonerSpell1Name': 'SummonerFlash',\n   'attackDamage': 25,\n   'teamID': 200,\n   'championName': 'Jhin',\n   'ccReduction': 0,\n   'armorPenetrationPercent': 0,\n   'currentGold': 500,\n   'playerName': 'C4 Paladin',\n   'healthRegen': 0,\n   'respawnTimer': 0,\n   'attackSpeed': 100,\n   'shutdownValue': 0,\n   'XP': 0,\n   'ultimateCooldownRemaining': 0,\n   'summonerSpell1CooldownRemaining': 15,\n   'armor': 24,\n   'level': 1,\n   'armorPenetration': 0,\n   'accountID': 2636055193552608,\n   'totalGold': 500,\n   'health': 585,\n   'ultimateName': 'JhinR',\n   'abilityPower': 0,\n   'stats': [{'value': 0, 'name': 'MINIONS_KILLED'},\n    {'value': 0, 'name': 'NEUTRAL_MINIONS_KILLED'},\n    {'value': 0, 'name': 'NEUTRAL_MINIONS_KILLED_YOUR_JUNGLE'},\n    {'value': 0, 'name': 'NEUTRAL_MINIONS_KILLED_ENEMY_JUNGLE'},\n    {'value': 0, 'name': 'CHAMPIONS_KILLED'},\n    {'value': 0, 'name': 'NUM_DEATHS'},\n    {'value': 0, 'name': 'ASSISTS'},\n    {'value': 0, 'name': 'PERK0'},\n    {'value': 0, 'name': 'PERK0_VAR1'},\n    {'value': 0, 'name': 'PERK0_VAR2'},\n    {'value': 0, 'name': 'PERK0_VAR3'},\n    {'value': 0, 'name': 'PERK1'},\n    {'value': 0, 'name': 'PERK1_VAR1'},\n    {'value': 0, 'name': 'PERK1_VAR2'},\n    {'value': 0, 'name': 'PERK1_VAR3'},\n    {'value': 0, 'name': 'PERK2'},\n    {'value': 0, 'name': 'PERK2_VAR1'},\n    {'value': 0, 'name': 'PERK2_VAR2'},\n    {'value': 0, 'name': 'PERK2_VAR3'},\n    {'value': 0, 'name': 'PERK3'},\n    {'value': 0, 'name': 'PERK3_VAR1'},\n    {'value': 0, 'name': 'PERK3_VAR2'},\n    {'value': 0, 'name': 'PERK3_VAR3'},\n    {'value': 0, 'name': 'PERK4'},\n    {'value': 0, 'name': 'PERK4_VAR1'},\n    {'value': 0, 'name': 'PERK4_VAR2'},\n    {'value': 0, 'name': 'PERK4_VAR3'},\n    {'value': 0, 'name': 'PERK5'},\n    {'value': 0, 'name': 'PERK5_VAR1'},\n    {'value': 0, 'name': 'PERK5_VAR2'},\n    {'value': 0, 'name': 'PERK5_VAR3'},\n    {'value': 0, 'name': 'WARD_PLACED'},\n    {'value': 0, 'name': 'WARD_KILLED'},\n    {'value': 0, 'name': 'VISION_SCORE'},\n    {'value': 0, 'name': 'TOTAL_DAMAGE_DEALT'},\n    {'value': 0, 'name': 'PHYSICAL_DAMAGE_DEALT_PLAYER'},\n    {'value': 0, 'name': 'MAGIC_DAMAGE_DEALT_PLAYER'},\n    {'value': 0, 'name': 'TRUE_DAMAGE_DEALT_PLAYER'},\n    {'value': 0, 'name': 'TOTAL_DAMAGE_DEALT_TO_CHAMPIONS'},\n    {'value': 0, 'name': 'PHYSICAL_DAMAGE_DEALT_TO_CHAMPIONS'},\n    {'value': 0, 'name': 'MAGIC_DAMAGE_DEALT_TO_CHAMPIONS'},\n    {'value': 0, 'name': 'TRUE_DAMAGE_DEALT_TO_CHAMPIONS'},\n    {'value': 0, 'name': 'TOTAL_DAMAGE_TAKEN'},\n    {'value': 0, 'name': 'PHYSICAL_DAMAGE_TAKEN'},\n    {'value': 0, 'name': 'MAGIC_DAMAGE_TAKEN'},\n    {'value': 0, 'name': 'TRUE_DAMAGE_TAKEN'},\n    {'value': 0, 'name': 'TOTAL_DAMAGE_SELF_MITIGATED'},\n    {'value': 0, 'name': 'TOTAL_DAMAGE_SHIELDED_ON_TEAMMATES'},\n    {'value': 0, 'name': 'TOTAL_DAMAGE_DEALT_TO_BUILDINGS'},\n    {'value': 0, 'name': 'TOTAL_DAMAGE_DEALT_TO_TURRETS'},\n    {'value': 0, 'name': 'TOTAL_DAMAGE_DEALT_TO_OBJECTIVES'},\n    {'value': 0, 'name': 'TOTAL_TIME_CROWD_CONTROL_DEALT'},\n    {'value': 0, 'name': 'TOTAL_HEAL_ON_TEAMMATES'},\n    {'value': 0, 'name': 'TIME_CCING_OTHERS'}],\n   'summonerSpell2Name': 'SummonerHeal',\n   'goldPerSecond': 0},\n  {'magicPenetrationPercent': 0,\n   'alive': True,\n   'participantID': 10,\n   'spellVamp': 0,\n   'primaryAbilityResource': 340,\n   'cooldownReduction': 0,\n   'lifeSteal': 0,\n   'primaryAbilityResourceRegen': 0,\n   'magicPenetrationPercentBonus': 0,\n   'magicPenetration': 0,\n   'summonerSpell2CooldownRemaining': 15,\n   'healthMax': 560,\n   'position': {'z': 14201, 'x': 14404},\n   'magicResist': 30,\n   'primaryAbilityResourceMax': 340,\n   'armorPenetrationPercentBonus': 0,\n   'summonerSpell1Name': 'SummonerDot',\n   'attackDamage': 25,\n   'teamID': 200,\n   'championName': 'Morgana',\n   'ccReduction': 0,\n   'armorPenetrationPercent': 0,\n   'currentGold': 500,\n   'playerName': 'C4 Unlucky',\n   'healthRegen': 0,\n   'respawnTimer': 0,\n   'attackSpeed': 100,\n   'shutdownValue': 0,\n   'XP': 0,\n   'ultimateCooldownRemaining': 0,\n   'summonerSpell1CooldownRemaining': 15,\n   'armor': 25,\n   'level': 1,\n   'armorPenetration': 0,\n   'accountID': 2636054365275872,\n   'totalGold': 500,\n   'health': 560,\n   'ultimateName': 'MorganaR',\n   'abilityPower': 0,\n   'items': [{'itemID': 2419, 'itemCooldown': 840}],\n   'stats': [{'value': 0, 'name': 'MINIONS_KILLED'},\n    {'value': 0, 'name': 'NEUTRAL_MINIONS_KILLED'},\n    {'value': 0, 'name': 'NEUTRAL_MINIONS_KILLED_YOUR_JUNGLE'},\n    {'value': 0, 'name': 'NEUTRAL_MINIONS_KILLED_ENEMY_JUNGLE'},\n    {'value': 0, 'name': 'CHAMPIONS_KILLED'},\n    {'value': 0, 'name': 'NUM_DEATHS'},\n    {'value': 0, 'name': 'ASSISTS'},\n    {'value': 0, 'name': 'PERK0'},\n    {'value': 0, 'name': 'PERK0_VAR1'},\n    {'value': 0, 'name': 'PERK0_VAR2'},\n    {'value': 0, 'name': 'PERK0_VAR3'},\n    {'value': 0, 'name': 'PERK1'},\n    {'value': 0, 'name': 'PERK1_VAR1'},\n    {'value': 0, 'name': 'PERK1_VAR2'},\n    {'value': 0, 'name': 'PERK1_VAR3'},\n    {'value': 0, 'name': 'PERK2'},\n    {'value': 0, 'name': 'PERK2_VAR1'},\n    {'value': 0, 'name': 'PERK2_VAR2'},\n    {'value': 0, 'name': 'PERK2_VAR3'},\n    {'value': 0, 'name': 'PERK3'},\n    {'value': 0, 'name': 'PERK3_VAR1'},\n    {'value': 0, 'name': 'PERK3_VAR2'},\n    {'value': 0, 'name': 'PERK3_VAR3'},\n    {'value': 0, 'name': 'PERK4'},\n    {'value': 0, 'name': 'PERK4_VAR1'},\n    {'value': 0, 'name': 'PERK4_VAR2'},\n    {'value': 0, 'name': 'PERK4_VAR3'},\n    {'value': 0, 'name': 'PERK5'},\n    {'value': 0, 'name': 'PERK5_VAR1'},\n    {'value': 0, 'name': 'PERK5_VAR2'},\n    {'value': 0, 'name': 'PERK5_VAR3'},\n    {'value': 0, 'name': 'WARD_PLACED'},\n    {'value': 0, 'name': 'WARD_KILLED'},\n    {'value': 0, 'name': 'VISION_SCORE'},\n    {'value': 0, 'name': 'TOTAL_DAMAGE_DEALT'},\n    {'value': 0, 'name': 'PHYSICAL_DAMAGE_DEALT_PLAYER'},\n    {'value': 0, 'name': 'MAGIC_DAMAGE_DEALT_PLAYER'},\n    {'value': 0, 'name': 'TRUE_DAMAGE_DEALT_PLAYER'},\n    {'value': 0, 'name': 'TOTAL_DAMAGE_DEALT_TO_CHAMPIONS'},\n    {'value': 0, 'name': 'PHYSICAL_DAMAGE_DEALT_TO_CHAMPIONS'},\n    {'value': 0, 'name': 'MAGIC_DAMAGE_DEALT_TO_CHAMPIONS'},\n    {'value': 0, 'name': 'TRUE_DAMAGE_DEALT_TO_CHAMPIONS'},\n    {'value': 0, 'name': 'TOTAL_DAMAGE_TAKEN'},\n    {'value': 0, 'name': 'PHYSICAL_DAMAGE_TAKEN'},\n    {'value': 0, 'name': 'MAGIC_DAMAGE_TAKEN'},\n    {'value': 0, 'name': 'TRUE_DAMAGE_TAKEN'},\n    {'value': 0, 'name': 'TOTAL_DAMAGE_SELF_MITIGATED'},\n    {'value': 0, 'name': 'TOTAL_DAMAGE_SHIELDED_ON_TEAMMATES'},\n    {'value': 0, 'name': 'TOTAL_DAMAGE_DEALT_TO_BUILDINGS'},\n    {'value': 0, 'name': 'TOTAL_DAMAGE_DEALT_TO_TURRETS'},\n    {'value': 0, 'name': 'TOTAL_DAMAGE_DEALT_TO_OBJECTIVES'},\n    {'value': 0, 'name': 'TOTAL_TIME_CROWD_CONTROL_DEALT'},\n    {'value': 0, 'name': 'TOTAL_HEAL_ON_TEAMMATES'},\n    {'value': 0, 'name': 'TIME_CCING_OTHERS'}],\n   'summonerSpell2Name': 'SummonerFlash',\n   'goldPerSecond': 0}],\n 'stageID': 1,\n 'gameOver': False,\n 'sequenceIndex': 12,\n 'gameName': '105596416965466996|game1',\n 'teams': [{'inhibKills': 0,\n   'towerKills': 0,\n   'teamID': 100,\n   'baronKills': 0,\n   'dragonKills': 0,\n   'assists': 0,\n   'championsKills': 0,\n   'totalGold': 2500,\n   'deaths': 0},\n  {'inhibKills': 0,\n   'towerKills': 0,\n   'teamID': 200,\n   'baronKills': 0,\n   'dragonKills': 0,\n   'assists': 0,\n   'championsKills': 0,\n   'totalGold': 2500,\n   'deaths': 0}],\n 'playbackID': 1}"
     },
     "execution_count": 14,
     "metadata": {},
     "output_type": "execute_result"
    }
   ],
   "source": [
    "game_data[1] # Game metadata at the start"
   ],
   "metadata": {
    "collapsed": false,
    "ExecuteTime": {
     "end_time": "2023-09-04T03:58:37.067796800Z",
     "start_time": "2023-09-04T03:58:37.013710800Z"
    }
   },
   "id": "3131eabcf0feee30"
  },
  {
   "cell_type": "code",
   "execution_count": 45,
   "outputs": [
    {
     "data": {
      "text/plain": "array(['building_destroyed', 'champion_kill', 'champion_kill_special',\n       'champion_level_up', 'epic_monster_kill', 'epic_monster_spawn',\n       'game_end', 'game_info', 'item_destroyed', 'item_purchased',\n       'item_sold', 'item_undo', 'queued_dragon_info', 'skill_level_up',\n       'stats_update', 'turret_plate_destroyed', 'ward_killed',\n       'ward_placed'], dtype='<U22')"
     },
     "execution_count": 45,
     "metadata": {},
     "output_type": "execute_result"
    }
   ],
   "source": [
    "np.unique([x['eventType'] for x in game_data])\n",
    "\n",
    "\"\"\"\n",
    "NOTES: We are only concerned with the following events\n",
    "\"building_destroyed\" - first one for each team \n",
    "\"champion_kill\" - first one for each team \n",
    "\"epic_monster_kill\" - first one for each team\n",
    "\"game_end\" - first one for each time \n",
    "\"stats_update\" - multiple instances\n",
    "\n",
    "We don't care about the other events because they are too granular and don't provide any useful information\n",
    "\"\"\""
   ],
   "metadata": {
    "collapsed": false,
    "ExecuteTime": {
     "end_time": "2023-09-03T00:24:22.697429600Z",
     "start_time": "2023-09-03T00:24:22.613542700Z"
    }
   },
   "id": "22fdbc81623adba8"
  },
  {
   "cell_type": "code",
   "execution_count": 9,
   "outputs": [
    {
     "name": "stdout",
     "output_type": "stream",
     "text": [
      "{'eventTime': '2021-03-08T18:16:15.687Z', 'eventType': 'building_destroyed', 'platformGameId': 'ESPORTSTMNT04:1610258', 'gameTime': 633895, 'teamID': 200, 'sequenceIndex': 1009, 'buildingType': 'turret', 'stageID': 1, 'assistants': [], 'lastHitter': 4, 'gameName': '105596416965466996|game1', 'position': {'z': 4505, 'x': 13866}, 'lane': 'bot', 'turretTier': 'outer', 'playbackID': 1}\n",
      "{'eventTime': '2021-03-08T18:20:08.456Z', 'eventType': 'building_destroyed', 'platformGameId': 'ESPORTSTMNT04:1610258', 'gameTime': 866666, 'teamID': 200, 'sequenceIndex': 1405, 'buildingType': 'turret', 'assistants': [], 'stageID': 1, 'lastHitter': 4, 'gameName': '105596416965466996|game1', 'position': {'z': 13875, 'x': 4318}, 'lane': 'top', 'turretTier': 'outer', 'playbackID': 1}\n",
      "{'eventTime': '2021-03-08T18:22:46.851Z', 'eventType': 'building_destroyed', 'platformGameId': 'ESPORTSTMNT04:1610258', 'gameTime': 1025061, 'teamID': 200, 'sequenceIndex': 1683, 'buildingType': 'turret', 'stageID': 1, 'assistants': [], 'lastHitter': 0, 'gameName': '105596416965466996|game1', 'position': {'z': 8510, 'x': 8955}, 'lane': 'mid', 'turretTier': 'outer', 'playbackID': 1}\n",
      "{'eventTime': '2021-03-08T18:24:25.364Z', 'eventType': 'building_destroyed', 'platformGameId': 'ESPORTSTMNT04:1610258', 'gameTime': 1123575, 'teamID': 200, 'sequenceIndex': 1833, 'buildingType': 'turret', 'stageID': 1, 'assistants': [], 'lastHitter': 1, 'gameName': '105596416965466996|game1', 'position': {'z': 8226, 'x': 13327}, 'lane': 'bot', 'turretTier': 'inner', 'playbackID': 1}\n",
      "{'eventTime': '2021-03-08T18:30:52.602Z', 'eventType': 'building_destroyed', 'platformGameId': 'ESPORTSTMNT04:1610258', 'gameTime': 1510811, 'teamID': 200, 'sequenceIndex': 2482, 'buildingType': 'turret', 'stageID': 1, 'assistants': [5], 'lastHitter': 4, 'gameName': '105596416965466996|game1', 'position': {'z': 10113, 'x': 9767}, 'lane': 'mid', 'turretTier': 'inner', 'playbackID': 1}\n",
      "{'eventTime': '2021-03-08T18:31:39.493Z', 'eventType': 'building_destroyed', 'platformGameId': 'ESPORTSTMNT04:1610258', 'gameTime': 1557700, 'teamID': 100, 'sequenceIndex': 2558, 'buildingType': 'turret', 'stageID': 1, 'assistants': [], 'lastHitter': 6, 'gameName': '105596416965466996|game1', 'position': {'z': 1029, 'x': 10504}, 'lane': 'bot', 'turretTier': 'outer', 'playbackID': 1}\n",
      "{'eventTime': '2021-03-08T18:33:49.535Z', 'eventType': 'building_destroyed', 'platformGameId': 'ESPORTSTMNT04:1610258', 'gameTime': 1687745, 'teamID': 200, 'sequenceIndex': 2759, 'buildingType': 'turret', 'assistants': [3], 'stageID': 1, 'lastHitter': 1, 'gameName': '105596416965466996|game1', 'position': {'z': 10572, 'x': 13624}, 'lane': 'bot', 'turretTier': 'base', 'playbackID': 1}\n",
      "{'eventTime': '2021-03-08T18:33:52.707Z', 'eventType': 'building_destroyed', 'platformGameId': 'ESPORTSTMNT04:1610258', 'gameTime': 1690916, 'teamID': 200, 'sequenceIndex': 2764, 'buildingType': 'turret', 'stageID': 1, 'assistants': [2, 5], 'lastHitter': 4, 'gameName': '105596416965466996|game1', 'position': {'z': 11207, 'x': 11134}, 'lane': 'mid', 'turretTier': 'base', 'playbackID': 1}\n",
      "{'eventTime': '2021-03-08T18:33:57.671Z', 'eventType': 'building_destroyed', 'platformGameId': 'ESPORTSTMNT04:1610258', 'gameTime': 1695882, 'stageID': 1, 'assistants': [1], 'lastHitter': 3, 'gameName': '105596416965466996|game1', 'teamID': 200, 'buildingType': 'inhibitor', 'position': {'z': 11316, 'x': 13604}, 'lane': 'bot', 'playbackID': 1, 'sequenceIndex': 2771}\n",
      "{'eventTime': '2021-03-08T18:34:00.775Z', 'eventType': 'building_destroyed', 'platformGameId': 'ESPORTSTMNT04:1610258', 'gameTime': 1698985, 'stageID': 1, 'assistants': [2, 4], 'lastHitter': 5, 'gameName': '105596416965466996|game1', 'teamID': 200, 'buildingType': 'inhibitor', 'position': {'z': 11667, 'x': 11598}, 'lane': 'mid', 'playbackID': 1, 'sequenceIndex': 2775}\n",
      "{'eventTime': '2021-03-08T18:36:06.040Z', 'eventType': 'building_destroyed', 'platformGameId': 'ESPORTSTMNT04:1610258', 'gameTime': 1824248, 'teamID': 200, 'sequenceIndex': 3008, 'buildingType': 'turret', 'stageID': 1, 'assistants': [1, 3, 5], 'lastHitter': 4, 'gameName': '105596416965466996|game1', 'position': {'z': 12612, 'x': 13052}, 'lane': 'mid', 'turretTier': 'nexus', 'playbackID': 1}\n",
      "{'eventTime': '2021-03-08T18:36:28.404Z', 'eventType': 'building_destroyed', 'platformGameId': 'ESPORTSTMNT04:1610258', 'gameTime': 1846613, 'teamID': 200, 'sequenceIndex': 3041, 'buildingType': 'turret', 'stageID': 1, 'assistants': [1, 4], 'lastHitter': 3, 'gameName': '105596416965466996|game1', 'position': {'z': 13084, 'x': 12611}, 'lane': 'mid', 'turretTier': 'nexus', 'playbackID': 1}\n"
     ]
    }
   ],
   "source": [
    "important_events = [\"building_destroyed\", \"champion_kill\", \"epic_monster_kill\", \"game_end\", \"stats_update\"]\n",
    "\n",
    "# Use this to examples of the relevant event types in the game\n",
    "for event in game_data:\n",
    "    if event['eventType'] in [\"building_destroyed\"]:\n",
    "        print(event) "
   ],
   "metadata": {
    "collapsed": false,
    "ExecuteTime": {
     "end_time": "2023-09-04T03:10:59.300454100Z",
     "start_time": "2023-09-04T03:10:59.242140500Z"
    }
   },
   "id": "d2491de4e8734e92"
  },
  {
   "cell_type": "code",
   "execution_count": null,
   "outputs": [],
   "source": [
    "\"\"\"\n",
    "To process \"epic_monster_kill\" events we do the following:\n",
    "1. Check that \"monsterType\" is in [\"riftHerald\", \"dragon\", \"baron\"] \n",
    "2. Check the time of the event [\"eventTime\"]\n",
    "3. Check which team killed it [\"killerTeamID\"]\n",
    "4. Update the appropriate feature for that team\n",
    "\n",
    "team_features should be a dictionary with keys for 100 and 200 and values as dictionaries with keys for each feature\n",
    "for example for epic_monster kill we have features for [first_riftHerald, first_dragon, first_baron, num_riftHeralds, num_dragons, num_barons]\n",
    "- first_riftHerald_ind = 0 if they got the first rift_herald, 1 otherwise \n",
    "\n",
    "To process \"building_destroyed\" events we do the following:\n",
    "1. Check the time of the event [\"eventTime\"]\n",
    "2. Check whose tower fell [\"teamId\"]\n",
    "3. Update the appropriate feature for that team\n",
    "\n",
    "To process \"champion_kill\" events we do the following:\n",
    "1. Check the time of the event [\"eventTime\"]\n",
    "2. Check whose champion died [\"killerTeamID\"]\n",
    "3. Update the appropriate feature for that team\n",
    "\"\"\""
   ],
   "metadata": {
    "collapsed": false
   },
   "id": "3fb9f3ac2ac4959e"
  },
  {
   "cell_type": "code",
   "execution_count": 38,
   "outputs": [
    {
     "data": {
      "text/plain": "{'eventTime': '2021-03-08T18:05:43.823Z',\n 'eventType': 'stats_update',\n 'platformGameId': 'ESPORTSTMNT04:1610258',\n 'gameTime': 2032,\n 'participants': [{'magicPenetrationPercent': 0,\n   'participantID': 1,\n   'alive': True,\n   'spellVamp': 0,\n   'primaryAbilityResource': 340,\n   'cooldownReduction': 0,\n   'lifeSteal': 0,\n   'primaryAbilityResourceRegen': 16,\n   'magicPenetrationPercentBonus': 0,\n   'magicPenetration': 0,\n   'summonerSpell2CooldownRemaining': 12.96790599822998,\n   'healthMax': 590,\n   'position': {'z': 611, 'x': 603},\n   'magicResist': 32,\n   'primaryAbilityResourceMax': 340,\n   'armorPenetrationPercentBonus': 0,\n   'summonerSpell1Name': 'SummonerFlash',\n   'attackDamage': 79,\n   'teamID': 100,\n   'championName': 'Ornn',\n   'ccReduction': 0,\n   'armorPenetrationPercent': 0,\n   'currentGold': 500,\n   'playerName': 'Z10 Kaylem',\n   'healthRegen': 18,\n   'respawnTimer': 0,\n   'attackSpeed': 100,\n   'shutdownValue': 0,\n   'XP': 0,\n   'ultimateCooldownRemaining': 0,\n   'summonerSpell1CooldownRemaining': 12.96790599822998,\n   'armor': 39,\n   'level': 1,\n   'armorPenetration': 0,\n   'accountID': 2481962886014624,\n   'totalGold': 500,\n   'health': 590,\n   'ultimateName': 'OrnnR',\n   'abilityPower': 0,\n   'stats': [{'value': 0, 'name': 'MINIONS_KILLED'},\n    {'value': 0, 'name': 'NEUTRAL_MINIONS_KILLED'},\n    {'value': 0, 'name': 'NEUTRAL_MINIONS_KILLED_YOUR_JUNGLE'},\n    {'value': 0, 'name': 'NEUTRAL_MINIONS_KILLED_ENEMY_JUNGLE'},\n    {'value': 0, 'name': 'CHAMPIONS_KILLED'},\n    {'value': 0, 'name': 'NUM_DEATHS'},\n    {'value': 0, 'name': 'ASSISTS'},\n    {'value': 0, 'name': 'PERK0'},\n    {'value': 0, 'name': 'PERK0_VAR1'},\n    {'value': 0, 'name': 'PERK0_VAR2'},\n    {'value': 0, 'name': 'PERK0_VAR3'},\n    {'value': 0, 'name': 'PERK1'},\n    {'value': 0, 'name': 'PERK1_VAR1'},\n    {'value': 0, 'name': 'PERK1_VAR2'},\n    {'value': 0, 'name': 'PERK1_VAR3'},\n    {'value': 0, 'name': 'PERK2'},\n    {'value': 0, 'name': 'PERK2_VAR1'},\n    {'value': 0, 'name': 'PERK2_VAR2'},\n    {'value': 0, 'name': 'PERK2_VAR3'},\n    {'value': 0, 'name': 'PERK3'},\n    {'value': 0, 'name': 'PERK3_VAR1'},\n    {'value': 0, 'name': 'PERK3_VAR2'},\n    {'value': 0, 'name': 'PERK3_VAR3'},\n    {'value': 0, 'name': 'PERK4'},\n    {'value': 0, 'name': 'PERK4_VAR1'},\n    {'value': 0, 'name': 'PERK4_VAR2'},\n    {'value': 0, 'name': 'PERK4_VAR3'},\n    {'value': 0, 'name': 'PERK5'},\n    {'value': 0, 'name': 'PERK5_VAR1'},\n    {'value': 0, 'name': 'PERK5_VAR2'},\n    {'value': 0, 'name': 'PERK5_VAR3'},\n    {'value': 0, 'name': 'WARD_PLACED'},\n    {'value': 0, 'name': 'WARD_KILLED'},\n    {'value': 0, 'name': 'VISION_SCORE'},\n    {'value': 0, 'name': 'TOTAL_DAMAGE_DEALT'},\n    {'value': 0, 'name': 'PHYSICAL_DAMAGE_DEALT_PLAYER'},\n    {'value': 0, 'name': 'MAGIC_DAMAGE_DEALT_PLAYER'},\n    {'value': 0, 'name': 'TRUE_DAMAGE_DEALT_PLAYER'},\n    {'value': 0, 'name': 'TOTAL_DAMAGE_DEALT_TO_CHAMPIONS'},\n    {'value': 0, 'name': 'PHYSICAL_DAMAGE_DEALT_TO_CHAMPIONS'},\n    {'value': 0, 'name': 'MAGIC_DAMAGE_DEALT_TO_CHAMPIONS'},\n    {'value': 0, 'name': 'TRUE_DAMAGE_DEALT_TO_CHAMPIONS'},\n    {'value': 0, 'name': 'TOTAL_DAMAGE_TAKEN'},\n    {'value': 0, 'name': 'PHYSICAL_DAMAGE_TAKEN'},\n    {'value': 0, 'name': 'MAGIC_DAMAGE_TAKEN'},\n    {'value': 0, 'name': 'TRUE_DAMAGE_TAKEN'},\n    {'value': 0, 'name': 'TOTAL_DAMAGE_SELF_MITIGATED'},\n    {'value': 0, 'name': 'TOTAL_DAMAGE_SHIELDED_ON_TEAMMATES'},\n    {'value': 0, 'name': 'TOTAL_DAMAGE_DEALT_TO_BUILDINGS'},\n    {'value': 0, 'name': 'TOTAL_DAMAGE_DEALT_TO_TURRETS'},\n    {'value': 0, 'name': 'TOTAL_DAMAGE_DEALT_TO_OBJECTIVES'},\n    {'value': 0, 'name': 'TOTAL_TIME_CROWD_CONTROL_DEALT'},\n    {'value': 0, 'name': 'TOTAL_HEAL_ON_TEAMMATES'},\n    {'value': 0, 'name': 'TIME_CCING_OTHERS'}],\n   'summonerSpell2Name': 'SummonerTeleport',\n   'goldPerSecond': 0},\n  {'magicPenetrationPercent': 0,\n   'participantID': 2,\n   'alive': True,\n   'spellVamp': 0,\n   'primaryAbilityResource': 320,\n   'cooldownReduction': 0,\n   'lifeSteal': 0,\n   'primaryAbilityResourceRegen': 14,\n   'magicPenetrationPercentBonus': 0,\n   'magicPenetration': 0,\n   'summonerSpell2CooldownRemaining': 12.96790599822998,\n   'healthMax': 580,\n   'position': {'z': 285, 'x': 662},\n   'magicResist': 32,\n   'primaryAbilityResourceMax': 320,\n   'armorPenetrationPercentBonus': 0,\n   'summonerSpell1Name': 'SummonerSmite',\n   'attackDamage': 70,\n   'teamID': 100,\n   'championName': 'Skarner',\n   'ccReduction': 0,\n   'armorPenetrationPercent': 0,\n   'currentGold': 500,\n   'playerName': 'Z10 Ryuzaki',\n   'healthRegen': 18,\n   'respawnTimer': 0,\n   'attackSpeed': 110,\n   'shutdownValue': 0,\n   'XP': 0,\n   'ultimateCooldownRemaining': 0,\n   'summonerSpell1CooldownRemaining': 12.96790599822998,\n   'armor': 44,\n   'level': 1,\n   'armorPenetration': 0,\n   'accountID': 2379676522784320,\n   'totalGold': 500,\n   'health': 580,\n   'ultimateName': 'SkarnerImpale',\n   'abilityPower': 0,\n   'stats': [{'value': 0, 'name': 'MINIONS_KILLED'},\n    {'value': 0, 'name': 'NEUTRAL_MINIONS_KILLED'},\n    {'value': 0, 'name': 'NEUTRAL_MINIONS_KILLED_YOUR_JUNGLE'},\n    {'value': 0, 'name': 'NEUTRAL_MINIONS_KILLED_ENEMY_JUNGLE'},\n    {'value': 0, 'name': 'CHAMPIONS_KILLED'},\n    {'value': 0, 'name': 'NUM_DEATHS'},\n    {'value': 0, 'name': 'ASSISTS'},\n    {'value': 0, 'name': 'PERK0'},\n    {'value': 0, 'name': 'PERK0_VAR1'},\n    {'value': 0, 'name': 'PERK0_VAR2'},\n    {'value': 0, 'name': 'PERK0_VAR3'},\n    {'value': 0, 'name': 'PERK1'},\n    {'value': 0, 'name': 'PERK1_VAR1'},\n    {'value': 0, 'name': 'PERK1_VAR2'},\n    {'value': 0, 'name': 'PERK1_VAR3'},\n    {'value': 0, 'name': 'PERK2'},\n    {'value': 0, 'name': 'PERK2_VAR1'},\n    {'value': 0, 'name': 'PERK2_VAR2'},\n    {'value': 0, 'name': 'PERK2_VAR3'},\n    {'value': 0, 'name': 'PERK3'},\n    {'value': 0, 'name': 'PERK3_VAR1'},\n    {'value': 0, 'name': 'PERK3_VAR2'},\n    {'value': 0, 'name': 'PERK3_VAR3'},\n    {'value': 0, 'name': 'PERK4'},\n    {'value': 0, 'name': 'PERK4_VAR1'},\n    {'value': 0, 'name': 'PERK4_VAR2'},\n    {'value': 0, 'name': 'PERK4_VAR3'},\n    {'value': 0, 'name': 'PERK5'},\n    {'value': 0, 'name': 'PERK5_VAR1'},\n    {'value': 0, 'name': 'PERK5_VAR2'},\n    {'value': 0, 'name': 'PERK5_VAR3'},\n    {'value': 0, 'name': 'WARD_PLACED'},\n    {'value': 0, 'name': 'WARD_KILLED'},\n    {'value': 0, 'name': 'VISION_SCORE'},\n    {'value': 0, 'name': 'TOTAL_DAMAGE_DEALT'},\n    {'value': 0, 'name': 'PHYSICAL_DAMAGE_DEALT_PLAYER'},\n    {'value': 0, 'name': 'MAGIC_DAMAGE_DEALT_PLAYER'},\n    {'value': 0, 'name': 'TRUE_DAMAGE_DEALT_PLAYER'},\n    {'value': 0, 'name': 'TOTAL_DAMAGE_DEALT_TO_CHAMPIONS'},\n    {'value': 0, 'name': 'PHYSICAL_DAMAGE_DEALT_TO_CHAMPIONS'},\n    {'value': 0, 'name': 'MAGIC_DAMAGE_DEALT_TO_CHAMPIONS'},\n    {'value': 0, 'name': 'TRUE_DAMAGE_DEALT_TO_CHAMPIONS'},\n    {'value': 0, 'name': 'TOTAL_DAMAGE_TAKEN'},\n    {'value': 0, 'name': 'PHYSICAL_DAMAGE_TAKEN'},\n    {'value': 0, 'name': 'MAGIC_DAMAGE_TAKEN'},\n    {'value': 0, 'name': 'TRUE_DAMAGE_TAKEN'},\n    {'value': 0, 'name': 'TOTAL_DAMAGE_SELF_MITIGATED'},\n    {'value': 0, 'name': 'TOTAL_DAMAGE_SHIELDED_ON_TEAMMATES'},\n    {'value': 0, 'name': 'TOTAL_DAMAGE_DEALT_TO_BUILDINGS'},\n    {'value': 0, 'name': 'TOTAL_DAMAGE_DEALT_TO_TURRETS'},\n    {'value': 0, 'name': 'TOTAL_DAMAGE_DEALT_TO_OBJECTIVES'},\n    {'value': 0, 'name': 'TOTAL_TIME_CROWD_CONTROL_DEALT'},\n    {'value': 0, 'name': 'TOTAL_HEAL_ON_TEAMMATES'},\n    {'value': 0, 'name': 'TIME_CCING_OTHERS'}],\n   'summonerSpell2Name': 'SummonerFlash',\n   'goldPerSecond': 0},\n  {'magicPenetrationPercent': 0,\n   'participantID': 3,\n   'alive': True,\n   'spellVamp': 0,\n   'primaryAbilityResource': 480,\n   'cooldownReduction': 0,\n   'lifeSteal': 0,\n   'primaryAbilityResourceRegen': 16,\n   'magicPenetrationPercentBonus': 0,\n   'magicPenetration': 0,\n   'summonerSpell2CooldownRemaining': 12.96790599822998,\n   'healthMax': 552,\n   'position': {'z': 135, 'x': 362},\n   'magicResist': 38,\n   'primaryAbilityResourceMax': 480,\n   'armorPenetrationPercentBonus': 0,\n   'summonerSpell1Name': 'SummonerTeleport',\n   'attackDamage': 52,\n   'teamID': 100,\n   'championName': 'Azir',\n   'ccReduction': 0,\n   'armorPenetrationPercent': 0,\n   'currentGold': 500,\n   'playerName': 'Z10 Meight',\n   'healthRegen': 14,\n   'respawnTimer': 0,\n   'attackSpeed': 125,\n   'shutdownValue': 0,\n   'XP': 0,\n   'ultimateCooldownRemaining': 0,\n   'summonerSpell1CooldownRemaining': 12.96790599822998,\n   'armor': 19,\n   'level': 1,\n   'armorPenetration': 0,\n   'accountID': 2636053565556448,\n   'totalGold': 500,\n   'health': 552,\n   'ultimateName': 'AzirR',\n   'abilityPower': 9,\n   'stats': [{'value': 0, 'name': 'MINIONS_KILLED'},\n    {'value': 0, 'name': 'NEUTRAL_MINIONS_KILLED'},\n    {'value': 0, 'name': 'NEUTRAL_MINIONS_KILLED_YOUR_JUNGLE'},\n    {'value': 0, 'name': 'NEUTRAL_MINIONS_KILLED_ENEMY_JUNGLE'},\n    {'value': 0, 'name': 'CHAMPIONS_KILLED'},\n    {'value': 0, 'name': 'NUM_DEATHS'},\n    {'value': 0, 'name': 'ASSISTS'},\n    {'value': 0, 'name': 'PERK0'},\n    {'value': 0, 'name': 'PERK0_VAR1'},\n    {'value': 0, 'name': 'PERK0_VAR2'},\n    {'value': 0, 'name': 'PERK0_VAR3'},\n    {'value': 0, 'name': 'PERK1'},\n    {'value': 0, 'name': 'PERK1_VAR1'},\n    {'value': 0, 'name': 'PERK1_VAR2'},\n    {'value': 0, 'name': 'PERK1_VAR3'},\n    {'value': 0, 'name': 'PERK2'},\n    {'value': 0, 'name': 'PERK2_VAR1'},\n    {'value': 0, 'name': 'PERK2_VAR2'},\n    {'value': 0, 'name': 'PERK2_VAR3'},\n    {'value': 0, 'name': 'PERK3'},\n    {'value': 0, 'name': 'PERK3_VAR1'},\n    {'value': 0, 'name': 'PERK3_VAR2'},\n    {'value': 0, 'name': 'PERK3_VAR3'},\n    {'value': 0, 'name': 'PERK4'},\n    {'value': 0, 'name': 'PERK4_VAR1'},\n    {'value': 0, 'name': 'PERK4_VAR2'},\n    {'value': 0, 'name': 'PERK4_VAR3'},\n    {'value': 0, 'name': 'PERK5'},\n    {'value': 0, 'name': 'PERK5_VAR1'},\n    {'value': 0, 'name': 'PERK5_VAR2'},\n    {'value': 0, 'name': 'PERK5_VAR3'},\n    {'value': 0, 'name': 'WARD_PLACED'},\n    {'value': 0, 'name': 'WARD_KILLED'},\n    {'value': 0, 'name': 'VISION_SCORE'},\n    {'value': 0, 'name': 'TOTAL_DAMAGE_DEALT'},\n    {'value': 0, 'name': 'PHYSICAL_DAMAGE_DEALT_PLAYER'},\n    {'value': 0, 'name': 'MAGIC_DAMAGE_DEALT_PLAYER'},\n    {'value': 0, 'name': 'TRUE_DAMAGE_DEALT_PLAYER'},\n    {'value': 0, 'name': 'TOTAL_DAMAGE_DEALT_TO_CHAMPIONS'},\n    {'value': 0, 'name': 'PHYSICAL_DAMAGE_DEALT_TO_CHAMPIONS'},\n    {'value': 0, 'name': 'MAGIC_DAMAGE_DEALT_TO_CHAMPIONS'},\n    {'value': 0, 'name': 'TRUE_DAMAGE_DEALT_TO_CHAMPIONS'},\n    {'value': 0, 'name': 'TOTAL_DAMAGE_TAKEN'},\n    {'value': 0, 'name': 'PHYSICAL_DAMAGE_TAKEN'},\n    {'value': 0, 'name': 'MAGIC_DAMAGE_TAKEN'},\n    {'value': 0, 'name': 'TRUE_DAMAGE_TAKEN'},\n    {'value': 0, 'name': 'TOTAL_DAMAGE_SELF_MITIGATED'},\n    {'value': 0, 'name': 'TOTAL_DAMAGE_SHIELDED_ON_TEAMMATES'},\n    {'value': 0, 'name': 'TOTAL_DAMAGE_DEALT_TO_BUILDINGS'},\n    {'value': 0, 'name': 'TOTAL_DAMAGE_DEALT_TO_TURRETS'},\n    {'value': 0, 'name': 'TOTAL_DAMAGE_DEALT_TO_OBJECTIVES'},\n    {'value': 0, 'name': 'TOTAL_TIME_CROWD_CONTROL_DEALT'},\n    {'value': 0, 'name': 'TOTAL_HEAL_ON_TEAMMATES'},\n    {'value': 0, 'name': 'TIME_CCING_OTHERS'}],\n   'summonerSpell2Name': 'SummonerFlash',\n   'goldPerSecond': 0},\n  {'magicPenetrationPercent': 0,\n   'participantID': 4,\n   'alive': True,\n   'spellVamp': 0,\n   'primaryAbilityResource': 315,\n   'cooldownReduction': 0,\n   'lifeSteal': 0,\n   'primaryAbilityResourceRegen': 14,\n   'magicPenetrationPercentBonus': 0,\n   'magicPenetration': 0,\n   'summonerSpell2CooldownRemaining': 12.96790599822998,\n   'healthMax': 510,\n   'position': {'z': 401, 'x': 130},\n   'magicResist': 30,\n   'primaryAbilityResourceMax': 315,\n   'armorPenetrationPercentBonus': 0,\n   'summonerSpell1Name': 'SummonerHeal',\n   'attackDamage': 67,\n   'teamID': 100,\n   'championName': 'Caitlyn',\n   'ccReduction': 0,\n   'armorPenetrationPercent': 0,\n   'currentGold': 500,\n   'playerName': 'Z10 Khantos',\n   'healthRegen': 7,\n   'respawnTimer': 0,\n   'attackSpeed': 110,\n   'shutdownValue': 0,\n   'XP': 0,\n   'ultimateCooldownRemaining': 0,\n   'summonerSpell1CooldownRemaining': 12.96790599822998,\n   'armor': 34,\n   'level': 1,\n   'armorPenetration': 0,\n   'accountID': 2636065980516064,\n   'totalGold': 500,\n   'health': 510,\n   'ultimateName': 'CaitlynAceintheHole',\n   'abilityPower': 0,\n   'stats': [{'value': 0, 'name': 'MINIONS_KILLED'},\n    {'value': 0, 'name': 'NEUTRAL_MINIONS_KILLED'},\n    {'value': 0, 'name': 'NEUTRAL_MINIONS_KILLED_YOUR_JUNGLE'},\n    {'value': 0, 'name': 'NEUTRAL_MINIONS_KILLED_ENEMY_JUNGLE'},\n    {'value': 0, 'name': 'CHAMPIONS_KILLED'},\n    {'value': 0, 'name': 'NUM_DEATHS'},\n    {'value': 0, 'name': 'ASSISTS'},\n    {'value': 0, 'name': 'PERK0'},\n    {'value': 0, 'name': 'PERK0_VAR1'},\n    {'value': 0, 'name': 'PERK0_VAR2'},\n    {'value': 0, 'name': 'PERK0_VAR3'},\n    {'value': 0, 'name': 'PERK1'},\n    {'value': 0, 'name': 'PERK1_VAR1'},\n    {'value': 0, 'name': 'PERK1_VAR2'},\n    {'value': 0, 'name': 'PERK1_VAR3'},\n    {'value': 0, 'name': 'PERK2'},\n    {'value': 0, 'name': 'PERK2_VAR1'},\n    {'value': 0, 'name': 'PERK2_VAR2'},\n    {'value': 0, 'name': 'PERK2_VAR3'},\n    {'value': 0, 'name': 'PERK3'},\n    {'value': 0, 'name': 'PERK3_VAR1'},\n    {'value': 0, 'name': 'PERK3_VAR2'},\n    {'value': 0, 'name': 'PERK3_VAR3'},\n    {'value': 0, 'name': 'PERK4'},\n    {'value': 0, 'name': 'PERK4_VAR1'},\n    {'value': 0, 'name': 'PERK4_VAR2'},\n    {'value': 0, 'name': 'PERK4_VAR3'},\n    {'value': 0, 'name': 'PERK5'},\n    {'value': 0, 'name': 'PERK5_VAR1'},\n    {'value': 0, 'name': 'PERK5_VAR2'},\n    {'value': 0, 'name': 'PERK5_VAR3'},\n    {'value': 0, 'name': 'WARD_PLACED'},\n    {'value': 0, 'name': 'WARD_KILLED'},\n    {'value': 0, 'name': 'VISION_SCORE'},\n    {'value': 0, 'name': 'TOTAL_DAMAGE_DEALT'},\n    {'value': 0, 'name': 'PHYSICAL_DAMAGE_DEALT_PLAYER'},\n    {'value': 0, 'name': 'MAGIC_DAMAGE_DEALT_PLAYER'},\n    {'value': 0, 'name': 'TRUE_DAMAGE_DEALT_PLAYER'},\n    {'value': 0, 'name': 'TOTAL_DAMAGE_DEALT_TO_CHAMPIONS'},\n    {'value': 0, 'name': 'PHYSICAL_DAMAGE_DEALT_TO_CHAMPIONS'},\n    {'value': 0, 'name': 'MAGIC_DAMAGE_DEALT_TO_CHAMPIONS'},\n    {'value': 0, 'name': 'TRUE_DAMAGE_DEALT_TO_CHAMPIONS'},\n    {'value': 0, 'name': 'TOTAL_DAMAGE_TAKEN'},\n    {'value': 0, 'name': 'PHYSICAL_DAMAGE_TAKEN'},\n    {'value': 0, 'name': 'MAGIC_DAMAGE_TAKEN'},\n    {'value': 0, 'name': 'TRUE_DAMAGE_TAKEN'},\n    {'value': 0, 'name': 'TOTAL_DAMAGE_SELF_MITIGATED'},\n    {'value': 0, 'name': 'TOTAL_DAMAGE_SHIELDED_ON_TEAMMATES'},\n    {'value': 0, 'name': 'TOTAL_DAMAGE_DEALT_TO_BUILDINGS'},\n    {'value': 0, 'name': 'TOTAL_DAMAGE_DEALT_TO_TURRETS'},\n    {'value': 0, 'name': 'TOTAL_DAMAGE_DEALT_TO_OBJECTIVES'},\n    {'value': 0, 'name': 'TOTAL_TIME_CROWD_CONTROL_DEALT'},\n    {'value': 0, 'name': 'TOTAL_HEAL_ON_TEAMMATES'},\n    {'value': 0, 'name': 'TIME_CCING_OTHERS'}],\n   'summonerSpell2Name': 'SummonerFlash',\n   'goldPerSecond': 0},\n  {'magicPenetrationPercent': 0,\n   'participantID': 5,\n   'alive': True,\n   'spellVamp': 0,\n   'primaryAbilityResource': 274,\n   'cooldownReduction': 0,\n   'lifeSteal': 0,\n   'primaryAbilityResourceRegen': 12,\n   'magicPenetrationPercentBonus': 0,\n   'magicPenetration': 0,\n   'summonerSpell2CooldownRemaining': 12.96790599822998,\n   'healthMax': 561,\n   'position': {'z': 675, 'x': 298},\n   'magicResist': 38,\n   'primaryAbilityResourceMax': 274,\n   'armorPenetrationPercentBonus': 0,\n   'summonerSpell1Name': 'SummonerFlash',\n   'attackDamage': 61,\n   'teamID': 100,\n   'championName': 'Thresh',\n   'ccReduction': 10,\n   'armorPenetrationPercent': 0,\n   'currentGold': 500,\n   'playerName': 'Z10 Nikola',\n   'healthRegen': 14,\n   'respawnTimer': 0,\n   'attackSpeed': 100,\n   'shutdownValue': 0,\n   'XP': 0,\n   'ultimateCooldownRemaining': 0,\n   'summonerSpell1CooldownRemaining': 12.96790599822998,\n   'armor': 34,\n   'level': 1,\n   'armorPenetration': 0,\n   'accountID': 2426581637268864,\n   'totalGold': 500,\n   'health': 561,\n   'ultimateName': 'ThreshRPenta',\n   'abilityPower': 0,\n   'stats': [{'value': 0, 'name': 'MINIONS_KILLED'},\n    {'value': 0, 'name': 'NEUTRAL_MINIONS_KILLED'},\n    {'value': 0, 'name': 'NEUTRAL_MINIONS_KILLED_YOUR_JUNGLE'},\n    {'value': 0, 'name': 'NEUTRAL_MINIONS_KILLED_ENEMY_JUNGLE'},\n    {'value': 0, 'name': 'CHAMPIONS_KILLED'},\n    {'value': 0, 'name': 'NUM_DEATHS'},\n    {'value': 0, 'name': 'ASSISTS'},\n    {'value': 0, 'name': 'PERK0'},\n    {'value': 0, 'name': 'PERK0_VAR1'},\n    {'value': 0, 'name': 'PERK0_VAR2'},\n    {'value': 0, 'name': 'PERK0_VAR3'},\n    {'value': 0, 'name': 'PERK1'},\n    {'value': 0, 'name': 'PERK1_VAR1'},\n    {'value': 0, 'name': 'PERK1_VAR2'},\n    {'value': 0, 'name': 'PERK1_VAR3'},\n    {'value': 0, 'name': 'PERK2'},\n    {'value': 0, 'name': 'PERK2_VAR1'},\n    {'value': 0, 'name': 'PERK2_VAR2'},\n    {'value': 0, 'name': 'PERK2_VAR3'},\n    {'value': 0, 'name': 'PERK3'},\n    {'value': 0, 'name': 'PERK3_VAR1'},\n    {'value': 0, 'name': 'PERK3_VAR2'},\n    {'value': 0, 'name': 'PERK3_VAR3'},\n    {'value': 0, 'name': 'PERK4'},\n    {'value': 0, 'name': 'PERK4_VAR1'},\n    {'value': 0, 'name': 'PERK4_VAR2'},\n    {'value': 0, 'name': 'PERK4_VAR3'},\n    {'value': 0, 'name': 'PERK5'},\n    {'value': 0, 'name': 'PERK5_VAR1'},\n    {'value': 0, 'name': 'PERK5_VAR2'},\n    {'value': 0, 'name': 'PERK5_VAR3'},\n    {'value': 0, 'name': 'WARD_PLACED'},\n    {'value': 0, 'name': 'WARD_KILLED'},\n    {'value': 0, 'name': 'VISION_SCORE'},\n    {'value': 0, 'name': 'TOTAL_DAMAGE_DEALT'},\n    {'value': 0, 'name': 'PHYSICAL_DAMAGE_DEALT_PLAYER'},\n    {'value': 0, 'name': 'MAGIC_DAMAGE_DEALT_PLAYER'},\n    {'value': 0, 'name': 'TRUE_DAMAGE_DEALT_PLAYER'},\n    {'value': 0, 'name': 'TOTAL_DAMAGE_DEALT_TO_CHAMPIONS'},\n    {'value': 0, 'name': 'PHYSICAL_DAMAGE_DEALT_TO_CHAMPIONS'},\n    {'value': 0, 'name': 'MAGIC_DAMAGE_DEALT_TO_CHAMPIONS'},\n    {'value': 0, 'name': 'TRUE_DAMAGE_DEALT_TO_CHAMPIONS'},\n    {'value': 0, 'name': 'TOTAL_DAMAGE_TAKEN'},\n    {'value': 0, 'name': 'PHYSICAL_DAMAGE_TAKEN'},\n    {'value': 0, 'name': 'MAGIC_DAMAGE_TAKEN'},\n    {'value': 0, 'name': 'TRUE_DAMAGE_TAKEN'},\n    {'value': 0, 'name': 'TOTAL_DAMAGE_SELF_MITIGATED'},\n    {'value': 0, 'name': 'TOTAL_DAMAGE_SHIELDED_ON_TEAMMATES'},\n    {'value': 0, 'name': 'TOTAL_DAMAGE_DEALT_TO_BUILDINGS'},\n    {'value': 0, 'name': 'TOTAL_DAMAGE_DEALT_TO_TURRETS'},\n    {'value': 0, 'name': 'TOTAL_DAMAGE_DEALT_TO_OBJECTIVES'},\n    {'value': 0, 'name': 'TOTAL_TIME_CROWD_CONTROL_DEALT'},\n    {'value': 0, 'name': 'TOTAL_HEAL_ON_TEAMMATES'},\n    {'value': 0, 'name': 'TIME_CCING_OTHERS'}],\n   'summonerSpell2Name': 'SummonerDot',\n   'goldPerSecond': 0},\n  {'magicPenetrationPercent': 0,\n   'participantID': 6,\n   'alive': True,\n   'spellVamp': 0,\n   'primaryAbilityResource': 330,\n   'cooldownReduction': 0,\n   'lifeSteal': 0,\n   'primaryAbilityResourceRegen': 16,\n   'magicPenetrationPercentBonus': 0,\n   'magicPenetration': 0,\n   'summonerSpell2CooldownRemaining': 12.96790599822998,\n   'healthMax': 545,\n   'position': {'z': 14195, 'x': 14103},\n   'magicResist': 32,\n   'primaryAbilityResourceMax': 330,\n   'armorPenetrationPercentBonus': 0,\n   'summonerSpell1Name': 'SummonerFlash',\n   'attackDamage': 78,\n   'teamID': 200,\n   'championName': 'Sion',\n   'ccReduction': 0,\n   'armorPenetrationPercent': 0,\n   'currentGold': 500,\n   'playerName': 'C4 Zeiko',\n   'healthRegen': 15,\n   'respawnTimer': 0,\n   'attackSpeed': 100,\n   'shutdownValue': 0,\n   'XP': 0,\n   'ultimateCooldownRemaining': 0,\n   'summonerSpell1CooldownRemaining': 12.96790599822998,\n   'armor': 38,\n   'level': 1,\n   'armorPenetration': 0,\n   'accountID': 2636053698062048,\n   'totalGold': 500,\n   'health': 545,\n   'ultimateName': 'SionR',\n   'abilityPower': 0,\n   'stats': [{'value': 0, 'name': 'MINIONS_KILLED'},\n    {'value': 0, 'name': 'NEUTRAL_MINIONS_KILLED'},\n    {'value': 0, 'name': 'NEUTRAL_MINIONS_KILLED_YOUR_JUNGLE'},\n    {'value': 0, 'name': 'NEUTRAL_MINIONS_KILLED_ENEMY_JUNGLE'},\n    {'value': 0, 'name': 'CHAMPIONS_KILLED'},\n    {'value': 0, 'name': 'NUM_DEATHS'},\n    {'value': 0, 'name': 'ASSISTS'},\n    {'value': 0, 'name': 'PERK0'},\n    {'value': 0, 'name': 'PERK0_VAR1'},\n    {'value': 0, 'name': 'PERK0_VAR2'},\n    {'value': 0, 'name': 'PERK0_VAR3'},\n    {'value': 0, 'name': 'PERK1'},\n    {'value': 0, 'name': 'PERK1_VAR1'},\n    {'value': 0, 'name': 'PERK1_VAR2'},\n    {'value': 0, 'name': 'PERK1_VAR3'},\n    {'value': 0, 'name': 'PERK2'},\n    {'value': 0, 'name': 'PERK2_VAR1'},\n    {'value': 0, 'name': 'PERK2_VAR2'},\n    {'value': 0, 'name': 'PERK2_VAR3'},\n    {'value': 0, 'name': 'PERK3'},\n    {'value': 0, 'name': 'PERK3_VAR1'},\n    {'value': 0, 'name': 'PERK3_VAR2'},\n    {'value': 0, 'name': 'PERK3_VAR3'},\n    {'value': 0, 'name': 'PERK4'},\n    {'value': 0, 'name': 'PERK4_VAR1'},\n    {'value': 0, 'name': 'PERK4_VAR2'},\n    {'value': 0, 'name': 'PERK4_VAR3'},\n    {'value': 0, 'name': 'PERK5'},\n    {'value': 0, 'name': 'PERK5_VAR1'},\n    {'value': 0, 'name': 'PERK5_VAR2'},\n    {'value': 0, 'name': 'PERK5_VAR3'},\n    {'value': 0, 'name': 'WARD_PLACED'},\n    {'value': 0, 'name': 'WARD_KILLED'},\n    {'value': 0, 'name': 'VISION_SCORE'},\n    {'value': 0, 'name': 'TOTAL_DAMAGE_DEALT'},\n    {'value': 0, 'name': 'PHYSICAL_DAMAGE_DEALT_PLAYER'},\n    {'value': 0, 'name': 'MAGIC_DAMAGE_DEALT_PLAYER'},\n    {'value': 0, 'name': 'TRUE_DAMAGE_DEALT_PLAYER'},\n    {'value': 0, 'name': 'TOTAL_DAMAGE_DEALT_TO_CHAMPIONS'},\n    {'value': 0, 'name': 'PHYSICAL_DAMAGE_DEALT_TO_CHAMPIONS'},\n    {'value': 0, 'name': 'MAGIC_DAMAGE_DEALT_TO_CHAMPIONS'},\n    {'value': 0, 'name': 'TRUE_DAMAGE_DEALT_TO_CHAMPIONS'},\n    {'value': 0, 'name': 'TOTAL_DAMAGE_TAKEN'},\n    {'value': 0, 'name': 'PHYSICAL_DAMAGE_TAKEN'},\n    {'value': 0, 'name': 'MAGIC_DAMAGE_TAKEN'},\n    {'value': 0, 'name': 'TRUE_DAMAGE_TAKEN'},\n    {'value': 0, 'name': 'TOTAL_DAMAGE_SELF_MITIGATED'},\n    {'value': 0, 'name': 'TOTAL_DAMAGE_SHIELDED_ON_TEAMMATES'},\n    {'value': 0, 'name': 'TOTAL_DAMAGE_DEALT_TO_BUILDINGS'},\n    {'value': 0, 'name': 'TOTAL_DAMAGE_DEALT_TO_TURRETS'},\n    {'value': 0, 'name': 'TOTAL_DAMAGE_DEALT_TO_OBJECTIVES'},\n    {'value': 0, 'name': 'TOTAL_TIME_CROWD_CONTROL_DEALT'},\n    {'value': 0, 'name': 'TOTAL_HEAL_ON_TEAMMATES'},\n    {'value': 0, 'name': 'TIME_CCING_OTHERS'}],\n   'summonerSpell2Name': 'SummonerTeleport',\n   'goldPerSecond': 0},\n  {'magicPenetrationPercent': 0,\n   'participantID': 7,\n   'alive': True,\n   'spellVamp': 0,\n   'primaryAbilityResource': 410,\n   'cooldownReduction': 0,\n   'lifeSteal': 0,\n   'primaryAbilityResourceRegen': 23,\n   'magicPenetrationPercentBonus': 0,\n   'magicPenetration': 0,\n   'summonerSpell2CooldownRemaining': 12.96790599822998,\n   'healthMax': 580,\n   'position': {'z': 14170, 'x': 14426},\n   'magicResist': 32,\n   'primaryAbilityResourceMax': 410,\n   'armorPenetrationPercentBonus': 0,\n   'summonerSpell1Name': 'SummonerFlash',\n   'attackDamage': 61,\n   'teamID': 200,\n   'championName': 'Lillia',\n   'ccReduction': 0,\n   'armorPenetrationPercent': 0,\n   'currentGold': 500,\n   'playerName': 'C4 OmulFinn',\n   'healthRegen': 18,\n   'respawnTimer': 0,\n   'attackSpeed': 110,\n   'shutdownValue': 0,\n   'XP': 0,\n   'ultimateCooldownRemaining': 0,\n   'summonerSpell1CooldownRemaining': 12.96790599822998,\n   'armor': 26,\n   'level': 1,\n   'armorPenetration': 0,\n   'accountID': 2636054190139104,\n   'totalGold': 500,\n   'health': 580,\n   'ultimateName': 'LilliaR',\n   'abilityPower': 9,\n   'stats': [{'value': 0, 'name': 'MINIONS_KILLED'},\n    {'value': 0, 'name': 'NEUTRAL_MINIONS_KILLED'},\n    {'value': 0, 'name': 'NEUTRAL_MINIONS_KILLED_YOUR_JUNGLE'},\n    {'value': 0, 'name': 'NEUTRAL_MINIONS_KILLED_ENEMY_JUNGLE'},\n    {'value': 0, 'name': 'CHAMPIONS_KILLED'},\n    {'value': 0, 'name': 'NUM_DEATHS'},\n    {'value': 0, 'name': 'ASSISTS'},\n    {'value': 0, 'name': 'PERK0'},\n    {'value': 0, 'name': 'PERK0_VAR1'},\n    {'value': 0, 'name': 'PERK0_VAR2'},\n    {'value': 0, 'name': 'PERK0_VAR3'},\n    {'value': 0, 'name': 'PERK1'},\n    {'value': 0, 'name': 'PERK1_VAR1'},\n    {'value': 0, 'name': 'PERK1_VAR2'},\n    {'value': 0, 'name': 'PERK1_VAR3'},\n    {'value': 0, 'name': 'PERK2'},\n    {'value': 0, 'name': 'PERK2_VAR1'},\n    {'value': 0, 'name': 'PERK2_VAR2'},\n    {'value': 0, 'name': 'PERK2_VAR3'},\n    {'value': 0, 'name': 'PERK3'},\n    {'value': 0, 'name': 'PERK3_VAR1'},\n    {'value': 0, 'name': 'PERK3_VAR2'},\n    {'value': 0, 'name': 'PERK3_VAR3'},\n    {'value': 0, 'name': 'PERK4'},\n    {'value': 0, 'name': 'PERK4_VAR1'},\n    {'value': 0, 'name': 'PERK4_VAR2'},\n    {'value': 0, 'name': 'PERK4_VAR3'},\n    {'value': 0, 'name': 'PERK5'},\n    {'value': 0, 'name': 'PERK5_VAR1'},\n    {'value': 0, 'name': 'PERK5_VAR2'},\n    {'value': 0, 'name': 'PERK5_VAR3'},\n    {'value': 0, 'name': 'WARD_PLACED'},\n    {'value': 0, 'name': 'WARD_KILLED'},\n    {'value': 0, 'name': 'VISION_SCORE'},\n    {'value': 0, 'name': 'TOTAL_DAMAGE_DEALT'},\n    {'value': 0, 'name': 'PHYSICAL_DAMAGE_DEALT_PLAYER'},\n    {'value': 0, 'name': 'MAGIC_DAMAGE_DEALT_PLAYER'},\n    {'value': 0, 'name': 'TRUE_DAMAGE_DEALT_PLAYER'},\n    {'value': 0, 'name': 'TOTAL_DAMAGE_DEALT_TO_CHAMPIONS'},\n    {'value': 0, 'name': 'PHYSICAL_DAMAGE_DEALT_TO_CHAMPIONS'},\n    {'value': 0, 'name': 'MAGIC_DAMAGE_DEALT_TO_CHAMPIONS'},\n    {'value': 0, 'name': 'TRUE_DAMAGE_DEALT_TO_CHAMPIONS'},\n    {'value': 0, 'name': 'TOTAL_DAMAGE_TAKEN'},\n    {'value': 0, 'name': 'PHYSICAL_DAMAGE_TAKEN'},\n    {'value': 0, 'name': 'MAGIC_DAMAGE_TAKEN'},\n    {'value': 0, 'name': 'TRUE_DAMAGE_TAKEN'},\n    {'value': 0, 'name': 'TOTAL_DAMAGE_SELF_MITIGATED'},\n    {'value': 0, 'name': 'TOTAL_DAMAGE_SHIELDED_ON_TEAMMATES'},\n    {'value': 0, 'name': 'TOTAL_DAMAGE_DEALT_TO_BUILDINGS'},\n    {'value': 0, 'name': 'TOTAL_DAMAGE_DEALT_TO_TURRETS'},\n    {'value': 0, 'name': 'TOTAL_DAMAGE_DEALT_TO_OBJECTIVES'},\n    {'value': 0, 'name': 'TOTAL_TIME_CROWD_CONTROL_DEALT'},\n    {'value': 0, 'name': 'TOTAL_HEAL_ON_TEAMMATES'},\n    {'value': 0, 'name': 'TIME_CCING_OTHERS'}],\n   'summonerSpell2Name': 'SummonerSmite',\n   'goldPerSecond': 0},\n  {'magicPenetrationPercent': 0,\n   'participantID': 8,\n   'alive': True,\n   'spellVamp': 0,\n   'primaryAbilityResource': 374,\n   'cooldownReduction': 0,\n   'lifeSteal': 0,\n   'primaryAbilityResourceRegen': 26,\n   'magicPenetrationPercentBonus': 0,\n   'magicPenetration': 0,\n   'summonerSpell2CooldownRemaining': 12.96790599822998,\n   'healthMax': 534,\n   'position': {'z': 14673, 'x': 14321},\n   'magicResist': 38,\n   'primaryAbilityResourceMax': 374,\n   'armorPenetrationPercentBonus': 0,\n   'summonerSpell1Name': 'SummonerTeleport',\n   'attackDamage': 54,\n   'teamID': 200,\n   'championName': 'Karma',\n   'ccReduction': 0,\n   'armorPenetrationPercent': 0,\n   'currentGold': 500,\n   'playerName': 'C4 Jacob',\n   'healthRegen': 11,\n   'respawnTimer': 0,\n   'attackSpeed': 110,\n   'shutdownValue': 0,\n   'XP': 0,\n   'ultimateCooldownRemaining': 0,\n   'summonerSpell1CooldownRemaining': 12.96790599822998,\n   'armor': 26,\n   'level': 1,\n   'armorPenetration': 0,\n   'accountID': 2665315577996544,\n   'totalGold': 500,\n   'health': 534,\n   'ultimateName': 'KarmaMantra',\n   'abilityPower': 9,\n   'stats': [{'value': 0, 'name': 'MINIONS_KILLED'},\n    {'value': 0, 'name': 'NEUTRAL_MINIONS_KILLED'},\n    {'value': 0, 'name': 'NEUTRAL_MINIONS_KILLED_YOUR_JUNGLE'},\n    {'value': 0, 'name': 'NEUTRAL_MINIONS_KILLED_ENEMY_JUNGLE'},\n    {'value': 0, 'name': 'CHAMPIONS_KILLED'},\n    {'value': 0, 'name': 'NUM_DEATHS'},\n    {'value': 0, 'name': 'ASSISTS'},\n    {'value': 0, 'name': 'PERK0'},\n    {'value': 0, 'name': 'PERK0_VAR1'},\n    {'value': 0, 'name': 'PERK0_VAR2'},\n    {'value': 0, 'name': 'PERK0_VAR3'},\n    {'value': 0, 'name': 'PERK1'},\n    {'value': 0, 'name': 'PERK1_VAR1'},\n    {'value': 0, 'name': 'PERK1_VAR2'},\n    {'value': 0, 'name': 'PERK1_VAR3'},\n    {'value': 0, 'name': 'PERK2'},\n    {'value': 0, 'name': 'PERK2_VAR1'},\n    {'value': 0, 'name': 'PERK2_VAR2'},\n    {'value': 0, 'name': 'PERK2_VAR3'},\n    {'value': 0, 'name': 'PERK3'},\n    {'value': 0, 'name': 'PERK3_VAR1'},\n    {'value': 0, 'name': 'PERK3_VAR2'},\n    {'value': 0, 'name': 'PERK3_VAR3'},\n    {'value': 0, 'name': 'PERK4'},\n    {'value': 0, 'name': 'PERK4_VAR1'},\n    {'value': 0, 'name': 'PERK4_VAR2'},\n    {'value': 0, 'name': 'PERK4_VAR3'},\n    {'value': 0, 'name': 'PERK5'},\n    {'value': 0, 'name': 'PERK5_VAR1'},\n    {'value': 0, 'name': 'PERK5_VAR2'},\n    {'value': 0, 'name': 'PERK5_VAR3'},\n    {'value': 0, 'name': 'WARD_PLACED'},\n    {'value': 0, 'name': 'WARD_KILLED'},\n    {'value': 0, 'name': 'VISION_SCORE'},\n    {'value': 0, 'name': 'TOTAL_DAMAGE_DEALT'},\n    {'value': 0, 'name': 'PHYSICAL_DAMAGE_DEALT_PLAYER'},\n    {'value': 0, 'name': 'MAGIC_DAMAGE_DEALT_PLAYER'},\n    {'value': 0, 'name': 'TRUE_DAMAGE_DEALT_PLAYER'},\n    {'value': 0, 'name': 'TOTAL_DAMAGE_DEALT_TO_CHAMPIONS'},\n    {'value': 0, 'name': 'PHYSICAL_DAMAGE_DEALT_TO_CHAMPIONS'},\n    {'value': 0, 'name': 'MAGIC_DAMAGE_DEALT_TO_CHAMPIONS'},\n    {'value': 0, 'name': 'TRUE_DAMAGE_DEALT_TO_CHAMPIONS'},\n    {'value': 0, 'name': 'TOTAL_DAMAGE_TAKEN'},\n    {'value': 0, 'name': 'PHYSICAL_DAMAGE_TAKEN'},\n    {'value': 0, 'name': 'MAGIC_DAMAGE_TAKEN'},\n    {'value': 0, 'name': 'TRUE_DAMAGE_TAKEN'},\n    {'value': 0, 'name': 'TOTAL_DAMAGE_SELF_MITIGATED'},\n    {'value': 0, 'name': 'TOTAL_DAMAGE_SHIELDED_ON_TEAMMATES'},\n    {'value': 0, 'name': 'TOTAL_DAMAGE_DEALT_TO_BUILDINGS'},\n    {'value': 0, 'name': 'TOTAL_DAMAGE_DEALT_TO_TURRETS'},\n    {'value': 0, 'name': 'TOTAL_DAMAGE_DEALT_TO_OBJECTIVES'},\n    {'value': 0, 'name': 'TOTAL_TIME_CROWD_CONTROL_DEALT'},\n    {'value': 0, 'name': 'TOTAL_HEAL_ON_TEAMMATES'},\n    {'value': 0, 'name': 'TIME_CCING_OTHERS'}],\n   'summonerSpell2Name': 'SummonerFlash',\n   'goldPerSecond': 0},\n  {'magicPenetrationPercent': 0,\n   'participantID': 9,\n   'alive': True,\n   'spellVamp': 0,\n   'primaryAbilityResource': 300,\n   'cooldownReduction': 0,\n   'lifeSteal': 0,\n   'primaryAbilityResourceRegen': 12,\n   'magicPenetrationPercentBonus': 0,\n   'magicPenetration': 0,\n   'summonerSpell2CooldownRemaining': 12.96790599822998,\n   'healthMax': 585,\n   'position': {'z': 14454, 'x': 14589},\n   'magicResist': 30,\n   'primaryAbilityResourceMax': 300,\n   'armorPenetrationPercentBonus': 0,\n   'summonerSpell1Name': 'SummonerFlash',\n   'attackDamage': 72,\n   'teamID': 200,\n   'championName': 'Jhin',\n   'ccReduction': 0,\n   'armorPenetrationPercent': 0,\n   'currentGold': 500,\n   'playerName': 'C4 Paladin',\n   'healthRegen': 7,\n   'respawnTimer': 0,\n   'attackSpeed': 100,\n   'shutdownValue': 0,\n   'XP': 0,\n   'ultimateCooldownRemaining': 0,\n   'summonerSpell1CooldownRemaining': 12.96790599822998,\n   'armor': 30,\n   'level': 1,\n   'armorPenetration': 0,\n   'accountID': 2636055193552608,\n   'totalGold': 500,\n   'health': 585,\n   'ultimateName': 'JhinR',\n   'abilityPower': 0,\n   'stats': [{'value': 0, 'name': 'MINIONS_KILLED'},\n    {'value': 0, 'name': 'NEUTRAL_MINIONS_KILLED'},\n    {'value': 0, 'name': 'NEUTRAL_MINIONS_KILLED_YOUR_JUNGLE'},\n    {'value': 0, 'name': 'NEUTRAL_MINIONS_KILLED_ENEMY_JUNGLE'},\n    {'value': 0, 'name': 'CHAMPIONS_KILLED'},\n    {'value': 0, 'name': 'NUM_DEATHS'},\n    {'value': 0, 'name': 'ASSISTS'},\n    {'value': 0, 'name': 'PERK0'},\n    {'value': 0, 'name': 'PERK0_VAR1'},\n    {'value': 0, 'name': 'PERK0_VAR2'},\n    {'value': 0, 'name': 'PERK0_VAR3'},\n    {'value': 0, 'name': 'PERK1'},\n    {'value': 0, 'name': 'PERK1_VAR1'},\n    {'value': 0, 'name': 'PERK1_VAR2'},\n    {'value': 0, 'name': 'PERK1_VAR3'},\n    {'value': 0, 'name': 'PERK2'},\n    {'value': 0, 'name': 'PERK2_VAR1'},\n    {'value': 0, 'name': 'PERK2_VAR2'},\n    {'value': 0, 'name': 'PERK2_VAR3'},\n    {'value': 0, 'name': 'PERK3'},\n    {'value': 0, 'name': 'PERK3_VAR1'},\n    {'value': 0, 'name': 'PERK3_VAR2'},\n    {'value': 0, 'name': 'PERK3_VAR3'},\n    {'value': 0, 'name': 'PERK4'},\n    {'value': 0, 'name': 'PERK4_VAR1'},\n    {'value': 0, 'name': 'PERK4_VAR2'},\n    {'value': 0, 'name': 'PERK4_VAR3'},\n    {'value': 0, 'name': 'PERK5'},\n    {'value': 0, 'name': 'PERK5_VAR1'},\n    {'value': 0, 'name': 'PERK5_VAR2'},\n    {'value': 0, 'name': 'PERK5_VAR3'},\n    {'value': 0, 'name': 'WARD_PLACED'},\n    {'value': 0, 'name': 'WARD_KILLED'},\n    {'value': 0, 'name': 'VISION_SCORE'},\n    {'value': 0, 'name': 'TOTAL_DAMAGE_DEALT'},\n    {'value': 0, 'name': 'PHYSICAL_DAMAGE_DEALT_PLAYER'},\n    {'value': 0, 'name': 'MAGIC_DAMAGE_DEALT_PLAYER'},\n    {'value': 0, 'name': 'TRUE_DAMAGE_DEALT_PLAYER'},\n    {'value': 0, 'name': 'TOTAL_DAMAGE_DEALT_TO_CHAMPIONS'},\n    {'value': 0, 'name': 'PHYSICAL_DAMAGE_DEALT_TO_CHAMPIONS'},\n    {'value': 0, 'name': 'MAGIC_DAMAGE_DEALT_TO_CHAMPIONS'},\n    {'value': 0, 'name': 'TRUE_DAMAGE_DEALT_TO_CHAMPIONS'},\n    {'value': 0, 'name': 'TOTAL_DAMAGE_TAKEN'},\n    {'value': 0, 'name': 'PHYSICAL_DAMAGE_TAKEN'},\n    {'value': 0, 'name': 'MAGIC_DAMAGE_TAKEN'},\n    {'value': 0, 'name': 'TRUE_DAMAGE_TAKEN'},\n    {'value': 0, 'name': 'TOTAL_DAMAGE_SELF_MITIGATED'},\n    {'value': 0, 'name': 'TOTAL_DAMAGE_SHIELDED_ON_TEAMMATES'},\n    {'value': 0, 'name': 'TOTAL_DAMAGE_DEALT_TO_BUILDINGS'},\n    {'value': 0, 'name': 'TOTAL_DAMAGE_DEALT_TO_TURRETS'},\n    {'value': 0, 'name': 'TOTAL_DAMAGE_DEALT_TO_OBJECTIVES'},\n    {'value': 0, 'name': 'TOTAL_TIME_CROWD_CONTROL_DEALT'},\n    {'value': 0, 'name': 'TOTAL_HEAL_ON_TEAMMATES'},\n    {'value': 0, 'name': 'TIME_CCING_OTHERS'}],\n   'summonerSpell2Name': 'SummonerHeal',\n   'goldPerSecond': 0},\n  {'magicPenetrationPercent': 0,\n   'participantID': 10,\n   'alive': True,\n   'spellVamp': 0,\n   'primaryAbilityResource': 340,\n   'cooldownReduction': 0,\n   'lifeSteal': 0,\n   'primaryAbilityResourceRegen': 22,\n   'magicPenetrationPercentBonus': 0,\n   'magicPenetration': 0,\n   'summonerSpell2CooldownRemaining': 12.96790599822998,\n   'healthMax': 560,\n   'position': {'z': 14493, 'x': 14055},\n   'magicResist': 30,\n   'primaryAbilityResourceMax': 340,\n   'armorPenetrationPercentBonus': 0,\n   'summonerSpell1Name': 'SummonerDot',\n   'attackDamage': 56,\n   'teamID': 200,\n   'championName': 'Morgana',\n   'ccReduction': 0,\n   'armorPenetrationPercent': 0,\n   'currentGold': 500,\n   'playerName': 'C4 Unlucky',\n   'healthRegen': 11,\n   'respawnTimer': 0,\n   'attackSpeed': 100,\n   'shutdownValue': 0,\n   'XP': 0,\n   'ultimateCooldownRemaining': 0,\n   'summonerSpell1CooldownRemaining': 12.96790599822998,\n   'armor': 31,\n   'level': 1,\n   'armorPenetration': 0,\n   'accountID': 2636054365275872,\n   'totalGold': 500,\n   'health': 560,\n   'ultimateName': 'MorganaR',\n   'abilityPower': 9,\n   'items': [{'itemID': 2419, 'itemCooldown': 837.9678955078125}],\n   'stats': [{'value': 0, 'name': 'MINIONS_KILLED'},\n    {'value': 0, 'name': 'NEUTRAL_MINIONS_KILLED'},\n    {'value': 0, 'name': 'NEUTRAL_MINIONS_KILLED_YOUR_JUNGLE'},\n    {'value': 0, 'name': 'NEUTRAL_MINIONS_KILLED_ENEMY_JUNGLE'},\n    {'value': 0, 'name': 'CHAMPIONS_KILLED'},\n    {'value': 0, 'name': 'NUM_DEATHS'},\n    {'value': 0, 'name': 'ASSISTS'},\n    {'value': 0, 'name': 'PERK0'},\n    {'value': 0, 'name': 'PERK0_VAR1'},\n    {'value': 0, 'name': 'PERK0_VAR2'},\n    {'value': 0, 'name': 'PERK0_VAR3'},\n    {'value': 0, 'name': 'PERK1'},\n    {'value': 0, 'name': 'PERK1_VAR1'},\n    {'value': 0, 'name': 'PERK1_VAR2'},\n    {'value': 0, 'name': 'PERK1_VAR3'},\n    {'value': 0, 'name': 'PERK2'},\n    {'value': 0, 'name': 'PERK2_VAR1'},\n    {'value': 0, 'name': 'PERK2_VAR2'},\n    {'value': 0, 'name': 'PERK2_VAR3'},\n    {'value': 0, 'name': 'PERK3'},\n    {'value': 0, 'name': 'PERK3_VAR1'},\n    {'value': 0, 'name': 'PERK3_VAR2'},\n    {'value': 0, 'name': 'PERK3_VAR3'},\n    {'value': 0, 'name': 'PERK4'},\n    {'value': 0, 'name': 'PERK4_VAR1'},\n    {'value': 0, 'name': 'PERK4_VAR2'},\n    {'value': 0, 'name': 'PERK4_VAR3'},\n    {'value': 0, 'name': 'PERK5'},\n    {'value': 0, 'name': 'PERK5_VAR1'},\n    {'value': 0, 'name': 'PERK5_VAR2'},\n    {'value': 0, 'name': 'PERK5_VAR3'},\n    {'value': 0, 'name': 'WARD_PLACED'},\n    {'value': 0, 'name': 'WARD_KILLED'},\n    {'value': 0, 'name': 'VISION_SCORE'},\n    {'value': 0, 'name': 'TOTAL_DAMAGE_DEALT'},\n    {'value': 0, 'name': 'PHYSICAL_DAMAGE_DEALT_PLAYER'},\n    {'value': 0, 'name': 'MAGIC_DAMAGE_DEALT_PLAYER'},\n    {'value': 0, 'name': 'TRUE_DAMAGE_DEALT_PLAYER'},\n    {'value': 0, 'name': 'TOTAL_DAMAGE_DEALT_TO_CHAMPIONS'},\n    {'value': 0, 'name': 'PHYSICAL_DAMAGE_DEALT_TO_CHAMPIONS'},\n    {'value': 0, 'name': 'MAGIC_DAMAGE_DEALT_TO_CHAMPIONS'},\n    {'value': 0, 'name': 'TRUE_DAMAGE_DEALT_TO_CHAMPIONS'},\n    {'value': 0, 'name': 'TOTAL_DAMAGE_TAKEN'},\n    {'value': 0, 'name': 'PHYSICAL_DAMAGE_TAKEN'},\n    {'value': 0, 'name': 'MAGIC_DAMAGE_TAKEN'},\n    {'value': 0, 'name': 'TRUE_DAMAGE_TAKEN'},\n    {'value': 0, 'name': 'TOTAL_DAMAGE_SELF_MITIGATED'},\n    {'value': 0, 'name': 'TOTAL_DAMAGE_SHIELDED_ON_TEAMMATES'},\n    {'value': 0, 'name': 'TOTAL_DAMAGE_DEALT_TO_BUILDINGS'},\n    {'value': 0, 'name': 'TOTAL_DAMAGE_DEALT_TO_TURRETS'},\n    {'value': 0, 'name': 'TOTAL_DAMAGE_DEALT_TO_OBJECTIVES'},\n    {'value': 0, 'name': 'TOTAL_TIME_CROWD_CONTROL_DEALT'},\n    {'value': 0, 'name': 'TOTAL_HEAL_ON_TEAMMATES'},\n    {'value': 0, 'name': 'TIME_CCING_OTHERS'}],\n   'summonerSpell2Name': 'SummonerFlash',\n   'goldPerSecond': 0}],\n 'stageID': 1,\n 'gameOver': False,\n 'sequenceIndex': 16,\n 'gameName': '105596416965466996|game1',\n 'teams': [{'inhibKills': 0,\n   'towerKills': 0,\n   'teamID': 100,\n   'baronKills': 0,\n   'dragonKills': 0,\n   'assists': 0,\n   'totalGold': 2500,\n   'championsKills': 0,\n   'deaths': 0},\n  {'inhibKills': 0,\n   'towerKills': 0,\n   'teamID': 200,\n   'baronKills': 0,\n   'dragonKills': 0,\n   'assists': 0,\n   'totalGold': 2500,\n   'championsKills': 0,\n   'deaths': 0}],\n 'playbackID': 1}"
     },
     "execution_count": 38,
     "metadata": {},
     "output_type": "execute_result"
    }
   ],
   "source": [
    "game_data[5]"
   ],
   "metadata": {
    "collapsed": false,
    "ExecuteTime": {
     "end_time": "2023-09-03T00:01:58.800367700Z",
     "start_time": "2023-09-03T00:01:58.775671100Z"
    }
   },
   "id": "37530486316edcb6"
  },
  {
   "cell_type": "code",
   "execution_count": 44,
   "outputs": [
    {
     "data": {
      "text/plain": "{'eventTime': '2021-03-08T18:06:39.006Z',\n 'eventType': 'stats_update',\n 'platformGameId': 'ESPORTSTMNT04:1610258',\n 'gameTime': 57215,\n 'participants': [{'magicPenetrationPercent': 0,\n   'alive': True,\n   'participantID': 1,\n   'spellVamp': 0,\n   'primaryAbilityResource': 340,\n   'cooldownReduction': 0,\n   'lifeSteal': 0,\n   'primaryAbilityResourceRegen': 16,\n   'magicPenetrationPercentBonus': 0,\n   'magicPenetration': 0,\n   'summonerSpell2CooldownRemaining': 0,\n   'healthMax': 678,\n   'position': {'z': 10959, 'x': 3022},\n   'magicResist': 32,\n   'primaryAbilityResourceMax': 340,\n   'armorPenetrationPercentBonus': 0,\n   'summonerSpell1Name': 'SummonerFlash',\n   'attackDamage': 79,\n   'teamID': 100,\n   'championName': 'Ornn',\n   'ccReduction': 0,\n   'armorPenetrationPercent': 0,\n   'currentGold': 0,\n   'playerName': 'Z10 Kaylem',\n   'healthRegen': 30,\n   'respawnTimer': 0,\n   'attackSpeed': 100,\n   'shutdownValue': 0,\n   'XP': 0,\n   'ultimateCooldownRemaining': 0,\n   'summonerSpell1CooldownRemaining': 0,\n   'armor': 39,\n   'level': 1,\n   'armorPenetration': 0,\n   'accountID': 2481962886014624,\n   'totalGold': 500,\n   'health': 678,\n   'ultimateName': 'OrnnR',\n   'abilityPower': 0,\n   'items': [{'itemID': 1054, 'itemCooldown': 0},\n    {'itemID': 2003, 'itemCooldown': 0},\n    {'itemID': 3340, 'itemCooldown': 0}],\n   'stats': [{'value': 0, 'name': 'MINIONS_KILLED'},\n    {'value': 0, 'name': 'NEUTRAL_MINIONS_KILLED'},\n    {'value': 0, 'name': 'NEUTRAL_MINIONS_KILLED_YOUR_JUNGLE'},\n    {'value': 0, 'name': 'NEUTRAL_MINIONS_KILLED_ENEMY_JUNGLE'},\n    {'value': 0, 'name': 'CHAMPIONS_KILLED'},\n    {'value': 0, 'name': 'NUM_DEATHS'},\n    {'value': 0, 'name': 'ASSISTS'},\n    {'value': 0, 'name': 'PERK0'},\n    {'value': 0, 'name': 'PERK0_VAR1'},\n    {'value': 0, 'name': 'PERK0_VAR2'},\n    {'value': 0, 'name': 'PERK0_VAR3'},\n    {'value': 0, 'name': 'PERK1'},\n    {'value': 0, 'name': 'PERK1_VAR1'},\n    {'value': 0, 'name': 'PERK1_VAR2'},\n    {'value': 0, 'name': 'PERK1_VAR3'},\n    {'value': 0, 'name': 'PERK2'},\n    {'value': 0, 'name': 'PERK2_VAR1'},\n    {'value': 0, 'name': 'PERK2_VAR2'},\n    {'value': 0, 'name': 'PERK2_VAR3'},\n    {'value': 0, 'name': 'PERK3'},\n    {'value': 0, 'name': 'PERK3_VAR1'},\n    {'value': 0, 'name': 'PERK3_VAR2'},\n    {'value': 0, 'name': 'PERK3_VAR3'},\n    {'value': 0, 'name': 'PERK4'},\n    {'value': 0, 'name': 'PERK4_VAR1'},\n    {'value': 0, 'name': 'PERK4_VAR2'},\n    {'value': 0, 'name': 'PERK4_VAR3'},\n    {'value': 0, 'name': 'PERK5'},\n    {'value': 0, 'name': 'PERK5_VAR1'},\n    {'value': 0, 'name': 'PERK5_VAR2'},\n    {'value': 0, 'name': 'PERK5_VAR3'},\n    {'value': 0, 'name': 'WARD_PLACED'},\n    {'value': 0, 'name': 'WARD_KILLED'},\n    {'value': 0, 'name': 'VISION_SCORE'},\n    {'value': 0, 'name': 'TOTAL_DAMAGE_DEALT'},\n    {'value': 0, 'name': 'PHYSICAL_DAMAGE_DEALT_PLAYER'},\n    {'value': 0, 'name': 'MAGIC_DAMAGE_DEALT_PLAYER'},\n    {'value': 0, 'name': 'TRUE_DAMAGE_DEALT_PLAYER'},\n    {'value': 0, 'name': 'TOTAL_DAMAGE_DEALT_TO_CHAMPIONS'},\n    {'value': 0, 'name': 'PHYSICAL_DAMAGE_DEALT_TO_CHAMPIONS'},\n    {'value': 0, 'name': 'MAGIC_DAMAGE_DEALT_TO_CHAMPIONS'},\n    {'value': 0, 'name': 'TRUE_DAMAGE_DEALT_TO_CHAMPIONS'},\n    {'value': 0, 'name': 'TOTAL_DAMAGE_TAKEN'},\n    {'value': 0, 'name': 'PHYSICAL_DAMAGE_TAKEN'},\n    {'value': 0, 'name': 'MAGIC_DAMAGE_TAKEN'},\n    {'value': 0, 'name': 'TRUE_DAMAGE_TAKEN'},\n    {'value': 0, 'name': 'TOTAL_DAMAGE_SELF_MITIGATED'},\n    {'value': 0, 'name': 'TOTAL_DAMAGE_SHIELDED_ON_TEAMMATES'},\n    {'value': 0, 'name': 'TOTAL_DAMAGE_DEALT_TO_BUILDINGS'},\n    {'value': 0, 'name': 'TOTAL_DAMAGE_DEALT_TO_TURRETS'},\n    {'value': 0, 'name': 'TOTAL_DAMAGE_DEALT_TO_OBJECTIVES'},\n    {'value': 0, 'name': 'TOTAL_TIME_CROWD_CONTROL_DEALT'},\n    {'value': 0, 'name': 'TOTAL_HEAL_ON_TEAMMATES'},\n    {'value': 0, 'name': 'TIME_CCING_OTHERS'}],\n   'summonerSpell2Name': 'SummonerTeleport',\n   'goldPerSecond': 0},\n  {'magicPenetrationPercent': 0,\n   'alive': True,\n   'participantID': 2,\n   'spellVamp': 0,\n   'primaryAbilityResource': 320,\n   'cooldownReduction': 0,\n   'lifeSteal': 0,\n   'primaryAbilityResourceRegen': 14,\n   'magicPenetrationPercentBonus': 0,\n   'magicPenetration': 0,\n   'summonerSpell2CooldownRemaining': 0,\n   'healthMax': 580,\n   'position': {'z': 9116, 'x': 5242},\n   'magicResist': 32,\n   'primaryAbilityResourceMax': 320,\n   'armorPenetrationPercentBonus': 0,\n   'summonerSpell1Name': 'SummonerSmite',\n   'attackDamage': 73,\n   'teamID': 100,\n   'championName': 'Skarner',\n   'ccReduction': 0,\n   'armorPenetrationPercent': 0,\n   'currentGold': 0,\n   'playerName': 'Z10 Ryuzaki',\n   'healthRegen': 18,\n   'respawnTimer': 0,\n   'attackSpeed': 110,\n   'shutdownValue': 0,\n   'XP': 0,\n   'ultimateCooldownRemaining': 0,\n   'summonerSpell1CooldownRemaining': 0,\n   'armor': 44,\n   'level': 1,\n   'armorPenetration': 0,\n   'accountID': 2379676522784320,\n   'totalGold': 500,\n   'health': 580,\n   'ultimateName': 'SkarnerImpale',\n   'abilityPower': 0,\n   'items': [{'itemID': 1039, 'itemCooldown': 0},\n    {'itemID': 2031, 'itemCooldown': 0},\n    {'itemID': 3340, 'itemCooldown': 160.96661376953125}],\n   'stats': [{'value': 0, 'name': 'MINIONS_KILLED'},\n    {'value': 0, 'name': 'NEUTRAL_MINIONS_KILLED'},\n    {'value': 0, 'name': 'NEUTRAL_MINIONS_KILLED_YOUR_JUNGLE'},\n    {'value': 0, 'name': 'NEUTRAL_MINIONS_KILLED_ENEMY_JUNGLE'},\n    {'value': 0, 'name': 'CHAMPIONS_KILLED'},\n    {'value': 0, 'name': 'NUM_DEATHS'},\n    {'value': 0, 'name': 'ASSISTS'},\n    {'value': 0, 'name': 'PERK0'},\n    {'value': 0, 'name': 'PERK0_VAR1'},\n    {'value': 0, 'name': 'PERK0_VAR2'},\n    {'value': 0, 'name': 'PERK0_VAR3'},\n    {'value': 0, 'name': 'PERK1'},\n    {'value': 0, 'name': 'PERK1_VAR1'},\n    {'value': 0, 'name': 'PERK1_VAR2'},\n    {'value': 0, 'name': 'PERK1_VAR3'},\n    {'value': 0, 'name': 'PERK2'},\n    {'value': 0, 'name': 'PERK2_VAR1'},\n    {'value': 0, 'name': 'PERK2_VAR2'},\n    {'value': 0, 'name': 'PERK2_VAR3'},\n    {'value': 0, 'name': 'PERK3'},\n    {'value': 0, 'name': 'PERK3_VAR1'},\n    {'value': 0, 'name': 'PERK3_VAR2'},\n    {'value': 0, 'name': 'PERK3_VAR3'},\n    {'value': 0, 'name': 'PERK4'},\n    {'value': 0, 'name': 'PERK4_VAR1'},\n    {'value': 0, 'name': 'PERK4_VAR2'},\n    {'value': 0, 'name': 'PERK4_VAR3'},\n    {'value': 0, 'name': 'PERK5'},\n    {'value': 0, 'name': 'PERK5_VAR1'},\n    {'value': 0, 'name': 'PERK5_VAR2'},\n    {'value': 0, 'name': 'PERK5_VAR3'},\n    {'value': 1, 'name': 'WARD_PLACED'},\n    {'value': 0, 'name': 'WARD_KILLED'},\n    {'value': 0, 'name': 'VISION_SCORE'},\n    {'value': 0, 'name': 'TOTAL_DAMAGE_DEALT'},\n    {'value': 0, 'name': 'PHYSICAL_DAMAGE_DEALT_PLAYER'},\n    {'value': 0, 'name': 'MAGIC_DAMAGE_DEALT_PLAYER'},\n    {'value': 0, 'name': 'TRUE_DAMAGE_DEALT_PLAYER'},\n    {'value': 0, 'name': 'TOTAL_DAMAGE_DEALT_TO_CHAMPIONS'},\n    {'value': 0, 'name': 'PHYSICAL_DAMAGE_DEALT_TO_CHAMPIONS'},\n    {'value': 0, 'name': 'MAGIC_DAMAGE_DEALT_TO_CHAMPIONS'},\n    {'value': 0, 'name': 'TRUE_DAMAGE_DEALT_TO_CHAMPIONS'},\n    {'value': 0, 'name': 'TOTAL_DAMAGE_TAKEN'},\n    {'value': 0, 'name': 'PHYSICAL_DAMAGE_TAKEN'},\n    {'value': 0, 'name': 'MAGIC_DAMAGE_TAKEN'},\n    {'value': 0, 'name': 'TRUE_DAMAGE_TAKEN'},\n    {'value': 0, 'name': 'TOTAL_DAMAGE_SELF_MITIGATED'},\n    {'value': 0, 'name': 'TOTAL_DAMAGE_SHIELDED_ON_TEAMMATES'},\n    {'value': 0, 'name': 'TOTAL_DAMAGE_DEALT_TO_BUILDINGS'},\n    {'value': 0, 'name': 'TOTAL_DAMAGE_DEALT_TO_TURRETS'},\n    {'value': 0, 'name': 'TOTAL_DAMAGE_DEALT_TO_OBJECTIVES'},\n    {'value': 0, 'name': 'TOTAL_TIME_CROWD_CONTROL_DEALT'},\n    {'value': 0, 'name': 'TOTAL_HEAL_ON_TEAMMATES'},\n    {'value': 0, 'name': 'TIME_CCING_OTHERS'}],\n   'summonerSpell2Name': 'SummonerFlash',\n   'goldPerSecond': 0},\n  {'magicPenetrationPercent': 0,\n   'alive': True,\n   'participantID': 3,\n   'spellVamp': 0,\n   'primaryAbilityResource': 480,\n   'cooldownReduction': 0,\n   'lifeSteal': 0,\n   'primaryAbilityResourceRegen': 16,\n   'magicPenetrationPercentBonus': 0,\n   'magicPenetration': 0,\n   'summonerSpell2CooldownRemaining': 0,\n   'healthMax': 622,\n   'position': {'z': 6502, 'x': 6568},\n   'magicResist': 38,\n   'primaryAbilityResourceMax': 480,\n   'armorPenetrationPercentBonus': 0,\n   'summonerSpell1Name': 'SummonerTeleport',\n   'attackDamage': 52,\n   'teamID': 100,\n   'championName': 'Azir',\n   'ccReduction': 0,\n   'armorPenetrationPercent': 0,\n   'currentGold': 0,\n   'playerName': 'Z10 Meight',\n   'healthRegen': 14,\n   'respawnTimer': 0,\n   'attackSpeed': 125,\n   'shutdownValue': 0,\n   'XP': 0,\n   'ultimateCooldownRemaining': 0,\n   'summonerSpell1CooldownRemaining': 0,\n   'armor': 19,\n   'level': 1,\n   'armorPenetration': 0,\n   'accountID': 2636053565556448,\n   'totalGold': 500,\n   'health': 622,\n   'ultimateName': 'AzirR',\n   'abilityPower': 24,\n   'items': [{'itemID': 1056, 'itemCooldown': 0},\n    {'itemID': 2003, 'itemCooldown': 0},\n    {'itemID': 3340, 'itemCooldown': 0}],\n   'stats': [{'value': 0, 'name': 'MINIONS_KILLED'},\n    {'value': 0, 'name': 'NEUTRAL_MINIONS_KILLED'},\n    {'value': 0, 'name': 'NEUTRAL_MINIONS_KILLED_YOUR_JUNGLE'},\n    {'value': 0, 'name': 'NEUTRAL_MINIONS_KILLED_ENEMY_JUNGLE'},\n    {'value': 0, 'name': 'CHAMPIONS_KILLED'},\n    {'value': 0, 'name': 'NUM_DEATHS'},\n    {'value': 0, 'name': 'ASSISTS'},\n    {'value': 0, 'name': 'PERK0'},\n    {'value': 0, 'name': 'PERK0_VAR1'},\n    {'value': 0, 'name': 'PERK0_VAR2'},\n    {'value': 0, 'name': 'PERK0_VAR3'},\n    {'value': 0, 'name': 'PERK1'},\n    {'value': 0, 'name': 'PERK1_VAR1'},\n    {'value': 0, 'name': 'PERK1_VAR2'},\n    {'value': 0, 'name': 'PERK1_VAR3'},\n    {'value': 0, 'name': 'PERK2'},\n    {'value': 0, 'name': 'PERK2_VAR1'},\n    {'value': 0, 'name': 'PERK2_VAR2'},\n    {'value': 0, 'name': 'PERK2_VAR3'},\n    {'value': 0, 'name': 'PERK3'},\n    {'value': 0, 'name': 'PERK3_VAR1'},\n    {'value': 0, 'name': 'PERK3_VAR2'},\n    {'value': 0, 'name': 'PERK3_VAR3'},\n    {'value': 0, 'name': 'PERK4'},\n    {'value': 0, 'name': 'PERK4_VAR1'},\n    {'value': 0, 'name': 'PERK4_VAR2'},\n    {'value': 0, 'name': 'PERK4_VAR3'},\n    {'value': 0, 'name': 'PERK5'},\n    {'value': 0, 'name': 'PERK5_VAR1'},\n    {'value': 0, 'name': 'PERK5_VAR2'},\n    {'value': 0, 'name': 'PERK5_VAR3'},\n    {'value': 0, 'name': 'WARD_PLACED'},\n    {'value': 0, 'name': 'WARD_KILLED'},\n    {'value': 0, 'name': 'VISION_SCORE'},\n    {'value': 0, 'name': 'TOTAL_DAMAGE_DEALT'},\n    {'value': 0, 'name': 'PHYSICAL_DAMAGE_DEALT_PLAYER'},\n    {'value': 0, 'name': 'MAGIC_DAMAGE_DEALT_PLAYER'},\n    {'value': 0, 'name': 'TRUE_DAMAGE_DEALT_PLAYER'},\n    {'value': 0, 'name': 'TOTAL_DAMAGE_DEALT_TO_CHAMPIONS'},\n    {'value': 0, 'name': 'PHYSICAL_DAMAGE_DEALT_TO_CHAMPIONS'},\n    {'value': 0, 'name': 'MAGIC_DAMAGE_DEALT_TO_CHAMPIONS'},\n    {'value': 0, 'name': 'TRUE_DAMAGE_DEALT_TO_CHAMPIONS'},\n    {'value': 0, 'name': 'TOTAL_DAMAGE_TAKEN'},\n    {'value': 0, 'name': 'PHYSICAL_DAMAGE_TAKEN'},\n    {'value': 0, 'name': 'MAGIC_DAMAGE_TAKEN'},\n    {'value': 0, 'name': 'TRUE_DAMAGE_TAKEN'},\n    {'value': 0, 'name': 'TOTAL_DAMAGE_SELF_MITIGATED'},\n    {'value': 0, 'name': 'TOTAL_DAMAGE_SHIELDED_ON_TEAMMATES'},\n    {'value': 0, 'name': 'TOTAL_DAMAGE_DEALT_TO_BUILDINGS'},\n    {'value': 0, 'name': 'TOTAL_DAMAGE_DEALT_TO_TURRETS'},\n    {'value': 0, 'name': 'TOTAL_DAMAGE_DEALT_TO_OBJECTIVES'},\n    {'value': 0, 'name': 'TOTAL_TIME_CROWD_CONTROL_DEALT'},\n    {'value': 0, 'name': 'TOTAL_HEAL_ON_TEAMMATES'},\n    {'value': 0, 'name': 'TIME_CCING_OTHERS'}],\n   'summonerSpell2Name': 'SummonerFlash',\n   'goldPerSecond': 0},\n  {'magicPenetrationPercent': 0,\n   'alive': True,\n   'participantID': 4,\n   'spellVamp': 0,\n   'primaryAbilityResource': 315,\n   'cooldownReduction': 0,\n   'lifeSteal': 0,\n   'primaryAbilityResourceRegen': 14,\n   'magicPenetrationPercentBonus': 0,\n   'magicPenetration': 0,\n   'summonerSpell2CooldownRemaining': 0,\n   'healthMax': 590,\n   'position': {'z': 4891, 'x': 7434},\n   'magicResist': 30,\n   'primaryAbilityResourceMax': 315,\n   'armorPenetrationPercentBonus': 0,\n   'summonerSpell1Name': 'SummonerHeal',\n   'attackDamage': 75,\n   'teamID': 100,\n   'championName': 'Caitlyn',\n   'ccReduction': 0,\n   'armorPenetrationPercent': 0,\n   'currentGold': 0,\n   'playerName': 'Z10 Khantos',\n   'healthRegen': 7,\n   'respawnTimer': 0,\n   'attackSpeed': 110,\n   'shutdownValue': 0,\n   'XP': 0,\n   'ultimateCooldownRemaining': 0,\n   'summonerSpell1CooldownRemaining': 0,\n   'armor': 34,\n   'level': 1,\n   'armorPenetration': 0,\n   'accountID': 2636065980516064,\n   'totalGold': 500,\n   'health': 590,\n   'ultimateName': 'CaitlynAceintheHole',\n   'abilityPower': 0,\n   'items': [{'itemID': 1055, 'itemCooldown': 0},\n    {'itemID': 2003, 'itemCooldown': 0},\n    {'itemID': 3340, 'itemCooldown': 0}],\n   'stats': [{'value': 0, 'name': 'MINIONS_KILLED'},\n    {'value': 0, 'name': 'NEUTRAL_MINIONS_KILLED'},\n    {'value': 0, 'name': 'NEUTRAL_MINIONS_KILLED_YOUR_JUNGLE'},\n    {'value': 0, 'name': 'NEUTRAL_MINIONS_KILLED_ENEMY_JUNGLE'},\n    {'value': 0, 'name': 'CHAMPIONS_KILLED'},\n    {'value': 0, 'name': 'NUM_DEATHS'},\n    {'value': 0, 'name': 'ASSISTS'},\n    {'value': 0, 'name': 'PERK0'},\n    {'value': 0, 'name': 'PERK0_VAR1'},\n    {'value': 0, 'name': 'PERK0_VAR2'},\n    {'value': 0, 'name': 'PERK0_VAR3'},\n    {'value': 0, 'name': 'PERK1'},\n    {'value': 0, 'name': 'PERK1_VAR1'},\n    {'value': 0, 'name': 'PERK1_VAR2'},\n    {'value': 0, 'name': 'PERK1_VAR3'},\n    {'value': 0, 'name': 'PERK2'},\n    {'value': 0, 'name': 'PERK2_VAR1'},\n    {'value': 0, 'name': 'PERK2_VAR2'},\n    {'value': 0, 'name': 'PERK2_VAR3'},\n    {'value': 0, 'name': 'PERK3'},\n    {'value': 0, 'name': 'PERK3_VAR1'},\n    {'value': 0, 'name': 'PERK3_VAR2'},\n    {'value': 0, 'name': 'PERK3_VAR3'},\n    {'value': 0, 'name': 'PERK4'},\n    {'value': 0, 'name': 'PERK4_VAR1'},\n    {'value': 0, 'name': 'PERK4_VAR2'},\n    {'value': 0, 'name': 'PERK4_VAR3'},\n    {'value': 0, 'name': 'PERK5'},\n    {'value': 0, 'name': 'PERK5_VAR1'},\n    {'value': 0, 'name': 'PERK5_VAR2'},\n    {'value': 0, 'name': 'PERK5_VAR3'},\n    {'value': 0, 'name': 'WARD_PLACED'},\n    {'value': 0, 'name': 'WARD_KILLED'},\n    {'value': 0, 'name': 'VISION_SCORE'},\n    {'value': 0, 'name': 'TOTAL_DAMAGE_DEALT'},\n    {'value': 0, 'name': 'PHYSICAL_DAMAGE_DEALT_PLAYER'},\n    {'value': 0, 'name': 'MAGIC_DAMAGE_DEALT_PLAYER'},\n    {'value': 0, 'name': 'TRUE_DAMAGE_DEALT_PLAYER'},\n    {'value': 0, 'name': 'TOTAL_DAMAGE_DEALT_TO_CHAMPIONS'},\n    {'value': 0, 'name': 'PHYSICAL_DAMAGE_DEALT_TO_CHAMPIONS'},\n    {'value': 0, 'name': 'MAGIC_DAMAGE_DEALT_TO_CHAMPIONS'},\n    {'value': 0, 'name': 'TRUE_DAMAGE_DEALT_TO_CHAMPIONS'},\n    {'value': 0, 'name': 'TOTAL_DAMAGE_TAKEN'},\n    {'value': 0, 'name': 'PHYSICAL_DAMAGE_TAKEN'},\n    {'value': 0, 'name': 'MAGIC_DAMAGE_TAKEN'},\n    {'value': 0, 'name': 'TRUE_DAMAGE_TAKEN'},\n    {'value': 0, 'name': 'TOTAL_DAMAGE_SELF_MITIGATED'},\n    {'value': 0, 'name': 'TOTAL_DAMAGE_SHIELDED_ON_TEAMMATES'},\n    {'value': 0, 'name': 'TOTAL_DAMAGE_DEALT_TO_BUILDINGS'},\n    {'value': 0, 'name': 'TOTAL_DAMAGE_DEALT_TO_TURRETS'},\n    {'value': 0, 'name': 'TOTAL_DAMAGE_DEALT_TO_OBJECTIVES'},\n    {'value': 0, 'name': 'TOTAL_TIME_CROWD_CONTROL_DEALT'},\n    {'value': 0, 'name': 'TOTAL_HEAL_ON_TEAMMATES'},\n    {'value': 0, 'name': 'TIME_CCING_OTHERS'}],\n   'summonerSpell2Name': 'SummonerFlash',\n   'goldPerSecond': 0},\n  {'magicPenetrationPercent': 0,\n   'alive': True,\n   'participantID': 5,\n   'spellVamp': 0,\n   'primaryAbilityResource': 274,\n   'cooldownReduction': 0,\n   'lifeSteal': 0,\n   'primaryAbilityResourceRegen': 12,\n   'magicPenetrationPercentBonus': 0,\n   'magicPenetration': 0,\n   'summonerSpell2CooldownRemaining': 0,\n   'healthMax': 591,\n   'position': {'z': 1643, 'x': 5098},\n   'magicResist': 38,\n   'primaryAbilityResourceMax': 274,\n   'armorPenetrationPercentBonus': 0,\n   'summonerSpell1Name': 'SummonerFlash',\n   'attackDamage': 64,\n   'teamID': 100,\n   'championName': 'Thresh',\n   'ccReduction': 10,\n   'armorPenetrationPercent': 0,\n   'currentGold': 0,\n   'playerName': 'Z10 Nikola',\n   'healthRegen': 17,\n   'respawnTimer': 0,\n   'attackSpeed': 100,\n   'shutdownValue': 0,\n   'XP': 0,\n   'ultimateCooldownRemaining': 0,\n   'summonerSpell1CooldownRemaining': 0,\n   'armor': 34,\n   'level': 1,\n   'armorPenetration': 0,\n   'accountID': 2426581637268864,\n   'totalGold': 500,\n   'health': 591,\n   'ultimateName': 'ThreshRPenta',\n   'abilityPower': 0,\n   'items': [{'itemID': 3854, 'itemCooldown': 0},\n    {'itemID': 2003, 'itemCooldown': 0},\n    {'itemID': 3364, 'itemCooldown': 32.784767150878906}],\n   'stats': [{'value': 0, 'name': 'MINIONS_KILLED'},\n    {'value': 0, 'name': 'NEUTRAL_MINIONS_KILLED'},\n    {'value': 0, 'name': 'NEUTRAL_MINIONS_KILLED_YOUR_JUNGLE'},\n    {'value': 0, 'name': 'NEUTRAL_MINIONS_KILLED_ENEMY_JUNGLE'},\n    {'value': 0, 'name': 'CHAMPIONS_KILLED'},\n    {'value': 0, 'name': 'NUM_DEATHS'},\n    {'value': 0, 'name': 'ASSISTS'},\n    {'value': 0, 'name': 'PERK0'},\n    {'value': 0, 'name': 'PERK0_VAR1'},\n    {'value': 0, 'name': 'PERK0_VAR2'},\n    {'value': 0, 'name': 'PERK0_VAR3'},\n    {'value': 0, 'name': 'PERK1'},\n    {'value': 0, 'name': 'PERK1_VAR1'},\n    {'value': 0, 'name': 'PERK1_VAR2'},\n    {'value': 0, 'name': 'PERK1_VAR3'},\n    {'value': 0, 'name': 'PERK2'},\n    {'value': 0, 'name': 'PERK2_VAR1'},\n    {'value': 0, 'name': 'PERK2_VAR2'},\n    {'value': 0, 'name': 'PERK2_VAR3'},\n    {'value': 0, 'name': 'PERK3'},\n    {'value': 0, 'name': 'PERK3_VAR1'},\n    {'value': 0, 'name': 'PERK3_VAR2'},\n    {'value': 0, 'name': 'PERK3_VAR3'},\n    {'value': 0, 'name': 'PERK4'},\n    {'value': 0, 'name': 'PERK4_VAR1'},\n    {'value': 0, 'name': 'PERK4_VAR2'},\n    {'value': 0, 'name': 'PERK4_VAR3'},\n    {'value': 0, 'name': 'PERK5'},\n    {'value': 0, 'name': 'PERK5_VAR1'},\n    {'value': 0, 'name': 'PERK5_VAR2'},\n    {'value': 0, 'name': 'PERK5_VAR3'},\n    {'value': 1, 'name': 'WARD_PLACED'},\n    {'value': 0, 'name': 'WARD_KILLED'},\n    {'value': 0, 'name': 'VISION_SCORE'},\n    {'value': 0, 'name': 'TOTAL_DAMAGE_DEALT'},\n    {'value': 0, 'name': 'PHYSICAL_DAMAGE_DEALT_PLAYER'},\n    {'value': 0, 'name': 'MAGIC_DAMAGE_DEALT_PLAYER'},\n    {'value': 0, 'name': 'TRUE_DAMAGE_DEALT_PLAYER'},\n    {'value': 0, 'name': 'TOTAL_DAMAGE_DEALT_TO_CHAMPIONS'},\n    {'value': 0, 'name': 'PHYSICAL_DAMAGE_DEALT_TO_CHAMPIONS'},\n    {'value': 0, 'name': 'MAGIC_DAMAGE_DEALT_TO_CHAMPIONS'},\n    {'value': 0, 'name': 'TRUE_DAMAGE_DEALT_TO_CHAMPIONS'},\n    {'value': 0, 'name': 'TOTAL_DAMAGE_TAKEN'},\n    {'value': 0, 'name': 'PHYSICAL_DAMAGE_TAKEN'},\n    {'value': 0, 'name': 'MAGIC_DAMAGE_TAKEN'},\n    {'value': 0, 'name': 'TRUE_DAMAGE_TAKEN'},\n    {'value': 0, 'name': 'TOTAL_DAMAGE_SELF_MITIGATED'},\n    {'value': 0, 'name': 'TOTAL_DAMAGE_SHIELDED_ON_TEAMMATES'},\n    {'value': 0, 'name': 'TOTAL_DAMAGE_DEALT_TO_BUILDINGS'},\n    {'value': 0, 'name': 'TOTAL_DAMAGE_DEALT_TO_TURRETS'},\n    {'value': 0, 'name': 'TOTAL_DAMAGE_DEALT_TO_OBJECTIVES'},\n    {'value': 0, 'name': 'TOTAL_TIME_CROWD_CONTROL_DEALT'},\n    {'value': 0, 'name': 'TOTAL_HEAL_ON_TEAMMATES'},\n    {'value': 0, 'name': 'TIME_CCING_OTHERS'}],\n   'summonerSpell2Name': 'SummonerDot',\n   'goldPerSecond': 20},\n  {'magicPenetrationPercent': 0,\n   'alive': True,\n   'participantID': 6,\n   'spellVamp': 0,\n   'primaryAbilityResource': 330,\n   'cooldownReduction': 0,\n   'lifeSteal': 0,\n   'primaryAbilityResourceRegen': 16,\n   'magicPenetrationPercentBonus': 0,\n   'magicPenetration': 0,\n   'summonerSpell2CooldownRemaining': 0,\n   'healthMax': 625,\n   'position': {'z': 11885, 'x': 4629},\n   'magicResist': 32,\n   'primaryAbilityResourceMax': 330,\n   'armorPenetrationPercentBonus': 0,\n   'summonerSpell1Name': 'SummonerFlash',\n   'attackDamage': 78,\n   'teamID': 200,\n   'championName': 'Sion',\n   'ccReduction': 0,\n   'armorPenetrationPercent': 0,\n   'currentGold': 0,\n   'playerName': 'C4 Zeiko',\n   'healthRegen': 27,\n   'respawnTimer': 0,\n   'attackSpeed': 100,\n   'shutdownValue': 0,\n   'XP': 0,\n   'ultimateCooldownRemaining': 0,\n   'summonerSpell1CooldownRemaining': 0,\n   'armor': 38,\n   'level': 1,\n   'armorPenetration': 0,\n   'accountID': 2636053698062048,\n   'totalGold': 500,\n   'health': 625,\n   'ultimateName': 'SionR',\n   'abilityPower': 0,\n   'items': [{'itemID': 1054, 'itemCooldown': 0},\n    {'itemID': 2003, 'itemCooldown': 0},\n    {'itemID': 3340, 'itemCooldown': 0}],\n   'stats': [{'value': 0, 'name': 'MINIONS_KILLED'},\n    {'value': 0, 'name': 'NEUTRAL_MINIONS_KILLED'},\n    {'value': 0, 'name': 'NEUTRAL_MINIONS_KILLED_YOUR_JUNGLE'},\n    {'value': 0, 'name': 'NEUTRAL_MINIONS_KILLED_ENEMY_JUNGLE'},\n    {'value': 0, 'name': 'CHAMPIONS_KILLED'},\n    {'value': 0, 'name': 'NUM_DEATHS'},\n    {'value': 0, 'name': 'ASSISTS'},\n    {'value': 0, 'name': 'PERK0'},\n    {'value': 0, 'name': 'PERK0_VAR1'},\n    {'value': 0, 'name': 'PERK0_VAR2'},\n    {'value': 0, 'name': 'PERK0_VAR3'},\n    {'value': 0, 'name': 'PERK1'},\n    {'value': 0, 'name': 'PERK1_VAR1'},\n    {'value': 0, 'name': 'PERK1_VAR2'},\n    {'value': 0, 'name': 'PERK1_VAR3'},\n    {'value': 0, 'name': 'PERK2'},\n    {'value': 0, 'name': 'PERK2_VAR1'},\n    {'value': 0, 'name': 'PERK2_VAR2'},\n    {'value': 0, 'name': 'PERK2_VAR3'},\n    {'value': 0, 'name': 'PERK3'},\n    {'value': 0, 'name': 'PERK3_VAR1'},\n    {'value': 0, 'name': 'PERK3_VAR2'},\n    {'value': 0, 'name': 'PERK3_VAR3'},\n    {'value': 0, 'name': 'PERK4'},\n    {'value': 0, 'name': 'PERK4_VAR1'},\n    {'value': 0, 'name': 'PERK4_VAR2'},\n    {'value': 0, 'name': 'PERK4_VAR3'},\n    {'value': 0, 'name': 'PERK5'},\n    {'value': 0, 'name': 'PERK5_VAR1'},\n    {'value': 0, 'name': 'PERK5_VAR2'},\n    {'value': 0, 'name': 'PERK5_VAR3'},\n    {'value': 0, 'name': 'WARD_PLACED'},\n    {'value': 0, 'name': 'WARD_KILLED'},\n    {'value': 0, 'name': 'VISION_SCORE'},\n    {'value': 0, 'name': 'TOTAL_DAMAGE_DEALT'},\n    {'value': 0, 'name': 'PHYSICAL_DAMAGE_DEALT_PLAYER'},\n    {'value': 0, 'name': 'MAGIC_DAMAGE_DEALT_PLAYER'},\n    {'value': 0, 'name': 'TRUE_DAMAGE_DEALT_PLAYER'},\n    {'value': 0, 'name': 'TOTAL_DAMAGE_DEALT_TO_CHAMPIONS'},\n    {'value': 0, 'name': 'PHYSICAL_DAMAGE_DEALT_TO_CHAMPIONS'},\n    {'value': 0, 'name': 'MAGIC_DAMAGE_DEALT_TO_CHAMPIONS'},\n    {'value': 0, 'name': 'TRUE_DAMAGE_DEALT_TO_CHAMPIONS'},\n    {'value': 0, 'name': 'TOTAL_DAMAGE_TAKEN'},\n    {'value': 0, 'name': 'PHYSICAL_DAMAGE_TAKEN'},\n    {'value': 0, 'name': 'MAGIC_DAMAGE_TAKEN'},\n    {'value': 0, 'name': 'TRUE_DAMAGE_TAKEN'},\n    {'value': 0, 'name': 'TOTAL_DAMAGE_SELF_MITIGATED'},\n    {'value': 0, 'name': 'TOTAL_DAMAGE_SHIELDED_ON_TEAMMATES'},\n    {'value': 0, 'name': 'TOTAL_DAMAGE_DEALT_TO_BUILDINGS'},\n    {'value': 0, 'name': 'TOTAL_DAMAGE_DEALT_TO_TURRETS'},\n    {'value': 0, 'name': 'TOTAL_DAMAGE_DEALT_TO_OBJECTIVES'},\n    {'value': 0, 'name': 'TOTAL_TIME_CROWD_CONTROL_DEALT'},\n    {'value': 0, 'name': 'TOTAL_HEAL_ON_TEAMMATES'},\n    {'value': 0, 'name': 'TIME_CCING_OTHERS'}],\n   'summonerSpell2Name': 'SummonerTeleport',\n   'goldPerSecond': 0},\n  {'magicPenetrationPercent': 0,\n   'alive': True,\n   'participantID': 7,\n   'spellVamp': 0,\n   'primaryAbilityResource': 410,\n   'cooldownReduction': 0,\n   'lifeSteal': 0,\n   'primaryAbilityResourceRegen': 23,\n   'magicPenetrationPercentBonus': 0,\n   'magicPenetration': 0,\n   'summonerSpell2CooldownRemaining': 0,\n   'healthMax': 580,\n   'position': {'z': 12195, 'x': 8181},\n   'magicResist': 32,\n   'primaryAbilityResourceMax': 410,\n   'armorPenetrationPercentBonus': 0,\n   'summonerSpell1Name': 'SummonerFlash',\n   'attackDamage': 61,\n   'teamID': 200,\n   'championName': 'Lillia',\n   'ccReduction': 0,\n   'armorPenetrationPercent': 0,\n   'currentGold': 0,\n   'playerName': 'C4 OmulFinn',\n   'healthRegen': 18,\n   'respawnTimer': 0,\n   'attackSpeed': 110,\n   'shutdownValue': 0,\n   'XP': 0,\n   'ultimateCooldownRemaining': 0,\n   'summonerSpell1CooldownRemaining': 0,\n   'armor': 26,\n   'level': 1,\n   'armorPenetration': 0,\n   'accountID': 2636054190139104,\n   'totalGold': 500,\n   'health': 580,\n   'ultimateName': 'LilliaR',\n   'abilityPower': 9,\n   'items': [{'itemID': 1039, 'itemCooldown': 0},\n    {'itemID': 2031, 'itemCooldown': 0},\n    {'itemID': 3364, 'itemCooldown': 32.78478240966797}],\n   'stats': [{'value': 0, 'name': 'MINIONS_KILLED'},\n    {'value': 0, 'name': 'NEUTRAL_MINIONS_KILLED'},\n    {'value': 0, 'name': 'NEUTRAL_MINIONS_KILLED_YOUR_JUNGLE'},\n    {'value': 0, 'name': 'NEUTRAL_MINIONS_KILLED_ENEMY_JUNGLE'},\n    {'value': 0, 'name': 'CHAMPIONS_KILLED'},\n    {'value': 0, 'name': 'NUM_DEATHS'},\n    {'value': 0, 'name': 'ASSISTS'},\n    {'value': 0, 'name': 'PERK0'},\n    {'value': 0, 'name': 'PERK0_VAR1'},\n    {'value': 0, 'name': 'PERK0_VAR2'},\n    {'value': 0, 'name': 'PERK0_VAR3'},\n    {'value': 0, 'name': 'PERK1'},\n    {'value': 0, 'name': 'PERK1_VAR1'},\n    {'value': 0, 'name': 'PERK1_VAR2'},\n    {'value': 0, 'name': 'PERK1_VAR3'},\n    {'value': 0, 'name': 'PERK2'},\n    {'value': 0, 'name': 'PERK2_VAR1'},\n    {'value': 0, 'name': 'PERK2_VAR2'},\n    {'value': 0, 'name': 'PERK2_VAR3'},\n    {'value': 0, 'name': 'PERK3'},\n    {'value': 0, 'name': 'PERK3_VAR1'},\n    {'value': 0, 'name': 'PERK3_VAR2'},\n    {'value': 0, 'name': 'PERK3_VAR3'},\n    {'value': 0, 'name': 'PERK4'},\n    {'value': 0, 'name': 'PERK4_VAR1'},\n    {'value': 0, 'name': 'PERK4_VAR2'},\n    {'value': 0, 'name': 'PERK4_VAR3'},\n    {'value': 0, 'name': 'PERK5'},\n    {'value': 0, 'name': 'PERK5_VAR1'},\n    {'value': 0, 'name': 'PERK5_VAR2'},\n    {'value': 0, 'name': 'PERK5_VAR3'},\n    {'value': 1, 'name': 'WARD_PLACED'},\n    {'value': 0, 'name': 'WARD_KILLED'},\n    {'value': 0, 'name': 'VISION_SCORE'},\n    {'value': 0, 'name': 'TOTAL_DAMAGE_DEALT'},\n    {'value': 0, 'name': 'PHYSICAL_DAMAGE_DEALT_PLAYER'},\n    {'value': 0, 'name': 'MAGIC_DAMAGE_DEALT_PLAYER'},\n    {'value': 0, 'name': 'TRUE_DAMAGE_DEALT_PLAYER'},\n    {'value': 0, 'name': 'TOTAL_DAMAGE_DEALT_TO_CHAMPIONS'},\n    {'value': 0, 'name': 'PHYSICAL_DAMAGE_DEALT_TO_CHAMPIONS'},\n    {'value': 0, 'name': 'MAGIC_DAMAGE_DEALT_TO_CHAMPIONS'},\n    {'value': 0, 'name': 'TRUE_DAMAGE_DEALT_TO_CHAMPIONS'},\n    {'value': 0, 'name': 'TOTAL_DAMAGE_TAKEN'},\n    {'value': 0, 'name': 'PHYSICAL_DAMAGE_TAKEN'},\n    {'value': 0, 'name': 'MAGIC_DAMAGE_TAKEN'},\n    {'value': 0, 'name': 'TRUE_DAMAGE_TAKEN'},\n    {'value': 0, 'name': 'TOTAL_DAMAGE_SELF_MITIGATED'},\n    {'value': 0, 'name': 'TOTAL_DAMAGE_SHIELDED_ON_TEAMMATES'},\n    {'value': 0, 'name': 'TOTAL_DAMAGE_DEALT_TO_BUILDINGS'},\n    {'value': 0, 'name': 'TOTAL_DAMAGE_DEALT_TO_TURRETS'},\n    {'value': 0, 'name': 'TOTAL_DAMAGE_DEALT_TO_OBJECTIVES'},\n    {'value': 0, 'name': 'TOTAL_TIME_CROWD_CONTROL_DEALT'},\n    {'value': 0, 'name': 'TOTAL_HEAL_ON_TEAMMATES'},\n    {'value': 0, 'name': 'TIME_CCING_OTHERS'}],\n   'summonerSpell2Name': 'SummonerSmite',\n   'goldPerSecond': 0},\n  {'magicPenetrationPercent': 0,\n   'alive': True,\n   'participantID': 8,\n   'spellVamp': 0,\n   'primaryAbilityResource': 374,\n   'cooldownReduction': 0,\n   'lifeSteal': 0,\n   'primaryAbilityResourceRegen': 26,\n   'magicPenetrationPercentBonus': 0,\n   'magicPenetration': 0,\n   'summonerSpell2CooldownRemaining': 0,\n   'healthMax': 534,\n   'position': {'z': 8014, 'x': 6388},\n   'magicResist': 38,\n   'primaryAbilityResourceMax': 374,\n   'armorPenetrationPercentBonus': 0,\n   'summonerSpell1Name': 'SummonerTeleport',\n   'attackDamage': 54,\n   'teamID': 200,\n   'championName': 'Karma',\n   'ccReduction': 0,\n   'armorPenetrationPercent': 0,\n   'currentGold': 0,\n   'playerName': 'C4 Jacob',\n   'healthRegen': 11,\n   'respawnTimer': 0,\n   'attackSpeed': 110,\n   'shutdownValue': 0,\n   'XP': 0,\n   'ultimateCooldownRemaining': 0,\n   'summonerSpell1CooldownRemaining': 0,\n   'armor': 26,\n   'level': 1,\n   'armorPenetration': 0,\n   'accountID': 2665315577996544,\n   'totalGold': 500,\n   'health': 534,\n   'ultimateName': 'KarmaMantra',\n   'abilityPower': 9,\n   'items': [{'itemID': 2033, 'itemCooldown': 0},\n    {'itemID': 3340, 'itemCooldown': 0}],\n   'stats': [{'value': 0, 'name': 'MINIONS_KILLED'},\n    {'value': 0, 'name': 'NEUTRAL_MINIONS_KILLED'},\n    {'value': 0, 'name': 'NEUTRAL_MINIONS_KILLED_YOUR_JUNGLE'},\n    {'value': 0, 'name': 'NEUTRAL_MINIONS_KILLED_ENEMY_JUNGLE'},\n    {'value': 0, 'name': 'CHAMPIONS_KILLED'},\n    {'value': 0, 'name': 'NUM_DEATHS'},\n    {'value': 0, 'name': 'ASSISTS'},\n    {'value': 0, 'name': 'PERK0'},\n    {'value': 0, 'name': 'PERK0_VAR1'},\n    {'value': 0, 'name': 'PERK0_VAR2'},\n    {'value': 0, 'name': 'PERK0_VAR3'},\n    {'value': 0, 'name': 'PERK1'},\n    {'value': 0, 'name': 'PERK1_VAR1'},\n    {'value': 0, 'name': 'PERK1_VAR2'},\n    {'value': 0, 'name': 'PERK1_VAR3'},\n    {'value': 0, 'name': 'PERK2'},\n    {'value': 0, 'name': 'PERK2_VAR1'},\n    {'value': 0, 'name': 'PERK2_VAR2'},\n    {'value': 0, 'name': 'PERK2_VAR3'},\n    {'value': 0, 'name': 'PERK3'},\n    {'value': 0, 'name': 'PERK3_VAR1'},\n    {'value': 0, 'name': 'PERK3_VAR2'},\n    {'value': 0, 'name': 'PERK3_VAR3'},\n    {'value': 0, 'name': 'PERK4'},\n    {'value': 0, 'name': 'PERK4_VAR1'},\n    {'value': 0, 'name': 'PERK4_VAR2'},\n    {'value': 0, 'name': 'PERK4_VAR3'},\n    {'value': 0, 'name': 'PERK5'},\n    {'value': 0, 'name': 'PERK5_VAR1'},\n    {'value': 0, 'name': 'PERK5_VAR2'},\n    {'value': 0, 'name': 'PERK5_VAR3'},\n    {'value': 0, 'name': 'WARD_PLACED'},\n    {'value': 0, 'name': 'WARD_KILLED'},\n    {'value': 0, 'name': 'VISION_SCORE'},\n    {'value': 0, 'name': 'TOTAL_DAMAGE_DEALT'},\n    {'value': 0, 'name': 'PHYSICAL_DAMAGE_DEALT_PLAYER'},\n    {'value': 0, 'name': 'MAGIC_DAMAGE_DEALT_PLAYER'},\n    {'value': 0, 'name': 'TRUE_DAMAGE_DEALT_PLAYER'},\n    {'value': 0, 'name': 'TOTAL_DAMAGE_DEALT_TO_CHAMPIONS'},\n    {'value': 0, 'name': 'PHYSICAL_DAMAGE_DEALT_TO_CHAMPIONS'},\n    {'value': 0, 'name': 'MAGIC_DAMAGE_DEALT_TO_CHAMPIONS'},\n    {'value': 0, 'name': 'TRUE_DAMAGE_DEALT_TO_CHAMPIONS'},\n    {'value': 0, 'name': 'TOTAL_DAMAGE_TAKEN'},\n    {'value': 0, 'name': 'PHYSICAL_DAMAGE_TAKEN'},\n    {'value': 0, 'name': 'MAGIC_DAMAGE_TAKEN'},\n    {'value': 0, 'name': 'TRUE_DAMAGE_TAKEN'},\n    {'value': 0, 'name': 'TOTAL_DAMAGE_SELF_MITIGATED'},\n    {'value': 0, 'name': 'TOTAL_DAMAGE_SHIELDED_ON_TEAMMATES'},\n    {'value': 0, 'name': 'TOTAL_DAMAGE_DEALT_TO_BUILDINGS'},\n    {'value': 0, 'name': 'TOTAL_DAMAGE_DEALT_TO_TURRETS'},\n    {'value': 0, 'name': 'TOTAL_DAMAGE_DEALT_TO_OBJECTIVES'},\n    {'value': 0, 'name': 'TOTAL_TIME_CROWD_CONTROL_DEALT'},\n    {'value': 0, 'name': 'TOTAL_HEAL_ON_TEAMMATES'},\n    {'value': 0, 'name': 'TIME_CCING_OTHERS'}],\n   'summonerSpell2Name': 'SummonerFlash',\n   'goldPerSecond': 0},\n  {'magicPenetrationPercent': 0,\n   'alive': True,\n   'participantID': 9,\n   'spellVamp': 0,\n   'primaryAbilityResource': 300,\n   'cooldownReduction': 0,\n   'lifeSteal': 0,\n   'primaryAbilityResourceRegen': 12,\n   'magicPenetrationPercentBonus': 0,\n   'magicPenetration': 0,\n   'summonerSpell2CooldownRemaining': 0,\n   'healthMax': 665,\n   'position': {'z': 5470, 'x': 11184},\n   'magicResist': 30,\n   'primaryAbilityResourceMax': 300,\n   'armorPenetrationPercentBonus': 0,\n   'summonerSpell1Name': 'SummonerFlash',\n   'attackDamage': 80,\n   'teamID': 200,\n   'championName': 'Jhin',\n   'ccReduction': 0,\n   'armorPenetrationPercent': 0,\n   'currentGold': 0,\n   'playerName': 'C4 Paladin',\n   'healthRegen': 7,\n   'respawnTimer': 0,\n   'attackSpeed': 100,\n   'shutdownValue': 0,\n   'XP': 0,\n   'ultimateCooldownRemaining': 0,\n   'summonerSpell1CooldownRemaining': 0,\n   'armor': 30,\n   'level': 1,\n   'armorPenetration': 0,\n   'accountID': 2636055193552608,\n   'totalGold': 500,\n   'health': 665,\n   'ultimateName': 'JhinR',\n   'abilityPower': 0,\n   'items': [{'itemID': 1055, 'itemCooldown': 0},\n    {'itemID': 2003, 'itemCooldown': 0},\n    {'itemID': 3340, 'itemCooldown': 0}],\n   'stats': [{'value': 0, 'name': 'MINIONS_KILLED'},\n    {'value': 0, 'name': 'NEUTRAL_MINIONS_KILLED'},\n    {'value': 0, 'name': 'NEUTRAL_MINIONS_KILLED_YOUR_JUNGLE'},\n    {'value': 0, 'name': 'NEUTRAL_MINIONS_KILLED_ENEMY_JUNGLE'},\n    {'value': 0, 'name': 'CHAMPIONS_KILLED'},\n    {'value': 0, 'name': 'NUM_DEATHS'},\n    {'value': 0, 'name': 'ASSISTS'},\n    {'value': 0, 'name': 'PERK0'},\n    {'value': 0, 'name': 'PERK0_VAR1'},\n    {'value': 0, 'name': 'PERK0_VAR2'},\n    {'value': 0, 'name': 'PERK0_VAR3'},\n    {'value': 0, 'name': 'PERK1'},\n    {'value': 0, 'name': 'PERK1_VAR1'},\n    {'value': 0, 'name': 'PERK1_VAR2'},\n    {'value': 0, 'name': 'PERK1_VAR3'},\n    {'value': 0, 'name': 'PERK2'},\n    {'value': 0, 'name': 'PERK2_VAR1'},\n    {'value': 0, 'name': 'PERK2_VAR2'},\n    {'value': 0, 'name': 'PERK2_VAR3'},\n    {'value': 0, 'name': 'PERK3'},\n    {'value': 0, 'name': 'PERK3_VAR1'},\n    {'value': 0, 'name': 'PERK3_VAR2'},\n    {'value': 0, 'name': 'PERK3_VAR3'},\n    {'value': 0, 'name': 'PERK4'},\n    {'value': 0, 'name': 'PERK4_VAR1'},\n    {'value': 0, 'name': 'PERK4_VAR2'},\n    {'value': 0, 'name': 'PERK4_VAR3'},\n    {'value': 0, 'name': 'PERK5'},\n    {'value': 0, 'name': 'PERK5_VAR1'},\n    {'value': 0, 'name': 'PERK5_VAR2'},\n    {'value': 0, 'name': 'PERK5_VAR3'},\n    {'value': 0, 'name': 'WARD_PLACED'},\n    {'value': 0, 'name': 'WARD_KILLED'},\n    {'value': 0, 'name': 'VISION_SCORE'},\n    {'value': 0, 'name': 'TOTAL_DAMAGE_DEALT'},\n    {'value': 0, 'name': 'PHYSICAL_DAMAGE_DEALT_PLAYER'},\n    {'value': 0, 'name': 'MAGIC_DAMAGE_DEALT_PLAYER'},\n    {'value': 0, 'name': 'TRUE_DAMAGE_DEALT_PLAYER'},\n    {'value': 0, 'name': 'TOTAL_DAMAGE_DEALT_TO_CHAMPIONS'},\n    {'value': 0, 'name': 'PHYSICAL_DAMAGE_DEALT_TO_CHAMPIONS'},\n    {'value': 0, 'name': 'MAGIC_DAMAGE_DEALT_TO_CHAMPIONS'},\n    {'value': 0, 'name': 'TRUE_DAMAGE_DEALT_TO_CHAMPIONS'},\n    {'value': 0, 'name': 'TOTAL_DAMAGE_TAKEN'},\n    {'value': 0, 'name': 'PHYSICAL_DAMAGE_TAKEN'},\n    {'value': 0, 'name': 'MAGIC_DAMAGE_TAKEN'},\n    {'value': 0, 'name': 'TRUE_DAMAGE_TAKEN'},\n    {'value': 0, 'name': 'TOTAL_DAMAGE_SELF_MITIGATED'},\n    {'value': 0, 'name': 'TOTAL_DAMAGE_SHIELDED_ON_TEAMMATES'},\n    {'value': 0, 'name': 'TOTAL_DAMAGE_DEALT_TO_BUILDINGS'},\n    {'value': 0, 'name': 'TOTAL_DAMAGE_DEALT_TO_TURRETS'},\n    {'value': 0, 'name': 'TOTAL_DAMAGE_DEALT_TO_OBJECTIVES'},\n    {'value': 0, 'name': 'TOTAL_TIME_CROWD_CONTROL_DEALT'},\n    {'value': 0, 'name': 'TOTAL_HEAL_ON_TEAMMATES'},\n    {'value': 0, 'name': 'TIME_CCING_OTHERS'}],\n   'summonerSpell2Name': 'SummonerHeal',\n   'goldPerSecond': 0},\n  {'magicPenetrationPercent': 0,\n   'alive': True,\n   'participantID': 10,\n   'spellVamp': 0,\n   'primaryAbilityResource': 340,\n   'cooldownReduction': 0,\n   'lifeSteal': 0,\n   'primaryAbilityResourceRegen': 33,\n   'magicPenetrationPercentBonus': 0,\n   'magicPenetration': 0,\n   'summonerSpell2CooldownRemaining': 0,\n   'healthMax': 570,\n   'position': {'z': 9588, 'x': 13777},\n   'magicResist': 30,\n   'primaryAbilityResourceMax': 340,\n   'armorPenetrationPercentBonus': 0,\n   'summonerSpell1Name': 'SummonerDot',\n   'attackDamage': 56,\n   'teamID': 200,\n   'championName': 'Morgana',\n   'ccReduction': 0,\n   'armorPenetrationPercent': 0,\n   'currentGold': 0,\n   'playerName': 'C4 Unlucky',\n   'healthRegen': 11,\n   'respawnTimer': 0,\n   'attackSpeed': 100,\n   'shutdownValue': 0,\n   'XP': 0,\n   'ultimateCooldownRemaining': 0,\n   'summonerSpell1CooldownRemaining': 0,\n   'armor': 31,\n   'level': 1,\n   'armorPenetration': 0,\n   'accountID': 2636054365275872,\n   'totalGold': 500,\n   'health': 570,\n   'ultimateName': 'MorganaR',\n   'abilityPower': 17,\n   'items': [{'itemID': 2419, 'itemCooldown': 782.7847900390625},\n    {'itemID': 3850, 'itemCooldown': 0},\n    {'itemID': 2003, 'itemCooldown': 0},\n    {'itemID': 3364, 'itemCooldown': 32.78478240966797}],\n   'stats': [{'value': 0, 'name': 'MINIONS_KILLED'},\n    {'value': 0, 'name': 'NEUTRAL_MINIONS_KILLED'},\n    {'value': 0, 'name': 'NEUTRAL_MINIONS_KILLED_YOUR_JUNGLE'},\n    {'value': 0, 'name': 'NEUTRAL_MINIONS_KILLED_ENEMY_JUNGLE'},\n    {'value': 0, 'name': 'CHAMPIONS_KILLED'},\n    {'value': 0, 'name': 'NUM_DEATHS'},\n    {'value': 0, 'name': 'ASSISTS'},\n    {'value': 0, 'name': 'PERK0'},\n    {'value': 0, 'name': 'PERK0_VAR1'},\n    {'value': 0, 'name': 'PERK0_VAR2'},\n    {'value': 0, 'name': 'PERK0_VAR3'},\n    {'value': 0, 'name': 'PERK1'},\n    {'value': 0, 'name': 'PERK1_VAR1'},\n    {'value': 0, 'name': 'PERK1_VAR2'},\n    {'value': 0, 'name': 'PERK1_VAR3'},\n    {'value': 0, 'name': 'PERK2'},\n    {'value': 0, 'name': 'PERK2_VAR1'},\n    {'value': 0, 'name': 'PERK2_VAR2'},\n    {'value': 0, 'name': 'PERK2_VAR3'},\n    {'value': 0, 'name': 'PERK3'},\n    {'value': 0, 'name': 'PERK3_VAR1'},\n    {'value': 0, 'name': 'PERK3_VAR2'},\n    {'value': 0, 'name': 'PERK3_VAR3'},\n    {'value': 0, 'name': 'PERK4'},\n    {'value': 0, 'name': 'PERK4_VAR1'},\n    {'value': 0, 'name': 'PERK4_VAR2'},\n    {'value': 0, 'name': 'PERK4_VAR3'},\n    {'value': 0, 'name': 'PERK5'},\n    {'value': 0, 'name': 'PERK5_VAR1'},\n    {'value': 0, 'name': 'PERK5_VAR2'},\n    {'value': 0, 'name': 'PERK5_VAR3'},\n    {'value': 1, 'name': 'WARD_PLACED'},\n    {'value': 0, 'name': 'WARD_KILLED'},\n    {'value': 0, 'name': 'VISION_SCORE'},\n    {'value': 0, 'name': 'TOTAL_DAMAGE_DEALT'},\n    {'value': 0, 'name': 'PHYSICAL_DAMAGE_DEALT_PLAYER'},\n    {'value': 0, 'name': 'MAGIC_DAMAGE_DEALT_PLAYER'},\n    {'value': 0, 'name': 'TRUE_DAMAGE_DEALT_PLAYER'},\n    {'value': 0, 'name': 'TOTAL_DAMAGE_DEALT_TO_CHAMPIONS'},\n    {'value': 0, 'name': 'PHYSICAL_DAMAGE_DEALT_TO_CHAMPIONS'},\n    {'value': 0, 'name': 'MAGIC_DAMAGE_DEALT_TO_CHAMPIONS'},\n    {'value': 0, 'name': 'TRUE_DAMAGE_DEALT_TO_CHAMPIONS'},\n    {'value': 0, 'name': 'TOTAL_DAMAGE_TAKEN'},\n    {'value': 0, 'name': 'PHYSICAL_DAMAGE_TAKEN'},\n    {'value': 0, 'name': 'MAGIC_DAMAGE_TAKEN'},\n    {'value': 0, 'name': 'TRUE_DAMAGE_TAKEN'},\n    {'value': 0, 'name': 'TOTAL_DAMAGE_SELF_MITIGATED'},\n    {'value': 0, 'name': 'TOTAL_DAMAGE_SHIELDED_ON_TEAMMATES'},\n    {'value': 0, 'name': 'TOTAL_DAMAGE_DEALT_TO_BUILDINGS'},\n    {'value': 0, 'name': 'TOTAL_DAMAGE_DEALT_TO_TURRETS'},\n    {'value': 0, 'name': 'TOTAL_DAMAGE_DEALT_TO_OBJECTIVES'},\n    {'value': 0, 'name': 'TOTAL_TIME_CROWD_CONTROL_DEALT'},\n    {'value': 0, 'name': 'TOTAL_HEAL_ON_TEAMMATES'},\n    {'value': 0, 'name': 'TIME_CCING_OTHERS'}],\n   'summonerSpell2Name': 'SummonerFlash',\n   'goldPerSecond': 20}],\n 'stageID': 1,\n 'gameOver': False,\n 'sequenceIndex': 111,\n 'gameName': '105596416965466996|game1',\n 'teams': [{'inhibKills': 0,\n   'towerKills': 0,\n   'teamID': 100,\n   'baronKills': 0,\n   'dragonKills': 0,\n   'assists': 0,\n   'championsKills': 0,\n   'totalGold': 2500,\n   'deaths': 0},\n  {'inhibKills': 0,\n   'towerKills': 0,\n   'teamID': 200,\n   'baronKills': 0,\n   'dragonKills': 0,\n   'assists': 0,\n   'championsKills': 0,\n   'totalGold': 2500,\n   'deaths': 0}],\n 'playbackID': 1}"
     },
     "execution_count": 44,
     "metadata": {},
     "output_type": "execute_result"
    }
   ],
   "source": [
    "game_data[100]"
   ],
   "metadata": {
    "collapsed": false,
    "ExecuteTime": {
     "end_time": "2023-09-03T00:24:07.132230700Z",
     "start_time": "2023-09-03T00:24:07.061450700Z"
    }
   },
   "id": "62e8f5438915ce31"
  },
  {
   "cell_type": "code",
   "execution_count": 93,
   "outputs": [],
   "source": [
    "\"\"\"\n",
    "Iterate through all events of the game and create features for both teams (100, 200) based on certain statistics.\n",
    "Initialize all features as -1 in case they never occur (e.g. they never take baron) and then update them as they occur.\n",
    "Every time we cross a special threshold time (e.g. 5 minutes, 10 minutes, etc.) we will save current game statistics as a row in our dataframe.\n",
    "\n",
    "# General team-wide features (for both teams)\n",
    "1. First turret time\n",
    "2. First inhibitor time\n",
    "3. First baron time\n",
    "4. First dragon time\n",
    "5. First rift herald time\n",
    "6. First kill time\n",
    "7. [Number of _ taken] turret/inhibitor/baron/dragon/rift herald\n",
    "\n",
    "Put all these functions in a class GameFeaturesGenerator so we can reuse them for different games.\n",
    "\"\"\"\n",
    "\n",
    "from datetime import datetime\n",
    "import pandas as pd\n",
    "class GameFeaturesGenerator:\n",
    "    TIME_FORMAT = '%Y-%m-%dT%H:%M:%S.%fZ'\n",
    "    \n",
    "    @staticmethod\n",
    "    def get_event_time(start_time, event_time):\n",
    "        return (datetime.strptime(event_time, GameFeaturesGenerator.TIME_FORMAT)-start_time).total_seconds()\n",
    "\n",
    "    @staticmethod\n",
    "    def flip_team_id(team_id):\n",
    "        \"\"\"\n",
    "        Flips team_id from 100 to 200 and vice versa. Needed for when processing turret fall events because we want to update the feature for the team that lost the turret\n",
    "        \"\"\"\n",
    "        if team_id == 100:\n",
    "            return 200\n",
    "        elif team_id == 200:\n",
    "            return 100\n",
    "        else:\n",
    "            print(\"Error: team_id is not 100 or 200\")\n",
    "    \n",
    "    def __init__(self, game_data, mapping_data):\n",
    "        self.game_data = game_data\n",
    "        self.game_start_time = datetime.strptime(game_data[0]['eventTime'], GameFeaturesGenerator.TIME_FORMAT)\n",
    "        self.team_id_mapping = {\"100\": mapping_data['teamMapping']['100'], \"200\": mapping_data['teamMapping']['200']}\n",
    "        self.esports_game_id = mapping_data['esportsGameId'] # Looks like '110310652412257228'\n",
    "        self.platform_game_id = mapping_data['platformGameId'] # Looks lik {'esportsGameId': '110310652412257228'\n",
    "        # Create flags for first events (e.g. first turret kill, first dragon kill, etc.). These can only happen once (for both teams)\n",
    "        self.first_herald_flag = True\n",
    "        self.first_dragon_flag = True\n",
    "        self.first_baron_flag = True\n",
    "        self.first_turret_flag = True\n",
    "        self.first_inhibitor_flag = True\n",
    "        self.first_kill_flag = True\n",
    "        \n",
    "        # Create features for each team\n",
    "        # EPIC MONSTER EVENT FEATURES\n",
    "        self.IMPORTANT_MONSTER_TYPES = [\"riftHerald\", \"dragon\", \"baron\"]\n",
    "        epic_monster_kill_event_features = [[\"first_\"+monster_type+\"_ind\", \"first_\"+monster_type+\"_time\", \"num_\"+monster_type] for monster_type \n",
    "                                            in self.IMPORTANT_MONSTER_TYPES]\n",
    "        epic_monster_kill_event_features = [item for sublist in epic_monster_kill_event_features for item in sublist]  # Flatten list of lists\n",
    "        \n",
    "        # BUILDING DESTROYED EVENT FEATURES\n",
    "        self.IMPORTANT_BUILDING_TYPES = [\"turret\", \"inhibitor\"]\n",
    "        building_destroyed_event_features = [[\"first_\"+building_type+\"_ind\", \"first_\"+building_type+\"_time\", \"num_\"+building_type] for building_type \n",
    "                                             in self.IMPORTANT_BUILDING_TYPES]\n",
    "        building_destroyed_event_features = [item for sublist in building_destroyed_event_features for item in sublist]  # Flatten list of lists\n",
    "        \n",
    "        # CHAMPION KILL EVENT FEATURES\n",
    "        champion_kill_event_features = [\"first_kill_ind\", \"first_kill_time\", \"num_kills\"]\n",
    "        \n",
    "        # GAME METADATA FEATURES\n",
    "        # TODO: Also need a feature for whether this was a domestic or international game (e.g. LCS vs. Worlds)\n",
    "        game_metadata_features = [\"game_end_time\"]\n",
    "        \n",
    "                \n",
    "        all_features =  ([\"platformGameId\", \"esportsGameId\", \"team_id\", \"start_time\", \"outcome\"] + \n",
    "                         epic_monster_kill_event_features + building_destroyed_event_features + champion_kill_event_features + game_metadata_features) \n",
    "        self.team_features = {\"100\": {feature: np.nan for feature in all_features},\n",
    "                              \"200\": {feature: np.nan for feature in all_features}}\n",
    "        # Set all \"num_\" features to 0\n",
    "        for team_id in [\"100\", \"200\"]:\n",
    "            for feature in all_features:\n",
    "                if feature.startswith(\"num_\"):\n",
    "                    self.team_features[team_id][feature] = 0\n",
    "        \n",
    "    \n",
    "    def process_epic_monster_kill_event(self, event, team_features):\n",
    "        monster_type = event['monsterType']\n",
    "        if monster_type in self.IMPORTANT_MONSTER_TYPES:\n",
    "            event_time = event['eventTime']\n",
    "            time_of_kill = GameFeaturesGenerator.get_event_time(self.game_start_time, event_time)\n",
    "            killer_team_id = str(event['killerTeamID'])\n",
    "            if self.first_herald_flag:\n",
    "                team_features[killer_team_id]['first_riftHerald_ind'] = 1\n",
    "                team_features[killer_team_id]['first_riftHerald_time'] = time_of_kill\n",
    "                self.first_herald_flag = False\n",
    "            if self.first_dragon_flag:\n",
    "                team_features[killer_team_id]['first_dragon_ind'] = 1\n",
    "                team_features[killer_team_id]['first_dragon_time'] = time_of_kill\n",
    "                self.first_dragon_flag = False\n",
    "            if self.first_baron_flag:\n",
    "                team_features[killer_team_id]['first_baron_ind'] = 1\n",
    "                team_features[killer_team_id]['first_baron_time'] = time_of_kill\n",
    "                self.first_baron_flag = False\n",
    "            team_features[killer_team_id]['num_'+monster_type] += 1\n",
    "                \n",
    "    def process_building_destroyed_event(self, event, team_features):\n",
    "        building_type = event['buildingType']\n",
    "        if building_type in self.IMPORTANT_BUILDING_TYPES:\n",
    "            event_time = event['eventTime']\n",
    "            time_of_event = GameFeaturesGenerator.get_event_time(self.game_start_time, event_time)\n",
    "            team_id = str(GameFeaturesGenerator.flip_team_id(event['teamID']))\n",
    "            if self.first_turret_flag:\n",
    "                team_features[team_id]['first_turret_ind'] = 1\n",
    "                team_features[team_id]['first_turret_time'] = time_of_event\n",
    "                self.first_turret_flag = False\n",
    "            if self.first_inhibitor_flag:\n",
    "                team_features[team_id]['first_inhibitor_ind'] = 1\n",
    "                team_features[team_id]['first_inhibitor_time'] = time_of_event\n",
    "                self.first_inhibitor_flag = False\n",
    "            team_features[team_id]['num_'+building_type] += 1\n",
    "    \n",
    "    def process_champion_kill_event(self, event, team_features):\n",
    "        event_time = event['eventTime']\n",
    "        time_of_event = GameFeaturesGenerator.get_event_time(self.game_start_time, event_time)\n",
    "        killer_team_id = str(event['killerTeamID'])\n",
    "        if self.first_kill_flag:\n",
    "            team_features[killer_team_id]['first_kill_ind'] = 1\n",
    "            team_features[killer_team_id]['first_kill_time'] = time_of_event\n",
    "            self.first_kill_flag = False\n",
    "        team_features[killer_team_id]['num_kills'] += 1\n",
    "        \n",
    "    def process_game_end_event(self, event, team_features):\n",
    "        # We only call this method for the final event, so if for some reason there is no game_end event then discard the data \n",
    "        if event['eventType'] == \"game_end\":\n",
    "            event_time = event['eventTime']\n",
    "            time_of_event = GameFeaturesGenerator.get_event_time(self.game_start_time, event_time)\n",
    "            team_features['100']['game_end_time'] = time_of_event\n",
    "            team_features['200']['game_end_time'] = time_of_event\n",
    "            winning_team = event['winningTeam']\n",
    "            losing_team = GameFeaturesGenerator.flip_team_id(winning_team)\n",
    "            team_features[str(winning_team)]['outcome'] = 1\n",
    "            team_features[str(losing_team)]['outcome'] = 0\n",
    "        else:\n",
    "            raise Exception(\"Error: event is not a game_end event\")\n",
    "        \n",
    "    def process_game(self):\n",
    "        \"\"\"\n",
    "        Loops through all events in the game and updates the team features as they occur\n",
    "        :return: a pandas dataframe with the features for each team and label \"outcome\"\n",
    "        \"\"\"\n",
    "        for event in self.game_data:\n",
    "            if event['eventType'] == \"epic_monster_kill\":\n",
    "                self.process_epic_monster_kill_event(event, self.team_features)\n",
    "            elif event['eventType'] == \"building_destroyed\":\n",
    "                self.process_building_destroyed_event(event, self.team_features)\n",
    "            elif event['eventType'] == \"champion_kill\":\n",
    "                self.process_champion_kill_event(event, self.team_features)\n",
    "            elif event['eventType'] == \"game_end\":\n",
    "                self.process_game_end_event(event, self.team_features)\n",
    "            else:\n",
    "                continue\n",
    "        \n",
    "        # Now we have all the datapoints, we can create a dataframe with the team ID, label, start_time, and features\n",
    "        # First assign the rest of the metadata \n",
    "        rows = []\n",
    "        for team_id in [\"100\", \"200\"]:\n",
    "            # Assign metadata (same for both teams)\n",
    "            self.team_features[team_id]['platformGameId'] = self.platform_game_id\n",
    "            self.team_features[team_id]['esportsGameId'] = self.esports_game_id\n",
    "            self.team_features[team_id]['start_time'] = self.game_start_time\n",
    "            \n",
    "            # Assing team-specific data\n",
    "            self.team_features[team_id]['team_id'] = self.team_id_mapping[team_id]\n",
    "            rows.append(pd.DataFrame.from_dict(self.team_features[team_id], orient='index').transpose())\n",
    "        return pd.concat(rows, ignore_index=True)\n",
    "        \n",
    "        \n",
    "            "
   ],
   "metadata": {
    "collapsed": false,
    "ExecuteTime": {
     "end_time": "2023-09-04T20:35:29.623729Z",
     "start_time": "2023-09-04T20:35:29.569137900Z"
    }
   },
   "id": "56dbf25720a64038"
  },
  {
   "cell_type": "code",
   "execution_count": 89,
   "outputs": [],
   "source": [
    "MATCH_ID = '110310652412257228'\n",
    "mapping_data = mappings[MATCH_ID]\n",
    "PLATFORM_GAME_ID = mappings[MATCH_ID]['platformGameId']\n",
    "with open(f\"games/{PLATFORM_GAME_ID}.json\", \"r\") as json_file:\n",
    "    game_data = json.load(json_file)"
   ],
   "metadata": {
    "collapsed": false,
    "ExecuteTime": {
     "end_time": "2023-09-04T20:18:25.641029100Z",
     "start_time": "2023-09-04T20:18:22.799944100Z"
    }
   },
   "id": "75f1ce9e1f0b8af3"
  },
  {
   "cell_type": "code",
   "execution_count": 94,
   "outputs": [
    {
     "data": {
      "text/plain": "          platformGameId       esportsGameId             team_id  \\\n0  ESPORTSTMNT04:2685686  110310652412257228  109539873500788632   \n1  ESPORTSTMNT04:2685686  110310652412257228  109539776003058530   \n\n               start_time outcome first_riftHerald_ind first_riftHerald_time  \\\n0 2023-06-20 16:06:33.390       0                  NaN                   NaN   \n1 2023-06-20 16:06:33.390       1                    1               593.013   \n\n  num_riftHerald first_dragon_ind first_dragon_time  ... first_turret_ind  \\\n0              1              NaN               NaN  ...              NaN   \n1              1                1           593.013  ...                1   \n\n  first_turret_time num_turret first_inhibitor_ind first_inhibitor_time  \\\n0               NaN          3                 NaN                  NaN   \n1          1140.841         11                   1             1140.841   \n\n  num_inhibitor first_kill_ind first_kill_time num_kills game_end_time  \n0             0            NaN             NaN        21      2415.682  \n1             3              1         405.545        20      2415.682  \n\n[2 rows x 24 columns]",
      "text/html": "<div>\n<style scoped>\n    .dataframe tbody tr th:only-of-type {\n        vertical-align: middle;\n    }\n\n    .dataframe tbody tr th {\n        vertical-align: top;\n    }\n\n    .dataframe thead th {\n        text-align: right;\n    }\n</style>\n<table border=\"1\" class=\"dataframe\">\n  <thead>\n    <tr style=\"text-align: right;\">\n      <th></th>\n      <th>platformGameId</th>\n      <th>esportsGameId</th>\n      <th>team_id</th>\n      <th>start_time</th>\n      <th>outcome</th>\n      <th>first_riftHerald_ind</th>\n      <th>first_riftHerald_time</th>\n      <th>num_riftHerald</th>\n      <th>first_dragon_ind</th>\n      <th>first_dragon_time</th>\n      <th>...</th>\n      <th>first_turret_ind</th>\n      <th>first_turret_time</th>\n      <th>num_turret</th>\n      <th>first_inhibitor_ind</th>\n      <th>first_inhibitor_time</th>\n      <th>num_inhibitor</th>\n      <th>first_kill_ind</th>\n      <th>first_kill_time</th>\n      <th>num_kills</th>\n      <th>game_end_time</th>\n    </tr>\n  </thead>\n  <tbody>\n    <tr>\n      <th>0</th>\n      <td>ESPORTSTMNT04:2685686</td>\n      <td>110310652412257228</td>\n      <td>109539873500788632</td>\n      <td>2023-06-20 16:06:33.390</td>\n      <td>0</td>\n      <td>NaN</td>\n      <td>NaN</td>\n      <td>1</td>\n      <td>NaN</td>\n      <td>NaN</td>\n      <td>...</td>\n      <td>NaN</td>\n      <td>NaN</td>\n      <td>3</td>\n      <td>NaN</td>\n      <td>NaN</td>\n      <td>0</td>\n      <td>NaN</td>\n      <td>NaN</td>\n      <td>21</td>\n      <td>2415.682</td>\n    </tr>\n    <tr>\n      <th>1</th>\n      <td>ESPORTSTMNT04:2685686</td>\n      <td>110310652412257228</td>\n      <td>109539776003058530</td>\n      <td>2023-06-20 16:06:33.390</td>\n      <td>1</td>\n      <td>1</td>\n      <td>593.013</td>\n      <td>1</td>\n      <td>1</td>\n      <td>593.013</td>\n      <td>...</td>\n      <td>1</td>\n      <td>1140.841</td>\n      <td>11</td>\n      <td>1</td>\n      <td>1140.841</td>\n      <td>3</td>\n      <td>1</td>\n      <td>405.545</td>\n      <td>20</td>\n      <td>2415.682</td>\n    </tr>\n  </tbody>\n</table>\n<p>2 rows × 24 columns</p>\n</div>"
     },
     "execution_count": 94,
     "metadata": {},
     "output_type": "execute_result"
    }
   ],
   "source": [
    "GameFeaturesGenerator(game_data, mapping_data).process_game()"
   ],
   "metadata": {
    "collapsed": false,
    "ExecuteTime": {
     "end_time": "2023-09-04T20:35:31.211372Z",
     "start_time": "2023-09-04T20:35:31.166951300Z"
    }
   },
   "id": "bb79d3090d9f680c"
  },
  {
   "cell_type": "code",
   "execution_count": null,
   "outputs": [],
   "source": [
    "\"\"\"\n",
    " TODO: Note that this is all for TEAM based statistics, not necessarily carrying information about the individual players yet \n",
    " - Create features for \"stats_update\" type of events, which are the most granular\n",
    " - Do so in a way such that every time we pass the 5/10/15 minute markers, we compute stats@5, stats@10, stats@15, etc.\n",
    " - Can be very granular in computing the player features \n",
    " \n",
    " To actually test this framework \n",
    " - Take a tournament as test data and suppose you want to predict the final results of the tournament\n",
    " - For a given matchup (e.g. TSM vs. C9), you can use the features from the previous X=5/10/15 games of the tournament to predict the outcome of the next game\n",
    "\"\"\"\n"
   ],
   "metadata": {
    "collapsed": false
   },
   "id": "73d604751896e087"
  }
 ],
 "metadata": {
  "kernelspec": {
   "display_name": "Python 3",
   "language": "python",
   "name": "python3"
  },
  "language_info": {
   "codemirror_mode": {
    "name": "ipython",
    "version": 2
   },
   "file_extension": ".py",
   "mimetype": "text/x-python",
   "name": "python",
   "nbconvert_exporter": "python",
   "pygments_lexer": "ipython2",
   "version": "2.7.6"
  }
 },
 "nbformat": 4,
 "nbformat_minor": 5
}
