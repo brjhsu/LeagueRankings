{
 "cells": [
  {
   "cell_type": "code",
   "execution_count": 1,
   "id": "initial_id",
   "metadata": {
    "collapsed": true,
    "ExecuteTime": {
     "end_time": "2023-09-04T23:18:41.036649500Z",
     "start_time": "2023-09-04T23:18:40.438407800Z"
    }
   },
   "outputs": [],
   "source": [
    "import pandas as pd\n",
    "import numpy as np\n",
    "import os\n",
    "\n",
    "from data_processing.GameFeaturesGenerator import GameFeaturesGenerator\n",
    "from data_processing.utils.download_functions import *"
   ]
  },
  {
   "cell_type": "code",
   "execution_count": 228,
   "outputs": [],
   "source": [
    "# Write some utility functions\n",
    "def get_game_data_full(games_data):\n",
    "    # Iterate through t events of the match (could consist of one or many games) \n",
    "    # Look in the ['games'][t]['id'] field to get the game ID\n",
    "    # Look in the ['games'][t]['state'] field to see if the game is 'completed'\n",
    "    # Look in the ['games'][t]['teams'] field to get the team IDs\n",
    "    # Look in the ['games'][t]['teams'][x]['result']['outcome'] field to get the result of the game for each team\n",
    "    # We technically only need the 'state' to verify completion and 'id' to fetch details of the game, but load in other fields for verification\n",
    "    match_id = games_data['id']  # ID for the full match\n",
    "    game_tables = []\n",
    "    for game in games_data['games']:\n",
    "        game_state = game['state']\n",
    "        if game_state == 'completed':\n",
    "            game_id = game['id']  # ID for the specific games in the match \n",
    "            team_ids, team_outcomes = [], []\n",
    "            for team in game['teams']:\n",
    "                team_ids.append(team['id'])\n",
    "                team_outcome = 1 if team['result']['outcome']=='win' else 0\n",
    "                team_outcomes.append(team_outcome)\n",
    "            game_tables.append(pd.DataFrame({'match_id': match_id, 'esportsGameId': game_id, \n",
    "                                             'team_id_1': team_ids[0], 'outcome_1': team_outcomes[0],\n",
    "                                             'team_id_2': team_ids[1], 'outcome_2': team_outcomes[1]}, index=[0]))\n",
    "    return pd.concat(game_tables, ignore_index=True)\n",
    "\n",
    "def get_game_data_ids(games_data):\n",
    "    # Only returns the necessary information for lookup in the mapping table\n",
    "    game_ids = []\n",
    "    for game in games_data:\n",
    "        if game['state']=='completed':\n",
    "            game_ids.append(game['id'])\n",
    "    return pd.DataFrame({'esportsGameId': game_ids})"
   ],
   "metadata": {
    "collapsed": false,
    "ExecuteTime": {
     "end_time": "2023-09-06T05:42:18.060265400Z",
     "start_time": "2023-09-06T05:42:18.023727300Z"
    }
   },
   "id": "790c35bc7cdb748"
  },
  {
   "cell_type": "code",
   "execution_count": 230,
   "outputs": [
    {
     "data": {
      "text/plain": "['games',\n 'leagues.json',\n 'mapping_data.json',\n 'players.json',\n 'teams.json',\n 'tournaments.json']"
     },
     "execution_count": 230,
     "metadata": {},
     "output_type": "execute_result"
    }
   ],
   "source": [
    "os.chdir('esports-data')\n",
    "os.listdir()"
   ],
   "metadata": {
    "collapsed": false,
    "ExecuteTime": {
     "end_time": "2023-09-06T05:42:24.504822Z",
     "start_time": "2023-09-06T05:42:24.458630800Z"
    }
   },
   "id": "6a2bd8df5d164df3"
  },
  {
   "cell_type": "code",
   "execution_count": 4,
   "outputs": [],
   "source": [
    "# Read in mappings data\n",
    "with open(\"mapping_data.json\", \"r\") as json_file:\n",
    "   mappings_data = json.load(json_file)\n",
    "   \n",
    "mappings = {\n",
    "   esports_game[\"esportsGameId\"]: esports_game for esports_game in mappings_data\n",
    "}"
   ],
   "metadata": {
    "collapsed": false,
    "ExecuteTime": {
     "end_time": "2023-09-04T23:18:41.283176300Z",
     "start_time": "2023-09-04T23:18:41.067569100Z"
    }
   },
   "id": "7a020dfcf926423d"
  },
  {
   "cell_type": "code",
   "execution_count": 323,
   "outputs": [],
   "source": [
    "# Read in tournament data\n",
    "with open(\"tournaments.json\", \"r\") as json_file:\n",
    "   tournament_data_all = json.load(json_file)\n",
    "\n",
    "# Only retrieve LCS tournament data ['lcs_summer_2023']\n",
    "tournament_data = [x for x in tournament_data_all if x['slug']=='lec_spring_2023'][0]\n",
    "\n",
    "# Delete tournament data to save memory\n",
    "del tournament_data_all"
   ],
   "metadata": {
    "collapsed": false,
    "ExecuteTime": {
     "end_time": "2023-09-07T04:50:32.198796100Z",
     "start_time": "2023-09-07T04:50:21.506791500Z"
    }
   },
   "id": "a037557879250656"
  },
  {
   "cell_type": "code",
   "execution_count": 324,
   "outputs": [
    {
     "data": {
      "text/plain": "[['Regular Season', 1], ['Groups', 2], ['Playoffs', 1]]"
     },
     "execution_count": 324,
     "metadata": {},
     "output_type": "execute_result"
    }
   ],
   "source": [
    "# See what rounds are featured in the tournament \n",
    "def get_tournament_stages(tournament_data):\n",
    "    return [[x['name'], len(x['sections'])] for x in tournament_data['stages']]\n",
    "\n",
    "get_tournament_stages(tournament_data)"
   ],
   "metadata": {
    "collapsed": false,
    "ExecuteTime": {
     "end_time": "2023-09-07T04:51:32.221291700Z",
     "start_time": "2023-09-07T04:51:32.195164800Z"
    }
   },
   "id": "71291c3dbe40a0ad"
  },
  {
   "cell_type": "code",
   "execution_count": 328,
   "outputs": [
    {
     "data": {
      "text/plain": "{'id': '109919226378791856',\n 'type': 'normal',\n 'state': 'completed',\n 'mode': 'classic',\n 'strategy': {'type': 'bestOf', 'count': 3},\n 'teams': [{'id': '98767991926151025',\n   'side': 'blue',\n   'record': {'wins': 2, 'losses': 1, 'ties': 0},\n   'result': {'outcome': 'loss', 'gameWins': 1},\n   'players': [{'id': '105554439426664062', 'role': 'mid'},\n    {'id': '98767975968177297', 'role': 'mid'},\n    {'id': '99566406047571736', 'role': 'top'},\n    {'id': '105537190986692036', 'role': 'jungle'},\n    {'id': '98767975961872793', 'role': 'bottom'},\n    {'id': '99322214629661297', 'role': 'support'}]},\n  {'id': '101383793574360315',\n   'side': 'red',\n   'record': {'wins': 1, 'losses': 2, 'ties': 0},\n   'result': {'outcome': 'win', 'gameWins': 2},\n   'players': [{'id': '100482247959137902', 'role': 'mid'},\n    {'id': '105519724699493915', 'role': 'support'},\n    {'id': '99566406053904433', 'role': 'jungle'},\n    {'id': '103536921420956640', 'role': 'bottom'},\n    {'id': '102181576087728793', 'role': 'mid'},\n    {'id': '102181564372406674', 'role': 'top'}]}],\n 'games': [{'id': '109919226378791857',\n   'state': 'completed',\n   'number': 1,\n   'teams': [{'id': '98767991926151025',\n     'side': 'blue',\n     'result': {'outcome': 'win'}},\n    {'id': '101383793574360315',\n     'side': 'red',\n     'result': {'outcome': 'loss'}}]},\n  {'id': '109919226378791858',\n   'state': 'completed',\n   'number': 2,\n   'teams': [{'id': '101383793574360315',\n     'side': 'blue',\n     'result': {'outcome': 'win'}},\n    {'id': '98767991926151025',\n     'side': 'red',\n     'result': {'outcome': 'loss'}}]},\n  {'id': '109919226378791859',\n   'state': 'completed',\n   'number': 3,\n   'teams': [{'id': '98767991926151025',\n     'side': 'blue',\n     'result': {'outcome': 'loss'}},\n    {'id': '101383793574360315',\n     'side': 'red',\n     'result': {'outcome': 'win'}}]}]}"
     },
     "execution_count": 328,
     "metadata": {},
     "output_type": "execute_result"
    }
   ],
   "source": [
    "tournament_data['stages'][1]['sections'][1]['matches'][1]"
   ],
   "metadata": {
    "collapsed": false,
    "ExecuteTime": {
     "end_time": "2023-09-07T04:56:00.650091500Z",
     "start_time": "2023-09-07T04:56:00.597373300Z"
    }
   },
   "id": "17c5c7d214fca204"
  },
  {
   "cell_type": "code",
   "execution_count": 231,
   "outputs": [],
   "source": [
    "# Read in regular season games as training data \n",
    "reg_season_games = []\n",
    "for game_data in tournament_data['stages'][0]['sections'][0]['matches']:\n",
    "    reg_season_games.append(get_game_data_full(game_data))\n",
    "reg_season_games = pd.concat(reg_season_games)\n",
    "\n",
    "# Read in playoff games as testing data \n",
    "playoff_games = []\n",
    "for game_data in tournament_data['stages'][1]['sections'][0]['matches']:\n",
    "    playoff_games.append(get_game_data_full(game_data))\n",
    "playoff_games = pd.concat(playoff_games)"
   ],
   "metadata": {
    "collapsed": false,
    "ExecuteTime": {
     "end_time": "2023-09-06T05:42:34.644350Z",
     "start_time": "2023-09-06T05:42:34.530166900Z"
    }
   },
   "id": "a271416fb4d69e34"
  },
  {
   "cell_type": "code",
   "execution_count": 232,
   "outputs": [
    {
     "data": {
      "text/plain": "             match_id       esportsGameId          team_id_1  outcome_1  \\\n0  110303581088069312  110303581088134849  99294153828264740          0   \n0  110303581088331458  110303581088331459  98767991877340524          1   \n0  110303581088331460  110303581088331461  98767991877340524          1   \n0  110303581088331462  110303581088331463  98926509885559666          1   \n0  110303581088331464  110303581088331465  98767991877340524          1   \n\n            team_id_2  outcome_2  \n0   98767991877340524          1  \n0  103461966951059521          0  \n0   99294153824386385          0  \n0   98767991877340524          0  \n0   98926509892121852          0  ",
      "text/html": "<div>\n<style scoped>\n    .dataframe tbody tr th:only-of-type {\n        vertical-align: middle;\n    }\n\n    .dataframe tbody tr th {\n        vertical-align: top;\n    }\n\n    .dataframe thead th {\n        text-align: right;\n    }\n</style>\n<table border=\"1\" class=\"dataframe\">\n  <thead>\n    <tr style=\"text-align: right;\">\n      <th></th>\n      <th>match_id</th>\n      <th>esportsGameId</th>\n      <th>team_id_1</th>\n      <th>outcome_1</th>\n      <th>team_id_2</th>\n      <th>outcome_2</th>\n    </tr>\n  </thead>\n  <tbody>\n    <tr>\n      <th>0</th>\n      <td>110303581088069312</td>\n      <td>110303581088134849</td>\n      <td>99294153828264740</td>\n      <td>0</td>\n      <td>98767991877340524</td>\n      <td>1</td>\n    </tr>\n    <tr>\n      <th>0</th>\n      <td>110303581088331458</td>\n      <td>110303581088331459</td>\n      <td>98767991877340524</td>\n      <td>1</td>\n      <td>103461966951059521</td>\n      <td>0</td>\n    </tr>\n    <tr>\n      <th>0</th>\n      <td>110303581088331460</td>\n      <td>110303581088331461</td>\n      <td>98767991877340524</td>\n      <td>1</td>\n      <td>99294153824386385</td>\n      <td>0</td>\n    </tr>\n    <tr>\n      <th>0</th>\n      <td>110303581088331462</td>\n      <td>110303581088331463</td>\n      <td>98926509885559666</td>\n      <td>1</td>\n      <td>98767991877340524</td>\n      <td>0</td>\n    </tr>\n    <tr>\n      <th>0</th>\n      <td>110303581088331464</td>\n      <td>110303581088331465</td>\n      <td>98767991877340524</td>\n      <td>1</td>\n      <td>98926509892121852</td>\n      <td>0</td>\n    </tr>\n  </tbody>\n</table>\n</div>"
     },
     "execution_count": 232,
     "metadata": {},
     "output_type": "execute_result"
    }
   ],
   "source": [
    "reg_season_games.head()"
   ],
   "metadata": {
    "collapsed": false,
    "ExecuteTime": {
     "end_time": "2023-09-06T05:42:35.614792100Z",
     "start_time": "2023-09-06T05:42:35.583157300Z"
    }
   },
   "id": "cd9eaa34c483ca0c"
  },
  {
   "cell_type": "code",
   "execution_count": 233,
   "outputs": [
    {
     "data": {
      "text/plain": "             match_id       esportsGameId           team_id_1  outcome_1  \\\n0  110767955468214620  110767955468280157   98926509885559666          0   \n1  110767955468214620  110767955468411230   98926509885559666          0   \n2  110767955468214620  110767955468411231   98926509885559666          1   \n3  110767955468214620  110767955468411232   98926509885559666          0   \n0  110767955468411234  110767955468411235  103461966951059521          0   \n\n            team_id_2  outcome_2  \n0  106972778172351142          1  \n1  106972778172351142          1  \n2  106972778172351142          0  \n3  106972778172351142          1  \n0   98767991860392497          1  ",
      "text/html": "<div>\n<style scoped>\n    .dataframe tbody tr th:only-of-type {\n        vertical-align: middle;\n    }\n\n    .dataframe tbody tr th {\n        vertical-align: top;\n    }\n\n    .dataframe thead th {\n        text-align: right;\n    }\n</style>\n<table border=\"1\" class=\"dataframe\">\n  <thead>\n    <tr style=\"text-align: right;\">\n      <th></th>\n      <th>match_id</th>\n      <th>esportsGameId</th>\n      <th>team_id_1</th>\n      <th>outcome_1</th>\n      <th>team_id_2</th>\n      <th>outcome_2</th>\n    </tr>\n  </thead>\n  <tbody>\n    <tr>\n      <th>0</th>\n      <td>110767955468214620</td>\n      <td>110767955468280157</td>\n      <td>98926509885559666</td>\n      <td>0</td>\n      <td>106972778172351142</td>\n      <td>1</td>\n    </tr>\n    <tr>\n      <th>1</th>\n      <td>110767955468214620</td>\n      <td>110767955468411230</td>\n      <td>98926509885559666</td>\n      <td>0</td>\n      <td>106972778172351142</td>\n      <td>1</td>\n    </tr>\n    <tr>\n      <th>2</th>\n      <td>110767955468214620</td>\n      <td>110767955468411231</td>\n      <td>98926509885559666</td>\n      <td>1</td>\n      <td>106972778172351142</td>\n      <td>0</td>\n    </tr>\n    <tr>\n      <th>3</th>\n      <td>110767955468214620</td>\n      <td>110767955468411232</td>\n      <td>98926509885559666</td>\n      <td>0</td>\n      <td>106972778172351142</td>\n      <td>1</td>\n    </tr>\n    <tr>\n      <th>0</th>\n      <td>110767955468411234</td>\n      <td>110767955468411235</td>\n      <td>103461966951059521</td>\n      <td>0</td>\n      <td>98767991860392497</td>\n      <td>1</td>\n    </tr>\n  </tbody>\n</table>\n</div>"
     },
     "execution_count": 233,
     "metadata": {},
     "output_type": "execute_result"
    }
   ],
   "source": [
    "playoff_games.head()"
   ],
   "metadata": {
    "collapsed": false,
    "ExecuteTime": {
     "end_time": "2023-09-06T05:42:37.018979700Z",
     "start_time": "2023-09-06T05:42:36.957476300Z"
    }
   },
   "id": "aab6d81581d5cd68"
  },
  {
   "cell_type": "code",
   "execution_count": 234,
   "outputs": [
    {
     "name": "stdout",
     "output_type": "stream",
     "text": [
      "Match 110303581088462659 was not found\n"
     ]
    }
   ],
   "source": [
    "directory = \"games\"\n",
    "if not os.path.exists(directory):\n",
    "   os.makedirs(directory)\n",
    "\n",
    "# Load each game and process them\n",
    "game_rows = []\n",
    "for game_id in reg_season_games['esportsGameId']:\n",
    "    try:\n",
    "        game_mapping_data = mappings[game_id]\n",
    "        platform_game_id = game_mapping_data['platformGameId']\n",
    "        # download_gzip_and_write_to_json(f\"{directory}/{platform_game_id}\")\n",
    "        with open(f\"games/{platform_game_id}.json\", \"r\") as json_file:\n",
    "            game_data = json.load(json_file)\n",
    "        game_features = GameFeaturesGenerator(game_data, game_mapping_data).process_game()\n",
    "        game_rows.append(game_features)\n",
    "    except KeyError:\n",
    "        print(f\"Match {game_id} was not found\")\n"
   ],
   "metadata": {
    "collapsed": false,
    "ExecuteTime": {
     "end_time": "2023-09-06T05:46:32.071707400Z",
     "start_time": "2023-09-06T05:42:59.322522100Z"
    }
   },
   "id": "90ddad5e5bf244fc"
  },
  {
   "cell_type": "code",
   "execution_count": 274,
   "outputs": [
    {
     "data": {
      "text/plain": "          platformGameId       esportsGameId             team_id  \\\n0  ESPORTSTMNT02:3207804  110303581088134849   99294153828264740   \n1  ESPORTSTMNT02:3207804  110303581088134849   98767991877340524   \n0  ESPORTSTMNT02:3214865  110303581088331459   98767991877340524   \n1  ESPORTSTMNT02:3214865  110303581088331459  103461966951059521   \n0  ESPORTSTMNT01:3373466  110303581088331461   98767991877340524   \n\n               start_time outcome  first_riftHerald_ind first_riftHerald_time  \\\n0 2023-06-22 22:42:47.452       0                     0                   NaN   \n1 2023-06-22 22:42:47.452       1                     1               503.584   \n0 2023-06-30 21:08:08.783       1                     1               602.508   \n1 2023-06-30 21:08:08.783       0                     0                   NaN   \n0 2023-06-14 21:13:07.907       1                     1               428.612   \n\n  num_riftHerald  first_dragon_ind first_dragon_time  ... first_turret_ind  \\\n0              1                 0               NaN  ...                0   \n1              1                 1           503.584  ...                1   \n0              2                 1           602.508  ...                1   \n1              0                 0               NaN  ...                0   \n0              2                 1           428.612  ...                1   \n\n   first_turret_time num_turret first_inhibitor_ind  first_inhibitor_time  \\\n0                NaN          2                   0                   NaN   \n1           1041.249          9                   1              1041.249   \n0            815.009         11                   1               815.009   \n1                NaN          2                   0                   NaN   \n0             868.25          7                   1                868.25   \n\n  num_inhibitor first_kill_ind  first_kill_time num_kills game_end_time  \n0             0              0              NaN         3       1612.09  \n1             1              1          710.596        12       1612.09  \n0             2              1          185.993        25      1337.233  \n1             0              0              NaN         3      1337.233  \n0             1              0              NaN         9      1604.087  \n\n[5 rows x 24 columns]",
      "text/html": "<div>\n<style scoped>\n    .dataframe tbody tr th:only-of-type {\n        vertical-align: middle;\n    }\n\n    .dataframe tbody tr th {\n        vertical-align: top;\n    }\n\n    .dataframe thead th {\n        text-align: right;\n    }\n</style>\n<table border=\"1\" class=\"dataframe\">\n  <thead>\n    <tr style=\"text-align: right;\">\n      <th></th>\n      <th>platformGameId</th>\n      <th>esportsGameId</th>\n      <th>team_id</th>\n      <th>start_time</th>\n      <th>outcome</th>\n      <th>first_riftHerald_ind</th>\n      <th>first_riftHerald_time</th>\n      <th>num_riftHerald</th>\n      <th>first_dragon_ind</th>\n      <th>first_dragon_time</th>\n      <th>...</th>\n      <th>first_turret_ind</th>\n      <th>first_turret_time</th>\n      <th>num_turret</th>\n      <th>first_inhibitor_ind</th>\n      <th>first_inhibitor_time</th>\n      <th>num_inhibitor</th>\n      <th>first_kill_ind</th>\n      <th>first_kill_time</th>\n      <th>num_kills</th>\n      <th>game_end_time</th>\n    </tr>\n  </thead>\n  <tbody>\n    <tr>\n      <th>0</th>\n      <td>ESPORTSTMNT02:3207804</td>\n      <td>110303581088134849</td>\n      <td>99294153828264740</td>\n      <td>2023-06-22 22:42:47.452</td>\n      <td>0</td>\n      <td>0</td>\n      <td>NaN</td>\n      <td>1</td>\n      <td>0</td>\n      <td>NaN</td>\n      <td>...</td>\n      <td>0</td>\n      <td>NaN</td>\n      <td>2</td>\n      <td>0</td>\n      <td>NaN</td>\n      <td>0</td>\n      <td>0</td>\n      <td>NaN</td>\n      <td>3</td>\n      <td>1612.09</td>\n    </tr>\n    <tr>\n      <th>1</th>\n      <td>ESPORTSTMNT02:3207804</td>\n      <td>110303581088134849</td>\n      <td>98767991877340524</td>\n      <td>2023-06-22 22:42:47.452</td>\n      <td>1</td>\n      <td>1</td>\n      <td>503.584</td>\n      <td>1</td>\n      <td>1</td>\n      <td>503.584</td>\n      <td>...</td>\n      <td>1</td>\n      <td>1041.249</td>\n      <td>9</td>\n      <td>1</td>\n      <td>1041.249</td>\n      <td>1</td>\n      <td>1</td>\n      <td>710.596</td>\n      <td>12</td>\n      <td>1612.09</td>\n    </tr>\n    <tr>\n      <th>0</th>\n      <td>ESPORTSTMNT02:3214865</td>\n      <td>110303581088331459</td>\n      <td>98767991877340524</td>\n      <td>2023-06-30 21:08:08.783</td>\n      <td>1</td>\n      <td>1</td>\n      <td>602.508</td>\n      <td>2</td>\n      <td>1</td>\n      <td>602.508</td>\n      <td>...</td>\n      <td>1</td>\n      <td>815.009</td>\n      <td>11</td>\n      <td>1</td>\n      <td>815.009</td>\n      <td>2</td>\n      <td>1</td>\n      <td>185.993</td>\n      <td>25</td>\n      <td>1337.233</td>\n    </tr>\n    <tr>\n      <th>1</th>\n      <td>ESPORTSTMNT02:3214865</td>\n      <td>110303581088331459</td>\n      <td>103461966951059521</td>\n      <td>2023-06-30 21:08:08.783</td>\n      <td>0</td>\n      <td>0</td>\n      <td>NaN</td>\n      <td>0</td>\n      <td>0</td>\n      <td>NaN</td>\n      <td>...</td>\n      <td>0</td>\n      <td>NaN</td>\n      <td>2</td>\n      <td>0</td>\n      <td>NaN</td>\n      <td>0</td>\n      <td>0</td>\n      <td>NaN</td>\n      <td>3</td>\n      <td>1337.233</td>\n    </tr>\n    <tr>\n      <th>0</th>\n      <td>ESPORTSTMNT01:3373466</td>\n      <td>110303581088331461</td>\n      <td>98767991877340524</td>\n      <td>2023-06-14 21:13:07.907</td>\n      <td>1</td>\n      <td>1</td>\n      <td>428.612</td>\n      <td>2</td>\n      <td>1</td>\n      <td>428.612</td>\n      <td>...</td>\n      <td>1</td>\n      <td>868.25</td>\n      <td>7</td>\n      <td>1</td>\n      <td>868.25</td>\n      <td>1</td>\n      <td>0</td>\n      <td>NaN</td>\n      <td>9</td>\n      <td>1604.087</td>\n    </tr>\n  </tbody>\n</table>\n<p>5 rows × 24 columns</p>\n</div>"
     },
     "execution_count": 274,
     "metadata": {},
     "output_type": "execute_result"
    }
   ],
   "source": [
    "game_data_featurized = pd.concat(game_rows)\n",
    "# If the column name contains ['_ind'] then impute the missing values with 0\n",
    "for col in game_data_featurized.columns:\n",
    "    if '_ind' in col:\n",
    "        game_data_featurized[col] = game_data_featurized[col].fillna(0)\n",
    "\n",
    "game_data_featurized.head()"
   ],
   "metadata": {
    "collapsed": false,
    "ExecuteTime": {
     "end_time": "2023-09-06T06:46:26.184092Z",
     "start_time": "2023-09-06T06:46:26.146442200Z"
    }
   },
   "id": "cc499b68f1c5ba1"
  },
  {
   "cell_type": "code",
   "execution_count": 275,
   "outputs": [],
   "source": [
    "\"\"\"\n",
    "1. Sort the game_rows by team_id and start_time \n",
    "2. Create features for each team by averaging stats of the last 5 games that they played (or the most recent statistics if possible, with a \"num_prev_games) column\n",
    "    This yields a row of data where the features are the average of the last 5 games that the team played BEFORE the game of ['platformGameId', 'esportsGameId', 'team_id', 'start_time']\n",
    "3. Later join to the reg_season_games data for training the model \n",
    "4. Use the trained model to predict on the playoff_games data for testing \n",
    "\"\"\"\n",
    "\n",
    "non_game_features = ['platformGameId', 'esportsGameId', 'team_id', 'start_time']\n",
    "game_features = [x for x in game_data_featurized.columns if x not in non_game_features]\n",
    "\n",
    "all_team_ids = np.unique(game_data_featurized['team_id'])\n",
    "processed_game_data = []\n",
    "for team in all_team_ids:\n",
    "    team_data = game_data_featurized[game_data_featurized['team_id']==team]\n",
    "    team_data = team_data.sort_values(by=['start_time'])\n",
    "    team_data['num_prev_games'] = np.arange(len(team_data))\n",
    "    team_data = team_data.set_index('start_time')\n",
    "    # First lag by 1 game so that the current game is not included in the average\n",
    "    team_data_features = team_data[game_features].shift(1).rolling(window=50, min_periods=1).mean()\n",
    "    team_data[game_features] = team_data_features\n",
    "    # Drop rows where num_prev_games == 0 since we can't average over 0 games\n",
    "    team_data = team_data[team_data['num_prev_games']!=0]\n",
    "    # Add one more column to indicate if the row is the last of the team's games\n",
    "    team_data['last_game'] = team_data['num_prev_games']==team_data['num_prev_games'].max()\n",
    "    processed_game_data.append(team_data)\n"
   ],
   "metadata": {
    "collapsed": false,
    "ExecuteTime": {
     "end_time": "2023-09-06T06:46:26.767782800Z",
     "start_time": "2023-09-06T06:46:26.619159600Z"
    }
   },
   "id": "bfe854a16042bd8"
  },
  {
   "cell_type": "code",
   "execution_count": 276,
   "outputs": [],
   "source": [
    "game_data_featurized = pd.concat(processed_game_data)\n",
    "del processed_game_data"
   ],
   "metadata": {
    "collapsed": false,
    "ExecuteTime": {
     "end_time": "2023-09-06T06:46:29.330704200Z",
     "start_time": "2023-09-06T06:46:29.303258100Z"
    }
   },
   "id": "6398011ed40ea11c"
  },
  {
   "cell_type": "code",
   "execution_count": 277,
   "outputs": [
    {
     "data": {
      "text/plain": "                                platformGameId       esportsGameId  \\\nstart_time                                                           \n2023-06-16 01:27:24.238  ESPORTSTMNT04:2685321  110303581088331491   \n2023-06-16 22:52:41.066  ESPORTSTMNT01:3378516  110303581088331497   \n2023-06-22 00:52:03.902  ESPORTSTMNT02:3209665  110303581088331475   \n2023-06-23 00:38:49.113  ESPORTSTMNT02:3207834  110303581088331495   \n2023-06-23 23:04:00.293  ESPORTSTMNT02:3211039  110303581088331493   \n...                                        ...                 ...   \n2023-07-14 21:59:47.496  ESPORTSTMNT03:3187377  110303581088462651   \n2023-07-20 00:43:48.333  ESPORTSTMNT03:3192430  110303581088462645   \n2023-07-20 22:53:03.586  ESPORTSTMNT03:3192666  110303581088462647   \n2023-07-21 22:52:27.546  ESPORTSTMNT03:3194810  110303581088462639   \n2023-07-22 01:31:59.127  ESPORTSTMNT03:3194836  110754941553978394   \n\n                                    team_id   outcome  first_riftHerald_ind  \\\nstart_time                                                                    \n2023-06-16 01:27:24.238  103461966951059521  1.000000              1.000000   \n2023-06-16 22:52:41.066  103461966951059521  1.000000              0.500000   \n2023-06-22 00:52:03.902  103461966951059521  0.666667              0.666667   \n2023-06-23 00:38:49.113  103461966951059521  0.750000              0.750000   \n2023-06-23 23:04:00.293  103461966951059521  0.800000              0.600000   \n...                                     ...       ...                   ...   \n2023-07-14 21:59:47.496   99294153828264740  0.357143              0.285714   \n2023-07-20 00:43:48.333   99294153828264740  0.400000              0.333333   \n2023-07-20 22:53:03.586   99294153828264740  0.375000              0.375000   \n2023-07-21 22:52:27.546   99294153828264740  0.411765              0.352941   \n2023-07-22 01:31:59.127   99294153828264740  0.388889              0.388889   \n\n                         first_riftHerald_time  num_riftHerald  \\\nstart_time                                                       \n2023-06-16 01:27:24.238             465.809000        2.000000   \n2023-06-16 22:52:41.066             465.809000        1.000000   \n2023-06-22 00:52:03.902             427.855500        1.000000   \n2023-06-23 00:38:49.113             527.912333        1.250000   \n2023-06-23 23:04:00.293             527.912333        1.400000   \n...                                        ...             ...   \n2023-07-14 21:59:47.496             475.252250        0.642857   \n2023-07-20 00:43:48.333             466.117000        0.733333   \n2023-07-20 22:53:03.586             465.743500        0.687500   \n2023-07-21 22:52:27.546             465.743500        0.705882   \n2023-07-22 01:31:59.127             473.767571        0.777778   \n\n                         first_dragon_ind  first_dragon_time  num_dragon  ...  \\\nstart_time                                                                ...   \n2023-06-16 01:27:24.238          1.000000         465.809000    3.000000  ...   \n2023-06-16 22:52:41.066          0.500000         465.809000    3.500000  ...   \n2023-06-22 00:52:03.902          0.666667         427.855500    3.000000  ...   \n2023-06-23 00:38:49.113          0.750000         527.912333    2.750000  ...   \n2023-06-23 23:04:00.293          0.600000         527.912333    2.800000  ...   \n...                                   ...                ...         ...  ...   \n2023-07-14 21:59:47.496          0.285714         475.252250    2.071429  ...   \n2023-07-20 00:43:48.333          0.333333         466.117000    2.133333  ...   \n2023-07-20 22:53:03.586          0.375000         465.743500    2.125000  ...   \n2023-07-21 22:52:27.546          0.352941         465.743500    2.176471  ...   \n2023-07-22 01:31:59.127          0.388889         473.767571    2.222222  ...   \n\n                         num_turret  first_inhibitor_ind  \\\nstart_time                                                 \n2023-06-16 01:27:24.238    8.000000             1.000000   \n2023-06-16 22:52:41.066    8.000000             0.500000   \n2023-06-22 00:52:03.902    6.666667             0.333333   \n2023-06-23 00:38:49.113    7.250000             0.500000   \n2023-06-23 23:04:00.293    7.600000             0.600000   \n...                             ...                  ...   \n2023-07-14 21:59:47.496    4.714286             0.285714   \n2023-07-20 00:43:48.333    5.133333             0.333333   \n2023-07-20 22:53:03.586    5.125000             0.312500   \n2023-07-21 22:52:27.546    5.352941             0.294118   \n2023-07-22 01:31:59.127    5.277778             0.333333   \n\n                         first_inhibitor_time  num_inhibitor  first_kill_ind  \\\nstart_time                                                                     \n2023-06-16 01:27:24.238            899.621000       1.000000        1.000000   \n2023-06-16 22:52:41.066            899.621000       1.000000        0.500000   \n2023-06-22 00:52:03.902            899.621000       0.666667        0.666667   \n2023-06-23 00:38:49.113            949.078000       0.750000        0.750000   \n2023-06-23 23:04:00.293            988.545000       0.800000        0.800000   \n...                                       ...            ...             ...   \n2023-07-14 21:59:47.496            893.369000       0.642857        0.428571   \n2023-07-20 00:43:48.333            904.307000       0.733333        0.466667   \n2023-07-20 22:53:03.586            904.307000       0.687500        0.437500   \n2023-07-21 22:52:27.546            904.307000       0.764706        0.470588   \n2023-07-22 01:31:59.127            895.766833       0.722222        0.444444   \n\n                         first_kill_time  num_kills  game_end_time  \\\nstart_time                                                           \n2023-06-16 01:27:24.238       200.948000  16.000000    1492.375000   \n2023-06-16 22:52:41.066       200.948000  16.000000    1690.629000   \n2023-06-22 00:52:03.902       217.018500  14.000000    1843.170667   \n2023-06-23 00:38:49.113       327.077333  15.500000    1845.182750   \n2023-06-23 23:04:00.293       402.995500  15.600000    1935.653400   \n...                                  ...        ...            ...   \n2023-07-14 21:59:47.496       416.782500   8.357143    1904.102571   \n2023-07-20 00:43:48.333       391.692000   9.133333    1873.603467   \n2023-07-20 22:53:03.586       391.692000   9.000000    1916.555250   \n2023-07-21 22:52:27.546       363.483625   9.411765    1928.149765   \n2023-07-22 01:31:59.127       363.483625   9.611111    1943.336833   \n\n                         num_prev_games  last_game  \nstart_time                                          \n2023-06-16 01:27:24.238               1      False  \n2023-06-16 22:52:41.066               2      False  \n2023-06-22 00:52:03.902               3      False  \n2023-06-23 00:38:49.113               4      False  \n2023-06-23 23:04:00.293               5      False  \n...                                 ...        ...  \n2023-07-14 21:59:47.496              14      False  \n2023-07-20 00:43:48.333              15      False  \n2023-07-20 22:53:03.586              16      False  \n2023-07-21 22:52:27.546              17      False  \n2023-07-22 01:31:59.127              18       True  \n\n[172 rows x 25 columns]",
      "text/html": "<div>\n<style scoped>\n    .dataframe tbody tr th:only-of-type {\n        vertical-align: middle;\n    }\n\n    .dataframe tbody tr th {\n        vertical-align: top;\n    }\n\n    .dataframe thead th {\n        text-align: right;\n    }\n</style>\n<table border=\"1\" class=\"dataframe\">\n  <thead>\n    <tr style=\"text-align: right;\">\n      <th></th>\n      <th>platformGameId</th>\n      <th>esportsGameId</th>\n      <th>team_id</th>\n      <th>outcome</th>\n      <th>first_riftHerald_ind</th>\n      <th>first_riftHerald_time</th>\n      <th>num_riftHerald</th>\n      <th>first_dragon_ind</th>\n      <th>first_dragon_time</th>\n      <th>num_dragon</th>\n      <th>...</th>\n      <th>num_turret</th>\n      <th>first_inhibitor_ind</th>\n      <th>first_inhibitor_time</th>\n      <th>num_inhibitor</th>\n      <th>first_kill_ind</th>\n      <th>first_kill_time</th>\n      <th>num_kills</th>\n      <th>game_end_time</th>\n      <th>num_prev_games</th>\n      <th>last_game</th>\n    </tr>\n    <tr>\n      <th>start_time</th>\n      <th></th>\n      <th></th>\n      <th></th>\n      <th></th>\n      <th></th>\n      <th></th>\n      <th></th>\n      <th></th>\n      <th></th>\n      <th></th>\n      <th></th>\n      <th></th>\n      <th></th>\n      <th></th>\n      <th></th>\n      <th></th>\n      <th></th>\n      <th></th>\n      <th></th>\n      <th></th>\n      <th></th>\n    </tr>\n  </thead>\n  <tbody>\n    <tr>\n      <th>2023-06-16 01:27:24.238</th>\n      <td>ESPORTSTMNT04:2685321</td>\n      <td>110303581088331491</td>\n      <td>103461966951059521</td>\n      <td>1.000000</td>\n      <td>1.000000</td>\n      <td>465.809000</td>\n      <td>2.000000</td>\n      <td>1.000000</td>\n      <td>465.809000</td>\n      <td>3.000000</td>\n      <td>...</td>\n      <td>8.000000</td>\n      <td>1.000000</td>\n      <td>899.621000</td>\n      <td>1.000000</td>\n      <td>1.000000</td>\n      <td>200.948000</td>\n      <td>16.000000</td>\n      <td>1492.375000</td>\n      <td>1</td>\n      <td>False</td>\n    </tr>\n    <tr>\n      <th>2023-06-16 22:52:41.066</th>\n      <td>ESPORTSTMNT01:3378516</td>\n      <td>110303581088331497</td>\n      <td>103461966951059521</td>\n      <td>1.000000</td>\n      <td>0.500000</td>\n      <td>465.809000</td>\n      <td>1.000000</td>\n      <td>0.500000</td>\n      <td>465.809000</td>\n      <td>3.500000</td>\n      <td>...</td>\n      <td>8.000000</td>\n      <td>0.500000</td>\n      <td>899.621000</td>\n      <td>1.000000</td>\n      <td>0.500000</td>\n      <td>200.948000</td>\n      <td>16.000000</td>\n      <td>1690.629000</td>\n      <td>2</td>\n      <td>False</td>\n    </tr>\n    <tr>\n      <th>2023-06-22 00:52:03.902</th>\n      <td>ESPORTSTMNT02:3209665</td>\n      <td>110303581088331475</td>\n      <td>103461966951059521</td>\n      <td>0.666667</td>\n      <td>0.666667</td>\n      <td>427.855500</td>\n      <td>1.000000</td>\n      <td>0.666667</td>\n      <td>427.855500</td>\n      <td>3.000000</td>\n      <td>...</td>\n      <td>6.666667</td>\n      <td>0.333333</td>\n      <td>899.621000</td>\n      <td>0.666667</td>\n      <td>0.666667</td>\n      <td>217.018500</td>\n      <td>14.000000</td>\n      <td>1843.170667</td>\n      <td>3</td>\n      <td>False</td>\n    </tr>\n    <tr>\n      <th>2023-06-23 00:38:49.113</th>\n      <td>ESPORTSTMNT02:3207834</td>\n      <td>110303581088331495</td>\n      <td>103461966951059521</td>\n      <td>0.750000</td>\n      <td>0.750000</td>\n      <td>527.912333</td>\n      <td>1.250000</td>\n      <td>0.750000</td>\n      <td>527.912333</td>\n      <td>2.750000</td>\n      <td>...</td>\n      <td>7.250000</td>\n      <td>0.500000</td>\n      <td>949.078000</td>\n      <td>0.750000</td>\n      <td>0.750000</td>\n      <td>327.077333</td>\n      <td>15.500000</td>\n      <td>1845.182750</td>\n      <td>4</td>\n      <td>False</td>\n    </tr>\n    <tr>\n      <th>2023-06-23 23:04:00.293</th>\n      <td>ESPORTSTMNT02:3211039</td>\n      <td>110303581088331493</td>\n      <td>103461966951059521</td>\n      <td>0.800000</td>\n      <td>0.600000</td>\n      <td>527.912333</td>\n      <td>1.400000</td>\n      <td>0.600000</td>\n      <td>527.912333</td>\n      <td>2.800000</td>\n      <td>...</td>\n      <td>7.600000</td>\n      <td>0.600000</td>\n      <td>988.545000</td>\n      <td>0.800000</td>\n      <td>0.800000</td>\n      <td>402.995500</td>\n      <td>15.600000</td>\n      <td>1935.653400</td>\n      <td>5</td>\n      <td>False</td>\n    </tr>\n    <tr>\n      <th>...</th>\n      <td>...</td>\n      <td>...</td>\n      <td>...</td>\n      <td>...</td>\n      <td>...</td>\n      <td>...</td>\n      <td>...</td>\n      <td>...</td>\n      <td>...</td>\n      <td>...</td>\n      <td>...</td>\n      <td>...</td>\n      <td>...</td>\n      <td>...</td>\n      <td>...</td>\n      <td>...</td>\n      <td>...</td>\n      <td>...</td>\n      <td>...</td>\n      <td>...</td>\n      <td>...</td>\n    </tr>\n    <tr>\n      <th>2023-07-14 21:59:47.496</th>\n      <td>ESPORTSTMNT03:3187377</td>\n      <td>110303581088462651</td>\n      <td>99294153828264740</td>\n      <td>0.357143</td>\n      <td>0.285714</td>\n      <td>475.252250</td>\n      <td>0.642857</td>\n      <td>0.285714</td>\n      <td>475.252250</td>\n      <td>2.071429</td>\n      <td>...</td>\n      <td>4.714286</td>\n      <td>0.285714</td>\n      <td>893.369000</td>\n      <td>0.642857</td>\n      <td>0.428571</td>\n      <td>416.782500</td>\n      <td>8.357143</td>\n      <td>1904.102571</td>\n      <td>14</td>\n      <td>False</td>\n    </tr>\n    <tr>\n      <th>2023-07-20 00:43:48.333</th>\n      <td>ESPORTSTMNT03:3192430</td>\n      <td>110303581088462645</td>\n      <td>99294153828264740</td>\n      <td>0.400000</td>\n      <td>0.333333</td>\n      <td>466.117000</td>\n      <td>0.733333</td>\n      <td>0.333333</td>\n      <td>466.117000</td>\n      <td>2.133333</td>\n      <td>...</td>\n      <td>5.133333</td>\n      <td>0.333333</td>\n      <td>904.307000</td>\n      <td>0.733333</td>\n      <td>0.466667</td>\n      <td>391.692000</td>\n      <td>9.133333</td>\n      <td>1873.603467</td>\n      <td>15</td>\n      <td>False</td>\n    </tr>\n    <tr>\n      <th>2023-07-20 22:53:03.586</th>\n      <td>ESPORTSTMNT03:3192666</td>\n      <td>110303581088462647</td>\n      <td>99294153828264740</td>\n      <td>0.375000</td>\n      <td>0.375000</td>\n      <td>465.743500</td>\n      <td>0.687500</td>\n      <td>0.375000</td>\n      <td>465.743500</td>\n      <td>2.125000</td>\n      <td>...</td>\n      <td>5.125000</td>\n      <td>0.312500</td>\n      <td>904.307000</td>\n      <td>0.687500</td>\n      <td>0.437500</td>\n      <td>391.692000</td>\n      <td>9.000000</td>\n      <td>1916.555250</td>\n      <td>16</td>\n      <td>False</td>\n    </tr>\n    <tr>\n      <th>2023-07-21 22:52:27.546</th>\n      <td>ESPORTSTMNT03:3194810</td>\n      <td>110303581088462639</td>\n      <td>99294153828264740</td>\n      <td>0.411765</td>\n      <td>0.352941</td>\n      <td>465.743500</td>\n      <td>0.705882</td>\n      <td>0.352941</td>\n      <td>465.743500</td>\n      <td>2.176471</td>\n      <td>...</td>\n      <td>5.352941</td>\n      <td>0.294118</td>\n      <td>904.307000</td>\n      <td>0.764706</td>\n      <td>0.470588</td>\n      <td>363.483625</td>\n      <td>9.411765</td>\n      <td>1928.149765</td>\n      <td>17</td>\n      <td>False</td>\n    </tr>\n    <tr>\n      <th>2023-07-22 01:31:59.127</th>\n      <td>ESPORTSTMNT03:3194836</td>\n      <td>110754941553978394</td>\n      <td>99294153828264740</td>\n      <td>0.388889</td>\n      <td>0.388889</td>\n      <td>473.767571</td>\n      <td>0.777778</td>\n      <td>0.388889</td>\n      <td>473.767571</td>\n      <td>2.222222</td>\n      <td>...</td>\n      <td>5.277778</td>\n      <td>0.333333</td>\n      <td>895.766833</td>\n      <td>0.722222</td>\n      <td>0.444444</td>\n      <td>363.483625</td>\n      <td>9.611111</td>\n      <td>1943.336833</td>\n      <td>18</td>\n      <td>True</td>\n    </tr>\n  </tbody>\n</table>\n<p>172 rows × 25 columns</p>\n</div>"
     },
     "execution_count": 277,
     "metadata": {},
     "output_type": "execute_result"
    }
   ],
   "source": [
    "game_data_featurized"
   ],
   "metadata": {
    "collapsed": false,
    "ExecuteTime": {
     "end_time": "2023-09-06T06:46:30.084481900Z",
     "start_time": "2023-09-06T06:46:30.041597600Z"
    }
   },
   "id": "2e53a5f2cd45e72b"
  },
  {
   "cell_type": "code",
   "execution_count": 278,
   "outputs": [
    {
     "data": {
      "text/plain": "             match_id       esportsGameId          team_id_1  outcome_1  \\\n0  110303581088069312  110303581088134849  99294153828264740          0   \n0  110303581088331458  110303581088331459  98767991877340524          1   \n0  110303581088331460  110303581088331461  98767991877340524          1   \n0  110303581088331462  110303581088331463  98926509885559666          1   \n0  110303581088331464  110303581088331465  98767991877340524          1   \n\n            team_id_2  outcome_2  \n0   98767991877340524          1  \n0  103461966951059521          0  \n0   99294153824386385          0  \n0   98767991877340524          0  \n0   98926509892121852          0  ",
      "text/html": "<div>\n<style scoped>\n    .dataframe tbody tr th:only-of-type {\n        vertical-align: middle;\n    }\n\n    .dataframe tbody tr th {\n        vertical-align: top;\n    }\n\n    .dataframe thead th {\n        text-align: right;\n    }\n</style>\n<table border=\"1\" class=\"dataframe\">\n  <thead>\n    <tr style=\"text-align: right;\">\n      <th></th>\n      <th>match_id</th>\n      <th>esportsGameId</th>\n      <th>team_id_1</th>\n      <th>outcome_1</th>\n      <th>team_id_2</th>\n      <th>outcome_2</th>\n    </tr>\n  </thead>\n  <tbody>\n    <tr>\n      <th>0</th>\n      <td>110303581088069312</td>\n      <td>110303581088134849</td>\n      <td>99294153828264740</td>\n      <td>0</td>\n      <td>98767991877340524</td>\n      <td>1</td>\n    </tr>\n    <tr>\n      <th>0</th>\n      <td>110303581088331458</td>\n      <td>110303581088331459</td>\n      <td>98767991877340524</td>\n      <td>1</td>\n      <td>103461966951059521</td>\n      <td>0</td>\n    </tr>\n    <tr>\n      <th>0</th>\n      <td>110303581088331460</td>\n      <td>110303581088331461</td>\n      <td>98767991877340524</td>\n      <td>1</td>\n      <td>99294153824386385</td>\n      <td>0</td>\n    </tr>\n    <tr>\n      <th>0</th>\n      <td>110303581088331462</td>\n      <td>110303581088331463</td>\n      <td>98926509885559666</td>\n      <td>1</td>\n      <td>98767991877340524</td>\n      <td>0</td>\n    </tr>\n    <tr>\n      <th>0</th>\n      <td>110303581088331464</td>\n      <td>110303581088331465</td>\n      <td>98767991877340524</td>\n      <td>1</td>\n      <td>98926509892121852</td>\n      <td>0</td>\n    </tr>\n  </tbody>\n</table>\n</div>"
     },
     "execution_count": 278,
     "metadata": {},
     "output_type": "execute_result"
    }
   ],
   "source": [
    "# Join reg_season_games with game_data_featurized based on reg_season_games['esportsGameId'] == game_data_featurized['esportsGameId']\n",
    "# For the team features, join on reg_season_games['team_id_1'] == game_data_featurized['team_id'] and reg_season_games['team_id_2'] == game_data_featurized['team_id']\n",
    "# When doing so, rename the features of game_data_featurized to be team_1_feature and team_2_feature\n",
    "def rename_features(df, features, prefix):\n",
    "    return df.rename(columns=dict(zip(features, [f'{prefix}_{x}' for x in features])))\n",
    "\n",
    "def get_last_game(df):\n",
    "    return df[df['last_game']==True]\n",
    "\n",
    "reg_season_games.head()"
   ],
   "metadata": {
    "collapsed": false,
    "ExecuteTime": {
     "end_time": "2023-09-06T06:46:37.771968700Z",
     "start_time": "2023-09-06T06:46:37.746354100Z"
    }
   },
   "id": "b6f2950db1e2f75c"
  },
  {
   "cell_type": "code",
   "execution_count": 279,
   "outputs": [
    {
     "data": {
      "text/plain": "(172, 54)"
     },
     "execution_count": 279,
     "metadata": {},
     "output_type": "execute_result"
    }
   ],
   "source": [
    "# First process reg_season_games data by flipping the team_id_1 and team_id_2 and outcome_1 and outcome_2\n",
    "def swap_columns(df, col1, col2):\n",
    "    colvals = df[col1].copy()\n",
    "    df[col1] = df[col2]\n",
    "    df[col2] = colvals\n",
    "    return df\n",
    "\n",
    "reg_season_games_flipped = reg_season_games.copy(deep=True)\n",
    "reg_season_games_flipped = swap_columns(reg_season_games_flipped, 'team_id_1', 'team_id_2')\n",
    "reg_season_games_flipped = swap_columns(reg_season_games_flipped, 'outcome_1', 'outcome_2')\n",
    "\n",
    "reg_season_games_full = pd.concat([reg_season_games, reg_season_games_flipped])\n",
    "# Join reg_season_games with game_data_featurized based on reg_season_games['esportsGameId', 'team_id_1'] == game_data_featurized['esportsGameId', 'team_id']\n",
    "reg_season_games_full = reg_season_games_full.merge(rename_features(game_data_featurized, game_features, \"team_1\"), \n",
    "                                               how='left', \n",
    "                                               left_on=['esportsGameId', 'team_id_1'], \n",
    "                                               right_on=['esportsGameId', 'team_id'])\n",
    "reg_season_games_full = reg_season_games_full.merge(rename_features(game_data_featurized, game_features, \"team_2\"), \n",
    "                                                    how='left', \n",
    "                                                    left_on=['esportsGameId', 'team_id_2'], \n",
    "                                                    right_on=['esportsGameId', 'team_id'])\n",
    "# drop the games where the outcome is NaN, those games are when one team has not had any games yet\n",
    "reg_season_games_full = reg_season_games_full.dropna(subset=['team_1_outcome', 'team_2_outcome'])\n",
    "\n",
    "reg_season_games_full.shape"
   ],
   "metadata": {
    "collapsed": false,
    "ExecuteTime": {
     "end_time": "2023-09-06T06:46:39.089842700Z",
     "start_time": "2023-09-06T06:46:39.029994500Z"
    }
   },
   "id": "90c99e1f3ede8558"
  },
  {
   "cell_type": "code",
   "execution_count": 307,
   "outputs": [],
   "source": [
    "with open(\"teams.json\", \"r\") as json_file:\n",
    "   teams_data = json.load(json_file)\n",
    "   \n",
    "# Create a table for the teams data with team_id as one column and team_name as another column\n",
    "teams_table = pd.DataFrame({'team_id': [x['team_id'] for x in teams_data], 'team_name': [x['name'] for x in teams_data]})\n",
    "\n",
    "del teams_data"
   ],
   "metadata": {
    "collapsed": false,
    "ExecuteTime": {
     "end_time": "2023-09-06T07:04:52.138011100Z",
     "start_time": "2023-09-06T07:04:52.113042Z"
    }
   },
   "id": "becd532bbc519cf6"
  },
  {
   "cell_type": "code",
   "execution_count": 310,
   "outputs": [
    {
     "data": {
      "text/plain": "                team_name             team_id   outcome\n4                  Cloud9   98767991877340524  0.722222\n9        Golden Guardians   99294153824386385  0.722222\n0        Evil Geniuses LG  103461966951059521  0.600000\n1                     NRG  106972778172351142  0.529412\n7       Team Liquid Honda   98926509885559666  0.529412\n2                     TSM   98767991860392497  0.470588\n3                     TSM   98767991860392497  0.470588\n6                Dignitas   98926509883054987  0.411765\n10            100 Thieves   99294153828264740  0.388889\n8                FlyQuest   98926509892121852  0.352941\n5   Immortals Progressive   98767991930907107  0.250000",
      "text/html": "<div>\n<style scoped>\n    .dataframe tbody tr th:only-of-type {\n        vertical-align: middle;\n    }\n\n    .dataframe tbody tr th {\n        vertical-align: top;\n    }\n\n    .dataframe thead th {\n        text-align: right;\n    }\n</style>\n<table border=\"1\" class=\"dataframe\">\n  <thead>\n    <tr style=\"text-align: right;\">\n      <th></th>\n      <th>team_name</th>\n      <th>team_id</th>\n      <th>outcome</th>\n    </tr>\n  </thead>\n  <tbody>\n    <tr>\n      <th>4</th>\n      <td>Cloud9</td>\n      <td>98767991877340524</td>\n      <td>0.722222</td>\n    </tr>\n    <tr>\n      <th>9</th>\n      <td>Golden Guardians</td>\n      <td>99294153824386385</td>\n      <td>0.722222</td>\n    </tr>\n    <tr>\n      <th>0</th>\n      <td>Evil Geniuses LG</td>\n      <td>103461966951059521</td>\n      <td>0.600000</td>\n    </tr>\n    <tr>\n      <th>1</th>\n      <td>NRG</td>\n      <td>106972778172351142</td>\n      <td>0.529412</td>\n    </tr>\n    <tr>\n      <th>7</th>\n      <td>Team Liquid Honda</td>\n      <td>98926509885559666</td>\n      <td>0.529412</td>\n    </tr>\n    <tr>\n      <th>2</th>\n      <td>TSM</td>\n      <td>98767991860392497</td>\n      <td>0.470588</td>\n    </tr>\n    <tr>\n      <th>3</th>\n      <td>TSM</td>\n      <td>98767991860392497</td>\n      <td>0.470588</td>\n    </tr>\n    <tr>\n      <th>6</th>\n      <td>Dignitas</td>\n      <td>98926509883054987</td>\n      <td>0.411765</td>\n    </tr>\n    <tr>\n      <th>10</th>\n      <td>100 Thieves</td>\n      <td>99294153828264740</td>\n      <td>0.388889</td>\n    </tr>\n    <tr>\n      <th>8</th>\n      <td>FlyQuest</td>\n      <td>98926509892121852</td>\n      <td>0.352941</td>\n    </tr>\n    <tr>\n      <th>5</th>\n      <td>Immortals Progressive</td>\n      <td>98767991930907107</td>\n      <td>0.250000</td>\n    </tr>\n  </tbody>\n</table>\n</div>"
     },
     "execution_count": 310,
     "metadata": {},
     "output_type": "execute_result"
    }
   ],
   "source": [
    "get_last_game(game_data_featurized).merge(teams_table, how='inner', left_on='team_id', right_on='team_id')[['team_name', 'team_id', 'outcome']].sort_values(by=['outcome'], ascending=False)"
   ],
   "metadata": {
    "collapsed": false,
    "ExecuteTime": {
     "end_time": "2023-09-06T07:06:17.872509100Z",
     "start_time": "2023-09-06T07:06:17.848551600Z"
    }
   },
   "id": "2ab8434835f69d5c"
  },
  {
   "cell_type": "code",
   "execution_count": 281,
   "outputs": [],
   "source": [
    "# Join playoff_games with game_data_featurized based on playoff_games['team_id_1'] == game_data_featurized['team_id']\n",
    "# Since we only want the last game of each team, we can use the get_last_game function to get the last game of each team (don't need esportGameId as unique identifier anymore)\n",
    "playoff_games_full = playoff_games.merge(rename_features(get_last_game(game_data_featurized), game_features, \"team_1\"), \n",
    "                                         how='left', \n",
    "                                         left_on=['team_id_1'], \n",
    "                                         right_on=['team_id'])\n",
    "playoff_games_full = playoff_games_full.merge(rename_features(get_last_game(game_data_featurized), game_features, \"team_2\"), \n",
    "                                              how='left', \n",
    "                                              left_on=['team_id_2'], \n",
    "                                              right_on=['team_id'])"
   ],
   "metadata": {
    "collapsed": false,
    "ExecuteTime": {
     "end_time": "2023-09-06T06:46:58.983246600Z",
     "start_time": "2023-09-06T06:46:58.918483800Z"
    }
   },
   "id": "5cf2253d8d082a16"
  },
  {
   "cell_type": "code",
   "execution_count": 318,
   "outputs": [
    {
     "name": "stdout",
     "output_type": "stream",
     "text": [
      "Fitting 5 folds for each of 30 candidates, totalling 150 fits\n"
     ]
    },
    {
     "data": {
      "text/plain": "RandomizedSearchCV(cv=5,\n                   estimator=XGBClassifier(base_score=None, booster=None,\n                                           callbacks=None,\n                                           colsample_bylevel=None,\n                                           colsample_bynode=None,\n                                           colsample_bytree=None,\n                                           early_stopping_rounds=None,\n                                           enable_categorical=False,\n                                           eval_metric=None, feature_types=None,\n                                           gamma=None, gpu_id=None,\n                                           grow_policy=None,\n                                           importance_type=None,\n                                           interaction_constraints=None,\n                                           learning_rate...\n                                           n_estimators=100, n_jobs=None,\n                                           num_parallel_tree=None,\n                                           predictor=None, random_state=None, ...),\n                   n_iter=30, n_jobs=-1,\n                   param_distributions={'colsample_bytree': [1],\n                                        'gamma': [0, 0.1, 0.2],\n                                        'learning_rate': [0.01, 0.1, 0.2],\n                                        'max_depth': [5, 10, 15],\n                                        'n_estimators': [50, 100, 200],\n                                        'objective': ['binary:logistic'],\n                                        'reg_alpha': [0, 0.1, 0.2],\n                                        'subsample': [0.5, 0.75, 1]},\n                   scoring='accuracy', verbose=3)",
      "text/html": "<style>#sk-container-id-23 {color: black;}#sk-container-id-23 pre{padding: 0;}#sk-container-id-23 div.sk-toggleable {background-color: white;}#sk-container-id-23 label.sk-toggleable__label {cursor: pointer;display: block;width: 100%;margin-bottom: 0;padding: 0.3em;box-sizing: border-box;text-align: center;}#sk-container-id-23 label.sk-toggleable__label-arrow:before {content: \"▸\";float: left;margin-right: 0.25em;color: #696969;}#sk-container-id-23 label.sk-toggleable__label-arrow:hover:before {color: black;}#sk-container-id-23 div.sk-estimator:hover label.sk-toggleable__label-arrow:before {color: black;}#sk-container-id-23 div.sk-toggleable__content {max-height: 0;max-width: 0;overflow: hidden;text-align: left;background-color: #f0f8ff;}#sk-container-id-23 div.sk-toggleable__content pre {margin: 0.2em;color: black;border-radius: 0.25em;background-color: #f0f8ff;}#sk-container-id-23 input.sk-toggleable__control:checked~div.sk-toggleable__content {max-height: 200px;max-width: 100%;overflow: auto;}#sk-container-id-23 input.sk-toggleable__control:checked~label.sk-toggleable__label-arrow:before {content: \"▾\";}#sk-container-id-23 div.sk-estimator input.sk-toggleable__control:checked~label.sk-toggleable__label {background-color: #d4ebff;}#sk-container-id-23 div.sk-label input.sk-toggleable__control:checked~label.sk-toggleable__label {background-color: #d4ebff;}#sk-container-id-23 input.sk-hidden--visually {border: 0;clip: rect(1px 1px 1px 1px);clip: rect(1px, 1px, 1px, 1px);height: 1px;margin: -1px;overflow: hidden;padding: 0;position: absolute;width: 1px;}#sk-container-id-23 div.sk-estimator {font-family: monospace;background-color: #f0f8ff;border: 1px dotted black;border-radius: 0.25em;box-sizing: border-box;margin-bottom: 0.5em;}#sk-container-id-23 div.sk-estimator:hover {background-color: #d4ebff;}#sk-container-id-23 div.sk-parallel-item::after {content: \"\";width: 100%;border-bottom: 1px solid gray;flex-grow: 1;}#sk-container-id-23 div.sk-label:hover label.sk-toggleable__label {background-color: #d4ebff;}#sk-container-id-23 div.sk-serial::before {content: \"\";position: absolute;border-left: 1px solid gray;box-sizing: border-box;top: 0;bottom: 0;left: 50%;z-index: 0;}#sk-container-id-23 div.sk-serial {display: flex;flex-direction: column;align-items: center;background-color: white;padding-right: 0.2em;padding-left: 0.2em;position: relative;}#sk-container-id-23 div.sk-item {position: relative;z-index: 1;}#sk-container-id-23 div.sk-parallel {display: flex;align-items: stretch;justify-content: center;background-color: white;position: relative;}#sk-container-id-23 div.sk-item::before, #sk-container-id-23 div.sk-parallel-item::before {content: \"\";position: absolute;border-left: 1px solid gray;box-sizing: border-box;top: 0;bottom: 0;left: 50%;z-index: -1;}#sk-container-id-23 div.sk-parallel-item {display: flex;flex-direction: column;z-index: 1;position: relative;background-color: white;}#sk-container-id-23 div.sk-parallel-item:first-child::after {align-self: flex-end;width: 50%;}#sk-container-id-23 div.sk-parallel-item:last-child::after {align-self: flex-start;width: 50%;}#sk-container-id-23 div.sk-parallel-item:only-child::after {width: 0;}#sk-container-id-23 div.sk-dashed-wrapped {border: 1px dashed gray;margin: 0 0.4em 0.5em 0.4em;box-sizing: border-box;padding-bottom: 0.4em;background-color: white;}#sk-container-id-23 div.sk-label label {font-family: monospace;font-weight: bold;display: inline-block;line-height: 1.2em;}#sk-container-id-23 div.sk-label-container {text-align: center;}#sk-container-id-23 div.sk-container {/* jupyter's `normalize.less` sets `[hidden] { display: none; }` but bootstrap.min.css set `[hidden] { display: none !important; }` so we also need the `!important` here to be able to override the default hidden behavior on the sphinx rendered scikit-learn.org. See: https://github.com/scikit-learn/scikit-learn/issues/21755 */display: inline-block !important;position: relative;}#sk-container-id-23 div.sk-text-repr-fallback {display: none;}</style><div id=\"sk-container-id-23\" class=\"sk-top-container\"><div class=\"sk-text-repr-fallback\"><pre>RandomizedSearchCV(cv=5,\n                   estimator=XGBClassifier(base_score=None, booster=None,\n                                           callbacks=None,\n                                           colsample_bylevel=None,\n                                           colsample_bynode=None,\n                                           colsample_bytree=None,\n                                           early_stopping_rounds=None,\n                                           enable_categorical=False,\n                                           eval_metric=None, feature_types=None,\n                                           gamma=None, gpu_id=None,\n                                           grow_policy=None,\n                                           importance_type=None,\n                                           interaction_constraints=None,\n                                           learning_rate...\n                                           n_estimators=100, n_jobs=None,\n                                           num_parallel_tree=None,\n                                           predictor=None, random_state=None, ...),\n                   n_iter=30, n_jobs=-1,\n                   param_distributions={&#x27;colsample_bytree&#x27;: [1],\n                                        &#x27;gamma&#x27;: [0, 0.1, 0.2],\n                                        &#x27;learning_rate&#x27;: [0.01, 0.1, 0.2],\n                                        &#x27;max_depth&#x27;: [5, 10, 15],\n                                        &#x27;n_estimators&#x27;: [50, 100, 200],\n                                        &#x27;objective&#x27;: [&#x27;binary:logistic&#x27;],\n                                        &#x27;reg_alpha&#x27;: [0, 0.1, 0.2],\n                                        &#x27;subsample&#x27;: [0.5, 0.75, 1]},\n                   scoring=&#x27;accuracy&#x27;, verbose=3)</pre><b>In a Jupyter environment, please rerun this cell to show the HTML representation or trust the notebook. <br />On GitHub, the HTML representation is unable to render, please try loading this page with nbviewer.org.</b></div><div class=\"sk-container\" hidden><div class=\"sk-item sk-dashed-wrapped\"><div class=\"sk-label-container\"><div class=\"sk-label sk-toggleable\"><input class=\"sk-toggleable__control sk-hidden--visually\" id=\"sk-estimator-id-53\" type=\"checkbox\" ><label for=\"sk-estimator-id-53\" class=\"sk-toggleable__label sk-toggleable__label-arrow\">RandomizedSearchCV</label><div class=\"sk-toggleable__content\"><pre>RandomizedSearchCV(cv=5,\n                   estimator=XGBClassifier(base_score=None, booster=None,\n                                           callbacks=None,\n                                           colsample_bylevel=None,\n                                           colsample_bynode=None,\n                                           colsample_bytree=None,\n                                           early_stopping_rounds=None,\n                                           enable_categorical=False,\n                                           eval_metric=None, feature_types=None,\n                                           gamma=None, gpu_id=None,\n                                           grow_policy=None,\n                                           importance_type=None,\n                                           interaction_constraints=None,\n                                           learning_rate...\n                                           n_estimators=100, n_jobs=None,\n                                           num_parallel_tree=None,\n                                           predictor=None, random_state=None, ...),\n                   n_iter=30, n_jobs=-1,\n                   param_distributions={&#x27;colsample_bytree&#x27;: [1],\n                                        &#x27;gamma&#x27;: [0, 0.1, 0.2],\n                                        &#x27;learning_rate&#x27;: [0.01, 0.1, 0.2],\n                                        &#x27;max_depth&#x27;: [5, 10, 15],\n                                        &#x27;n_estimators&#x27;: [50, 100, 200],\n                                        &#x27;objective&#x27;: [&#x27;binary:logistic&#x27;],\n                                        &#x27;reg_alpha&#x27;: [0, 0.1, 0.2],\n                                        &#x27;subsample&#x27;: [0.5, 0.75, 1]},\n                   scoring=&#x27;accuracy&#x27;, verbose=3)</pre></div></div></div><div class=\"sk-parallel\"><div class=\"sk-parallel-item\"><div class=\"sk-item\"><div class=\"sk-label-container\"><div class=\"sk-label sk-toggleable\"><input class=\"sk-toggleable__control sk-hidden--visually\" id=\"sk-estimator-id-54\" type=\"checkbox\" ><label for=\"sk-estimator-id-54\" class=\"sk-toggleable__label sk-toggleable__label-arrow\">estimator: XGBClassifier</label><div class=\"sk-toggleable__content\"><pre>XGBClassifier(base_score=None, booster=None, callbacks=None,\n              colsample_bylevel=None, colsample_bynode=None,\n              colsample_bytree=None, early_stopping_rounds=None,\n              enable_categorical=False, eval_metric=None, feature_types=None,\n              gamma=None, gpu_id=None, grow_policy=None, importance_type=None,\n              interaction_constraints=None, learning_rate=None, max_bin=None,\n              max_cat_threshold=None, max_cat_to_onehot=None,\n              max_delta_step=None, max_depth=None, max_leaves=None,\n              min_child_weight=None, missing=nan, monotone_constraints=None,\n              n_estimators=100, n_jobs=None, num_parallel_tree=None,\n              predictor=None, random_state=None, ...)</pre></div></div></div><div class=\"sk-serial\"><div class=\"sk-item\"><div class=\"sk-estimator sk-toggleable\"><input class=\"sk-toggleable__control sk-hidden--visually\" id=\"sk-estimator-id-55\" type=\"checkbox\" ><label for=\"sk-estimator-id-55\" class=\"sk-toggleable__label sk-toggleable__label-arrow\">XGBClassifier</label><div class=\"sk-toggleable__content\"><pre>XGBClassifier(base_score=None, booster=None, callbacks=None,\n              colsample_bylevel=None, colsample_bynode=None,\n              colsample_bytree=None, early_stopping_rounds=None,\n              enable_categorical=False, eval_metric=None, feature_types=None,\n              gamma=None, gpu_id=None, grow_policy=None, importance_type=None,\n              interaction_constraints=None, learning_rate=None, max_bin=None,\n              max_cat_threshold=None, max_cat_to_onehot=None,\n              max_delta_step=None, max_depth=None, max_leaves=None,\n              min_child_weight=None, missing=nan, monotone_constraints=None,\n              n_estimators=100, n_jobs=None, num_parallel_tree=None,\n              predictor=None, random_state=None, ...)</pre></div></div></div></div></div></div></div></div></div></div>"
     },
     "execution_count": 318,
     "metadata": {},
     "output_type": "execute_result"
    }
   ],
   "source": [
    "from xgboost import XGBClassifier\n",
    "from sklearn.model_selection import RandomizedSearchCV\n",
    "\n",
    "# Use a xgboost model to predict the ['outcome_1'] of each game\n",
    "model_features = ['team_1_'+x for x in game_features] + ['team_2_'+x for x in game_features]\n",
    "\n",
    "# Fit a 5-fold cross validated xgboost model on the reg_season_games_full data\n",
    "param_grid = {\n",
    "    'learning_rate': [0.01, 0.1, 0.2],\n",
    "    'max_depth': [5, 10, 15],\n",
    "    'n_estimators': [50, 100, 200],\n",
    "    'objective': ['binary:logistic'],\n",
    "    'gamma': [0, 0.1, 0.2],\n",
    "    'subsample': [0.5, 0.75, 1],\n",
    "    'colsample_bytree': [1],\n",
    "    'reg_alpha': [0, 0.1, 0.2]\n",
    "}\n",
    "\n",
    "model = RandomizedSearchCV(XGBClassifier(), param_grid, n_iter=30, scoring='accuracy', n_jobs=-1, cv=5, verbose=3)\n",
    "model.fit(reg_season_games_full[model_features], reg_season_games_full['outcome_1'])\n"
   ],
   "metadata": {
    "collapsed": false,
    "ExecuteTime": {
     "end_time": "2023-09-07T04:22:21.356659Z",
     "start_time": "2023-09-07T04:22:18.556104900Z"
    }
   },
   "id": "e23f9aead3845a3a"
  },
  {
   "cell_type": "code",
   "execution_count": 319,
   "outputs": [
    {
     "data": {
      "text/plain": "{'subsample': 0.5,\n 'reg_alpha': 0,\n 'objective': 'binary:logistic',\n 'n_estimators': 200,\n 'max_depth': 5,\n 'learning_rate': 0.01,\n 'gamma': 0.1,\n 'colsample_bytree': 1}"
     },
     "execution_count": 319,
     "metadata": {},
     "output_type": "execute_result"
    }
   ],
   "source": [
    "model.best_params_"
   ],
   "metadata": {
    "collapsed": false,
    "ExecuteTime": {
     "end_time": "2023-09-07T04:22:25.360226900Z",
     "start_time": "2023-09-07T04:22:25.341440700Z"
    }
   },
   "id": "14c6738c5aea096c"
  },
  {
   "cell_type": "code",
   "execution_count": 320,
   "outputs": [
    {
     "data": {
      "text/plain": "0.9476744186046512"
     },
     "execution_count": 320,
     "metadata": {},
     "output_type": "execute_result"
    }
   ],
   "source": [
    "# Check the accuracy of the model predictions on the training set\n",
    "np.mean(model.predict(reg_season_games_full[model_features])==reg_season_games_full['outcome_1'])"
   ],
   "metadata": {
    "collapsed": false,
    "ExecuteTime": {
     "end_time": "2023-09-07T04:22:25.724624700Z",
     "start_time": "2023-09-07T04:22:25.697119Z"
    }
   },
   "id": "f2edb795181adf9e"
  },
  {
   "cell_type": "code",
   "execution_count": 321,
   "outputs": [
    {
     "data": {
      "text/plain": "0.5510204081632653"
     },
     "execution_count": 321,
     "metadata": {},
     "output_type": "execute_result"
    }
   ],
   "source": [
    "np.mean(model.predict(playoff_games_full[model_features])==playoff_games_full['outcome_1'])"
   ],
   "metadata": {
    "collapsed": false,
    "ExecuteTime": {
     "end_time": "2023-09-07T04:22:26.871410400Z",
     "start_time": "2023-09-07T04:22:26.833501800Z"
    }
   },
   "id": "148cb723da821682"
  },
  {
   "cell_type": "code",
   "execution_count": 322,
   "outputs": [
    {
     "data": {
      "text/plain": "0.563953488372093"
     },
     "execution_count": 322,
     "metadata": {},
     "output_type": "execute_result"
    }
   ],
   "source": [
    "# Compare to the baseline where we just predict the team with the higher win rate to win\n",
    "np.mean(np.array(reg_season_games_full['team_1_outcome']>=reg_season_games_full['team_2_outcome']) == reg_season_games_full['outcome_1'])"
   ],
   "metadata": {
    "collapsed": false,
    "ExecuteTime": {
     "end_time": "2023-09-07T04:22:28.031917400Z",
     "start_time": "2023-09-07T04:22:28.002290100Z"
    }
   },
   "id": "3ca4d713b22b3686"
  },
  {
   "cell_type": "code",
   "execution_count": 317,
   "outputs": [
    {
     "data": {
      "text/plain": "                         feature  importance\n3          team_1_num_riftHerald    0.051983\n23         team_2_num_riftHerald    0.050823\n9               team_1_num_baron    0.047792\n29              team_2_num_baron    0.043079\n31      team_2_first_turret_time    0.042204\n32             team_2_num_turret    0.041375\n6              team_1_num_dragon    0.041220\n16         team_1_first_kill_ind    0.041034\n30       team_2_first_turret_ind    0.039002\n10       team_1_first_turret_ind    0.038764\n11      team_1_first_turret_time    0.037169\n38              team_2_num_kills    0.036747\n15          team_1_num_inhibitor    0.035837\n26             team_2_num_dragon    0.034493\n12             team_1_num_turret    0.034421\n17        team_1_first_kill_time    0.034221\n19          team_1_game_end_time    0.033224\n18              team_1_num_kills    0.032887\n21   team_2_first_riftHerald_ind    0.032674\n1    team_1_first_riftHerald_ind    0.032351\n36         team_2_first_kill_ind    0.030541\n2   team_1_first_riftHerald_time    0.029927\n35          team_2_num_inhibitor    0.029662\n20                team_2_outcome    0.028054\n39          team_2_game_end_time    0.027631\n0                 team_1_outcome    0.026448\n22  team_2_first_riftHerald_time    0.023269\n37        team_2_first_kill_time    0.023169\n25      team_2_first_dragon_time    0.000000\n24       team_2_first_dragon_ind    0.000000\n27        team_2_first_baron_ind    0.000000\n28       team_2_first_baron_time    0.000000\n14   team_1_first_inhibitor_time    0.000000\n13    team_1_first_inhibitor_ind    0.000000\n8        team_1_first_baron_time    0.000000\n33    team_2_first_inhibitor_ind    0.000000\n34   team_2_first_inhibitor_time    0.000000\n7         team_1_first_baron_ind    0.000000\n5       team_1_first_dragon_time    0.000000\n4        team_1_first_dragon_ind    0.000000",
      "text/html": "<div>\n<style scoped>\n    .dataframe tbody tr th:only-of-type {\n        vertical-align: middle;\n    }\n\n    .dataframe tbody tr th {\n        vertical-align: top;\n    }\n\n    .dataframe thead th {\n        text-align: right;\n    }\n</style>\n<table border=\"1\" class=\"dataframe\">\n  <thead>\n    <tr style=\"text-align: right;\">\n      <th></th>\n      <th>feature</th>\n      <th>importance</th>\n    </tr>\n  </thead>\n  <tbody>\n    <tr>\n      <th>3</th>\n      <td>team_1_num_riftHerald</td>\n      <td>0.051983</td>\n    </tr>\n    <tr>\n      <th>23</th>\n      <td>team_2_num_riftHerald</td>\n      <td>0.050823</td>\n    </tr>\n    <tr>\n      <th>9</th>\n      <td>team_1_num_baron</td>\n      <td>0.047792</td>\n    </tr>\n    <tr>\n      <th>29</th>\n      <td>team_2_num_baron</td>\n      <td>0.043079</td>\n    </tr>\n    <tr>\n      <th>31</th>\n      <td>team_2_first_turret_time</td>\n      <td>0.042204</td>\n    </tr>\n    <tr>\n      <th>32</th>\n      <td>team_2_num_turret</td>\n      <td>0.041375</td>\n    </tr>\n    <tr>\n      <th>6</th>\n      <td>team_1_num_dragon</td>\n      <td>0.041220</td>\n    </tr>\n    <tr>\n      <th>16</th>\n      <td>team_1_first_kill_ind</td>\n      <td>0.041034</td>\n    </tr>\n    <tr>\n      <th>30</th>\n      <td>team_2_first_turret_ind</td>\n      <td>0.039002</td>\n    </tr>\n    <tr>\n      <th>10</th>\n      <td>team_1_first_turret_ind</td>\n      <td>0.038764</td>\n    </tr>\n    <tr>\n      <th>11</th>\n      <td>team_1_first_turret_time</td>\n      <td>0.037169</td>\n    </tr>\n    <tr>\n      <th>38</th>\n      <td>team_2_num_kills</td>\n      <td>0.036747</td>\n    </tr>\n    <tr>\n      <th>15</th>\n      <td>team_1_num_inhibitor</td>\n      <td>0.035837</td>\n    </tr>\n    <tr>\n      <th>26</th>\n      <td>team_2_num_dragon</td>\n      <td>0.034493</td>\n    </tr>\n    <tr>\n      <th>12</th>\n      <td>team_1_num_turret</td>\n      <td>0.034421</td>\n    </tr>\n    <tr>\n      <th>17</th>\n      <td>team_1_first_kill_time</td>\n      <td>0.034221</td>\n    </tr>\n    <tr>\n      <th>19</th>\n      <td>team_1_game_end_time</td>\n      <td>0.033224</td>\n    </tr>\n    <tr>\n      <th>18</th>\n      <td>team_1_num_kills</td>\n      <td>0.032887</td>\n    </tr>\n    <tr>\n      <th>21</th>\n      <td>team_2_first_riftHerald_ind</td>\n      <td>0.032674</td>\n    </tr>\n    <tr>\n      <th>1</th>\n      <td>team_1_first_riftHerald_ind</td>\n      <td>0.032351</td>\n    </tr>\n    <tr>\n      <th>36</th>\n      <td>team_2_first_kill_ind</td>\n      <td>0.030541</td>\n    </tr>\n    <tr>\n      <th>2</th>\n      <td>team_1_first_riftHerald_time</td>\n      <td>0.029927</td>\n    </tr>\n    <tr>\n      <th>35</th>\n      <td>team_2_num_inhibitor</td>\n      <td>0.029662</td>\n    </tr>\n    <tr>\n      <th>20</th>\n      <td>team_2_outcome</td>\n      <td>0.028054</td>\n    </tr>\n    <tr>\n      <th>39</th>\n      <td>team_2_game_end_time</td>\n      <td>0.027631</td>\n    </tr>\n    <tr>\n      <th>0</th>\n      <td>team_1_outcome</td>\n      <td>0.026448</td>\n    </tr>\n    <tr>\n      <th>22</th>\n      <td>team_2_first_riftHerald_time</td>\n      <td>0.023269</td>\n    </tr>\n    <tr>\n      <th>37</th>\n      <td>team_2_first_kill_time</td>\n      <td>0.023169</td>\n    </tr>\n    <tr>\n      <th>25</th>\n      <td>team_2_first_dragon_time</td>\n      <td>0.000000</td>\n    </tr>\n    <tr>\n      <th>24</th>\n      <td>team_2_first_dragon_ind</td>\n      <td>0.000000</td>\n    </tr>\n    <tr>\n      <th>27</th>\n      <td>team_2_first_baron_ind</td>\n      <td>0.000000</td>\n    </tr>\n    <tr>\n      <th>28</th>\n      <td>team_2_first_baron_time</td>\n      <td>0.000000</td>\n    </tr>\n    <tr>\n      <th>14</th>\n      <td>team_1_first_inhibitor_time</td>\n      <td>0.000000</td>\n    </tr>\n    <tr>\n      <th>13</th>\n      <td>team_1_first_inhibitor_ind</td>\n      <td>0.000000</td>\n    </tr>\n    <tr>\n      <th>8</th>\n      <td>team_1_first_baron_time</td>\n      <td>0.000000</td>\n    </tr>\n    <tr>\n      <th>33</th>\n      <td>team_2_first_inhibitor_ind</td>\n      <td>0.000000</td>\n    </tr>\n    <tr>\n      <th>34</th>\n      <td>team_2_first_inhibitor_time</td>\n      <td>0.000000</td>\n    </tr>\n    <tr>\n      <th>7</th>\n      <td>team_1_first_baron_ind</td>\n      <td>0.000000</td>\n    </tr>\n    <tr>\n      <th>5</th>\n      <td>team_1_first_dragon_time</td>\n      <td>0.000000</td>\n    </tr>\n    <tr>\n      <th>4</th>\n      <td>team_1_first_dragon_ind</td>\n      <td>0.000000</td>\n    </tr>\n  </tbody>\n</table>\n</div>"
     },
     "execution_count": 317,
     "metadata": {},
     "output_type": "execute_result"
    }
   ],
   "source": [
    "# Check feature importances\n",
    "pd.DataFrame({'feature': model_features, 'importance': model.best_estimator_.feature_importances_}).sort_values(by=['importance'], ascending=False)"
   ],
   "metadata": {
    "collapsed": false,
    "ExecuteTime": {
     "end_time": "2023-09-07T04:20:09.128138500Z",
     "start_time": "2023-09-07T04:20:09.097986700Z"
    }
   },
   "id": "e70433dd1412c3a1"
  },
  {
   "cell_type": "code",
   "execution_count": null,
   "outputs": [],
   "source": [],
   "metadata": {
    "collapsed": false
   },
   "id": "510da0d5462835d5"
  }
 ],
 "metadata": {
  "kernelspec": {
   "display_name": "Python 3",
   "language": "python",
   "name": "python3"
  },
  "language_info": {
   "codemirror_mode": {
    "name": "ipython",
    "version": 2
   },
   "file_extension": ".py",
   "mimetype": "text/x-python",
   "name": "python",
   "nbconvert_exporter": "python",
   "pygments_lexer": "ipython2",
   "version": "2.7.6"
  }
 },
 "nbformat": 4,
 "nbformat_minor": 5
}
