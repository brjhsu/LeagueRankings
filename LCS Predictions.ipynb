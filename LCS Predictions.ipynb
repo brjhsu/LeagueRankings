{
 "cells": [
  {
   "cell_type": "code",
   "execution_count": 1,
   "id": "initial_id",
   "metadata": {
    "collapsed": true,
    "ExecuteTime": {
     "end_time": "2023-09-04T23:18:41.036649500Z",
     "start_time": "2023-09-04T23:18:40.438407800Z"
    }
   },
   "outputs": [],
   "source": [
    "import pandas as pd\n",
    "import numpy as np\n",
    "import os\n",
    "\n",
    "from data_processing.GameFeaturesGenerator import GameFeaturesGenerator\n",
    "from data_processing.utils.download_functions import *"
   ]
  },
  {
   "cell_type": "code",
   "execution_count": 2,
   "outputs": [],
   "source": [
    "# Write some utility functions\n",
    "def get_game_data_full(games_data):\n",
    "    # Iterate through t events of the match (could consist of one or many games) \n",
    "    # Look in the ['games'][t]['id'] field to get the game ID\n",
    "    # Look in the ['games'][t]['state'] field to see if the game is 'completed'\n",
    "    # Look in the ['games'][t]['teams'] field to get the team IDs\n",
    "    # Look in the ['games'][t]['teams'][x]['result']['outcome'] field to get the result of the game for each team\n",
    "    # We technically only need the 'state' to verify completion and 'id' to fetch details of the game, but load in other fields for verification\n",
    "    game_tables = []\n",
    "    for game in games_data['games']:\n",
    "        game_state = game['state']\n",
    "        if game_state == 'completed':\n",
    "            game_id = game['id']\n",
    "            team_ids, team_outcomes = [], []\n",
    "            for team in game['teams']:\n",
    "                team_ids.append(team['id'])\n",
    "                team_outcome = 1 if team['result']['outcome']=='win' else 0\n",
    "                team_outcomes.append(team_outcome)\n",
    "            game_tables.append(pd.DataFrame({'esportsGameId': game_id, \n",
    "                                             'team_id_1': team_ids[0], 'outcome_1': team_outcomes[0],\n",
    "                                             'team_id_2': team_ids[1], 'outcome_2': team_outcomes[1]}, index=[0]))\n",
    "    return pd.concat(game_tables, ignore_index=True)\n",
    "\n",
    "def get_game_data_ids(games_data):\n",
    "    # Only returns the necessary information for lookup in the mapping table\n",
    "    game_ids = []\n",
    "    for game in games_data:\n",
    "        if game['state']=='completed':\n",
    "            game_ids.append(game['id'])\n",
    "    return pd.DataFrame({'esportsGameId': game_ids})"
   ],
   "metadata": {
    "collapsed": false,
    "ExecuteTime": {
     "end_time": "2023-09-04T23:18:41.077056300Z",
     "start_time": "2023-09-04T23:18:41.035651800Z"
    }
   },
   "id": "790c35bc7cdb748"
  },
  {
   "cell_type": "code",
   "execution_count": 3,
   "outputs": [
    {
     "data": {
      "text/plain": "['games',\n 'leagues.json',\n 'mapping_data.json',\n 'players.json',\n 'teams.json',\n 'tournaments.json']"
     },
     "execution_count": 3,
     "metadata": {},
     "output_type": "execute_result"
    }
   ],
   "source": [
    "os.chdir('esports-data')\n",
    "os.listdir()"
   ],
   "metadata": {
    "collapsed": false,
    "ExecuteTime": {
     "end_time": "2023-09-04T23:18:41.092016300Z",
     "start_time": "2023-09-04T23:18:41.054601300Z"
    }
   },
   "id": "6a2bd8df5d164df3"
  },
  {
   "cell_type": "code",
   "execution_count": 4,
   "outputs": [],
   "source": [
    "# Read in mappings data\n",
    "with open(\"mapping_data.json\", \"r\") as json_file:\n",
    "   mappings_data = json.load(json_file)\n",
    "   \n",
    "mappings = {\n",
    "   esports_game[\"esportsGameId\"]: esports_game for esports_game in mappings_data\n",
    "}"
   ],
   "metadata": {
    "collapsed": false,
    "ExecuteTime": {
     "end_time": "2023-09-04T23:18:41.283176300Z",
     "start_time": "2023-09-04T23:18:41.067569100Z"
    }
   },
   "id": "7a020dfcf926423d"
  },
  {
   "cell_type": "code",
   "execution_count": 5,
   "outputs": [],
   "source": [
    "# Read in tournament data\n",
    "with open(\"tournaments.json\", \"r\") as json_file:\n",
    "   tournament_data_all = json.load(json_file)\n",
    "\n",
    "# Only retrieve LCS tournament data ['lcs_summer_2023']\n",
    "tournament_data = [x for x in tournament_data_all if x['slug']=='lcs_summer_2023'][0]\n",
    "\n",
    "# Delete tournament data to save memory\n",
    "del tournament_data_all"
   ],
   "metadata": {
    "collapsed": false,
    "ExecuteTime": {
     "end_time": "2023-09-04T23:18:42.761555200Z",
     "start_time": "2023-09-04T23:18:41.289161800Z"
    }
   },
   "id": "a037557879250656"
  },
  {
   "cell_type": "code",
   "execution_count": 6,
   "outputs": [
    {
     "data": {
      "text/plain": "[['Regular Season', 1], ['Playoffs', 1]]"
     },
     "execution_count": 6,
     "metadata": {},
     "output_type": "execute_result"
    }
   ],
   "source": [
    "# See what rounds are featured in the tournament \n",
    "def get_tournament_stages(tournament_data):\n",
    "    return [[x['name'], len(x['sections'])] for x in tournament_data['stages']]\n",
    "\n",
    "get_tournament_stages(tournament_data)"
   ],
   "metadata": {
    "collapsed": false,
    "ExecuteTime": {
     "end_time": "2023-09-04T23:18:42.796976700Z",
     "start_time": "2023-09-04T23:18:42.763549900Z"
    }
   },
   "id": "71291c3dbe40a0ad"
  },
  {
   "cell_type": "code",
   "execution_count": 7,
   "outputs": [],
   "source": [
    "# Read in regular season games as training data \n",
    "reg_season_games = []\n",
    "for game_data in tournament_data['stages'][0]['sections'][0]['matches']:\n",
    "    reg_season_games.append(get_game_data_full(game_data))\n",
    "reg_season_games = pd.concat(reg_season_games)\n",
    "\n",
    "# Read in playoff games as testing data \n",
    "playoff_games = []\n",
    "for game_data in tournament_data['stages'][1]['sections'][0]['matches']:\n",
    "    playoff_games.append(get_game_data_full(game_data))\n",
    "playoff_games = pd.concat(playoff_games)"
   ],
   "metadata": {
    "collapsed": false,
    "ExecuteTime": {
     "end_time": "2023-09-04T23:18:42.921790900Z",
     "start_time": "2023-09-04T23:18:42.783015600Z"
    }
   },
   "id": "a271416fb4d69e34"
  },
  {
   "cell_type": "code",
   "execution_count": 8,
   "outputs": [
    {
     "data": {
      "text/plain": "        esportsGameId          team_id_1  outcome_1           team_id_2  \\\n0  110303581088134849  99294153828264740          0   98767991877340524   \n0  110303581088331459  98767991877340524          1  103461966951059521   \n0  110303581088331461  98767991877340524          1   99294153824386385   \n0  110303581088331463  98926509885559666          1   98767991877340524   \n0  110303581088331465  98767991877340524          1   98926509892121852   \n\n   outcome_2  \n0          1  \n0          0  \n0          0  \n0          0  \n0          0  ",
      "text/html": "<div>\n<style scoped>\n    .dataframe tbody tr th:only-of-type {\n        vertical-align: middle;\n    }\n\n    .dataframe tbody tr th {\n        vertical-align: top;\n    }\n\n    .dataframe thead th {\n        text-align: right;\n    }\n</style>\n<table border=\"1\" class=\"dataframe\">\n  <thead>\n    <tr style=\"text-align: right;\">\n      <th></th>\n      <th>esportsGameId</th>\n      <th>team_id_1</th>\n      <th>outcome_1</th>\n      <th>team_id_2</th>\n      <th>outcome_2</th>\n    </tr>\n  </thead>\n  <tbody>\n    <tr>\n      <th>0</th>\n      <td>110303581088134849</td>\n      <td>99294153828264740</td>\n      <td>0</td>\n      <td>98767991877340524</td>\n      <td>1</td>\n    </tr>\n    <tr>\n      <th>0</th>\n      <td>110303581088331459</td>\n      <td>98767991877340524</td>\n      <td>1</td>\n      <td>103461966951059521</td>\n      <td>0</td>\n    </tr>\n    <tr>\n      <th>0</th>\n      <td>110303581088331461</td>\n      <td>98767991877340524</td>\n      <td>1</td>\n      <td>99294153824386385</td>\n      <td>0</td>\n    </tr>\n    <tr>\n      <th>0</th>\n      <td>110303581088331463</td>\n      <td>98926509885559666</td>\n      <td>1</td>\n      <td>98767991877340524</td>\n      <td>0</td>\n    </tr>\n    <tr>\n      <th>0</th>\n      <td>110303581088331465</td>\n      <td>98767991877340524</td>\n      <td>1</td>\n      <td>98926509892121852</td>\n      <td>0</td>\n    </tr>\n  </tbody>\n</table>\n</div>"
     },
     "execution_count": 8,
     "metadata": {},
     "output_type": "execute_result"
    }
   ],
   "source": [
    "reg_season_games.head()"
   ],
   "metadata": {
    "collapsed": false,
    "ExecuteTime": {
     "end_time": "2023-09-04T23:18:42.964680400Z",
     "start_time": "2023-09-04T23:18:42.921790900Z"
    }
   },
   "id": "cd9eaa34c483ca0c"
  },
  {
   "cell_type": "code",
   "execution_count": 9,
   "outputs": [
    {
     "data": {
      "text/plain": "        esportsGameId           team_id_1  outcome_1           team_id_2  \\\n0  110767955468280157   98926509885559666          0  106972778172351142   \n1  110767955468411230   98926509885559666          0  106972778172351142   \n2  110767955468411231   98926509885559666          1  106972778172351142   \n3  110767955468411232   98926509885559666          0  106972778172351142   \n0  110767955468411235  103461966951059521          0   98767991860392497   \n\n   outcome_2  \n0          1  \n1          1  \n2          0  \n3          1  \n0          1  ",
      "text/html": "<div>\n<style scoped>\n    .dataframe tbody tr th:only-of-type {\n        vertical-align: middle;\n    }\n\n    .dataframe tbody tr th {\n        vertical-align: top;\n    }\n\n    .dataframe thead th {\n        text-align: right;\n    }\n</style>\n<table border=\"1\" class=\"dataframe\">\n  <thead>\n    <tr style=\"text-align: right;\">\n      <th></th>\n      <th>esportsGameId</th>\n      <th>team_id_1</th>\n      <th>outcome_1</th>\n      <th>team_id_2</th>\n      <th>outcome_2</th>\n    </tr>\n  </thead>\n  <tbody>\n    <tr>\n      <th>0</th>\n      <td>110767955468280157</td>\n      <td>98926509885559666</td>\n      <td>0</td>\n      <td>106972778172351142</td>\n      <td>1</td>\n    </tr>\n    <tr>\n      <th>1</th>\n      <td>110767955468411230</td>\n      <td>98926509885559666</td>\n      <td>0</td>\n      <td>106972778172351142</td>\n      <td>1</td>\n    </tr>\n    <tr>\n      <th>2</th>\n      <td>110767955468411231</td>\n      <td>98926509885559666</td>\n      <td>1</td>\n      <td>106972778172351142</td>\n      <td>0</td>\n    </tr>\n    <tr>\n      <th>3</th>\n      <td>110767955468411232</td>\n      <td>98926509885559666</td>\n      <td>0</td>\n      <td>106972778172351142</td>\n      <td>1</td>\n    </tr>\n    <tr>\n      <th>0</th>\n      <td>110767955468411235</td>\n      <td>103461966951059521</td>\n      <td>0</td>\n      <td>98767991860392497</td>\n      <td>1</td>\n    </tr>\n  </tbody>\n</table>\n</div>"
     },
     "execution_count": 9,
     "metadata": {},
     "output_type": "execute_result"
    }
   ],
   "source": [
    "playoff_games.head()"
   ],
   "metadata": {
    "collapsed": false,
    "ExecuteTime": {
     "end_time": "2023-09-04T23:18:43.023037100Z",
     "start_time": "2023-09-04T23:18:42.936752700Z"
    }
   },
   "id": "aab6d81581d5cd68"
  },
  {
   "cell_type": "code",
   "execution_count": 24,
   "outputs": [
    {
     "name": "stdout",
     "output_type": "stream",
     "text": [
      "games/ESPORTSTMNT02:3216144.json written\n",
      "games/ESPORTSTMNT04:2684346.json written\n",
      "games/ESPORTSTMNT01:3373576.json written\n",
      "games/ESPORTSTMNT02:3214306.json written\n",
      "games/ESPORTSTMNT01:3376629.json written\n",
      "games/ESPORTSTMNT02:3212009.json written\n",
      "games/ESPORTSTMNT02:3214927.json written\n",
      "games/ESPORTSTMNT04:2685321.json written\n",
      "games/ESPORTSTMNT02:3211039.json written\n",
      "games/ESPORTSTMNT02:3207834.json written\n",
      "games/ESPORTSTMNT01:3378516.json written\n",
      "games/ESPORTSTMNT01:3374524.json written\n",
      "games/ESPORTSTMNT02:3214601.json written\n",
      "games/ESPORTSTMNT02:3215249.json written\n",
      "games/ESPORTSTMNT02:3213927.json written\n",
      "games/ESPORTSTMNT01:3378493.json written\n",
      "games/ESPORTSTMNT02:3208561.json written\n",
      "games/ESPORTSTMNT02:3214284.json written\n",
      "games/ESPORTSTMNT02:3209828.json written\n",
      "games/ESPORTSTMNT02:3208994.json written\n",
      "games/ESPORTSTMNT02:3214268.json written\n",
      "games/ESPORTSTMNT02:3208818.json written\n",
      "games/ESPORTSTMNT02:3209624.json written\n",
      "games/ESPORTSTMNT01:3376571.json written\n",
      "games/ESPORTSTMNT01:3373511.json written\n",
      "games/ESPORTSTMNT02:3211054.json written\n",
      "games/ESPORTSTMNT02:3213593.json written\n",
      "games/ESPORTSTMNT02:3214937.json written\n",
      "games/ESPORTSTMNT01:3376068.json written\n",
      "games/ESPORTSTMNT02:3216444.json written\n",
      "games/ESPORTSTMNT01:3374504.json written\n",
      "games/ESPORTSTMNT02:3216120.json written\n",
      "games/ESPORTSTMNT04:2683333.json written\n",
      "games/ESPORTSTMNT02:3207756.json written\n",
      "games/ESPORTSTMNT02:3208604.json written\n",
      "games/ESPORTSTMNT03:3186073.json written\n",
      "games/ESPORTSTMNT03:3186454.json written\n",
      "games/ESPORTSTMNT03:3176763.json written\n",
      "games/ESPORTSTMNT03:3184735.json written\n",
      "games/ESPORTSTMNT03:3192931.json written\n",
      "games/ESPORTSTMNT03:3179121.json written\n",
      "games/ESPORTSTMNT03:3193364.json written\n",
      "games/ESPORTSTMNT03:3178542.json written\n",
      "games/ESPORTSTMNT03:3192653.json written\n",
      "games/ESPORTSTMNT03:3178195.json written\n",
      "games/ESPORTSTMNT03:3194810.json written\n",
      "games/ESPORTSTMNT03:3179547.json written\n",
      "games/ESPORTSTMNT03:3175763.json written\n",
      "games/ESPORTSTMNT03:3192430.json written\n",
      "games/ESPORTSTMNT03:3192666.json written\n",
      "games/ESPORTSTMNT03:3184758.json written\n",
      "games/ESPORTSTMNT03:3187377.json written\n",
      "games/ESPORTSTMNT03:3183664.json written\n",
      "games/ESPORTSTMNT03:3194574.json written\n",
      "games/ESPORTSTMNT03:3187024.json written\n",
      "Match 110303581088462659 was not found\n",
      "games/ESPORTSTMNT03:3178517.json written\n",
      "games/ESPORTSTMNT03:3192370.json written\n",
      "games/ESPORTSTMNT03:3194803.json written\n",
      "games/ESPORTSTMNT03:3194258.json written\n",
      "games/ESPORTSTMNT03:3177113.json written\n",
      "games/ESPORTSTMNT03:3192696.json written\n",
      "games/ESPORTSTMNT03:3187394.json written\n",
      "games/ESPORTSTMNT03:3186086.json written\n",
      "games/ESPORTSTMNT03:3178575.json written\n",
      "games/ESPORTSTMNT03:3187350.json written\n",
      "games/ESPORTSTMNT03:3193869.json written\n",
      "games/ESPORTSTMNT03:3174818.json written\n",
      "games/ESPORTSTMNT03:3179181.json written\n",
      "games/ESPORTSTMNT03:3188009.json written\n",
      "games/ESPORTSTMNT03:3177481.json written\n",
      "games/ESPORTSTMNT03:3185647.json written\n",
      "games/ESPORTSTMNT03:3194522.json written\n",
      "games/ESPORTSTMNT03:3194274.json written\n",
      "games/ESPORTSTMNT03:3183997.json written\n",
      "games/ESPORTSTMNT03:3187432.json written\n",
      "games/ESPORTSTMNT03:3184662.json written\n",
      "games/ESPORTSTMNT03:3193826.json written\n",
      "games/ESPORTSTMNT03:3178172.json written\n",
      "games/ESPORTSTMNT03:3175740.json written\n",
      "games/ESPORTSTMNT03:3194836.json written\n",
      "games/ESPORTSTMNT03:3194842.json written\n"
     ]
    }
   ],
   "source": [
    "directory = \"games\"\n",
    "if not os.path.exists(directory):\n",
    "   os.makedirs(directory)\n",
    "\n",
    "# Load each game and process them\n",
    "game_rows = []\n",
    "for game_id in reg_season_games['esportsGameId']:\n",
    "    try:\n",
    "        game_mapping_data = mappings[game_id]\n",
    "        platform_game_id = game_mapping_data['platformGameId']\n",
    "        download_gzip_and_write_to_json(f\"{directory}/{platform_game_id}\")\n",
    "        with open(f\"games/{platform_game_id}.json\", \"r\") as json_file:\n",
    "            game_data = json.load(json_file)\n",
    "        game_features = GameFeaturesGenerator(game_data, game_mapping_data).process_game()\n",
    "        game_rows.append(game_features)\n",
    "    except KeyError:\n",
    "        print(f\"Match {game_id} was not found\")\n"
   ],
   "metadata": {
    "collapsed": false,
    "ExecuteTime": {
     "end_time": "2023-09-04T23:31:23.368470100Z",
     "start_time": "2023-09-04T23:26:20.323558900Z"
    }
   },
   "id": "90ddad5e5bf244fc"
  },
  {
   "cell_type": "code",
   "execution_count": 80,
   "outputs": [
    {
     "data": {
      "text/plain": "          platformGameId       esportsGameId             team_id  \\\n0  ESPORTSTMNT02:3207804  110303581088134849   99294153828264740   \n1  ESPORTSTMNT02:3207804  110303581088134849   98767991877340524   \n0  ESPORTSTMNT02:3214865  110303581088331459   98767991877340524   \n1  ESPORTSTMNT02:3214865  110303581088331459  103461966951059521   \n0  ESPORTSTMNT01:3373466  110303581088331461   98767991877340524   \n\n               start_time outcome first_riftHerald_ind first_riftHerald_time  \\\n0 2023-06-22 22:42:47.452       0                  NaN                   NaN   \n1 2023-06-22 22:42:47.452       1                    1               503.584   \n0 2023-06-30 21:08:08.783       1                    1               602.508   \n1 2023-06-30 21:08:08.783       0                  NaN                   NaN   \n0 2023-06-14 21:13:07.907       1                    1               428.612   \n\n  num_riftHerald first_dragon_ind first_dragon_time  ... first_turret_ind  \\\n0              1              NaN               NaN  ...              NaN   \n1              1                1           503.584  ...                1   \n0              2                1           602.508  ...                1   \n1              0              NaN               NaN  ...              NaN   \n0              2                1           428.612  ...                1   \n\n  first_turret_time num_turret first_inhibitor_ind first_inhibitor_time  \\\n0               NaN          2                 NaN                  NaN   \n1          1041.249          9                   1             1041.249   \n0           815.009         11                   1              815.009   \n1               NaN          2                 NaN                  NaN   \n0            868.25          7                   1               868.25   \n\n  num_inhibitor first_kill_ind first_kill_time num_kills game_end_time  \n0             0            NaN             NaN         3       1612.09  \n1             1              1         710.596        12       1612.09  \n0             2              1         185.993        25      1337.233  \n1             0            NaN             NaN         3      1337.233  \n0             1            NaN             NaN         9      1604.087  \n\n[5 rows x 24 columns]",
      "text/html": "<div>\n<style scoped>\n    .dataframe tbody tr th:only-of-type {\n        vertical-align: middle;\n    }\n\n    .dataframe tbody tr th {\n        vertical-align: top;\n    }\n\n    .dataframe thead th {\n        text-align: right;\n    }\n</style>\n<table border=\"1\" class=\"dataframe\">\n  <thead>\n    <tr style=\"text-align: right;\">\n      <th></th>\n      <th>platformGameId</th>\n      <th>esportsGameId</th>\n      <th>team_id</th>\n      <th>start_time</th>\n      <th>outcome</th>\n      <th>first_riftHerald_ind</th>\n      <th>first_riftHerald_time</th>\n      <th>num_riftHerald</th>\n      <th>first_dragon_ind</th>\n      <th>first_dragon_time</th>\n      <th>...</th>\n      <th>first_turret_ind</th>\n      <th>first_turret_time</th>\n      <th>num_turret</th>\n      <th>first_inhibitor_ind</th>\n      <th>first_inhibitor_time</th>\n      <th>num_inhibitor</th>\n      <th>first_kill_ind</th>\n      <th>first_kill_time</th>\n      <th>num_kills</th>\n      <th>game_end_time</th>\n    </tr>\n  </thead>\n  <tbody>\n    <tr>\n      <th>0</th>\n      <td>ESPORTSTMNT02:3207804</td>\n      <td>110303581088134849</td>\n      <td>99294153828264740</td>\n      <td>2023-06-22 22:42:47.452</td>\n      <td>0</td>\n      <td>NaN</td>\n      <td>NaN</td>\n      <td>1</td>\n      <td>NaN</td>\n      <td>NaN</td>\n      <td>...</td>\n      <td>NaN</td>\n      <td>NaN</td>\n      <td>2</td>\n      <td>NaN</td>\n      <td>NaN</td>\n      <td>0</td>\n      <td>NaN</td>\n      <td>NaN</td>\n      <td>3</td>\n      <td>1612.09</td>\n    </tr>\n    <tr>\n      <th>1</th>\n      <td>ESPORTSTMNT02:3207804</td>\n      <td>110303581088134849</td>\n      <td>98767991877340524</td>\n      <td>2023-06-22 22:42:47.452</td>\n      <td>1</td>\n      <td>1</td>\n      <td>503.584</td>\n      <td>1</td>\n      <td>1</td>\n      <td>503.584</td>\n      <td>...</td>\n      <td>1</td>\n      <td>1041.249</td>\n      <td>9</td>\n      <td>1</td>\n      <td>1041.249</td>\n      <td>1</td>\n      <td>1</td>\n      <td>710.596</td>\n      <td>12</td>\n      <td>1612.09</td>\n    </tr>\n    <tr>\n      <th>0</th>\n      <td>ESPORTSTMNT02:3214865</td>\n      <td>110303581088331459</td>\n      <td>98767991877340524</td>\n      <td>2023-06-30 21:08:08.783</td>\n      <td>1</td>\n      <td>1</td>\n      <td>602.508</td>\n      <td>2</td>\n      <td>1</td>\n      <td>602.508</td>\n      <td>...</td>\n      <td>1</td>\n      <td>815.009</td>\n      <td>11</td>\n      <td>1</td>\n      <td>815.009</td>\n      <td>2</td>\n      <td>1</td>\n      <td>185.993</td>\n      <td>25</td>\n      <td>1337.233</td>\n    </tr>\n    <tr>\n      <th>1</th>\n      <td>ESPORTSTMNT02:3214865</td>\n      <td>110303581088331459</td>\n      <td>103461966951059521</td>\n      <td>2023-06-30 21:08:08.783</td>\n      <td>0</td>\n      <td>NaN</td>\n      <td>NaN</td>\n      <td>0</td>\n      <td>NaN</td>\n      <td>NaN</td>\n      <td>...</td>\n      <td>NaN</td>\n      <td>NaN</td>\n      <td>2</td>\n      <td>NaN</td>\n      <td>NaN</td>\n      <td>0</td>\n      <td>NaN</td>\n      <td>NaN</td>\n      <td>3</td>\n      <td>1337.233</td>\n    </tr>\n    <tr>\n      <th>0</th>\n      <td>ESPORTSTMNT01:3373466</td>\n      <td>110303581088331461</td>\n      <td>98767991877340524</td>\n      <td>2023-06-14 21:13:07.907</td>\n      <td>1</td>\n      <td>1</td>\n      <td>428.612</td>\n      <td>2</td>\n      <td>1</td>\n      <td>428.612</td>\n      <td>...</td>\n      <td>1</td>\n      <td>868.25</td>\n      <td>7</td>\n      <td>1</td>\n      <td>868.25</td>\n      <td>1</td>\n      <td>NaN</td>\n      <td>NaN</td>\n      <td>9</td>\n      <td>1604.087</td>\n    </tr>\n  </tbody>\n</table>\n<p>5 rows × 24 columns</p>\n</div>"
     },
     "execution_count": 80,
     "metadata": {},
     "output_type": "execute_result"
    }
   ],
   "source": [
    "game_data_featurized = pd.concat(game_rows)\n",
    "game_data_featurized.head()"
   ],
   "metadata": {
    "collapsed": false,
    "ExecuteTime": {
     "end_time": "2023-09-05T05:16:25.410713200Z",
     "start_time": "2023-09-05T05:16:25.354036300Z"
    }
   },
   "id": "cc499b68f1c5ba1"
  },
  {
   "cell_type": "code",
   "execution_count": 81,
   "outputs": [],
   "source": [
    "\"\"\"\n",
    "1. Sort the game_rows by team_id and start_time \n",
    "2. Create features for each team by averaging stats of the last 5 games that they played (or the most recent statistics if possible, with a \"num_prev_games) column\n",
    "    This yields a row of data where the features are the average of the last 5 games that the team played BEFORE the game of ['platformGameId', 'esportsGameId', 'team_id', 'start_time']\n",
    "3. Later join to the reg_season_games data for training the model \n",
    "4. Use the trained model to predict on the playoff_games data for testing \n",
    "\"\"\"\n",
    "\n",
    "non_game_features = ['platformGameId', 'esportsGameId', 'team_id', 'start_time']\n",
    "game_features = [x for x in game_data_featurized.columns if x not in non_game_features]\n",
    "\n",
    "all_team_ids = np.unique(game_data_featurized['team_id'])\n",
    "processed_game_data = []\n",
    "for team in all_team_ids:\n",
    "    team_data = game_data_featurized[game_data_featurized['team_id']==team]\n",
    "    team_data = team_data.sort_values(by=['start_time'])\n",
    "    team_data['num_prev_games'] = np.arange(len(team_data))\n",
    "    team_data = team_data.set_index('start_time')\n",
    "    # First lag by 1 game so that the current game is not included in the average\n",
    "    team_data_features = team_data[game_features].shift(1).rolling(window=5, min_periods=1).mean()\n",
    "    team_data[game_features] = team_data_features\n",
    "    # Drop rows where num_prev_games == 0 since we can't average over 0 games\n",
    "    team_data = team_data[team_data['num_prev_games']!=0]\n",
    "    # Add one more column to indicate if the row is the last of the team's games\n",
    "    team_data['last_game'] = team_data['num_prev_games']==team_data['num_prev_games'].max()\n",
    "    processed_game_data.append(team_data)\n"
   ],
   "metadata": {
    "collapsed": false,
    "ExecuteTime": {
     "end_time": "2023-09-05T05:16:25.824607600Z",
     "start_time": "2023-09-05T05:16:25.730436200Z"
    }
   },
   "id": "bfe854a16042bd8"
  },
  {
   "cell_type": "code",
   "execution_count": 82,
   "outputs": [],
   "source": [
    "game_data_featurized = pd.concat(processed_game_data)\n",
    "del processed_game_data"
   ],
   "metadata": {
    "collapsed": false,
    "ExecuteTime": {
     "end_time": "2023-09-05T05:16:26.321614400Z",
     "start_time": "2023-09-05T05:16:26.282717700Z"
    }
   },
   "id": "6398011ed40ea11c"
  },
  {
   "cell_type": "code",
   "execution_count": 83,
   "outputs": [
    {
     "data": {
      "text/plain": "        esportsGameId          team_id_1  outcome_1           team_id_2  \\\n0  110303581088134849  99294153828264740          0   98767991877340524   \n0  110303581088331459  98767991877340524          1  103461966951059521   \n0  110303581088331461  98767991877340524          1   99294153824386385   \n0  110303581088331463  98926509885559666          1   98767991877340524   \n0  110303581088331465  98767991877340524          1   98926509892121852   \n\n   outcome_2  \n0          1  \n0          0  \n0          0  \n0          0  \n0          0  ",
      "text/html": "<div>\n<style scoped>\n    .dataframe tbody tr th:only-of-type {\n        vertical-align: middle;\n    }\n\n    .dataframe tbody tr th {\n        vertical-align: top;\n    }\n\n    .dataframe thead th {\n        text-align: right;\n    }\n</style>\n<table border=\"1\" class=\"dataframe\">\n  <thead>\n    <tr style=\"text-align: right;\">\n      <th></th>\n      <th>esportsGameId</th>\n      <th>team_id_1</th>\n      <th>outcome_1</th>\n      <th>team_id_2</th>\n      <th>outcome_2</th>\n    </tr>\n  </thead>\n  <tbody>\n    <tr>\n      <th>0</th>\n      <td>110303581088134849</td>\n      <td>99294153828264740</td>\n      <td>0</td>\n      <td>98767991877340524</td>\n      <td>1</td>\n    </tr>\n    <tr>\n      <th>0</th>\n      <td>110303581088331459</td>\n      <td>98767991877340524</td>\n      <td>1</td>\n      <td>103461966951059521</td>\n      <td>0</td>\n    </tr>\n    <tr>\n      <th>0</th>\n      <td>110303581088331461</td>\n      <td>98767991877340524</td>\n      <td>1</td>\n      <td>99294153824386385</td>\n      <td>0</td>\n    </tr>\n    <tr>\n      <th>0</th>\n      <td>110303581088331463</td>\n      <td>98926509885559666</td>\n      <td>1</td>\n      <td>98767991877340524</td>\n      <td>0</td>\n    </tr>\n    <tr>\n      <th>0</th>\n      <td>110303581088331465</td>\n      <td>98767991877340524</td>\n      <td>1</td>\n      <td>98926509892121852</td>\n      <td>0</td>\n    </tr>\n  </tbody>\n</table>\n</div>"
     },
     "execution_count": 83,
     "metadata": {},
     "output_type": "execute_result"
    }
   ],
   "source": [
    "# Join reg_season_games with game_data_featurized based on reg_season_games['esportsGameId'] == game_data_featurized['esportsGameId']\n",
    "# For the team features, join on reg_season_games['team_id_1'] == game_data_featurized['team_id'] and reg_season_games['team_id_2'] == game_data_featurized['team_id']\n",
    "# When doing so, rename the features of game_data_featurized to be team_1_feature and team_2_feature\n",
    "def rename_features(df, features, prefix):\n",
    "    return df.rename(columns=dict(zip(features, [f'{prefix}_{x}' for x in features])))\n",
    "\n",
    "def get_last_game(df):\n",
    "    return df[df['last_game']==True]\n",
    "\n",
    "reg_season_games.head()"
   ],
   "metadata": {
    "collapsed": false,
    "ExecuteTime": {
     "end_time": "2023-09-05T05:16:26.705462400Z",
     "start_time": "2023-09-05T05:16:26.677502800Z"
    }
   },
   "id": "b6f2950db1e2f75c"
  },
  {
   "cell_type": "code",
   "execution_count": 84,
   "outputs": [],
   "source": [
    "# Join reg_season_games with game_data_featurized based on reg_season_games['esportsGameId', 'team_id_1'] == game_data_featurized['esportsGameId', 'team_id']\n",
    "reg_season_games_full = reg_season_games.merge(rename_features(game_data_featurized, game_features, \"team_1\"), how='left', left_on=['esportsGameId', 'team_id_1'], right_on=['esportsGameId', 'team_id'])\n",
    "reg_season_games_full = reg_season_games_full.merge(rename_features(game_data_featurized, game_features, \"team_2\"), how='left', left_on=['esportsGameId', 'team_id_2'], right_on=['esportsGameId', 'team_id'])\n",
    "# drop the games where the outcome is NaN, those games are when one team has not had any games yet\n",
    "reg_season_games_full = reg_season_games_full.dropna(subset=['team_1_outcome', 'team_2_outcome'])\n",
    "\n",
    "\n",
    "# Join playoff_games with game_data_featurized based on playoff_games['team_id_1'] == game_data_featurized['team_id']\n",
    "# Since we only want the last game of each team, we can use the get_last_game function to get the last game of each team (don't need esportGameId as unique identifier anymore)\n",
    "playoff_games_full = playoff_games.merge(rename_features(get_last_game(game_data_featurized), game_features, \"team_1\"), how='left', left_on=['team_id_1'], right_on=['team_id'])\n",
    "playoff_games_full = playoff_games_full.merge(rename_features(get_last_game(game_data_featurized), game_features, \"team_2\"), how='left', left_on=['team_id_2'], right_on=['team_id'])\n"
   ],
   "metadata": {
    "collapsed": false,
    "ExecuteTime": {
     "end_time": "2023-09-05T05:16:29.867238300Z",
     "start_time": "2023-09-05T05:16:29.834300300Z"
    }
   },
   "id": "90c99e1f3ede8558"
  },
  {
   "cell_type": "code",
   "execution_count": 115,
   "outputs": [
    {
     "name": "stdout",
     "output_type": "stream",
     "text": [
      "Fitting 5 folds for each of 30 candidates, totalling 150 fits\n"
     ]
    },
    {
     "data": {
      "text/plain": "RandomizedSearchCV(cv=5,\n                   estimator=XGBClassifier(base_score=None, booster=None,\n                                           callbacks=None,\n                                           colsample_bylevel=None,\n                                           colsample_bynode=None,\n                                           colsample_bytree=None,\n                                           early_stopping_rounds=None,\n                                           enable_categorical=False,\n                                           eval_metric=None, feature_types=None,\n                                           gamma=None, gpu_id=None,\n                                           grow_policy=None,\n                                           importance_type=None,\n                                           interaction_constraints=None,\n                                           learning_rate...\n                                           n_estimators=100, n_jobs=None,\n                                           num_parallel_tree=None,\n                                           predictor=None, random_state=None, ...),\n                   n_iter=30, n_jobs=-1,\n                   param_distributions={'colsample_bytree': [1],\n                                        'gamma': [0, 0.1, 0.2],\n                                        'learning_rate': [0.01, 0.1, 0.2],\n                                        'max_depth': [5, 10, 15],\n                                        'n_estimators': [50, 100, 200],\n                                        'objective': ['binary:logistic'],\n                                        'reg_alpha': [0, 0.1, 0.2],\n                                        'subsample': [0.5, 0.75, 1]},\n                   scoring='accuracy', verbose=3)",
      "text/html": "<style>#sk-container-id-11 {color: black;}#sk-container-id-11 pre{padding: 0;}#sk-container-id-11 div.sk-toggleable {background-color: white;}#sk-container-id-11 label.sk-toggleable__label {cursor: pointer;display: block;width: 100%;margin-bottom: 0;padding: 0.3em;box-sizing: border-box;text-align: center;}#sk-container-id-11 label.sk-toggleable__label-arrow:before {content: \"▸\";float: left;margin-right: 0.25em;color: #696969;}#sk-container-id-11 label.sk-toggleable__label-arrow:hover:before {color: black;}#sk-container-id-11 div.sk-estimator:hover label.sk-toggleable__label-arrow:before {color: black;}#sk-container-id-11 div.sk-toggleable__content {max-height: 0;max-width: 0;overflow: hidden;text-align: left;background-color: #f0f8ff;}#sk-container-id-11 div.sk-toggleable__content pre {margin: 0.2em;color: black;border-radius: 0.25em;background-color: #f0f8ff;}#sk-container-id-11 input.sk-toggleable__control:checked~div.sk-toggleable__content {max-height: 200px;max-width: 100%;overflow: auto;}#sk-container-id-11 input.sk-toggleable__control:checked~label.sk-toggleable__label-arrow:before {content: \"▾\";}#sk-container-id-11 div.sk-estimator input.sk-toggleable__control:checked~label.sk-toggleable__label {background-color: #d4ebff;}#sk-container-id-11 div.sk-label input.sk-toggleable__control:checked~label.sk-toggleable__label {background-color: #d4ebff;}#sk-container-id-11 input.sk-hidden--visually {border: 0;clip: rect(1px 1px 1px 1px);clip: rect(1px, 1px, 1px, 1px);height: 1px;margin: -1px;overflow: hidden;padding: 0;position: absolute;width: 1px;}#sk-container-id-11 div.sk-estimator {font-family: monospace;background-color: #f0f8ff;border: 1px dotted black;border-radius: 0.25em;box-sizing: border-box;margin-bottom: 0.5em;}#sk-container-id-11 div.sk-estimator:hover {background-color: #d4ebff;}#sk-container-id-11 div.sk-parallel-item::after {content: \"\";width: 100%;border-bottom: 1px solid gray;flex-grow: 1;}#sk-container-id-11 div.sk-label:hover label.sk-toggleable__label {background-color: #d4ebff;}#sk-container-id-11 div.sk-serial::before {content: \"\";position: absolute;border-left: 1px solid gray;box-sizing: border-box;top: 0;bottom: 0;left: 50%;z-index: 0;}#sk-container-id-11 div.sk-serial {display: flex;flex-direction: column;align-items: center;background-color: white;padding-right: 0.2em;padding-left: 0.2em;position: relative;}#sk-container-id-11 div.sk-item {position: relative;z-index: 1;}#sk-container-id-11 div.sk-parallel {display: flex;align-items: stretch;justify-content: center;background-color: white;position: relative;}#sk-container-id-11 div.sk-item::before, #sk-container-id-11 div.sk-parallel-item::before {content: \"\";position: absolute;border-left: 1px solid gray;box-sizing: border-box;top: 0;bottom: 0;left: 50%;z-index: -1;}#sk-container-id-11 div.sk-parallel-item {display: flex;flex-direction: column;z-index: 1;position: relative;background-color: white;}#sk-container-id-11 div.sk-parallel-item:first-child::after {align-self: flex-end;width: 50%;}#sk-container-id-11 div.sk-parallel-item:last-child::after {align-self: flex-start;width: 50%;}#sk-container-id-11 div.sk-parallel-item:only-child::after {width: 0;}#sk-container-id-11 div.sk-dashed-wrapped {border: 1px dashed gray;margin: 0 0.4em 0.5em 0.4em;box-sizing: border-box;padding-bottom: 0.4em;background-color: white;}#sk-container-id-11 div.sk-label label {font-family: monospace;font-weight: bold;display: inline-block;line-height: 1.2em;}#sk-container-id-11 div.sk-label-container {text-align: center;}#sk-container-id-11 div.sk-container {/* jupyter's `normalize.less` sets `[hidden] { display: none; }` but bootstrap.min.css set `[hidden] { display: none !important; }` so we also need the `!important` here to be able to override the default hidden behavior on the sphinx rendered scikit-learn.org. See: https://github.com/scikit-learn/scikit-learn/issues/21755 */display: inline-block !important;position: relative;}#sk-container-id-11 div.sk-text-repr-fallback {display: none;}</style><div id=\"sk-container-id-11\" class=\"sk-top-container\"><div class=\"sk-text-repr-fallback\"><pre>RandomizedSearchCV(cv=5,\n                   estimator=XGBClassifier(base_score=None, booster=None,\n                                           callbacks=None,\n                                           colsample_bylevel=None,\n                                           colsample_bynode=None,\n                                           colsample_bytree=None,\n                                           early_stopping_rounds=None,\n                                           enable_categorical=False,\n                                           eval_metric=None, feature_types=None,\n                                           gamma=None, gpu_id=None,\n                                           grow_policy=None,\n                                           importance_type=None,\n                                           interaction_constraints=None,\n                                           learning_rate...\n                                           n_estimators=100, n_jobs=None,\n                                           num_parallel_tree=None,\n                                           predictor=None, random_state=None, ...),\n                   n_iter=30, n_jobs=-1,\n                   param_distributions={&#x27;colsample_bytree&#x27;: [1],\n                                        &#x27;gamma&#x27;: [0, 0.1, 0.2],\n                                        &#x27;learning_rate&#x27;: [0.01, 0.1, 0.2],\n                                        &#x27;max_depth&#x27;: [5, 10, 15],\n                                        &#x27;n_estimators&#x27;: [50, 100, 200],\n                                        &#x27;objective&#x27;: [&#x27;binary:logistic&#x27;],\n                                        &#x27;reg_alpha&#x27;: [0, 0.1, 0.2],\n                                        &#x27;subsample&#x27;: [0.5, 0.75, 1]},\n                   scoring=&#x27;accuracy&#x27;, verbose=3)</pre><b>In a Jupyter environment, please rerun this cell to show the HTML representation or trust the notebook. <br />On GitHub, the HTML representation is unable to render, please try loading this page with nbviewer.org.</b></div><div class=\"sk-container\" hidden><div class=\"sk-item sk-dashed-wrapped\"><div class=\"sk-label-container\"><div class=\"sk-label sk-toggleable\"><input class=\"sk-toggleable__control sk-hidden--visually\" id=\"sk-estimator-id-17\" type=\"checkbox\" ><label for=\"sk-estimator-id-17\" class=\"sk-toggleable__label sk-toggleable__label-arrow\">RandomizedSearchCV</label><div class=\"sk-toggleable__content\"><pre>RandomizedSearchCV(cv=5,\n                   estimator=XGBClassifier(base_score=None, booster=None,\n                                           callbacks=None,\n                                           colsample_bylevel=None,\n                                           colsample_bynode=None,\n                                           colsample_bytree=None,\n                                           early_stopping_rounds=None,\n                                           enable_categorical=False,\n                                           eval_metric=None, feature_types=None,\n                                           gamma=None, gpu_id=None,\n                                           grow_policy=None,\n                                           importance_type=None,\n                                           interaction_constraints=None,\n                                           learning_rate...\n                                           n_estimators=100, n_jobs=None,\n                                           num_parallel_tree=None,\n                                           predictor=None, random_state=None, ...),\n                   n_iter=30, n_jobs=-1,\n                   param_distributions={&#x27;colsample_bytree&#x27;: [1],\n                                        &#x27;gamma&#x27;: [0, 0.1, 0.2],\n                                        &#x27;learning_rate&#x27;: [0.01, 0.1, 0.2],\n                                        &#x27;max_depth&#x27;: [5, 10, 15],\n                                        &#x27;n_estimators&#x27;: [50, 100, 200],\n                                        &#x27;objective&#x27;: [&#x27;binary:logistic&#x27;],\n                                        &#x27;reg_alpha&#x27;: [0, 0.1, 0.2],\n                                        &#x27;subsample&#x27;: [0.5, 0.75, 1]},\n                   scoring=&#x27;accuracy&#x27;, verbose=3)</pre></div></div></div><div class=\"sk-parallel\"><div class=\"sk-parallel-item\"><div class=\"sk-item\"><div class=\"sk-label-container\"><div class=\"sk-label sk-toggleable\"><input class=\"sk-toggleable__control sk-hidden--visually\" id=\"sk-estimator-id-18\" type=\"checkbox\" ><label for=\"sk-estimator-id-18\" class=\"sk-toggleable__label sk-toggleable__label-arrow\">estimator: XGBClassifier</label><div class=\"sk-toggleable__content\"><pre>XGBClassifier(base_score=None, booster=None, callbacks=None,\n              colsample_bylevel=None, colsample_bynode=None,\n              colsample_bytree=None, early_stopping_rounds=None,\n              enable_categorical=False, eval_metric=None, feature_types=None,\n              gamma=None, gpu_id=None, grow_policy=None, importance_type=None,\n              interaction_constraints=None, learning_rate=None, max_bin=None,\n              max_cat_threshold=None, max_cat_to_onehot=None,\n              max_delta_step=None, max_depth=None, max_leaves=None,\n              min_child_weight=None, missing=nan, monotone_constraints=None,\n              n_estimators=100, n_jobs=None, num_parallel_tree=None,\n              predictor=None, random_state=None, ...)</pre></div></div></div><div class=\"sk-serial\"><div class=\"sk-item\"><div class=\"sk-estimator sk-toggleable\"><input class=\"sk-toggleable__control sk-hidden--visually\" id=\"sk-estimator-id-19\" type=\"checkbox\" ><label for=\"sk-estimator-id-19\" class=\"sk-toggleable__label sk-toggleable__label-arrow\">XGBClassifier</label><div class=\"sk-toggleable__content\"><pre>XGBClassifier(base_score=None, booster=None, callbacks=None,\n              colsample_bylevel=None, colsample_bynode=None,\n              colsample_bytree=None, early_stopping_rounds=None,\n              enable_categorical=False, eval_metric=None, feature_types=None,\n              gamma=None, gpu_id=None, grow_policy=None, importance_type=None,\n              interaction_constraints=None, learning_rate=None, max_bin=None,\n              max_cat_threshold=None, max_cat_to_onehot=None,\n              max_delta_step=None, max_depth=None, max_leaves=None,\n              min_child_weight=None, missing=nan, monotone_constraints=None,\n              n_estimators=100, n_jobs=None, num_parallel_tree=None,\n              predictor=None, random_state=None, ...)</pre></div></div></div></div></div></div></div></div></div></div>"
     },
     "execution_count": 115,
     "metadata": {},
     "output_type": "execute_result"
    }
   ],
   "source": [
    "from xgboost import XGBClassifier\n",
    "from sklearn.model_selection import RandomizedSearchCV\n",
    "\n",
    "# Use a xgboost model to predict the ['outcome_1'] of each game\n",
    "model_features = ['team_1_'+x for x in game_features] + ['team_2_'+x for x in game_features]\n",
    "\n",
    "# Fit a 5-fold cross validated xgboost model on the reg_season_games_full data\n",
    "param_grid = {\n",
    "    'learning_rate': [0.01, 0.1, 0.2],\n",
    "    'max_depth': [5, 10, 15],\n",
    "    'n_estimators': [50, 100, 200],\n",
    "    'objective': ['binary:logistic'],\n",
    "    'gamma': [0, 0.1, 0.2],\n",
    "    'subsample': [0.5, 0.75, 1],\n",
    "    'colsample_bytree': [1],\n",
    "    'reg_alpha': [0, 0.1, 0.2]\n",
    "}\n",
    "\n",
    "model = RandomizedSearchCV(XGBClassifier(), param_grid, n_iter=30, scoring='accuracy', n_jobs=-1, cv=5, verbose=3)\n",
    "model.fit(reg_season_games_full[model_features], reg_season_games_full['outcome_1'])\n"
   ],
   "metadata": {
    "collapsed": false,
    "ExecuteTime": {
     "end_time": "2023-09-05T05:25:11.746885500Z",
     "start_time": "2023-09-05T05:25:10.150598100Z"
    }
   },
   "id": "e23f9aead3845a3a"
  },
  {
   "cell_type": "code",
   "execution_count": 116,
   "outputs": [
    {
     "data": {
      "text/plain": "{'subsample': 0.5,\n 'reg_alpha': 0,\n 'objective': 'binary:logistic',\n 'n_estimators': 100,\n 'max_depth': 15,\n 'learning_rate': 0.01,\n 'gamma': 0,\n 'colsample_bytree': 1}"
     },
     "execution_count": 116,
     "metadata": {},
     "output_type": "execute_result"
    }
   ],
   "source": [
    "model.best_params_"
   ],
   "metadata": {
    "collapsed": false,
    "ExecuteTime": {
     "end_time": "2023-09-05T05:25:13.045047100Z",
     "start_time": "2023-09-05T05:25:13.009805700Z"
    }
   },
   "id": "14c6738c5aea096c"
  },
  {
   "cell_type": "code",
   "execution_count": 117,
   "outputs": [
    {
     "data": {
      "text/plain": "0.4897959183673469"
     },
     "execution_count": 117,
     "metadata": {},
     "output_type": "execute_result"
    }
   ],
   "source": [
    "# Check the accuracy of the model predictions\n",
    "np.mean(model.predict(playoff_games_full[model_features])==playoff_games_full['outcome_1'])"
   ],
   "metadata": {
    "collapsed": false,
    "ExecuteTime": {
     "end_time": "2023-09-05T05:25:13.667906900Z",
     "start_time": "2023-09-05T05:25:13.644042700Z"
    }
   },
   "id": "d3a33b0f26b02800"
  },
  {
   "cell_type": "code",
   "execution_count": null,
   "outputs": [],
   "source": [],
   "metadata": {
    "collapsed": false
   },
   "id": "e70433dd1412c3a1"
  }
 ],
 "metadata": {
  "kernelspec": {
   "display_name": "Python 3",
   "language": "python",
   "name": "python3"
  },
  "language_info": {
   "codemirror_mode": {
    "name": "ipython",
    "version": 2
   },
   "file_extension": ".py",
   "mimetype": "text/x-python",
   "name": "python",
   "nbconvert_exporter": "python",
   "pygments_lexer": "ipython2",
   "version": "2.7.6"
  }
 },
 "nbformat": 4,
 "nbformat_minor": 5
}
