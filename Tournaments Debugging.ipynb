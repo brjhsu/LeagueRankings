{
 "cells": [
  {
   "cell_type": "code",
   "execution_count": 5,
   "outputs": [
    {
     "data": {
      "text/plain": "['2021_raw_game_data',\n '2022_raw_game_data',\n '2023_raw_game_data',\n 'catboost_info',\n 'leagues.json',\n 'mapping_data.json',\n 'players.json',\n 'teams.json',\n 'tournaments.json']"
     },
     "execution_count": 5,
     "metadata": {},
     "output_type": "execute_result"
    }
   ],
   "source": [
    "import pandas as pd\n",
    "pd.set_option('mode.chained_assignment', None)\n",
    "import numpy as np\n",
    "import os\n",
    "from tqdm.notebook import tqdm\n",
    "from data_processing.GameFeaturesGenerator import GameFeaturesGenerator\n",
    "from data_processing.TournamentDataProcessor import TournamentDataProcessor\n",
    "from data_processing.LeaguesDataProcessor import LeaguesDataProcessor\n",
    "from data_processing.utils.download_functions import *\n",
    "os.chdir('esports-data')\n",
    "os.listdir()"
   ],
   "metadata": {
    "collapsed": false,
    "ExecuteTime": {
     "end_time": "2023-09-30T01:01:49.119841400Z",
     "start_time": "2023-09-30T01:01:49.070272700Z"
    }
   },
   "id": "c4d81db793a28cb7"
  },
  {
   "cell_type": "code",
   "execution_count": 22,
   "outputs": [],
   "source": [
    "# Read in tournament data\n",
    "with open(\"tournaments.json\", \"r\") as json_file:\n",
    "   tournament_data_all = json.load(json_file)\n",
    "\n",
    "# Read in mappings data\n",
    "with open(\"mapping_data.json\", \"r\") as json_file:\n",
    "   mappings_data = json.load(json_file)\n",
    "   \n",
    "mappings = {\n",
    "   esports_game[\"esportsGameId\"]: esports_game for esports_game in mappings_data\n",
    "}\n",
    "\n",
    "# Set up LeaguesDataProcessor\n",
    "leagues_data_processor = LeaguesDataProcessor()"
   ],
   "metadata": {
    "collapsed": false,
    "ExecuteTime": {
     "end_time": "2023-09-30T01:04:41.695631Z",
     "start_time": "2023-09-30T01:04:40.065584300Z"
    }
   },
   "id": "81e784e9aa91bf1e"
  },
  {
   "cell_type": "code",
   "execution_count": 54,
   "id": "initial_id",
   "metadata": {
    "collapsed": true,
    "ExecuteTime": {
     "end_time": "2023-09-30T01:19:36.064992Z",
     "start_time": "2023-09-30T01:19:36.025850Z"
    }
   },
   "outputs": [],
   "source": [
    "import pandas as pd\n",
    "\n",
    "class TournamentDataProcessor:\n",
    "    def __init__(self, tournament_data, leagues_data):\n",
    "        # Leagues_data is a list of dictionaries with the league_id, league_name, and league_region so that we can designate tournament region\n",
    "        self.tournament_data = tournament_data\n",
    "        self.tournament_id = tournament_data['id']\n",
    "        self.tournament_league_id = tournament_data['leagueId']\n",
    "        self.tournament_name = tournament_data['slug']\n",
    "        self.tournament_stages = [x['name'] for x in tournament_data['stages']]\n",
    "        tournament_leagues = leagues_data[leagues_data['league_id'] == self.tournament_league_id]\n",
    "        try:\n",
    "            self.tournament_league = tournament_leagues['league_name'].values[0]\n",
    "            self.tournament_region = tournament_leagues['league_region'].values[0]\n",
    "        except IndexError:\n",
    "            raise IndexError(f\"League ID {self.tournament_league_id} not found in leagues data\")\n",
    "\n",
    "    def get_tournament_stages(self):\n",
    "        return [[x['name'], len(x['sections'])] for x in self.tournament_data['stages']]\n",
    "\n",
    "    def get_tournament_data(self, training_stages=[], testing_stages=[]):\n",
    "        # Usually set testing stages as ['Playoffs']\n",
    "        # Iterate through the training stages and aggregate the data together, do the same for the testing stages\n",
    "        # If training_stages=[] and testing_stages = [], then return all stages as training\n",
    "        # Return the training and testing data\n",
    "        # If no training stages are specified, use all stages except the testing stages\n",
    "        if len(training_stages) == 0:\n",
    "            training_stages = [x['name'] for x in self.tournament_data['stages'] if x['name'] not in testing_stages]\n",
    "        \n",
    "        # Validate that the training and testing stages are valid within the tournament\n",
    "        for stage in training_stages + testing_stages:\n",
    "            if stage not in self.tournament_stages:\n",
    "                raise ValueError(f\"Stage {stage} not found in tournament {self.tournament_name}\")\n",
    "\n",
    "        self.training_stages = training_stages\n",
    "        self.testing_stages = testing_stages\n",
    "        \n",
    "        print(\"Training stages: \", training_stages)\n",
    "        print(\"Testing stages: \", testing_stages)\n",
    "        \n",
    "        training_data = []\n",
    "        testing_data = []\n",
    "        for stage in self.tournament_data['stages']:\n",
    "            if stage['name'] in training_stages:\n",
    "                for section in stage['sections']:\n",
    "                    for match in section['matches']:\n",
    "                        try:\n",
    "                            training_data.append(self.get_game_data_full(match))\n",
    "                        except ValueError:  # There are some tournament matches that are recorded, but don't get played for some reason \n",
    "                            pass\n",
    "            elif stage['name'] in testing_stages:\n",
    "                for section in stage['sections']:\n",
    "                    for match in section['matches']:\n",
    "                        testing_data.append(self.get_game_data_full(match))\n",
    "\n",
    "        training_data = pd.concat(training_data, ignore_index=True)\n",
    "        if len(testing_data) > 0:\n",
    "            testing_data = pd.concat(testing_data, ignore_index=True)\n",
    "        else:  # Return an empty frame with the same columns as training data\n",
    "            testing_data = pd.DataFrame(columns=training_data.columns)\n",
    "        self.training_data = training_data\n",
    "        self.testing_data = testing_data\n",
    "\n",
    "        return training_data, testing_data\n",
    "\n",
    "    def append_flipped_team_and_outcomes_to_tournament(self, append_to_test=False):\n",
    "        training_data = TournamentDataProcessor.append_flipped_team_and_outcomes(self.training_data)\n",
    "        if append_to_test & len(self.testing_data) > 0:\n",
    "            testing_data = TournamentDataProcessor.append_flipped_team_and_outcomes(self.testing_data)\n",
    "        else:  #  If don't want to append to test data or cannot\n",
    "            testing_data = self.testing_data\n",
    "        return training_data, testing_data\n",
    "\n",
    "    def get_game_data_full(self, games_data):\n",
    "        # Iterate through t events of the match (could consist of one or many games)\n",
    "        # This is called at the match level (i.e., tournament_data['stages'][0]['sections'][0]['matches'] )\n",
    "        # Look in the ['games'][t]['id'] field to get the game ID\n",
    "        # Look in the ['games'][t]['state'] field to see if the game is 'completed'\n",
    "        # Look in the ['games'][t]['teams'] field to get the team IDs\n",
    "        # Look in the ['games'][t]['teams'][x]['result']['outcome'] field to get the result of the game for each team\n",
    "        # We technically only need the 'state' to verify completion and 'id' to fetch details of the game, but load in other fields for verification\n",
    "        match_id = games_data['id']  # ID for the full match\n",
    "        game_tables = []\n",
    "        for game in games_data['games']:\n",
    "            game_state = game['state']\n",
    "            if game_state == 'completed':\n",
    "                game_id = game['id']  # ID for the specific games in the match\n",
    "                team_ids, team_outcomes = [], []\n",
    "                for team in game['teams']:\n",
    "                    team_ids.append(team['id'])\n",
    "                    team_outcome = 1 if team['result']['outcome'] == 'win' else 0\n",
    "                    team_outcomes.append(team_outcome)\n",
    "                game_tables.append(\n",
    "                    pd.DataFrame({'match_id': match_id, 'esportsGameId': game_id,\n",
    "                                  'league': self.tournament_league,\n",
    "                                  'team_id_1': team_ids[0], 'outcome_1': team_outcomes[0],\n",
    "                                  'team_id_2': team_ids[1], 'outcome_2': team_outcomes[1]}, index=[0]))\n",
    "        return pd.concat(game_tables, ignore_index=True)\n",
    "\n",
    "    @staticmethod\n",
    "    def swap_columns(df, cols1, cols2):\n",
    "        \"\"\"Swap the corresponding values of each of the columns of cols1 with cols2 and return a copy of the df\"\"\"\n",
    "        if len(cols1) != len(cols2):\n",
    "            raise ValueError(\"The number of columns to swap must be equal\")\n",
    "        df_copy = df.copy(deep=True)\n",
    "        for i in range(len(cols1)):\n",
    "            col_val = df_copy[cols1[i]].copy()\n",
    "            df_copy[cols1[i]] = df_copy[cols2[i]]\n",
    "            df_copy[cols2[i]] = col_val\n",
    "        return df_copy\n",
    "\n",
    "    @staticmethod\n",
    "    def append_flipped_team_and_outcomes(data):\n",
    "        # Want to ensure that there's symmetry between the teams and outcomes to prevent overfitting\n",
    "        return pd.concat(\n",
    "            [data, TournamentDataProcessor.swap_columns(data, ['team_id_1', 'outcome_1'], ['team_id_2', 'outcome_2'])],\n",
    "            ignore_index=True)\n"
   ]
  },
  {
   "cell_type": "code",
   "execution_count": 55,
   "outputs": [],
   "source": [
    "tournaments = [x for x in tournament_data_all if x['slug'] in ['pcs_summer_playoffs_2023']]"
   ],
   "metadata": {
    "collapsed": false,
    "ExecuteTime": {
     "end_time": "2023-09-30T01:19:36.469711Z",
     "start_time": "2023-09-30T01:19:36.445752900Z"
    }
   },
   "id": "4052ee8c0de416a3"
  },
  {
   "cell_type": "code",
   "execution_count": 56,
   "outputs": [],
   "source": [
    "tournament_processor = TournamentDataProcessor(tournaments[0], leagues_data_processor.leagues_df)"
   ],
   "metadata": {
    "collapsed": false,
    "ExecuteTime": {
     "end_time": "2023-09-30T01:19:36.751437600Z",
     "start_time": "2023-09-30T01:19:36.716499800Z"
    }
   },
   "id": "62ac46393b252e3b"
  },
  {
   "cell_type": "code",
   "execution_count": 57,
   "outputs": [
    {
     "name": "stdout",
     "output_type": "stream",
     "text": [
      "Training stages:  ['Playoffs']\n",
      "Testing stages:  []\n"
     ]
    }
   ],
   "source": [
    "a = tournament_processor.get_tournament_data(training_stages=[], testing_stages=[])"
   ],
   "metadata": {
    "collapsed": false,
    "ExecuteTime": {
     "end_time": "2023-09-30T01:19:37.106764300Z",
     "start_time": "2023-09-30T01:19:37.037940100Z"
    }
   },
   "id": "a8c3078be5eebaac"
  },
  {
   "cell_type": "code",
   "execution_count": 58,
   "outputs": [
    {
     "data": {
      "text/plain": "{'id': '110847390580148418',\n 'type': 'normal',\n 'state': 'unstarted',\n 'mode': 'classic',\n 'strategy': {'type': 'bestOf', 'count': 5},\n 'teams': [{'id': '107700199633958891',\n   'side': 'blue',\n   'record': {'wins': 4, 'losses': 0, 'ties': 0},\n   'result': {'outcome': None, 'gameWins': 0},\n   'players': [{'id': '99566406483009320', 'role': 'top'},\n    {'id': '98767975915355341', 'role': 'jungle'},\n    {'id': '106470392084689216', 'role': 'mid'},\n    {'id': '106470353168712081', 'role': 'support'},\n    {'id': '107760720477800166', 'role': 'bottom'},\n    {'id': '99566406485280528', 'role': 'support'}]},\n  {'id': '104367068120825486',\n   'side': 'red',\n   'record': {'wins': 2, 'losses': 0, 'ties': 0},\n   'result': {'outcome': None, 'gameWins': 0},\n   'players': [{'id': '106470320886575308', 'role': 'jungle'},\n    {'id': '99566406463329124', 'role': 'bottom'},\n    {'id': '99566406444168246', 'role': 'support'},\n    {'id': '106470350672813985', 'role': 'mid'},\n    {'id': '104573202011010010', 'role': 'top'},\n    {'id': '98767991764579452', 'role': 'mid'},\n    {'id': '101971954398227333', 'role': 'jungle'}]}],\n 'games': [{'id': '110847390580148419',\n   'state': 'unstarted',\n   'number': 1,\n   'teams': [{'id': '107700199633958891',\n     'side': 'blue',\n     'result': {'outcome': None}},\n    {'id': '104367068120825486', 'side': 'red', 'result': {'outcome': None}}]},\n  {'id': '110847390580148420',\n   'state': 'unstarted',\n   'number': 2,\n   'teams': [{'id': '104367068120825486',\n     'side': 'blue',\n     'result': {'outcome': None}},\n    {'id': '107700199633958891', 'side': 'red', 'result': {'outcome': None}}]},\n  {'id': '110847390580148421',\n   'state': 'unstarted',\n   'number': 3,\n   'teams': [{'id': '107700199633958891',\n     'side': 'blue',\n     'result': {'outcome': None}},\n    {'id': '104367068120825486', 'side': 'red', 'result': {'outcome': None}}]},\n  {'id': '110847390580148422',\n   'state': 'unstarted',\n   'number': 4,\n   'teams': [{'id': '104367068120825486',\n     'side': 'blue',\n     'result': {'outcome': None}},\n    {'id': '107700199633958891', 'side': 'red', 'result': {'outcome': None}}]},\n  {'id': '110847390580148423',\n   'state': 'unstarted',\n   'number': 5,\n   'teams': [{'id': '107700199633958891',\n     'side': 'blue',\n     'result': {'outcome': None}},\n    {'id': '104367068120825486',\n     'side': 'red',\n     'result': {'outcome': None}}]}]}"
     },
     "execution_count": 58,
     "metadata": {},
     "output_type": "execute_result"
    }
   ],
   "source": [
    "a"
   ],
   "metadata": {
    "collapsed": false,
    "ExecuteTime": {
     "end_time": "2023-09-30T01:19:39.333637100Z",
     "start_time": "2023-09-30T01:19:39.291720700Z"
    }
   },
   "id": "6cd60d44ad064fa8"
  },
  {
   "cell_type": "code",
   "execution_count": 53,
   "outputs": [
    {
     "ename": "ValueError",
     "evalue": "No objects to concatenate",
     "output_type": "error",
     "traceback": [
      "\u001B[1;31m---------------------------------------------------------------------------\u001B[0m",
      "\u001B[1;31mValueError\u001B[0m                                Traceback (most recent call last)",
      "Cell \u001B[1;32mIn[53], line 1\u001B[0m\n\u001B[1;32m----> 1\u001B[0m \u001B[43mpd\u001B[49m\u001B[38;5;241;43m.\u001B[39;49m\u001B[43mconcat\u001B[49m\u001B[43m(\u001B[49m\u001B[43m[\u001B[49m\u001B[43m]\u001B[49m\u001B[43m)\u001B[49m\n",
      "File \u001B[1;32m~\\anaconda3\\envs\\LeagueRankings\\lib\\site-packages\\pandas\\core\\reshape\\concat.py:372\u001B[0m, in \u001B[0;36mconcat\u001B[1;34m(objs, axis, join, ignore_index, keys, levels, names, verify_integrity, sort, copy)\u001B[0m\n\u001B[0;32m    369\u001B[0m \u001B[38;5;28;01melif\u001B[39;00m copy \u001B[38;5;129;01mand\u001B[39;00m using_copy_on_write():\n\u001B[0;32m    370\u001B[0m     copy \u001B[38;5;241m=\u001B[39m \u001B[38;5;28;01mFalse\u001B[39;00m\n\u001B[1;32m--> 372\u001B[0m op \u001B[38;5;241m=\u001B[39m \u001B[43m_Concatenator\u001B[49m\u001B[43m(\u001B[49m\n\u001B[0;32m    373\u001B[0m \u001B[43m    \u001B[49m\u001B[43mobjs\u001B[49m\u001B[43m,\u001B[49m\n\u001B[0;32m    374\u001B[0m \u001B[43m    \u001B[49m\u001B[43maxis\u001B[49m\u001B[38;5;241;43m=\u001B[39;49m\u001B[43maxis\u001B[49m\u001B[43m,\u001B[49m\n\u001B[0;32m    375\u001B[0m \u001B[43m    \u001B[49m\u001B[43mignore_index\u001B[49m\u001B[38;5;241;43m=\u001B[39;49m\u001B[43mignore_index\u001B[49m\u001B[43m,\u001B[49m\n\u001B[0;32m    376\u001B[0m \u001B[43m    \u001B[49m\u001B[43mjoin\u001B[49m\u001B[38;5;241;43m=\u001B[39;49m\u001B[43mjoin\u001B[49m\u001B[43m,\u001B[49m\n\u001B[0;32m    377\u001B[0m \u001B[43m    \u001B[49m\u001B[43mkeys\u001B[49m\u001B[38;5;241;43m=\u001B[39;49m\u001B[43mkeys\u001B[49m\u001B[43m,\u001B[49m\n\u001B[0;32m    378\u001B[0m \u001B[43m    \u001B[49m\u001B[43mlevels\u001B[49m\u001B[38;5;241;43m=\u001B[39;49m\u001B[43mlevels\u001B[49m\u001B[43m,\u001B[49m\n\u001B[0;32m    379\u001B[0m \u001B[43m    \u001B[49m\u001B[43mnames\u001B[49m\u001B[38;5;241;43m=\u001B[39;49m\u001B[43mnames\u001B[49m\u001B[43m,\u001B[49m\n\u001B[0;32m    380\u001B[0m \u001B[43m    \u001B[49m\u001B[43mverify_integrity\u001B[49m\u001B[38;5;241;43m=\u001B[39;49m\u001B[43mverify_integrity\u001B[49m\u001B[43m,\u001B[49m\n\u001B[0;32m    381\u001B[0m \u001B[43m    \u001B[49m\u001B[43mcopy\u001B[49m\u001B[38;5;241;43m=\u001B[39;49m\u001B[43mcopy\u001B[49m\u001B[43m,\u001B[49m\n\u001B[0;32m    382\u001B[0m \u001B[43m    \u001B[49m\u001B[43msort\u001B[49m\u001B[38;5;241;43m=\u001B[39;49m\u001B[43msort\u001B[49m\u001B[43m,\u001B[49m\n\u001B[0;32m    383\u001B[0m \u001B[43m\u001B[49m\u001B[43m)\u001B[49m\n\u001B[0;32m    385\u001B[0m \u001B[38;5;28;01mreturn\u001B[39;00m op\u001B[38;5;241m.\u001B[39mget_result()\n",
      "File \u001B[1;32m~\\anaconda3\\envs\\LeagueRankings\\lib\\site-packages\\pandas\\core\\reshape\\concat.py:429\u001B[0m, in \u001B[0;36m_Concatenator.__init__\u001B[1;34m(self, objs, axis, join, keys, levels, names, ignore_index, verify_integrity, copy, sort)\u001B[0m\n\u001B[0;32m    426\u001B[0m     objs \u001B[38;5;241m=\u001B[39m \u001B[38;5;28mlist\u001B[39m(objs)\n\u001B[0;32m    428\u001B[0m \u001B[38;5;28;01mif\u001B[39;00m \u001B[38;5;28mlen\u001B[39m(objs) \u001B[38;5;241m==\u001B[39m \u001B[38;5;241m0\u001B[39m:\n\u001B[1;32m--> 429\u001B[0m     \u001B[38;5;28;01mraise\u001B[39;00m \u001B[38;5;167;01mValueError\u001B[39;00m(\u001B[38;5;124m\"\u001B[39m\u001B[38;5;124mNo objects to concatenate\u001B[39m\u001B[38;5;124m\"\u001B[39m)\n\u001B[0;32m    431\u001B[0m \u001B[38;5;28;01mif\u001B[39;00m keys \u001B[38;5;129;01mis\u001B[39;00m \u001B[38;5;28;01mNone\u001B[39;00m:\n\u001B[0;32m    432\u001B[0m     objs \u001B[38;5;241m=\u001B[39m \u001B[38;5;28mlist\u001B[39m(com\u001B[38;5;241m.\u001B[39mnot_none(\u001B[38;5;241m*\u001B[39mobjs))\n",
      "\u001B[1;31mValueError\u001B[0m: No objects to concatenate"
     ]
    }
   ],
   "source": [
    "pd.concat([])"
   ],
   "metadata": {
    "collapsed": false,
    "ExecuteTime": {
     "end_time": "2023-09-30T01:18:29.535134900Z",
     "start_time": "2023-09-30T01:18:29.468233100Z"
    }
   },
   "id": "72a1870edbd98274"
  },
  {
   "cell_type": "code",
   "execution_count": null,
   "outputs": [],
   "source": [],
   "metadata": {
    "collapsed": false
   },
   "id": "b664100a7400fc3d"
  }
 ],
 "metadata": {
  "kernelspec": {
   "display_name": "Python 3",
   "language": "python",
   "name": "python3"
  },
  "language_info": {
   "codemirror_mode": {
    "name": "ipython",
    "version": 2
   },
   "file_extension": ".py",
   "mimetype": "text/x-python",
   "name": "python",
   "nbconvert_exporter": "python",
   "pygments_lexer": "ipython2",
   "version": "2.7.6"
  }
 },
 "nbformat": 4,
 "nbformat_minor": 5
}
