{
 "cells": [
  {
   "cell_type": "code",
   "execution_count": 1,
   "id": "initial_id",
   "metadata": {
    "collapsed": true,
    "ExecuteTime": {
     "end_time": "2023-09-07T07:02:50.263016700Z",
     "start_time": "2023-09-07T07:02:49.214364800Z"
    }
   },
   "outputs": [],
   "source": [
    "import pandas as pd\n",
    "import numpy as np\n",
    "import os\n",
    "\n",
    "from data_processing.GameFeaturesGenerator import GameFeaturesGenerator\n",
    "from data_processing.utils.download_functions import *"
   ]
  },
  {
   "cell_type": "code",
   "execution_count": 2,
   "outputs": [
    {
     "data": {
      "text/plain": "['games',\n 'leagues.json',\n 'mapping_data.json',\n 'players.json',\n 'teams.json',\n 'tournaments.json']"
     },
     "execution_count": 2,
     "metadata": {},
     "output_type": "execute_result"
    }
   ],
   "source": [
    "os.chdir('esports-data')\n",
    "os.listdir()"
   ],
   "metadata": {
    "collapsed": false,
    "ExecuteTime": {
     "end_time": "2023-09-07T07:02:50.270995300Z",
     "start_time": "2023-09-07T07:02:50.207409800Z"
    }
   },
   "id": "bcaf97301746e9fb"
  },
  {
   "cell_type": "code",
   "execution_count": 98,
   "outputs": [],
   "source": [
    "# Read in tournament data\n",
    "with open(\"tournaments.json\", \"r\") as json_file:\n",
    "   tournament_data_all = json.load(json_file)\n",
    "\n",
    "# Read in mappings data\n",
    "with open(\"mapping_data.json\", \"r\") as json_file:\n",
    "   mappings_data = json.load(json_file)\n",
    "   \n",
    "mappings = {\n",
    "   esports_game[\"esportsGameId\"]: esports_game for esports_game in mappings_data\n",
    "}\n",
    "\n",
    "# Only retrieve LCS tournament data ['lcs_summer_2023']\n",
    "tournament_data = [x for x in tournament_data_all if x['slug']=='lcs_summer_2023'][0]"
   ],
   "metadata": {
    "collapsed": false,
    "ExecuteTime": {
     "end_time": "2023-09-07T19:44:04.817601700Z",
     "start_time": "2023-09-07T19:44:02.426072200Z"
    }
   },
   "id": "fd523e0be314af1f"
  },
  {
   "cell_type": "code",
   "execution_count": 99,
   "outputs": [],
   "source": [
    "\n",
    "class TournamentDataProcessor:\n",
    "    def __init__(self, tournament_data):\n",
    "        self.tournament_data = tournament_data\n",
    "        self.tournament_name = tournament_data['slug']\n",
    "        self.tournament_stages = [x['name'] for x in tournament_data['stages']]\n",
    "    \n",
    "    def get_tournament_stages(self):\n",
    "        return [[x['name'], len(x['sections'])] for x in self.tournament_data['stages']]\n",
    "    \n",
    "    def get_tournament_data(self, training_stages = None, testing_stages=['Playoffs']):\n",
    "        # Iterate through the training stages and aggregate the data together, do the same for the testing stages\n",
    "        # Return the training and testing data\n",
    "        # If no training stages are specified, use all stages except the testing stages\n",
    "        if training_stages is None:\n",
    "            training_stages = [x['name'] for x in tournament_data['stages'] if x['name'] not in testing_stages]\n",
    "            \n",
    "        # Validate that the training and testing stages are valid within the tournament\n",
    "        for stage in training_stages+testing_stages:\n",
    "            if stage not in self.tournament_stages:\n",
    "                raise ValueError(f\"Stage {stage} not found in tournament {self.tournament_name}\")\n",
    "            \n",
    "        self.training_stages = training_stages\n",
    "        self.testing_stages = testing_stages\n",
    "        training_data = []\n",
    "        testing_data = []\n",
    "        for stage in self.tournament_data['stages']:\n",
    "            if stage['name'] in training_stages:\n",
    "                for section in stage['sections']:\n",
    "                    for match in section['matches']:\n",
    "                        training_data.append(self.get_game_data_full(match))\n",
    "            elif stage['name'] in testing_stages:\n",
    "                for section in stage['sections']:\n",
    "                    for match in section['matches']:\n",
    "                        testing_data.append(self.get_game_data_full(match))\n",
    "        \n",
    "        training_data = pd.concat(training_data, ignore_index=True)\n",
    "        testing_data = pd.concat(testing_data, ignore_index=True)\n",
    "        training_data = self.append_flipped_team_and_outcomes(training_data)\n",
    "        \n",
    "        return training_data, testing_data\n",
    "\n",
    "    def get_game_data_full(self, games_data):\n",
    "        # Iterate through t events of the match (could consist of one or many games) \n",
    "        # This is called at the match level (i.e., tournament_data['stages'][0]['sections'][0]['matches'] ) \n",
    "        # Look in the ['games'][t]['id'] field to get the game ID\n",
    "        # Look in the ['games'][t]['state'] field to see if the game is 'completed'\n",
    "        # Look in the ['games'][t]['teams'] field to get the team IDs\n",
    "        # Look in the ['games'][t]['teams'][x]['result']['outcome'] field to get the result of the game for each team\n",
    "        # We technically only need the 'state' to verify completion and 'id' to fetch details of the game, but load in other fields for verification\n",
    "        match_id = games_data['id']  # ID for the full match\n",
    "        game_tables = []\n",
    "        for game in games_data['games']:\n",
    "            game_state = game['state']\n",
    "            if game_state == 'completed':\n",
    "                game_id = game['id']  # ID for the specific games in the match \n",
    "                team_ids, team_outcomes = [], []\n",
    "                for team in game['teams']:\n",
    "                    team_ids.append(team['id'])\n",
    "                    team_outcome = 1 if team['result']['outcome'] == 'win' else 0\n",
    "                    team_outcomes.append(team_outcome)\n",
    "                game_tables.append(pd.DataFrame({'match_id': match_id, 'esportsGameId': game_id,\n",
    "                                                 'team_id_1': team_ids[0], 'outcome_1': team_outcomes[0],\n",
    "                                                 'team_id_2': team_ids[1], 'outcome_2': team_outcomes[1]}, index=[0]))\n",
    "        return pd.concat(game_tables, ignore_index=True)\n",
    "    \n",
    "    @staticmethod\n",
    "    def swap_columns(df, cols1, cols2):\n",
    "        \"\"\"Swap the corresponding values of each of the columns of cols1 with cols2 and return a copy of the df\"\"\"\n",
    "        if len(cols1) != len(cols2):\n",
    "            raise ValueError(\"The number of columns to swap must be equal\")\n",
    "        df_copy = df.copy(deep=True)\n",
    "        for i in range(len(cols1)):\n",
    "            col_val = df_copy[cols1[i]].copy()\n",
    "            df_copy[cols1[i]] = df_copy[cols2[i]]\n",
    "            df_copy[cols2[i]] = col_val\n",
    "        return df_copy\n",
    "    \n",
    "    def append_flipped_team_and_outcomes(self, data):\n",
    "        # Want to ensure that there's symmetry between the teams and outcomes to prevent overfitting \n",
    "        return pd.concat([data, TournamentDataProcessor.swap_columns(data, ['team_id_1', 'outcome_1'], ['team_id_2', 'outcome_2'])], ignore_index=True)\n",
    "        "
   ],
   "metadata": {
    "collapsed": false,
    "ExecuteTime": {
     "end_time": "2023-09-07T19:44:04.851511500Z",
     "start_time": "2023-09-07T19:44:04.818600100Z"
    }
   },
   "id": "707ed03ce0268e0f"
  },
  {
   "cell_type": "code",
   "execution_count": 100,
   "outputs": [],
   "source": [
    "tournament_data_processor = TournamentDataProcessor(tournament_data)\n",
    "training_data, testing_data = tournament_data_processor.get_tournament_data()"
   ],
   "metadata": {
    "collapsed": false,
    "ExecuteTime": {
     "end_time": "2023-09-07T19:44:04.987693Z",
     "start_time": "2023-09-07T19:44:04.851511500Z"
    }
   },
   "id": "b7bdde7a9d0ffe53"
  },
  {
   "cell_type": "code",
   "execution_count": 103,
   "outputs": [
    {
     "data": {
      "text/plain": "True"
     },
     "execution_count": 103,
     "metadata": {},
     "output_type": "execute_result"
    }
   ],
   "source": [
    "os.path.exists(f\"games/{platform_game_id}.json\")"
   ],
   "metadata": {
    "collapsed": false,
    "ExecuteTime": {
     "end_time": "2023-09-07T19:44:10.349418700Z",
     "start_time": "2023-09-07T19:44:10.323488100Z"
    }
   },
   "id": "64bba184c7f064c4"
  },
  {
   "cell_type": "code",
   "execution_count": 104,
   "outputs": [],
   "source": [
    "with open(f\"games/{platform_game_id}.json\", \"r\") as json_file:\n",
    "    game_data = json.load(json_file)"
   ],
   "metadata": {
    "collapsed": false,
    "ExecuteTime": {
     "end_time": "2023-09-07T19:44:13.980604500Z",
     "start_time": "2023-09-07T19:44:12.382635700Z"
    }
   },
   "id": "a935ed636ff2998e"
  },
  {
   "cell_type": "code",
   "execution_count": 102,
   "outputs": [],
   "source": [
    "platform_game_id = mappings[training_data.iloc[1]['esportsGameId']]['platformGameId']"
   ],
   "metadata": {
    "collapsed": false,
    "ExecuteTime": {
     "end_time": "2023-09-07T19:44:08.931766100Z",
     "start_time": "2023-09-07T19:44:08.898753400Z"
    }
   },
   "id": "6282de2c50819ed1"
  },
  {
   "cell_type": "code",
   "execution_count": 94,
   "outputs": [
    {
     "data": {
      "text/plain": "'games/ESPORTSTMNT01:3311377.json'"
     },
     "execution_count": 94,
     "metadata": {},
     "output_type": "execute_result"
    }
   ],
   "source": [
    "f\"games/{platform_game_id}.json\""
   ],
   "metadata": {
    "collapsed": false,
    "ExecuteTime": {
     "end_time": "2023-09-07T19:42:59.387182300Z",
     "start_time": "2023-09-07T19:42:59.352742800Z"
    }
   },
   "id": "bc6809f2f4c0cf70"
  },
  {
   "cell_type": "code",
   "execution_count": null,
   "outputs": [],
   "source": [
    "directory = \"games\"\n",
    "if not os.path.exists(directory):\n",
    "   os.makedirs(directory)\n",
    "\n",
    "# Load each game and process them\n",
    "game_rows = []\n",
    "for game_id in reg_season_games['esportsGameId']:\n",
    "    try:\n",
    "        game_mapping_data = mappings[game_id]\n",
    "        platform_game_id = game_mapping_data['platformGameId']\n",
    "        # download_gzip_and_write_to_json(f\"{directory}/{platform_game_id}\")\n",
    "        with open(f\"games/{platform_game_id}.json\", \"r\") as json_file:\n",
    "            game_data = json.load(json_file)\n",
    "        game_features = GameFeaturesGenerator(game_data, game_mapping_data).process_game()\n",
    "        game_rows.append(game_features)\n",
    "    except KeyError:\n",
    "        print(f\"Match {game_id} was not found\")\n"
   ],
   "metadata": {
    "collapsed": false
   },
   "id": "a640b56c5dd75a20"
  }
 ],
 "metadata": {
  "kernelspec": {
   "display_name": "Python 3",
   "language": "python",
   "name": "python3"
  },
  "language_info": {
   "codemirror_mode": {
    "name": "ipython",
    "version": 2
   },
   "file_extension": ".py",
   "mimetype": "text/x-python",
   "name": "python",
   "nbconvert_exporter": "python",
   "pygments_lexer": "ipython2",
   "version": "2.7.6"
  }
 },
 "nbformat": 4,
 "nbformat_minor": 5
}
