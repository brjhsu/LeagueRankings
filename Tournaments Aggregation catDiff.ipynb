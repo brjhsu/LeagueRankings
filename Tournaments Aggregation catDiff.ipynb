{
 "cells": [
  {
   "cell_type": "code",
   "execution_count": 1,
   "id": "initial_id",
   "metadata": {
    "collapsed": true,
    "ExecuteTime": {
     "end_time": "2023-09-27T04:37:03.095916100Z",
     "start_time": "2023-09-27T04:36:57.076072400Z"
    }
   },
   "outputs": [
    {
     "data": {
      "text/plain": "['2021_raw_game_data',\n '2022_raw_game_data',\n 'catboost_info',\n 'leagues.json',\n 'mapping_data.json',\n 'players.json',\n 'teams.json',\n 'tournaments.json']"
     },
     "execution_count": 1,
     "metadata": {},
     "output_type": "execute_result"
    }
   ],
   "source": [
    "import pandas as pd\n",
    "pd.set_option('mode.chained_assignment', None)\n",
    "pd.set_option('display.max_columns', 50)\n",
    "import numpy as np\n",
    "import os\n",
    "from tqdm.notebook import tqdm\n",
    "from data_processing.GameFeaturesGenerator import GameFeaturesGenerator\n",
    "from data_processing.TournamentDataProcessor import TournamentDataProcessor\n",
    "from data_processing.LeaguesDataProcessor import LeaguesDataProcessor\n",
    "from data_processing.utils.download_functions import *\n",
    "from copy import deepcopy\n",
    "os.chdir('esports-data')\n",
    "os.listdir()"
   ]
  },
  {
   "cell_type": "code",
   "execution_count": 2,
   "id": "703149cbe37c2d3a",
   "metadata": {
    "collapsed": false,
    "ExecuteTime": {
     "end_time": "2023-09-27T04:37:03.120848900Z",
     "start_time": "2023-09-27T04:37:03.067479900Z"
    }
   },
   "outputs": [],
   "source": [
    "# Read in teams data\n",
    "with open(\"teams.json\", \"r\") as json_file:\n",
    "   teams_data = json.load(json_file)\n",
    "\n",
    "team_df = []\n",
    "for team in teams_data:\n",
    "    team_df.append({'team_id': team['team_id'], 'team_name': team['name']})\n",
    "    \n",
    "team_df = pd.DataFrame(team_df)"
   ]
  },
  {
   "cell_type": "code",
   "execution_count": 3,
   "id": "d066ae5d8ce55c3d",
   "metadata": {
    "collapsed": false,
    "ExecuteTime": {
     "end_time": "2023-09-27T04:37:03.161741900Z",
     "start_time": "2023-09-27T04:37:03.097911700Z"
    }
   },
   "outputs": [],
   "source": [
    "# Get all file names from '2021_raw_game_data'\n",
    "file_names = os.listdir('2021_raw_game_data')\n",
    "\n",
    "# Get the unique tournament names by stripping out '_game_rows.csv' and '_tournament_rows.csv'\n",
    "unique_tournament_names = [file_name.split('_game_rows.csv')[0] for file_name in file_names]\n",
    "unique_tournament_names = [x.replace('_tournament_rows.csv', '') for x in unique_tournament_names]\n",
    "unique_tournament_names = list(set(unique_tournament_names))"
   ]
  },
  {
   "cell_type": "code",
   "execution_count": 4,
   "id": "f8559a73d8312581",
   "metadata": {
    "collapsed": false,
    "ExecuteTime": {
     "end_time": "2023-09-27T04:37:03.164733800Z",
     "start_time": "2023-09-27T04:37:03.113868300Z"
    }
   },
   "outputs": [],
   "source": [
    " # ['League_TFT Rising Legends', 'League_MSI', 'League_Worlds', 'League_All-Star Event'] "
   ]
  },
  {
   "cell_type": "code",
   "execution_count": 5,
   "id": "1d83e34837d5eb73",
   "metadata": {
    "collapsed": false,
    "ExecuteTime": {
     "end_time": "2023-09-27T04:37:15.464488500Z",
     "start_time": "2023-09-27T04:37:03.128830600Z"
    }
   },
   "outputs": [
    {
     "data": {
      "text/plain": "  0%|          | 0/51 [00:00<?, ?it/s]",
      "application/vnd.jupyter.widget-view+json": {
       "version_major": 2,
       "version_minor": 0,
       "model_id": "3abb0e8ea4144a2da308c3979d4a9b43"
      }
     },
     "metadata": {},
     "output_type": "display_data"
    },
    {
     "data": {
      "text/plain": "  0%|          | 0/51 [00:00<?, ?it/s]",
      "application/vnd.jupyter.widget-view+json": {
       "version_major": 2,
       "version_minor": 0,
       "model_id": "f2e79232ea60472d9f862a2a7d548d77"
      }
     },
     "metadata": {},
     "output_type": "display_data"
    },
    {
     "data": {
      "text/plain": "(9574, 1243)"
     },
     "execution_count": 5,
     "metadata": {},
     "output_type": "execute_result"
    }
   ],
   "source": [
    "# Aggregate all the game rows into one dataframe, start with an empty dataframe and append onto it to save memory\n",
    "tournament_rows = pd.DataFrame()\n",
    "for tournament_name in tqdm(unique_tournament_names):\n",
    "    df_tmp = pd.read_csv('2021_raw_game_data/' + tournament_name + '_tournament_rows.csv')\n",
    "    # Add a column to indicate the tournament name\n",
    "    df_tmp['tournament_name'] = tournament_name\n",
    "    tournament_rows = pd.concat([tournament_rows, df_tmp])\n",
    "tournament_rows.shape\n",
    "\n",
    "game_rows = pd.DataFrame()\n",
    "for tournament_name in tqdm(unique_tournament_names):\n",
    "    df_tmp = pd.read_csv('2021_raw_game_data/' + tournament_name + '_game_rows.csv', index_col=0)\n",
    "    # Add a column to indicate the tournament name\n",
    "    df_tmp['tournament_name'] = tournament_name\n",
    "    game_rows = pd.concat([game_rows, df_tmp])\n",
    "game_rows.shape"
   ]
  },
  {
   "cell_type": "code",
   "execution_count": 6,
   "id": "8e9e597d5950a462",
   "metadata": {
    "collapsed": false,
    "ExecuteTime": {
     "end_time": "2023-09-27T04:37:15.535843900Z",
     "start_time": "2023-09-27T04:37:15.465486500Z"
    }
   },
   "outputs": [
    {
     "name": "stdout",
     "output_type": "stream",
     "text": [
      "240\n"
     ]
    }
   ],
   "source": [
    "non_game_features = ['platformGameId', 'esportsGameId', 'team_id', 'start_time', 'tournament_name']\n",
    "league_indicators_to_drop = ['League_TFT Rising Legends', 'League_All-Star Event', 'League_MSI', 'League_Worlds', 'League_EMEA Masters']\n",
    "league_indicators = [x for x in game_rows.columns if 'League_' in x]\n",
    "league_indicators = [x for x in league_indicators if x not in league_indicators_to_drop]\n",
    "game_rows = game_rows.drop(columns=league_indicators_to_drop, axis=1)\n",
    "\n",
    "\n",
    "# Keep this if we want to analyze specific tournaments (e.g. MSI and Worlds) or if we want to upweight/downweight certain tournaments \n",
    "# game_rows = game_rows.drop(columns=['tournament_name'], axis=1)  \n",
    "\n",
    "game_features = [x for x in game_rows.columns if x not in non_game_features + league_indicators]\n",
    "all_team_ids = np.unique(game_rows['team_id'])\n",
    "print(len(all_team_ids))"
   ]
  },
  {
   "cell_type": "code",
   "execution_count": 7,
   "id": "ea994305aa7da74c",
   "metadata": {
    "collapsed": false,
    "ExecuteTime": {
     "end_time": "2023-09-27T04:40:26.994911600Z",
     "start_time": "2023-09-27T04:39:05.831576100Z"
    }
   },
   "outputs": [
    {
     "data": {
      "text/plain": "  0%|          | 0/240 [00:00<?, ?it/s]",
      "application/vnd.jupyter.widget-view+json": {
       "version_major": 2,
       "version_minor": 0,
       "model_id": "30529237af7f4ba6b930d198824bf841"
      }
     },
     "metadata": {},
     "output_type": "display_data"
    },
    {
     "name": "stdout",
     "output_type": "stream",
     "text": [
      "9334\n"
     ]
    }
   ],
   "source": [
    "\"\"\"\n",
    "1. Sort the game_rows by team_id and start_time \n",
    "2. Create features for each team by averaging stats of the last 5 games that they played (or the most recent statistics if possible, with a \"num_prev_games) column\n",
    "    This yields a row of data where the features are the average of the last 5 games that the team played BEFORE the game of ['platformGameId', 'esportsGameId', 'team_id', 'start_time']\n",
    "    We also need to drop the first row where we don't have any data to average over\n",
    "3. Mark the last row of each team's data as the last game\n",
    "    This is so that we can use this to predict the next game\n",
    "3. Later join to the reg_season_games data for training the model \n",
    "4. Use the trained model to predict on the playoff_games data for testing \n",
    "\"\"\"\n",
    "\n",
    "processed_game_data = []\n",
    "for team in tqdm(all_team_ids):\n",
    "    team_data = game_rows[game_rows['team_id']==team].reset_index()\n",
    "    team_data = team_data.sort_values(by=['start_time'])\n",
    "    team_data['num_prev_games'] = np.arange(len(team_data))\n",
    "    # First lag by 1 game so that the current game is not included in the average. Then take the mean as the trailing average \n",
    "    team_data_features = team_data[game_features].shift(1).rolling(window=20, min_periods=1).mean()\n",
    "    team_data[game_features] = team_data_features\n",
    "    # Drop rows where num_prev_games == 0 as this indicates that it's the team's first game \n",
    "    team_data = team_data[team_data['num_prev_games']!=0]\n",
    "    # Add one more column to indicate if the row is the last of the team's games\n",
    "    # last_game_indicator_col = pd.DataFrame({'last_game_ind': team_data['num_prev_games']==team_data['num_prev_games'].max()})\n",
    "    # team_data = pd.concat([team_data, last_game_indicator_col], axis=1)\n",
    "\n",
    "    # Determine the team's primary league\n",
    "    team_league = team_data[league_indicators].mean(axis=0).idxmax()\n",
    "    # check if there are any rows where the team does not have a league_indicator (i.e., np.sum(team_data[league_indicators]) == 0) and if so, mark the team_league as 1 for those rows\n",
    "    # This happens when a team plays in international tournaments \n",
    "    team_data.loc[np.sum(team_data[league_indicators], axis=1)==0, team_league] = 1\n",
    "\n",
    "    # update the processed_game_data with the new league_indicator values\n",
    "    processed_game_data.append(team_data)\n",
    "\n",
    "processed_game_data = pd.concat(processed_game_data)\n",
    "processed_game_data.drop('index', axis=1, inplace=True)\n",
    "print(len(processed_game_data))"
   ]
  },
  {
   "cell_type": "code",
   "execution_count": 8,
   "id": "0726c181",
   "metadata": {
    "ExecuteTime": {
     "end_time": "2023-09-27T04:40:26.995911400Z",
     "start_time": "2023-09-27T04:40:26.961118800Z"
    }
   },
   "outputs": [],
   "source": [
    "# Maintain a manual dictionary of team_id to league_indicator\n",
    "# Loop through this and mark the league_indicator for each team_id as =1 for the rows where the team_id is present\n",
    "league_indicator_dict = {\n",
    "    '98767991892579754': 'League_LPL',  # RNG\n",
    "    '104367068120825486': 'League_PCS',  # PSG Talon\n",
    "    '98767991882270868': 'League_LPL',  # EDG\n",
    "    '99566404850008779': 'League_LPL',  # LNG\n",
    "    '99566404855553726': 'League_LPL',  # FPX\n",
    "}\n",
    "for team_id, league_indicator in league_indicator_dict.items():\n",
    "    processed_game_data.loc[processed_game_data['team_id']==team_id, league_indicator] = 1"
   ]
  },
  {
   "cell_type": "code",
   "execution_count": 10,
   "outputs": [
    {
     "name": "stderr",
     "output_type": "stream",
     "text": [
      "C:\\Users\\brian\\AppData\\Local\\Temp\\ipykernel_82192\\1173558467.py:4: PerformanceWarning: DataFrame is highly fragmented.  This is usually the result of calling `frame.insert` many times, which has poor performance.  Consider joining all columns at once using pd.concat(axis=1) instead. To get a de-fragmented frame, use `newframe = frame.copy()`\n",
      "  processed_game_data['eliteLeague'] = (processed_game_data['League_LPL'] == 1) | (processed_game_data['League_LCK'] == 1)\n",
      "C:\\Users\\brian\\AppData\\Local\\Temp\\ipykernel_82192\\1173558467.py:5: PerformanceWarning: DataFrame is highly fragmented.  This is usually the result of calling `frame.insert` many times, which has poor performance.  Consider joining all columns at once using pd.concat(axis=1) instead. To get a de-fragmented frame, use `newframe = frame.copy()`\n",
      "  processed_game_data['majorLeague'] = (processed_game_data['League_LPL'] == 1) | (processed_game_data['League_LCK'] == 1) | \\\n"
     ]
    }
   ],
   "source": [
    "# Create two additional features related to the esport league\n",
    "# If the team is an LPL or LCK team, mark indicator 'eliteLeague' as 1\n",
    "# If the team is an LEC, LCS, LPL, or LCK team, mark indicator 'majorLeague' as 1\n",
    "processed_game_data['eliteLeague'] = (processed_game_data['League_LPL'] == 1) | (processed_game_data['League_LCK'] == 1)\n",
    "processed_game_data['majorLeague'] = (processed_game_data['League_LPL'] == 1) | (processed_game_data['League_LCK'] == 1) | \\\n",
    "                                     (processed_game_data['League_LCS'] == 1) | (processed_game_data['League_LEC'] == 1)"
   ],
   "metadata": {
    "collapsed": false,
    "ExecuteTime": {
     "end_time": "2023-09-27T04:45:27.529539500Z",
     "start_time": "2023-09-27T04:45:27.483662400Z"
    }
   },
   "id": "b313b60457089fe8"
  },
  {
   "cell_type": "code",
   "execution_count": 11,
   "id": "f32df093",
   "metadata": {
    "ExecuteTime": {
     "end_time": "2023-09-27T04:45:30.152919500Z",
     "start_time": "2023-09-27T04:45:29.876086400Z"
    }
   },
   "outputs": [
    {
     "name": "stderr",
     "output_type": "stream",
     "text": [
      "C:\\Users\\brian\\AppData\\Local\\Temp\\ipykernel_82192\\276814191.py:7: PerformanceWarning: DataFrame is highly fragmented.  This is usually the result of calling `frame.insert` many times, which has poor performance.  Consider joining all columns at once using pd.concat(axis=1) instead. To get a de-fragmented frame, use `newframe = frame.copy()`\n",
      "  processed_game_data['eSportLeague'] = processed_game_data[league_indicators].apply(lambda x: ''.join(x), axis=1)\n"
     ]
    }
   ],
   "source": [
    "# Check that the one-hot encoding worked correctly\n",
    "if (np.sum(processed_game_data[league_indicators], axis=1) == 1).all():\n",
    "    # Convert the league_indicator one-hot encoded columns to categorical variables\n",
    "    for league in [x.replace('League_', '') for x in league_indicators]:\n",
    "        processed_game_data['League_' + league] = processed_game_data['League_' + league].apply(lambda x: league if x==1 else '')\n",
    "    # Combine it into a single column\n",
    "    processed_game_data['eSportLeague'] = processed_game_data[league_indicators].apply(lambda x: ''.join(x), axis=1)\n",
    "    processed_game_data = processed_game_data.drop(columns=league_indicators, axis=1)\n",
    "    # Convert it to a categorical variable\n",
    "    processed_game_data['eSportLeague'] = processed_game_data['eSportLeague'].astype('category')\n",
    "else:\n",
    "    raise ValueError('One-hot encoding of league_indicators did not work correctly')"
   ]
  },
  {
   "cell_type": "code",
   "execution_count": 12,
   "outputs": [],
   "source": [
    "valid_games = tournament_rows.merge(processed_game_data[['esportsGameId', 'team_id']], how='inner', \n",
    "                                    left_on=['esportsGameId', 'team_id_1'], \n",
    "                                    right_on=['esportsGameId', 'team_id'], \n",
    "                                    suffixes=['_to_drop','_to_drop'])\n",
    "valid_games = valid_games.merge(processed_game_data[['esportsGameId', 'team_id']], how='inner', \n",
    "                                    left_on=['esportsGameId', 'team_id_2'], \n",
    "                                    right_on=['esportsGameId', 'team_id'],\n",
    "                                    suffixes=['_to_drop','_to_drop'])\n",
    "valid_games.drop([x for x in valid_games.columns if '_to_drop' in x], axis=1, inplace=True)"
   ],
   "metadata": {
    "collapsed": false,
    "ExecuteTime": {
     "end_time": "2023-09-27T04:45:36.792341100Z",
     "start_time": "2023-09-27T04:45:36.762823100Z"
    }
   },
   "id": "448a3a9a1d49e226"
  },
  {
   "cell_type": "code",
   "execution_count": 13,
   "outputs": [],
   "source": [
    "# Merge processed_game_data with tournament_rows for team 1\n",
    "team_1_data = valid_games.merge(processed_game_data, how='inner', \n",
    "                                    left_on=['esportsGameId', 'team_id_1'], \n",
    "                                    right_on=['esportsGameId', 'team_id'],\n",
    "                                    suffixes=['_to_drop','_to_drop'])\n",
    "\n",
    "# Merge processed_game_data with tournament_rows for team 2\n",
    "team_2_data = valid_games.merge(processed_game_data, how='inner', \n",
    "                                    left_on=['esportsGameId', 'team_id_2'], \n",
    "                                    right_on=['esportsGameId', 'team_id'],\n",
    "                                    suffixes=['_to_drop','_to_drop'])"
   ],
   "metadata": {
    "collapsed": false,
    "ExecuteTime": {
     "end_time": "2023-09-27T04:45:40.099339400Z",
     "start_time": "2023-09-27T04:45:39.358101Z"
    }
   },
   "id": "c2555d23e5fee2ca"
  },
  {
   "cell_type": "code",
   "execution_count": 14,
   "outputs": [
    {
     "data": {
      "text/plain": "match_id                   106269654661205609\nesportsGameId              106269654661205610\nleague                                    LCK\nteam_id_1                   99566404585387054\noutcome_1                                   0\n                                  ...        \ntournament_name_to_drop       lck_summer_2021\nnum_prev_games                             54\neliteLeague                              True\nmajorLeague                              True\neSportLeague                              LCK\nName: 0, Length: 1216, dtype: object"
     },
     "execution_count": 14,
     "metadata": {},
     "output_type": "execute_result"
    }
   ],
   "source": [
    "team_1_data.iloc[0]"
   ],
   "metadata": {
    "collapsed": false,
    "ExecuteTime": {
     "end_time": "2023-09-27T04:46:12.771074600Z",
     "start_time": "2023-09-27T04:46:12.736861100Z"
    }
   },
   "id": "b00a4f18b3390ed5"
  },
  {
   "cell_type": "code",
   "execution_count": 15,
   "id": "5f11611b",
   "metadata": {
    "ExecuteTime": {
     "end_time": "2023-09-27T04:48:54.222495800Z",
     "start_time": "2023-09-27T04:48:53.800044600Z"
    }
   },
   "outputs": [
    {
     "name": "stderr",
     "output_type": "stream",
     "text": [
      "C:\\Users\\brian\\AppData\\Local\\Temp\\ipykernel_82192\\2945610770.py:15: PerformanceWarning: DataFrame is highly fragmented.  This is usually the result of calling `frame.insert` many times, which has poor performance.  Consider joining all columns at once using pd.concat(axis=1) instead. To get a de-fragmented frame, use `newframe = frame.copy()`\n",
      "  training_data['eSportsLeague_1'] = team_1_data['eSportLeague']\n",
      "C:\\Users\\brian\\AppData\\Local\\Temp\\ipykernel_82192\\2945610770.py:16: PerformanceWarning: DataFrame is highly fragmented.  This is usually the result of calling `frame.insert` many times, which has poor performance.  Consider joining all columns at once using pd.concat(axis=1) instead. To get a de-fragmented frame, use `newframe = frame.copy()`\n",
      "  training_data['eSportsLeague_2'] = team_2_data['eSportLeague']\n",
      "C:\\Users\\brian\\AppData\\Local\\Temp\\ipykernel_82192\\2945610770.py:17: PerformanceWarning: DataFrame is highly fragmented.  This is usually the result of calling `frame.insert` many times, which has poor performance.  Consider joining all columns at once using pd.concat(axis=1) instead. To get a de-fragmented frame, use `newframe = frame.copy()`\n",
      "  training_data['eliteLeague_1'] = team_1_data['eliteLeague']\n",
      "C:\\Users\\brian\\AppData\\Local\\Temp\\ipykernel_82192\\2945610770.py:18: PerformanceWarning: DataFrame is highly fragmented.  This is usually the result of calling `frame.insert` many times, which has poor performance.  Consider joining all columns at once using pd.concat(axis=1) instead. To get a de-fragmented frame, use `newframe = frame.copy()`\n",
      "  training_data['eliteLeague_2'] = team_2_data['eliteLeague']\n",
      "C:\\Users\\brian\\AppData\\Local\\Temp\\ipykernel_82192\\2945610770.py:19: PerformanceWarning: DataFrame is highly fragmented.  This is usually the result of calling `frame.insert` many times, which has poor performance.  Consider joining all columns at once using pd.concat(axis=1) instead. To get a de-fragmented frame, use `newframe = frame.copy()`\n",
      "  training_data['majorLeague_1'] = team_1_data['majorLeague']\n",
      "C:\\Users\\brian\\AppData\\Local\\Temp\\ipykernel_82192\\2945610770.py:20: PerformanceWarning: DataFrame is highly fragmented.  This is usually the result of calling `frame.insert` many times, which has poor performance.  Consider joining all columns at once using pd.concat(axis=1) instead. To get a de-fragmented frame, use `newframe = frame.copy()`\n",
      "  training_data['majorLeague_2'] = team_2_data['majorLeague']\n"
     ]
    }
   ],
   "source": [
    "# Calculate the difference between the two teams for esportsGameId and for each feature\n",
    "check_esportsGameId = np.all(team_1_data['esportsGameId'] == team_2_data['esportsGameId'])\n",
    "check_team1_id = np.all(team_1_data['team_id_1'] == team_2_data['team_id_1'])\n",
    "check_team2_id = np.all(team_1_data['team_id_2'] == team_2_data['team_id_2'])\n",
    "\n",
    "if check_esportsGameId and check_team1_id and check_team2_id:\n",
    "    # Calculate the difference between the two teams for each feature\n",
    "    difference_data = team_1_data[game_features].subtract(team_2_data[game_features])\n",
    "else:\n",
    "    raise Exception('esportsGameId is not the same for the two teams')\n",
    "\n",
    "# Add the difference data to the tournament_rows dataframe as well as the league data for each team\n",
    "training_data = deepcopy(valid_games)\n",
    "training_data = pd.concat([training_data.reset_index(), difference_data], axis=1)\n",
    "training_data['eSportsLeague_1'] = team_1_data['eSportLeague']\n",
    "training_data['eSportsLeague_2'] = team_2_data['eSportLeague']\n",
    "training_data['eliteLeague_1'] = team_1_data['eliteLeague']\n",
    "training_data['eliteLeague_2'] = team_2_data['eliteLeague']\n",
    "training_data['majorLeague_1'] = team_1_data['majorLeague']\n",
    "training_data['majorLeague_2'] = team_2_data['majorLeague']\n",
    "\n",
    "# Drop the columns that were used for joining (have '_to_drop' suffix). \n",
    "training_data.drop([x for x in training_data.columns if '_to_drop' in x] + ['index'], axis=1, inplace=True)\n",
    "\n",
    "# drop the games where the outcome is NaN, those games are when one team has not had any games yet\n",
    "training_data.dropna(subset=['outcome'], inplace=True)\n",
    "\n",
    "del team_1_data, team_2_data, difference_data"
   ]
  },
  {
   "cell_type": "code",
   "execution_count": 16,
   "id": "2cee498b9e11b122",
   "metadata": {
    "collapsed": false,
    "ExecuteTime": {
     "end_time": "2023-09-27T04:48:57.036382900Z",
     "start_time": "2023-09-27T04:48:56.838742800Z"
    }
   },
   "outputs": [],
   "source": [
    "# Do catboost on the training data\n",
    "from catboost import CatBoostClassifier\n",
    "from sklearn.model_selection import train_test_split\n",
    "from sklearn.metrics import accuracy_score, roc_auc_score, log_loss\n",
    "from sklearn.model_selection import GridSearchCV\n",
    "\n",
    "target_col = 'outcome_1'\n",
    "## At this point could assign row weights based on 'tournament_name' column to upweight/downweight certain tournaments\n",
    "X = training_data.drop(['match_id', 'esportsGameId', 'league', 'team_id_1', 'outcome_1', 'team_id_2', 'outcome_2'], axis=1)\n",
    "y = training_data[target_col]\n",
    "X_train, X_test, y_train, y_test = train_test_split(X, y, test_size=0.2, random_state=42)\n",
    "\n",
    "# Get all indices where X_train['tournment_name'] contains ['worlds', 'msi'] \n",
    "international_ix_train = X_train['tournament_name'].str.contains('worlds|msi')\n",
    "international_ix_test = X_test['tournament_name'].str.contains('worlds|msi')\n",
    "\n",
    "# Create a weight vector where the international games are weighted 2x\n",
    "weights_train = np.ones(len(X_train))\n",
    "weights_train[international_ix_train] = 1\n",
    "\n",
    "X_train = X_train.drop('tournament_name', axis=1)\n",
    "X_test = X_test.drop('tournament_name', axis=1)"
   ]
  },
  {
   "cell_type": "code",
   "execution_count": 18,
   "outputs": [
    {
     "data": {
      "text/plain": "outcome                       -0.2\nfirst_riftHerald_ind          -0.2\nfirst_riftHerald_time    -96.56025\nnum_riftHerald                -0.3\nfirst_dragon_ind              -0.2\n                           ...    \neSportsLeague_2          Ultraliga\neliteLeague_1                False\neliteLeague_2                False\nmajorLeague_1                False\nmajorLeague_2                False\nName: 3824, Length: 1206, dtype: object"
     },
     "execution_count": 18,
     "metadata": {},
     "output_type": "execute_result"
    }
   ],
   "source": [
    "X_train.iloc[0]"
   ],
   "metadata": {
    "collapsed": false,
    "ExecuteTime": {
     "end_time": "2023-09-27T04:49:20.254481900Z",
     "start_time": "2023-09-27T04:49:20.212346600Z"
    }
   },
   "id": "3601737da7c8fcc5"
  },
  {
   "cell_type": "code",
   "execution_count": 17,
   "id": "8ea62e673cf36736",
   "metadata": {
    "collapsed": false,
    "ExecuteTime": {
     "end_time": "2023-09-27T04:49:13.471180900Z",
     "start_time": "2023-09-27T04:48:58.128151900Z"
    }
   },
   "outputs": [
    {
     "data": {
      "text/plain": "MetricVisualizer(layout=Layout(align_self='stretch', height='500px'))",
      "application/vnd.jupyter.widget-view+json": {
       "version_major": 2,
       "version_minor": 0,
       "model_id": "7efd06d0a2e0471089d6e677e2e19396"
      }
     },
     "metadata": {},
     "output_type": "display_data"
    },
    {
     "name": "stderr",
     "output_type": "stream",
     "text": [
      "\n",
      "KeyboardInterrupt\n",
      "\n"
     ]
    }
   ],
   "source": [
    "params = {\n",
    "    'iterations': 10,\n",
    "    'depth': 5,\n",
    "    'learning_rate': 0.1,\n",
    "}\n",
    "\n",
    "model = CatBoostClassifier(cat_features=['eSportsLeague_1', 'eSportsLeague_2'], task_type=\"GPU\", devices='0:1')\n",
    "\n",
    "model.fit(X_train, y_train, eval_set=(X_test, y_test), verbose=False, plot=True, sample_weight=weights_train)"
   ]
  },
  {
   "cell_type": "code",
   "execution_count": null,
   "id": "d0284c0933ec5b22",
   "metadata": {
    "collapsed": false,
    "ExecuteTime": {
     "start_time": "2023-09-27T04:35:57.473691600Z"
    }
   },
   "outputs": [],
   "source": [
    "yhat_train_model = np.round(model.predict(X_train))\n",
    "yhat_train_base = (X_train['outcome'] >= 0)\n",
    "\n",
    "yhat_test_model = np.round(model.predict(X_test))\n",
    "yhat_test_base = (X_test['outcome'] >= 0)"
   ]
  },
  {
   "cell_type": "code",
   "execution_count": null,
   "id": "6e640f3777d00a6e",
   "metadata": {
    "collapsed": false,
    "ExecuteTime": {
     "start_time": "2023-09-27T04:35:57.475687300Z"
    }
   },
   "outputs": [],
   "source": [
    " # TRAINING DATA\n",
    "print(\"TRAINING DATA\")\n",
    "# Evaluate the accuracy overall, for international games, and for domestic games separately\n",
    "print(f\"Accuracy overall: {accuracy_score(y_train, yhat_train_model)}\")\n",
    "print(f\"Accuracy international: {accuracy_score(y_train[international_ix_train], yhat_train_model[international_ix_train])}\")\n",
    "print(f\"Accuracy domestic: {accuracy_score(y_train[~international_ix_train], yhat_train_model[~international_ix_train])}\")\n",
    "\n",
    "print()\n",
    "\n",
    "# Evaluate the accuracy for the baseline\n",
    "print(f\"Baseline accuracy overall: {accuracy_score(y_train, yhat_train_base)}\")\n",
    "print(f\"Baseline accuracy international: {accuracy_score(y_train[international_ix_train], yhat_train_base[international_ix_train])}\")\n",
    "print(f\"Baseline accuracy domestic: {accuracy_score(y_train[~international_ix_train], yhat_train_base[~international_ix_train])}\")\n",
    "\n",
    "# TESTING DATA \n",
    "print(\"\\n TESTING DATA\")\n",
    "# Evaluate the accuracy overall, for international games, and for domestic games separately\n",
    "print(f\"Accuracy overall: {accuracy_score(y_test, yhat_test_model)}\")\n",
    "print(f\"Accuracy international: {accuracy_score(y_test[international_ix_test], yhat_test_model[international_ix_test])}\")\n",
    "print(f\"Accuracy domestic: {accuracy_score(y_test[~international_ix_test], yhat_test_model[~international_ix_test])}\")\n",
    "\n",
    "print()\n",
    "\n",
    "# Evaluate the accuracy for the baseline \n",
    "print(f\"Baseline accuracy overall: {accuracy_score(y_test, yhat_test_base)}\")\n",
    "print(f\"Baseline accuracy international: {accuracy_score(y_test[international_ix_test], yhat_test_base[international_ix_test])}\")\n",
    "print(f\"Baseline accuracy domestic: {accuracy_score(y_test[~international_ix_test], yhat_test_base[~international_ix_test])}\")"
   ]
  },
  {
   "cell_type": "code",
   "execution_count": null,
   "id": "33107888d82278e8",
   "metadata": {
    "collapsed": false,
    "ExecuteTime": {
     "start_time": "2023-09-27T04:35:21.075548700Z"
    }
   },
   "outputs": [],
   "source": [
    "# Check the feature importance of the model\n",
    "feature_importance = model.get_score(importance_type='gain')\n",
    "keys = list(feature_importance.keys())\n",
    "values = list(feature_importance.values())\n",
    "\n",
    "data = pd.DataFrame(data=values, index=keys, columns=[\"score\"]).sort_values(by = \"score\", ascending=False)\n",
    "data.nlargest(20, columns=\"score\").plot(kind='barh', figsize = (20,10)) ## plot top 40 features"
   ]
  },
  {
   "cell_type": "code",
   "execution_count": 59,
   "id": "a74940672fa7f97a",
   "metadata": {
    "ExecuteTime": {
     "end_time": "2023-09-24T06:22:25.599821100Z",
     "start_time": "2023-09-24T06:22:25.566363400Z"
    },
    "collapsed": false
   },
   "outputs": [
    {
     "data": {
      "text/html": [
       "<div>\n",
       "<style scoped>\n",
       "    .dataframe tbody tr th:only-of-type {\n",
       "        vertical-align: middle;\n",
       "    }\n",
       "\n",
       "    .dataframe tbody tr th {\n",
       "        vertical-align: top;\n",
       "    }\n",
       "\n",
       "    .dataframe thead th {\n",
       "        text-align: right;\n",
       "    }\n",
       "</style>\n",
       "<table border=\"1\" class=\"dataframe\">\n",
       "  <thead>\n",
       "    <tr style=\"text-align: right;\">\n",
       "      <th></th>\n",
       "      <th>team_id</th>\n",
       "      <th>team_name</th>\n",
       "    </tr>\n",
       "  </thead>\n",
       "  <tbody>\n",
       "    <tr>\n",
       "      <th>38</th>\n",
       "      <td>98767991882270868</td>\n",
       "      <td>SHANGHAI EDWARD GAMING HYCAN</td>\n",
       "    </tr>\n",
       "    <tr>\n",
       "      <th>39</th>\n",
       "      <td>98767991882270868</td>\n",
       "      <td>SHANGHAI EDWARD GAMING HYCAN</td>\n",
       "    </tr>\n",
       "    <tr>\n",
       "      <th>40</th>\n",
       "      <td>98767991882270868</td>\n",
       "      <td>SHANGHAI EDWARD GAMING HYCAN</td>\n",
       "    </tr>\n",
       "    <tr>\n",
       "      <th>41</th>\n",
       "      <td>98767991882270868</td>\n",
       "      <td>SHANGHAI EDWARD GAMING HYCAN</td>\n",
       "    </tr>\n",
       "    <tr>\n",
       "      <th>42</th>\n",
       "      <td>98767991882270868</td>\n",
       "      <td>SHANGHAI EDWARD GAMING HYCAN</td>\n",
       "    </tr>\n",
       "    <tr>\n",
       "      <th>43</th>\n",
       "      <td>98767991882270868</td>\n",
       "      <td>SHANGHAI EDWARD GAMING HYCAN</td>\n",
       "    </tr>\n",
       "    <tr>\n",
       "      <th>44</th>\n",
       "      <td>98767991882270868</td>\n",
       "      <td>SHANGHAI EDWARD GAMING HYCAN</td>\n",
       "    </tr>\n",
       "    <tr>\n",
       "      <th>45</th>\n",
       "      <td>98767991882270868</td>\n",
       "      <td>SHANGHAI EDWARD GAMING HYCAN</td>\n",
       "    </tr>\n",
       "    <tr>\n",
       "      <th>46</th>\n",
       "      <td>98767991882270868</td>\n",
       "      <td>SHANGHAI EDWARD GAMING HYCAN</td>\n",
       "    </tr>\n",
       "    <tr>\n",
       "      <th>47</th>\n",
       "      <td>98767991882270868</td>\n",
       "      <td>SHANGHAI EDWARD GAMING HYCAN</td>\n",
       "    </tr>\n",
       "    <tr>\n",
       "      <th>48</th>\n",
       "      <td>98767991882270868</td>\n",
       "      <td>SHANGHAI EDWARD GAMING HYCAN</td>\n",
       "    </tr>\n",
       "    <tr>\n",
       "      <th>49</th>\n",
       "      <td>98767991882270868</td>\n",
       "      <td>SHANGHAI EDWARD GAMING HYCAN</td>\n",
       "    </tr>\n",
       "    <tr>\n",
       "      <th>50</th>\n",
       "      <td>98767991882270868</td>\n",
       "      <td>SHANGHAI EDWARD GAMING HYCAN</td>\n",
       "    </tr>\n",
       "    <tr>\n",
       "      <th>51</th>\n",
       "      <td>98767991882270868</td>\n",
       "      <td>SHANGHAI EDWARD GAMING HYCAN</td>\n",
       "    </tr>\n",
       "    <tr>\n",
       "      <th>52</th>\n",
       "      <td>98767991882270868</td>\n",
       "      <td>SHANGHAI EDWARD GAMING HYCAN</td>\n",
       "    </tr>\n",
       "    <tr>\n",
       "      <th>53</th>\n",
       "      <td>98767991882270868</td>\n",
       "      <td>SHANGHAI EDWARD GAMING HYCAN</td>\n",
       "    </tr>\n",
       "    <tr>\n",
       "      <th>54</th>\n",
       "      <td>98767991882270868</td>\n",
       "      <td>SHANGHAI EDWARD GAMING HYCAN</td>\n",
       "    </tr>\n",
       "    <tr>\n",
       "      <th>55</th>\n",
       "      <td>98767991882270868</td>\n",
       "      <td>SHANGHAI EDWARD GAMING HYCAN</td>\n",
       "    </tr>\n",
       "    <tr>\n",
       "      <th>56</th>\n",
       "      <td>98767991882270868</td>\n",
       "      <td>SHANGHAI EDWARD GAMING HYCAN</td>\n",
       "    </tr>\n",
       "    <tr>\n",
       "      <th>57</th>\n",
       "      <td>98767991882270868</td>\n",
       "      <td>SHANGHAI EDWARD GAMING HYCAN</td>\n",
       "    </tr>\n",
       "    <tr>\n",
       "      <th>88</th>\n",
       "      <td>99566404850008779</td>\n",
       "      <td>Suzhou LNG Esports</td>\n",
       "    </tr>\n",
       "    <tr>\n",
       "      <th>89</th>\n",
       "      <td>99566404850008779</td>\n",
       "      <td>Suzhou LNG Esports</td>\n",
       "    </tr>\n",
       "    <tr>\n",
       "      <th>90</th>\n",
       "      <td>99566404850008779</td>\n",
       "      <td>Suzhou LNG Esports</td>\n",
       "    </tr>\n",
       "    <tr>\n",
       "      <th>91</th>\n",
       "      <td>99566404850008779</td>\n",
       "      <td>Suzhou LNG Esports</td>\n",
       "    </tr>\n",
       "    <tr>\n",
       "      <th>92</th>\n",
       "      <td>99566404850008779</td>\n",
       "      <td>Suzhou LNG Esports</td>\n",
       "    </tr>\n",
       "    <tr>\n",
       "      <th>93</th>\n",
       "      <td>99566404850008779</td>\n",
       "      <td>Suzhou LNG Esports</td>\n",
       "    </tr>\n",
       "    <tr>\n",
       "      <th>94</th>\n",
       "      <td>99566404850008779</td>\n",
       "      <td>Suzhou LNG Esports</td>\n",
       "    </tr>\n",
       "    <tr>\n",
       "      <th>95</th>\n",
       "      <td>99566404850008779</td>\n",
       "      <td>Suzhou LNG Esports</td>\n",
       "    </tr>\n",
       "    <tr>\n",
       "      <th>96</th>\n",
       "      <td>99566404850008779</td>\n",
       "      <td>Suzhou LNG Esports</td>\n",
       "    </tr>\n",
       "    <tr>\n",
       "      <th>97</th>\n",
       "      <td>99566404850008779</td>\n",
       "      <td>Suzhou LNG Esports</td>\n",
       "    </tr>\n",
       "    <tr>\n",
       "      <th>98</th>\n",
       "      <td>99566404855553726</td>\n",
       "      <td>FunPlus Phoenix</td>\n",
       "    </tr>\n",
       "    <tr>\n",
       "      <th>99</th>\n",
       "      <td>99566404855553726</td>\n",
       "      <td>FunPlus Phoenix</td>\n",
       "    </tr>\n",
       "    <tr>\n",
       "      <th>100</th>\n",
       "      <td>99566404855553726</td>\n",
       "      <td>FunPlus Phoenix</td>\n",
       "    </tr>\n",
       "    <tr>\n",
       "      <th>101</th>\n",
       "      <td>99566404855553726</td>\n",
       "      <td>FunPlus Phoenix</td>\n",
       "    </tr>\n",
       "    <tr>\n",
       "      <th>102</th>\n",
       "      <td>99566404855553726</td>\n",
       "      <td>FunPlus Phoenix</td>\n",
       "    </tr>\n",
       "    <tr>\n",
       "      <th>103</th>\n",
       "      <td>99566404855553726</td>\n",
       "      <td>FunPlus Phoenix</td>\n",
       "    </tr>\n",
       "  </tbody>\n",
       "</table>\n",
       "</div>"
      ],
      "text/plain": [
       "               team_id                     team_name\n",
       "38   98767991882270868  SHANGHAI EDWARD GAMING HYCAN\n",
       "39   98767991882270868  SHANGHAI EDWARD GAMING HYCAN\n",
       "40   98767991882270868  SHANGHAI EDWARD GAMING HYCAN\n",
       "41   98767991882270868  SHANGHAI EDWARD GAMING HYCAN\n",
       "42   98767991882270868  SHANGHAI EDWARD GAMING HYCAN\n",
       "43   98767991882270868  SHANGHAI EDWARD GAMING HYCAN\n",
       "44   98767991882270868  SHANGHAI EDWARD GAMING HYCAN\n",
       "45   98767991882270868  SHANGHAI EDWARD GAMING HYCAN\n",
       "46   98767991882270868  SHANGHAI EDWARD GAMING HYCAN\n",
       "47   98767991882270868  SHANGHAI EDWARD GAMING HYCAN\n",
       "48   98767991882270868  SHANGHAI EDWARD GAMING HYCAN\n",
       "49   98767991882270868  SHANGHAI EDWARD GAMING HYCAN\n",
       "50   98767991882270868  SHANGHAI EDWARD GAMING HYCAN\n",
       "51   98767991882270868  SHANGHAI EDWARD GAMING HYCAN\n",
       "52   98767991882270868  SHANGHAI EDWARD GAMING HYCAN\n",
       "53   98767991882270868  SHANGHAI EDWARD GAMING HYCAN\n",
       "54   98767991882270868  SHANGHAI EDWARD GAMING HYCAN\n",
       "55   98767991882270868  SHANGHAI EDWARD GAMING HYCAN\n",
       "56   98767991882270868  SHANGHAI EDWARD GAMING HYCAN\n",
       "57   98767991882270868  SHANGHAI EDWARD GAMING HYCAN\n",
       "88   99566404850008779            Suzhou LNG Esports\n",
       "89   99566404850008779            Suzhou LNG Esports\n",
       "90   99566404850008779            Suzhou LNG Esports\n",
       "91   99566404850008779            Suzhou LNG Esports\n",
       "92   99566404850008779            Suzhou LNG Esports\n",
       "93   99566404850008779            Suzhou LNG Esports\n",
       "94   99566404850008779            Suzhou LNG Esports\n",
       "95   99566404850008779            Suzhou LNG Esports\n",
       "96   99566404850008779            Suzhou LNG Esports\n",
       "97   99566404850008779            Suzhou LNG Esports\n",
       "98   99566404855553726               FunPlus Phoenix\n",
       "99   99566404855553726               FunPlus Phoenix\n",
       "100  99566404855553726               FunPlus Phoenix\n",
       "101  99566404855553726               FunPlus Phoenix\n",
       "102  99566404855553726               FunPlus Phoenix\n",
       "103  99566404855553726               FunPlus Phoenix"
      ]
     },
     "execution_count": 59,
     "metadata": {},
     "output_type": "execute_result"
    }
   ],
   "source": [
    "# LPL has issues in Worlds and MSI because they don't show up in the data until 2023. We have to manually detect and relabel them.\n",
    "# Do this by filtering to rows where tournament name is MSI or Worlds, and get teams where the sum of the league indicators is 0 (i.e. they haven't played anywhere prior)\n",
    "LPL_teams = []\n",
    "\n",
    "league_colnames = [x for x in processed_game_data.columns if 'League' in x]\n",
    "msi_rows = processed_game_data[processed_game_data['tournament_name']=='worlds_2021'][non_game_features + league_indicators]\n",
    "msi_rows['team_id'] = msi_rows['team_id'].astype('str')\n",
    "# join msi rows with the team_name\n",
    "msi_rows = msi_rows.merge(team_df, on='team_id', how='left')\n",
    "msi_rows[msi_rows[league_indicators].sum(axis=1) == 1][['team_id', 'team_name']]"
   ]
  },
  {
   "cell_type": "code",
   "execution_count": null,
   "id": "995ecca3999a969f",
   "metadata": {
    "collapsed": false
   },
   "outputs": [],
   "source": []
  }
 ],
 "metadata": {
  "kernelspec": {
   "display_name": "Python 3",
   "language": "python",
   "name": "python3"
  },
  "language_info": {
   "codemirror_mode": {
    "name": "ipython",
    "version": 3
   },
   "file_extension": ".py",
   "mimetype": "text/x-python",
   "name": "python",
   "nbconvert_exporter": "python",
   "pygments_lexer": "ipython3",
   "version": "3.8.17"
  }
 },
 "nbformat": 4,
 "nbformat_minor": 5
}
