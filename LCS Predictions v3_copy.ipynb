{
 "cells": [
  {
   "cell_type": "code",
   "execution_count": 1,
   "id": "initial_id",
   "metadata": {
    "collapsed": true,
    "ExecuteTime": {
     "end_time": "2023-09-24T01:18:58.931756200Z",
     "start_time": "2023-09-24T01:18:57.617270700Z"
    }
   },
   "outputs": [],
   "source": [
    "import pandas as pd\n",
    "pd.set_option('mode.chained_assignment', None)\n",
    "import numpy as np\n",
    "import os\n",
    "from tqdm.notebook import tqdm\n",
    "\n",
    "from data_processing.GameFeaturesGenerator import GameFeaturesGenerator\n",
    "from data_processing.TournamentDataProcessor import TournamentDataProcessor\n",
    "from data_processing.LeaguesDataProcessor import LeaguesDataProcessor\n",
    "from data_processing.utils.download_functions import *"
   ]
  },
  {
   "cell_type": "code",
   "execution_count": 2,
   "outputs": [
    {
     "data": {
      "text/plain": "['2021_raw_game_data',\n 'leagues.json',\n 'mapping_data.json',\n 'players.json',\n 'teams.json',\n 'tournaments.json']"
     },
     "execution_count": 2,
     "metadata": {},
     "output_type": "execute_result"
    }
   ],
   "source": [
    "os.chdir('esports-data')\n",
    "os.listdir()"
   ],
   "metadata": {
    "collapsed": false,
    "ExecuteTime": {
     "end_time": "2023-09-24T01:18:58.949708500Z",
     "start_time": "2023-09-24T01:18:58.933750900Z"
    }
   },
   "id": "c27f1bec209468e9"
  },
  {
   "cell_type": "code",
   "execution_count": 4,
   "outputs": [],
   "source": [
    "# Read in teams data\n",
    "with open(\"teams.json\", \"r\") as json_file:\n",
    "   teams_data = json.load(json_file)\n",
    "\n",
    "team_df = []\n",
    "for team in teams_data:\n",
    "    team_df.append({'team_id': team['team_id'], 'team_name': team['name']})\n",
    "    \n",
    "team_df = pd.DataFrame(team_df)\n",
    "\n",
    "# Read in tournament data\n",
    "with open(\"tournaments.json\", \"r\") as json_file:\n",
    "   tournament_data_all = json.load(json_file)\n",
    "\n",
    "# Read in mappings data\n",
    "with open(\"mapping_data.json\", \"r\") as json_file:\n",
    "   mappings_data = json.load(json_file)\n",
    "   \n",
    "mappings = {\n",
    "   esports_game[\"esportsGameId\"]: esports_game for esports_game in mappings_data\n",
    "}\n",
    "\n",
    "# Set up LeaguesDataProcessor\n",
    "leagues_data_processor = LeaguesDataProcessor()\n",
    "\n",
    "# Only retrieve LCS tournament data ['lcs_summer_2023']\n",
    "# tournament_data = [x for x in tournament_data_all if x['slug']=='lec_summer_2023'][0]# Open basic files\n",
    "tournament_data = [x for x in tournament_data_all if x['slug']=='msi_2021'][0]"
   ],
   "metadata": {
    "collapsed": false,
    "ExecuteTime": {
     "end_time": "2023-09-24T01:19:12.443889100Z",
     "start_time": "2023-09-24T01:19:10.700515800Z"
    }
   },
   "id": "7ba6c24de9d66983"
  },
  {
   "cell_type": "code",
   "execution_count": 5,
   "outputs": [
    {
     "data": {
      "text/plain": "[['Round 1', 3], ['Round 2', 1], ['knockouts', 1]]"
     },
     "execution_count": 5,
     "metadata": {},
     "output_type": "execute_result"
    }
   ],
   "source": [
    "tournament_data_processor = TournamentDataProcessor(tournament_data, leagues_data_processor.leagues_df)\n",
    "tournament_data_processor.get_tournament_stages()"
   ],
   "metadata": {
    "collapsed": false,
    "ExecuteTime": {
     "end_time": "2023-09-24T01:20:10.808109900Z",
     "start_time": "2023-09-24T01:20:10.785117100Z"
    }
   },
   "id": "524bc41d8d23bbda"
  },
  {
   "cell_type": "code",
   "execution_count": 6,
   "outputs": [
    {
     "name": "stdout",
     "output_type": "stream",
     "text": [
      "81\n",
      "0\n"
     ]
    }
   ],
   "source": [
    "training_data, testing_data = tournament_data_processor.get_tournament_data(training_stages=[], testing_stages=[])\n",
    "# training_data, testing_data = tournament_data_processor.get_tournament_data(training_stages=[], testing_stages=[])\n",
    "print(len(training_data))\n",
    "print(len(testing_data))"
   ],
   "metadata": {
    "collapsed": false,
    "ExecuteTime": {
     "end_time": "2023-09-24T01:20:19.479533100Z",
     "start_time": "2023-09-24T01:20:19.360576800Z"
    }
   },
   "id": "db940bb352ade57c"
  },
  {
   "cell_type": "code",
   "execution_count": 7,
   "outputs": [
    {
     "data": {
      "text/plain": "             match_id       esportsGameId league           team_id_1  \\\n0  106032946468612211  106032946468612212    MSI   99322214684939974   \n1  106032946468612213  106032946468612214    MSI   98767991892579754   \n2  106032946468612217  106032946468612218    MSI  103535282124208038   \n3  106032946468677759  106032946468677760    MSI   98767991892579754   \n4  106032946468677761  106032946468677762    MSI  103535282124208038   \n\n   outcome_1           team_id_2  outcome_2  \n0          0   98767991892579754          1  \n1          1  103535282124208038          0  \n2          0   99322214684939974          1  \n3          1   99322214684939974          0  \n4          0   98767991892579754          1  ",
      "text/html": "<div>\n<style scoped>\n    .dataframe tbody tr th:only-of-type {\n        vertical-align: middle;\n    }\n\n    .dataframe tbody tr th {\n        vertical-align: top;\n    }\n\n    .dataframe thead th {\n        text-align: right;\n    }\n</style>\n<table border=\"1\" class=\"dataframe\">\n  <thead>\n    <tr style=\"text-align: right;\">\n      <th></th>\n      <th>match_id</th>\n      <th>esportsGameId</th>\n      <th>league</th>\n      <th>team_id_1</th>\n      <th>outcome_1</th>\n      <th>team_id_2</th>\n      <th>outcome_2</th>\n    </tr>\n  </thead>\n  <tbody>\n    <tr>\n      <th>0</th>\n      <td>106032946468612211</td>\n      <td>106032946468612212</td>\n      <td>MSI</td>\n      <td>99322214684939974</td>\n      <td>0</td>\n      <td>98767991892579754</td>\n      <td>1</td>\n    </tr>\n    <tr>\n      <th>1</th>\n      <td>106032946468612213</td>\n      <td>106032946468612214</td>\n      <td>MSI</td>\n      <td>98767991892579754</td>\n      <td>1</td>\n      <td>103535282124208038</td>\n      <td>0</td>\n    </tr>\n    <tr>\n      <th>2</th>\n      <td>106032946468612217</td>\n      <td>106032946468612218</td>\n      <td>MSI</td>\n      <td>103535282124208038</td>\n      <td>0</td>\n      <td>99322214684939974</td>\n      <td>1</td>\n    </tr>\n    <tr>\n      <th>3</th>\n      <td>106032946468677759</td>\n      <td>106032946468677760</td>\n      <td>MSI</td>\n      <td>98767991892579754</td>\n      <td>1</td>\n      <td>99322214684939974</td>\n      <td>0</td>\n    </tr>\n    <tr>\n      <th>4</th>\n      <td>106032946468677761</td>\n      <td>106032946468677762</td>\n      <td>MSI</td>\n      <td>103535282124208038</td>\n      <td>0</td>\n      <td>98767991892579754</td>\n      <td>1</td>\n    </tr>\n  </tbody>\n</table>\n</div>"
     },
     "execution_count": 7,
     "metadata": {},
     "output_type": "execute_result"
    }
   ],
   "source": [
    "training_data.head() # Need to add the time for sorting purposes \n",
    "# [match_id, esportsGameId, league, team_id_1, team_id_2, outcome_1, outcome_2]"
   ],
   "metadata": {
    "collapsed": false,
    "ExecuteTime": {
     "end_time": "2023-09-24T01:21:07.429351500Z",
     "start_time": "2023-09-24T01:21:07.397839700Z"
    }
   },
   "id": "57935bddc808640f"
  },
  {
   "cell_type": "code",
   "execution_count": 9,
   "outputs": [
    {
     "data": {
      "text/plain": "              match_id       esportsGameId league           team_id_1  \\\n0   106032946468612211  106032946468612212    MSI   99322214684939974   \n1   106032946468612213  106032946468612214    MSI   98767991892579754   \n2   106032946468612217  106032946468612218    MSI  103535282124208038   \n3   106032946468677759  106032946468677760    MSI   98767991892579754   \n4   106032946468677761  106032946468677762    MSI  103535282124208038   \n..                 ...                 ...    ...                 ...   \n76  106032946468743427  106032946468743428    MSI   98767991892579754   \n77  106032946468743427  106032946468743429    MSI  100725845018863243   \n78  106032946468743427  106032946468743430    MSI   98767991892579754   \n79  106032946468743427  106032946468743431    MSI  100725845018863243   \n80  106032946468743427  106032946468743432    MSI   98767991892579754   \n\n    outcome_1           team_id_2  outcome_2           team_id_x  \\\n0           0   98767991892579754          1   99322214684939974   \n1           1  103535282124208038          0   98767991892579754   \n2           0   99322214684939974          1  103535282124208038   \n3           1   99322214684939974          0   98767991892579754   \n4           0   98767991892579754          1  103535282124208038   \n..        ...                 ...        ...                 ...   \n76          1  100725845018863243          0   98767991892579754   \n77          1   98767991892579754          0  100725845018863243   \n78          1  100725845018863243          0   98767991892579754   \n79          1   98767991892579754          0  100725845018863243   \n80          1  100725845018863243          0   98767991892579754   \n\n            team_name_x           team_id_y          team_name_y  \\\n0      Unicorns of Love   99322214684939974     Unicorns of Love   \n1   Royal Never Give Up   98767991892579754  Royal Never Give Up   \n2           Pentanet.GG  103535282124208038          Pentanet.GG   \n3   Royal Never Give Up   98767991892579754  Royal Never Give Up   \n4           Pentanet.GG  103535282124208038          Pentanet.GG   \n..                  ...                 ...                  ...   \n76  Royal Never Give Up   98767991892579754  Royal Never Give Up   \n77            Dplus Kia  100725845018863243            Dplus Kia   \n78  Royal Never Give Up   98767991892579754  Royal Never Give Up   \n79            Dplus Kia  100725845018863243            Dplus Kia   \n80  Royal Never Give Up   98767991892579754  Royal Never Give Up   \n\n               team_id            team_name  \n0    98767991892579754  Royal Never Give Up  \n1   103535282124208038          Pentanet.GG  \n2    99322214684939974     Unicorns of Love  \n3    99322214684939974     Unicorns of Love  \n4    98767991892579754  Royal Never Give Up  \n..                 ...                  ...  \n76  100725845018863243            Dplus Kia  \n77   98767991892579754  Royal Never Give Up  \n78  100725845018863243            Dplus Kia  \n79   98767991892579754  Royal Never Give Up  \n80  100725845018863243            Dplus Kia  \n\n[81 rows x 13 columns]",
      "text/html": "<div>\n<style scoped>\n    .dataframe tbody tr th:only-of-type {\n        vertical-align: middle;\n    }\n\n    .dataframe tbody tr th {\n        vertical-align: top;\n    }\n\n    .dataframe thead th {\n        text-align: right;\n    }\n</style>\n<table border=\"1\" class=\"dataframe\">\n  <thead>\n    <tr style=\"text-align: right;\">\n      <th></th>\n      <th>match_id</th>\n      <th>esportsGameId</th>\n      <th>league</th>\n      <th>team_id_1</th>\n      <th>outcome_1</th>\n      <th>team_id_2</th>\n      <th>outcome_2</th>\n      <th>team_id_x</th>\n      <th>team_name_x</th>\n      <th>team_id_y</th>\n      <th>team_name_y</th>\n      <th>team_id</th>\n      <th>team_name</th>\n    </tr>\n  </thead>\n  <tbody>\n    <tr>\n      <th>0</th>\n      <td>106032946468612211</td>\n      <td>106032946468612212</td>\n      <td>MSI</td>\n      <td>99322214684939974</td>\n      <td>0</td>\n      <td>98767991892579754</td>\n      <td>1</td>\n      <td>99322214684939974</td>\n      <td>Unicorns of Love</td>\n      <td>99322214684939974</td>\n      <td>Unicorns of Love</td>\n      <td>98767991892579754</td>\n      <td>Royal Never Give Up</td>\n    </tr>\n    <tr>\n      <th>1</th>\n      <td>106032946468612213</td>\n      <td>106032946468612214</td>\n      <td>MSI</td>\n      <td>98767991892579754</td>\n      <td>1</td>\n      <td>103535282124208038</td>\n      <td>0</td>\n      <td>98767991892579754</td>\n      <td>Royal Never Give Up</td>\n      <td>98767991892579754</td>\n      <td>Royal Never Give Up</td>\n      <td>103535282124208038</td>\n      <td>Pentanet.GG</td>\n    </tr>\n    <tr>\n      <th>2</th>\n      <td>106032946468612217</td>\n      <td>106032946468612218</td>\n      <td>MSI</td>\n      <td>103535282124208038</td>\n      <td>0</td>\n      <td>99322214684939974</td>\n      <td>1</td>\n      <td>103535282124208038</td>\n      <td>Pentanet.GG</td>\n      <td>103535282124208038</td>\n      <td>Pentanet.GG</td>\n      <td>99322214684939974</td>\n      <td>Unicorns of Love</td>\n    </tr>\n    <tr>\n      <th>3</th>\n      <td>106032946468677759</td>\n      <td>106032946468677760</td>\n      <td>MSI</td>\n      <td>98767991892579754</td>\n      <td>1</td>\n      <td>99322214684939974</td>\n      <td>0</td>\n      <td>98767991892579754</td>\n      <td>Royal Never Give Up</td>\n      <td>98767991892579754</td>\n      <td>Royal Never Give Up</td>\n      <td>99322214684939974</td>\n      <td>Unicorns of Love</td>\n    </tr>\n    <tr>\n      <th>4</th>\n      <td>106032946468677761</td>\n      <td>106032946468677762</td>\n      <td>MSI</td>\n      <td>103535282124208038</td>\n      <td>0</td>\n      <td>98767991892579754</td>\n      <td>1</td>\n      <td>103535282124208038</td>\n      <td>Pentanet.GG</td>\n      <td>103535282124208038</td>\n      <td>Pentanet.GG</td>\n      <td>98767991892579754</td>\n      <td>Royal Never Give Up</td>\n    </tr>\n    <tr>\n      <th>...</th>\n      <td>...</td>\n      <td>...</td>\n      <td>...</td>\n      <td>...</td>\n      <td>...</td>\n      <td>...</td>\n      <td>...</td>\n      <td>...</td>\n      <td>...</td>\n      <td>...</td>\n      <td>...</td>\n      <td>...</td>\n      <td>...</td>\n    </tr>\n    <tr>\n      <th>76</th>\n      <td>106032946468743427</td>\n      <td>106032946468743428</td>\n      <td>MSI</td>\n      <td>98767991892579754</td>\n      <td>1</td>\n      <td>100725845018863243</td>\n      <td>0</td>\n      <td>98767991892579754</td>\n      <td>Royal Never Give Up</td>\n      <td>98767991892579754</td>\n      <td>Royal Never Give Up</td>\n      <td>100725845018863243</td>\n      <td>Dplus Kia</td>\n    </tr>\n    <tr>\n      <th>77</th>\n      <td>106032946468743427</td>\n      <td>106032946468743429</td>\n      <td>MSI</td>\n      <td>100725845018863243</td>\n      <td>1</td>\n      <td>98767991892579754</td>\n      <td>0</td>\n      <td>100725845018863243</td>\n      <td>Dplus Kia</td>\n      <td>100725845018863243</td>\n      <td>Dplus Kia</td>\n      <td>98767991892579754</td>\n      <td>Royal Never Give Up</td>\n    </tr>\n    <tr>\n      <th>78</th>\n      <td>106032946468743427</td>\n      <td>106032946468743430</td>\n      <td>MSI</td>\n      <td>98767991892579754</td>\n      <td>1</td>\n      <td>100725845018863243</td>\n      <td>0</td>\n      <td>98767991892579754</td>\n      <td>Royal Never Give Up</td>\n      <td>98767991892579754</td>\n      <td>Royal Never Give Up</td>\n      <td>100725845018863243</td>\n      <td>Dplus Kia</td>\n    </tr>\n    <tr>\n      <th>79</th>\n      <td>106032946468743427</td>\n      <td>106032946468743431</td>\n      <td>MSI</td>\n      <td>100725845018863243</td>\n      <td>1</td>\n      <td>98767991892579754</td>\n      <td>0</td>\n      <td>100725845018863243</td>\n      <td>Dplus Kia</td>\n      <td>100725845018863243</td>\n      <td>Dplus Kia</td>\n      <td>98767991892579754</td>\n      <td>Royal Never Give Up</td>\n    </tr>\n    <tr>\n      <th>80</th>\n      <td>106032946468743427</td>\n      <td>106032946468743432</td>\n      <td>MSI</td>\n      <td>98767991892579754</td>\n      <td>1</td>\n      <td>100725845018863243</td>\n      <td>0</td>\n      <td>98767991892579754</td>\n      <td>Royal Never Give Up</td>\n      <td>98767991892579754</td>\n      <td>Royal Never Give Up</td>\n      <td>100725845018863243</td>\n      <td>Dplus Kia</td>\n    </tr>\n  </tbody>\n</table>\n<p>81 rows × 13 columns</p>\n</div>"
     },
     "execution_count": 9,
     "metadata": {},
     "output_type": "execute_result"
    }
   ],
   "source": [
    "# Join team_id_1 and team_id_2 with team_df to get the team names of both teams\n",
    "training_data = training_data.merge(team_df, how='left', left_on='team_id_1', right_on='team_id')\n",
    "training_data = training_data.merge(team_df, how='left', left_on='team_id_2', right_on='team_id')\n",
    "training_data"
   ],
   "metadata": {
    "collapsed": false,
    "ExecuteTime": {
     "end_time": "2023-09-24T01:22:06.920369700Z",
     "start_time": "2023-09-24T01:22:06.873428600Z"
    }
   },
   "id": "6f2968ba382eea55"
  },
  {
   "cell_type": "code",
   "execution_count": 10,
   "outputs": [
    {
     "data": {
      "text/plain": "  0%|          | 0/81 [00:00<?, ?it/s]",
      "application/vnd.jupyter.widget-view+json": {
       "version_major": 2,
       "version_minor": 0,
       "model_id": "70f80ac863674aad88e32e9cfe5596ef"
      }
     },
     "metadata": {},
     "output_type": "display_data"
    },
    {
     "name": "stdout",
     "output_type": "stream",
     "text": [
      "File opened\n",
      "games/ESPORTSTMNT06:1720352.json written\n",
      "File opened\n",
      "games/ESPORTSTMNT06:1720293.json written\n",
      "File opened\n",
      "games/ESPORTSTMNT06:1720302.json written\n",
      "File opened\n",
      "games/ESPORTSTMNT06:1720393.json written\n",
      "File opened\n",
      "games/ESPORTSTMNT06:1720350.json written\n",
      "File opened\n",
      "games/ESPORTSTMNT06:1720412.json written\n",
      "File opened\n",
      "games/ESPORTSTMNT06:1720467.json written\n",
      "File opened\n",
      "games/ESPORTSTMNT06:1720480.json written\n",
      "File opened\n",
      "games/ESPORTSTMNT06:1720495.json written\n",
      "File opened\n",
      "games/ESPORTSTMNT06:1720486.json written\n",
      "File opened\n",
      "games/ESPORTSTMNT06:1720497.json written\n",
      "File opened\n",
      "games/ESPORTSTMNT06:1720473.json written\n",
      "File opened\n",
      "games/ESPORTSTMNT06:1720502.json written\n",
      "File opened\n",
      "games/ESPORTSTMNT06:1720315.json written\n",
      "File opened\n",
      "games/ESPORTSTMNT06:1720371.json written\n",
      "File opened\n",
      "games/ESPORTSTMNT06:1720426.json written\n",
      "File opened\n",
      "games/ESPORTSTMNT06:1720432.json written\n",
      "File opened\n",
      "games/ESPORTSTMNT06:1720376.json written\n",
      "File opened\n",
      "games/ESPORTSTMNT06:1720308.json written\n",
      "File opened\n",
      "games/ESPORTSTMNT06:1720577.json written\n",
      "File opened\n",
      "games/ESPORTSTMNT06:1720520.json written\n",
      "File opened\n",
      "games/ESPORTSTMNT06:1720551.json written\n",
      "File opened\n",
      "games/ESPORTSTMNT06:1720536.json written\n",
      "File opened\n",
      "games/ESPORTSTMNT06:1720531.json written\n",
      "File opened\n",
      "games/ESPORTSTMNT06:1720572.json written\n",
      "File opened\n",
      "games/ESPORTSTMNT06:1720263.json written\n",
      "File opened\n",
      "games/ESPORTSTMNT06:1720364.json written\n",
      "File opened\n",
      "games/ESPORTSTMNT06:1720421.json written\n",
      "File opened\n",
      "games/ESPORTSTMNT06:1720413.json written\n",
      "File opened\n",
      "games/ESPORTSTMNT06:1720356.json written\n",
      "File opened\n",
      "games/ESPORTSTMNT06:1720282.json written\n",
      "Match 106032946468677808 was not found\n",
      "File opened\n",
      "games/ESPORTSTMNT06:1730628.json written\n",
      "File opened\n",
      "games/ESPORTSTMNT06:1730643.json written\n",
      "File opened\n",
      "games/ESPORTSTMNT06:1730637.json written\n",
      "Match 106032946468677816 was not found\n",
      "File opened\n",
      "games/ESPORTSTMNT06:1730615.json written\n",
      "File opened\n",
      "games/ESPORTSTMNT06:1730824.json written\n",
      "File opened\n",
      "games/ESPORTSTMNT06:1720675.json written\n",
      "File opened\n",
      "games/ESPORTSTMNT06:1730804.json written\n",
      "File opened\n",
      "games/ESPORTSTMNT06:1720764.json written\n",
      "File opened\n",
      "games/ESPORTSTMNT06:1720687.json written\n",
      "File opened\n",
      "games/ESPORTSTMNT06:1720770.json written\n",
      "Match 106032946468677832 was not found\n",
      "File opened\n",
      "games/ESPORTSTMNT06:1730852.json written\n",
      "File opened\n",
      "games/ESPORTSTMNT06:1720699.json written\n",
      "File opened\n",
      "games/ESPORTSTMNT06:1730837.json written\n",
      "File opened\n",
      "games/ESPORTSTMNT06:1720682.json written\n",
      "File opened\n",
      "games/ESPORTSTMNT06:1730818.json written\n",
      "File opened\n",
      "games/ESPORTSTMNT06:1720693.json written\n",
      "File opened\n",
      "games/ESPORTSTMNT06:1720762.json written\n",
      "File opened\n",
      "games/ESPORTSTMNT06:1730831.json written\n",
      "File opened\n",
      "games/ESPORTSTMNT06:1720924.json written\n",
      "File opened\n",
      "games/ESPORTSTMNT06:1720911.json written\n",
      "File opened\n",
      "games/ESPORTSTMNT06:1720778.json written\n",
      "File opened\n",
      "games/ESPORTSTMNT06:1720814.json written\n",
      "File opened\n",
      "games/ESPORTSTMNT06:1730970.json written\n",
      "File opened\n",
      "games/ESPORTSTMNT06:1720815.json written\n",
      "File opened\n",
      "games/ESPORTSTMNT06:1730986.json written\n",
      "File opened\n",
      "games/ESPORTSTMNT06:1720792.json written\n",
      "File opened\n",
      "games/ESPORTSTMNT06:1720949.json written\n",
      "File opened\n",
      "games/ESPORTSTMNT06:1720938.json written\n",
      "File opened\n",
      "games/ESPORTSTMNT06:1730991.json written\n",
      "File opened\n",
      "games/ESPORTSTMNT06:1720788.json written\n",
      "File opened\n",
      "games/ESPORTSTMNT06:1720916.json written\n",
      "File opened\n",
      "games/ESPORTSTMNT06:1730998.json written\n",
      "File opened\n",
      "games/ESPORTSTMNT06:1720931.json written\n",
      "File opened\n",
      "games/ESPORTSTMNT06:1721053.json written\n",
      "File opened\n",
      "games/ESPORTSTMNT06:1721057.json written\n",
      "Match 106032946468743418 was not found\n",
      "File opened\n",
      "games/ESPORTSTMNT06:1721059.json written\n",
      "Match 106032946468743420 was not found\n",
      "File opened\n",
      "games/ESPORTSTMNT06:1721013.json written\n",
      "File opened\n",
      "games/ESPORTSTMNT06:1721015.json written\n",
      "File opened\n",
      "games/ESPORTSTMNT06:1721016.json written\n",
      "File opened\n",
      "games/ESPORTSTMNT06:1721017.json written\n",
      "File opened\n",
      "games/ESPORTSTMNT06:1721069.json written\n",
      "File opened\n",
      "games/ESPORTSTMNT06:1721084.json written\n",
      "File opened\n",
      "games/ESPORTSTMNT06:1721085.json written\n",
      "File opened\n",
      "games/ESPORTSTMNT06:1721086.json written\n",
      "File opened\n",
      "games/ESPORTSTMNT06:1721087.json written\n"
     ]
    }
   ],
   "source": [
    "directory = \"games\"\n",
    "if not os.path.exists(directory):\n",
    "   os.makedirs(directory)\n",
    "\n",
    "# Load each game and process them\n",
    "game_rows = []\n",
    "for i in tqdm(range(len(training_data))):\n",
    "# for i in range(2):\n",
    "    try:\n",
    "        game_id = training_data.iloc[i]['esportsGameId']\n",
    "        game_mapping_data = mappings[game_id]\n",
    "        platform_game_id = game_mapping_data['platformGameId']\n",
    "        download_gzip_and_write_to_json(f\"{directory}/{platform_game_id}\")\n",
    "        with open(f\"games/{platform_game_id}.json\", \"r\") as json_file:\n",
    "            game_data = json.load(json_file)\n",
    "    except KeyError:\n",
    "        print(f\"Match {game_id} was not found\")\n",
    "        continue\n",
    "    try:\n",
    "        game_features = GameFeaturesGenerator(game_data, game_mapping_data).process_game()\n",
    "    except IndexError as e:\n",
    "        print(e)\n",
    "        break\n",
    "    except Exception as e:\n",
    "        print(f\"Error processing game {game_id}\")\n",
    "        print(e)\n",
    "        break\n",
    "    game_features['league'] = training_data.iloc[i]['league']\n",
    "    game_rows.append(game_features)\n",
    "\n",
    "game_rows = pd.concat(game_rows)\n",
    "game_rows_leagues = leagues_data_processor.transform_league_col(game_rows['league'])\n",
    "game_rows = pd.concat([game_rows.drop(['league'],axis=1).reset_index(), game_rows_leagues], axis=1)"
   ],
   "metadata": {
    "collapsed": false,
    "ExecuteTime": {
     "end_time": "2023-09-24T01:26:58.605566800Z",
     "start_time": "2023-09-24T01:22:50.551815800Z"
    }
   },
   "id": "7a261335d7205a48"
  },
  {
   "cell_type": "code",
   "execution_count": 11,
   "outputs": [
    {
     "name": "stdout",
     "output_type": "stream",
     "text": [
      "141\n"
     ]
    }
   ],
   "source": [
    "\"\"\"\n",
    "1. Sort the game_rows by team_id and start_time \n",
    "2. Create features for each team by averaging stats of the last 5 games that they played (or the most recent statistics if possible, with a \"num_prev_games) column\n",
    "    This yields a row of data where the features are the average of the last 5 games that the team played BEFORE the game of ['platformGameId', 'esportsGameId', 'team_id', 'start_time']\n",
    "    We also need to drop the first row where we don't have any data to average over\n",
    "3. Mark the last row of each team's data as the last game\n",
    "    This is so that we can use this to predict the next game\n",
    "3. Later join to the reg_season_games data for training the model \n",
    "4. Use the trained model to predict on the playoff_games data for testing \n",
    "\"\"\"\n",
    "\n",
    "non_game_features = ['platformGameId', 'esportsGameId', 'team_id', 'start_time']\n",
    "game_features = [x for x in game_rows.columns if x not in non_game_features]\n",
    "all_team_ids = np.unique(game_rows['team_id'])\n",
    "processed_game_data = []\n",
    "for team in all_team_ids:\n",
    "    team_data = game_rows[game_rows['team_id']==team]\n",
    "    team_data = team_data.sort_values(by=['start_time'])\n",
    "    team_data['num_prev_games'] = np.arange(len(team_data))\n",
    "    # First lag by 1 game so that the current game is not included in the average\n",
    "    team_data_features = team_data[game_features].shift(1).rolling(window=50, min_periods=1).mean()\n",
    "    team_data[game_features] = team_data_features\n",
    "    # Drop rows where num_prev_games == 0 as this indicates that it's the team's first game \n",
    "    team_data = team_data[team_data['num_prev_games']!=0]\n",
    "    # Add one more column to indicate if the row is the last of the team's games\n",
    "    last_game_indicator_col = pd.DataFrame({'last_game_ind': team_data['num_prev_games']==team_data['num_prev_games'].max()})\n",
    "    team_data = pd.concat([team_data, last_game_indicator_col], axis=1)\n",
    "    processed_game_data.append(team_data)\n",
    "\n",
    "processed_game_data = pd.concat(processed_game_data)\n",
    "print(len(processed_game_data))\n",
    "\n",
    "inference_game_data = processed_game_data[processed_game_data['last_game_ind']==True]"
   ],
   "metadata": {
    "collapsed": false,
    "ExecuteTime": {
     "end_time": "2023-09-24T01:27:59.422795200Z",
     "start_time": "2023-09-24T01:27:55.270838Z"
    }
   },
   "id": "28f54d0ddec33b69"
  },
  {
   "cell_type": "code",
   "execution_count": 12,
   "outputs": [
    {
     "data": {
      "text/plain": "       index         platformGameId       esportsGameId             team_id  \\\n52  1.000000  ESPORTSTMNT06:1720364  106032946468677798  100285330168091787   \n57  0.500000  ESPORTSTMNT06:1720413  106032946468677802  100285330168091787   \n68  0.666667  ESPORTSTMNT06:1730615  106032946468677818  100285330168091787   \n63  0.500000  ESPORTSTMNT06:1730628  106032946468677810  100285330168091787   \n66  0.600000  ESPORTSTMNT06:1730637  106032946468677814  100285330168091787   \n\n                start_time   outcome  first_riftHerald_ind  \\\n52 2021-05-07 15:44:59.858  0.000000              1.000000   \n57 2021-05-08 15:03:17.278  0.500000              0.500000   \n68 2021-05-11 14:25:07.694  0.333333              0.666667   \n63 2021-05-11 16:18:43.226  0.500000              0.750000   \n66 2021-05-11 17:14:45.767  0.400000              0.600000   \n\n    first_riftHerald_time  num_riftHerald  first_dragon_ind  ...  \\\n52             542.975000        1.000000          1.000000  ...   \n57             542.975000        1.500000          0.500000  ...   \n68             479.460500        1.333333          0.666667  ...   \n63             513.582333        1.500000          0.750000  ...   \n66             513.582333        1.200000          0.600000  ...   \n\n    League_Prime League  League_South Regional League  League_SuperLiga  \\\n52                  0.0                           0.0               0.0   \n57                  0.0                           0.0               0.0   \n68                  0.0                           0.0               0.0   \n63                  0.0                           0.0               0.0   \n66                  0.0                           0.0               0.0   \n\n    League_TCL  League_TFT Rising Legends  League_Ultraliga  League_VCS  \\\n52         0.0                        0.0               0.0         0.0   \n57         0.0                        0.0               0.0         0.0   \n68         0.0                        0.0               0.0         0.0   \n63         0.0                        0.0               0.0         0.0   \n66         0.0                        0.0               0.0         0.0   \n\n    League_Worlds  num_prev_games  last_game_ind  \n52            0.0               1          False  \n57            0.0               2          False  \n68            0.0               3          False  \n63            0.0               4          False  \n66            0.0               5           True  \n\n[5 rows x 1245 columns]",
      "text/html": "<div>\n<style scoped>\n    .dataframe tbody tr th:only-of-type {\n        vertical-align: middle;\n    }\n\n    .dataframe tbody tr th {\n        vertical-align: top;\n    }\n\n    .dataframe thead th {\n        text-align: right;\n    }\n</style>\n<table border=\"1\" class=\"dataframe\">\n  <thead>\n    <tr style=\"text-align: right;\">\n      <th></th>\n      <th>index</th>\n      <th>platformGameId</th>\n      <th>esportsGameId</th>\n      <th>team_id</th>\n      <th>start_time</th>\n      <th>outcome</th>\n      <th>first_riftHerald_ind</th>\n      <th>first_riftHerald_time</th>\n      <th>num_riftHerald</th>\n      <th>first_dragon_ind</th>\n      <th>...</th>\n      <th>League_Prime League</th>\n      <th>League_South Regional League</th>\n      <th>League_SuperLiga</th>\n      <th>League_TCL</th>\n      <th>League_TFT Rising Legends</th>\n      <th>League_Ultraliga</th>\n      <th>League_VCS</th>\n      <th>League_Worlds</th>\n      <th>num_prev_games</th>\n      <th>last_game_ind</th>\n    </tr>\n  </thead>\n  <tbody>\n    <tr>\n      <th>52</th>\n      <td>1.000000</td>\n      <td>ESPORTSTMNT06:1720364</td>\n      <td>106032946468677798</td>\n      <td>100285330168091787</td>\n      <td>2021-05-07 15:44:59.858</td>\n      <td>0.000000</td>\n      <td>1.000000</td>\n      <td>542.975000</td>\n      <td>1.000000</td>\n      <td>1.000000</td>\n      <td>...</td>\n      <td>0.0</td>\n      <td>0.0</td>\n      <td>0.0</td>\n      <td>0.0</td>\n      <td>0.0</td>\n      <td>0.0</td>\n      <td>0.0</td>\n      <td>0.0</td>\n      <td>1</td>\n      <td>False</td>\n    </tr>\n    <tr>\n      <th>57</th>\n      <td>0.500000</td>\n      <td>ESPORTSTMNT06:1720413</td>\n      <td>106032946468677802</td>\n      <td>100285330168091787</td>\n      <td>2021-05-08 15:03:17.278</td>\n      <td>0.500000</td>\n      <td>0.500000</td>\n      <td>542.975000</td>\n      <td>1.500000</td>\n      <td>0.500000</td>\n      <td>...</td>\n      <td>0.0</td>\n      <td>0.0</td>\n      <td>0.0</td>\n      <td>0.0</td>\n      <td>0.0</td>\n      <td>0.0</td>\n      <td>0.0</td>\n      <td>0.0</td>\n      <td>2</td>\n      <td>False</td>\n    </tr>\n    <tr>\n      <th>68</th>\n      <td>0.666667</td>\n      <td>ESPORTSTMNT06:1730615</td>\n      <td>106032946468677818</td>\n      <td>100285330168091787</td>\n      <td>2021-05-11 14:25:07.694</td>\n      <td>0.333333</td>\n      <td>0.666667</td>\n      <td>479.460500</td>\n      <td>1.333333</td>\n      <td>0.666667</td>\n      <td>...</td>\n      <td>0.0</td>\n      <td>0.0</td>\n      <td>0.0</td>\n      <td>0.0</td>\n      <td>0.0</td>\n      <td>0.0</td>\n      <td>0.0</td>\n      <td>0.0</td>\n      <td>3</td>\n      <td>False</td>\n    </tr>\n    <tr>\n      <th>63</th>\n      <td>0.500000</td>\n      <td>ESPORTSTMNT06:1730628</td>\n      <td>106032946468677810</td>\n      <td>100285330168091787</td>\n      <td>2021-05-11 16:18:43.226</td>\n      <td>0.500000</td>\n      <td>0.750000</td>\n      <td>513.582333</td>\n      <td>1.500000</td>\n      <td>0.750000</td>\n      <td>...</td>\n      <td>0.0</td>\n      <td>0.0</td>\n      <td>0.0</td>\n      <td>0.0</td>\n      <td>0.0</td>\n      <td>0.0</td>\n      <td>0.0</td>\n      <td>0.0</td>\n      <td>4</td>\n      <td>False</td>\n    </tr>\n    <tr>\n      <th>66</th>\n      <td>0.600000</td>\n      <td>ESPORTSTMNT06:1730637</td>\n      <td>106032946468677814</td>\n      <td>100285330168091787</td>\n      <td>2021-05-11 17:14:45.767</td>\n      <td>0.400000</td>\n      <td>0.600000</td>\n      <td>513.582333</td>\n      <td>1.200000</td>\n      <td>0.600000</td>\n      <td>...</td>\n      <td>0.0</td>\n      <td>0.0</td>\n      <td>0.0</td>\n      <td>0.0</td>\n      <td>0.0</td>\n      <td>0.0</td>\n      <td>0.0</td>\n      <td>0.0</td>\n      <td>5</td>\n      <td>True</td>\n    </tr>\n  </tbody>\n</table>\n<p>5 rows × 1245 columns</p>\n</div>"
     },
     "execution_count": 12,
     "metadata": {},
     "output_type": "execute_result"
    }
   ],
   "source": [
    "processed_game_data.head()"
   ],
   "metadata": {
    "collapsed": false,
    "ExecuteTime": {
     "end_time": "2023-09-24T01:28:02.040533Z",
     "start_time": "2023-09-24T01:28:01.965703Z"
    }
   },
   "id": "eb2293ccb875a51d"
  },
  {
   "cell_type": "code",
   "execution_count": 14,
   "outputs": [],
   "source": [
    "non_game_features = ['platformGameId', 'esportsGameId', 'team_id', 'start_time']\n",
    "league_colnames = [x for x in processed_game_data.columns if 'League' in x]\n",
    "\n",
    "msi_rows = processed_game_data[processed_game_data['League_MSI']==1][non_game_features + league_colnames]"
   ],
   "metadata": {
    "collapsed": false,
    "ExecuteTime": {
     "end_time": "2023-09-24T01:29:25.614604Z",
     "start_time": "2023-09-24T01:29:25.546748100Z"
    }
   },
   "id": "45423589550605e2"
  },
  {
   "cell_type": "code",
   "execution_count": 16,
   "outputs": [
    {
     "data": {
      "text/plain": "            platformGameId       esportsGameId             team_id  \\\n0    ESPORTSTMNT06:1720364  106032946468677798  100285330168091787   \n1    ESPORTSTMNT06:1720413  106032946468677802  100285330168091787   \n2    ESPORTSTMNT06:1730615  106032946468677818  100285330168091787   \n3    ESPORTSTMNT06:1730628  106032946468677810  100285330168091787   \n4    ESPORTSTMNT06:1730637  106032946468677814  100285330168091787   \n..                     ...                 ...                 ...   \n136  ESPORTSTMNT06:1720572  106032946468677794   99566408217955692   \n137  ESPORTSTMNT06:1720356  106032946468677804   99566408562477641   \n138  ESPORTSTMNT06:1720421  106032946468677800   99566408562477641   \n139  ESPORTSTMNT06:1730615  106032946468677818   99566408562477641   \n140  ESPORTSTMNT06:1730643  106032946468677812   99566408562477641   \n\n                 start_time  League_All-Star Event  League_Arabian League  \\\n0   2021-05-07 15:44:59.858                    0.0                    0.0   \n1   2021-05-08 15:03:17.278                    0.0                    0.0   \n2   2021-05-11 14:25:07.694                    0.0                    0.0   \n3   2021-05-11 16:18:43.226                    0.0                    0.0   \n4   2021-05-11 17:14:45.767                    0.0                    0.0   \n..                      ...                    ...                    ...   \n136 2021-05-10 17:20:18.910                    0.0                    0.0   \n137 2021-05-07 14:54:12.690                    0.0                    0.0   \n138 2021-05-08 16:07:48.818                    0.0                    0.0   \n139 2021-05-11 14:25:07.694                    0.0                    0.0   \n140 2021-05-11 18:08:54.871                    0.0                    0.0   \n\n     League_CBLOL  League_CBLOL Academy  League_College Championship  \\\n0             0.0                   0.0                          0.0   \n1             0.0                   0.0                          0.0   \n2             0.0                   0.0                          0.0   \n3             0.0                   0.0                          0.0   \n4             0.0                   0.0                          0.0   \n..            ...                   ...                          ...   \n136           0.0                   0.0                          0.0   \n137           0.0                   0.0                          0.0   \n138           0.0                   0.0                          0.0   \n139           0.0                   0.0                          0.0   \n140           0.0                   0.0                          0.0   \n\n     League_EMEA Masters  ...  League_PG Nationals  League_Prime League  \\\n0                    0.0  ...                  0.0                  0.0   \n1                    0.0  ...                  0.0                  0.0   \n2                    0.0  ...                  0.0                  0.0   \n3                    0.0  ...                  0.0                  0.0   \n4                    0.0  ...                  0.0                  0.0   \n..                   ...  ...                  ...                  ...   \n136                  0.0  ...                  0.0                  0.0   \n137                  0.0  ...                  0.0                  0.0   \n138                  0.0  ...                  0.0                  0.0   \n139                  0.0  ...                  0.0                  0.0   \n140                  0.0  ...                  0.0                  0.0   \n\n     League_South Regional League  League_SuperLiga  League_TCL  \\\n0                             0.0               0.0         0.0   \n1                             0.0               0.0         0.0   \n2                             0.0               0.0         0.0   \n3                             0.0               0.0         0.0   \n4                             0.0               0.0         0.0   \n..                            ...               ...         ...   \n136                           0.0               0.0         0.0   \n137                           0.0               0.0         0.0   \n138                           0.0               0.0         0.0   \n139                           0.0               0.0         0.0   \n140                           0.0               0.0         0.0   \n\n     League_TFT Rising Legends  League_Ultraliga  League_VCS  League_Worlds  \\\n0                          0.0               0.0         0.0            0.0   \n1                          0.0               0.0         0.0            0.0   \n2                          0.0               0.0         0.0            0.0   \n3                          0.0               0.0         0.0            0.0   \n4                          0.0               0.0         0.0            0.0   \n..                         ...               ...         ...            ...   \n136                        0.0               0.0         0.0            0.0   \n137                        0.0               0.0         0.0            0.0   \n138                        0.0               0.0         0.0            0.0   \n139                        0.0               0.0         0.0            0.0   \n140                        0.0               0.0         0.0            0.0   \n\n              team_name  \n0    DetonatioN FocusMe  \n1    DetonatioN FocusMe  \n2    DetonatioN FocusMe  \n3    DetonatioN FocusMe  \n4    DetonatioN FocusMe  \n..                  ...  \n136         paiN Gaming  \n137            INFINITY  \n138            INFINITY  \n139            INFINITY  \n140            INFINITY  \n\n[141 rows x 43 columns]",
      "text/html": "<div>\n<style scoped>\n    .dataframe tbody tr th:only-of-type {\n        vertical-align: middle;\n    }\n\n    .dataframe tbody tr th {\n        vertical-align: top;\n    }\n\n    .dataframe thead th {\n        text-align: right;\n    }\n</style>\n<table border=\"1\" class=\"dataframe\">\n  <thead>\n    <tr style=\"text-align: right;\">\n      <th></th>\n      <th>platformGameId</th>\n      <th>esportsGameId</th>\n      <th>team_id</th>\n      <th>start_time</th>\n      <th>League_All-Star Event</th>\n      <th>League_Arabian League</th>\n      <th>League_CBLOL</th>\n      <th>League_CBLOL Academy</th>\n      <th>League_College Championship</th>\n      <th>League_EMEA Masters</th>\n      <th>...</th>\n      <th>League_PG Nationals</th>\n      <th>League_Prime League</th>\n      <th>League_South Regional League</th>\n      <th>League_SuperLiga</th>\n      <th>League_TCL</th>\n      <th>League_TFT Rising Legends</th>\n      <th>League_Ultraliga</th>\n      <th>League_VCS</th>\n      <th>League_Worlds</th>\n      <th>team_name</th>\n    </tr>\n  </thead>\n  <tbody>\n    <tr>\n      <th>0</th>\n      <td>ESPORTSTMNT06:1720364</td>\n      <td>106032946468677798</td>\n      <td>100285330168091787</td>\n      <td>2021-05-07 15:44:59.858</td>\n      <td>0.0</td>\n      <td>0.0</td>\n      <td>0.0</td>\n      <td>0.0</td>\n      <td>0.0</td>\n      <td>0.0</td>\n      <td>...</td>\n      <td>0.0</td>\n      <td>0.0</td>\n      <td>0.0</td>\n      <td>0.0</td>\n      <td>0.0</td>\n      <td>0.0</td>\n      <td>0.0</td>\n      <td>0.0</td>\n      <td>0.0</td>\n      <td>DetonatioN FocusMe</td>\n    </tr>\n    <tr>\n      <th>1</th>\n      <td>ESPORTSTMNT06:1720413</td>\n      <td>106032946468677802</td>\n      <td>100285330168091787</td>\n      <td>2021-05-08 15:03:17.278</td>\n      <td>0.0</td>\n      <td>0.0</td>\n      <td>0.0</td>\n      <td>0.0</td>\n      <td>0.0</td>\n      <td>0.0</td>\n      <td>...</td>\n      <td>0.0</td>\n      <td>0.0</td>\n      <td>0.0</td>\n      <td>0.0</td>\n      <td>0.0</td>\n      <td>0.0</td>\n      <td>0.0</td>\n      <td>0.0</td>\n      <td>0.0</td>\n      <td>DetonatioN FocusMe</td>\n    </tr>\n    <tr>\n      <th>2</th>\n      <td>ESPORTSTMNT06:1730615</td>\n      <td>106032946468677818</td>\n      <td>100285330168091787</td>\n      <td>2021-05-11 14:25:07.694</td>\n      <td>0.0</td>\n      <td>0.0</td>\n      <td>0.0</td>\n      <td>0.0</td>\n      <td>0.0</td>\n      <td>0.0</td>\n      <td>...</td>\n      <td>0.0</td>\n      <td>0.0</td>\n      <td>0.0</td>\n      <td>0.0</td>\n      <td>0.0</td>\n      <td>0.0</td>\n      <td>0.0</td>\n      <td>0.0</td>\n      <td>0.0</td>\n      <td>DetonatioN FocusMe</td>\n    </tr>\n    <tr>\n      <th>3</th>\n      <td>ESPORTSTMNT06:1730628</td>\n      <td>106032946468677810</td>\n      <td>100285330168091787</td>\n      <td>2021-05-11 16:18:43.226</td>\n      <td>0.0</td>\n      <td>0.0</td>\n      <td>0.0</td>\n      <td>0.0</td>\n      <td>0.0</td>\n      <td>0.0</td>\n      <td>...</td>\n      <td>0.0</td>\n      <td>0.0</td>\n      <td>0.0</td>\n      <td>0.0</td>\n      <td>0.0</td>\n      <td>0.0</td>\n      <td>0.0</td>\n      <td>0.0</td>\n      <td>0.0</td>\n      <td>DetonatioN FocusMe</td>\n    </tr>\n    <tr>\n      <th>4</th>\n      <td>ESPORTSTMNT06:1730637</td>\n      <td>106032946468677814</td>\n      <td>100285330168091787</td>\n      <td>2021-05-11 17:14:45.767</td>\n      <td>0.0</td>\n      <td>0.0</td>\n      <td>0.0</td>\n      <td>0.0</td>\n      <td>0.0</td>\n      <td>0.0</td>\n      <td>...</td>\n      <td>0.0</td>\n      <td>0.0</td>\n      <td>0.0</td>\n      <td>0.0</td>\n      <td>0.0</td>\n      <td>0.0</td>\n      <td>0.0</td>\n      <td>0.0</td>\n      <td>0.0</td>\n      <td>DetonatioN FocusMe</td>\n    </tr>\n    <tr>\n      <th>...</th>\n      <td>...</td>\n      <td>...</td>\n      <td>...</td>\n      <td>...</td>\n      <td>...</td>\n      <td>...</td>\n      <td>...</td>\n      <td>...</td>\n      <td>...</td>\n      <td>...</td>\n      <td>...</td>\n      <td>...</td>\n      <td>...</td>\n      <td>...</td>\n      <td>...</td>\n      <td>...</td>\n      <td>...</td>\n      <td>...</td>\n      <td>...</td>\n      <td>...</td>\n      <td>...</td>\n    </tr>\n    <tr>\n      <th>136</th>\n      <td>ESPORTSTMNT06:1720572</td>\n      <td>106032946468677794</td>\n      <td>99566408217955692</td>\n      <td>2021-05-10 17:20:18.910</td>\n      <td>0.0</td>\n      <td>0.0</td>\n      <td>0.0</td>\n      <td>0.0</td>\n      <td>0.0</td>\n      <td>0.0</td>\n      <td>...</td>\n      <td>0.0</td>\n      <td>0.0</td>\n      <td>0.0</td>\n      <td>0.0</td>\n      <td>0.0</td>\n      <td>0.0</td>\n      <td>0.0</td>\n      <td>0.0</td>\n      <td>0.0</td>\n      <td>paiN Gaming</td>\n    </tr>\n    <tr>\n      <th>137</th>\n      <td>ESPORTSTMNT06:1720356</td>\n      <td>106032946468677804</td>\n      <td>99566408562477641</td>\n      <td>2021-05-07 14:54:12.690</td>\n      <td>0.0</td>\n      <td>0.0</td>\n      <td>0.0</td>\n      <td>0.0</td>\n      <td>0.0</td>\n      <td>0.0</td>\n      <td>...</td>\n      <td>0.0</td>\n      <td>0.0</td>\n      <td>0.0</td>\n      <td>0.0</td>\n      <td>0.0</td>\n      <td>0.0</td>\n      <td>0.0</td>\n      <td>0.0</td>\n      <td>0.0</td>\n      <td>INFINITY</td>\n    </tr>\n    <tr>\n      <th>138</th>\n      <td>ESPORTSTMNT06:1720421</td>\n      <td>106032946468677800</td>\n      <td>99566408562477641</td>\n      <td>2021-05-08 16:07:48.818</td>\n      <td>0.0</td>\n      <td>0.0</td>\n      <td>0.0</td>\n      <td>0.0</td>\n      <td>0.0</td>\n      <td>0.0</td>\n      <td>...</td>\n      <td>0.0</td>\n      <td>0.0</td>\n      <td>0.0</td>\n      <td>0.0</td>\n      <td>0.0</td>\n      <td>0.0</td>\n      <td>0.0</td>\n      <td>0.0</td>\n      <td>0.0</td>\n      <td>INFINITY</td>\n    </tr>\n    <tr>\n      <th>139</th>\n      <td>ESPORTSTMNT06:1730615</td>\n      <td>106032946468677818</td>\n      <td>99566408562477641</td>\n      <td>2021-05-11 14:25:07.694</td>\n      <td>0.0</td>\n      <td>0.0</td>\n      <td>0.0</td>\n      <td>0.0</td>\n      <td>0.0</td>\n      <td>0.0</td>\n      <td>...</td>\n      <td>0.0</td>\n      <td>0.0</td>\n      <td>0.0</td>\n      <td>0.0</td>\n      <td>0.0</td>\n      <td>0.0</td>\n      <td>0.0</td>\n      <td>0.0</td>\n      <td>0.0</td>\n      <td>INFINITY</td>\n    </tr>\n    <tr>\n      <th>140</th>\n      <td>ESPORTSTMNT06:1730643</td>\n      <td>106032946468677812</td>\n      <td>99566408562477641</td>\n      <td>2021-05-11 18:08:54.871</td>\n      <td>0.0</td>\n      <td>0.0</td>\n      <td>0.0</td>\n      <td>0.0</td>\n      <td>0.0</td>\n      <td>0.0</td>\n      <td>...</td>\n      <td>0.0</td>\n      <td>0.0</td>\n      <td>0.0</td>\n      <td>0.0</td>\n      <td>0.0</td>\n      <td>0.0</td>\n      <td>0.0</td>\n      <td>0.0</td>\n      <td>0.0</td>\n      <td>INFINITY</td>\n    </tr>\n  </tbody>\n</table>\n<p>141 rows × 43 columns</p>\n</div>"
     },
     "execution_count": 16,
     "metadata": {},
     "output_type": "execute_result"
    }
   ],
   "source": [
    "# Join msi_rows with team_df to get the team names of both teams\n",
    "msi_rows = msi_rows.merge(team_df, how='left', left_on='team_id', right_on='team_id')\n",
    "msi_rows"
   ],
   "metadata": {
    "collapsed": false,
    "ExecuteTime": {
     "end_time": "2023-09-24T01:32:27.199807400Z",
     "start_time": "2023-09-24T01:32:27.145952500Z"
    }
   },
   "id": "9f4abf81cfb80d1f"
  },
  {
   "cell_type": "code",
   "execution_count": 30,
   "outputs": [],
   "source": [
    "def rename_features(df, features, prefix):\n",
    "    return df.rename(columns=dict(zip(features, [f'{prefix}_{x}' for x in features])))\n",
    "\n",
    "def get_last_game(df):\n",
    "    return df[df['last_game']==True]\n",
    "\n",
    "# Apply columns swapping on training_data\n",
    "training_data, testing_data = tournament_data_processor.append_flipped_team_and_outcomes_to_tournament()\n",
    "\n",
    "# Join reg_season_games with game_data_featurized based on reg_season_games['esportsGameId'] == game_data_featurized['esportsGameId']\n",
    "# For the team features, join on reg_season_games['team_id_1'] == game_data_featurized['team_id'] and reg_season_games['team_id_2'] == game_data_featurized['team_id']\n",
    "# When doing so, rename the features of game_data_featurized to be team_1_feature and team_2_feature\n",
    "# TODO: fix game_features to include num_prev_games and last_game_ind \n",
    "training_data = training_data.merge(rename_features(processed_game_data.drop(['platformGameId', 'start_time'], axis=1), game_features + ['league'], \"team_1\"), \n",
    "                                    how='left', \n",
    "                                    left_on=['esportsGameId', 'team_id_1'], \n",
    "                                    right_on=['esportsGameId', 'team_id'],\n",
    "                                    suffixes=['_to_drop','_to_drop'])\n",
    "training_data = training_data.merge(rename_features(processed_game_data.drop(['platformGameId', 'start_time'], axis=1), game_features + ['league'], \"team_2\"), \n",
    "                                    how='left', \n",
    "                                    left_on=['esportsGameId', 'team_id_2'], \n",
    "                                    right_on=['esportsGameId', 'team_id'],\n",
    "                                    suffixes=['_to_drop','_to_drop'])\n",
    "\n",
    "# drop the games where the outcome is NaN, those games are when one team has not had any games yet\n",
    "training_data.dropna(subset=['team_1_outcome', 'team_2_outcome'], inplace=True)\n",
    "\n",
    "# At this point all remaining nan values occur because the team has not reached a certain status yet (e.g. no first kills in any games up to that point)\n",
    "# Fill these with -1\n",
    "training_data.fillna(-1, inplace=True)\n",
    "\n",
    "# Drop the columns that were used for joining (have '_to_drop' suffix). \n",
    "training_data.drop([x for x in training_data.columns if '_to_drop' in x], axis=1, inplace=True)\n",
    "# Drop league as we have featurized it into team_1_league and team_2_league\n",
    "training_data.drop(['league'], axis=1, inplace=True)"
   ],
   "metadata": {
    "collapsed": false,
    "ExecuteTime": {
     "end_time": "2023-09-18T00:58:37.375224900Z",
     "start_time": "2023-09-18T00:58:37.266515100Z"
    }
   },
   "id": "ab0a2c80a8998cf3"
  },
  {
   "cell_type": "code",
   "execution_count": 31,
   "outputs": [],
   "source": [
    "def impute_nans(df, features):\n",
    "    df = df.copy(deep=True)\n",
    "    # First group by team_id and then fillna with the mean of the team\n",
    "    df[features] = df.groupby('team_id')[features].transform(lambda x: x.fillna(x.mean(skipna=True)))\n",
    "    # If any NaNs remain, fill with the mean of the column\n",
    "    df[features] = df[features].fillna(df[features].mean())\n",
    "    return df\n",
    "\n",
    "processed_game_data_imputed = impute_nans(processed_game_data, game_features)"
   ],
   "metadata": {
    "collapsed": false,
    "ExecuteTime": {
     "end_time": "2023-09-18T00:58:47.385334600Z",
     "start_time": "2023-09-18T00:58:42.728200500Z"
    }
   },
   "id": "a636d4aaf657eb9"
  },
  {
   "cell_type": "code",
   "execution_count": 32,
   "outputs": [],
   "source": [
    "from sklearn.decomposition import PCA\n",
    "from sklearn.preprocessing import StandardScaler\n",
    "import matplotlib.pyplot as plt\n",
    "\n",
    "std_scaler = StandardScaler()\n",
    "pca = PCA()\n",
    "processed_game_data_imputed = std_scaler.fit_transform(processed_game_data_imputed[game_features])\n",
    "pca.fit(processed_game_data_imputed)\n",
    "exp_var_cumul = np.cumsum(pca.explained_variance_ratio_)"
   ],
   "metadata": {
    "collapsed": false,
    "ExecuteTime": {
     "end_time": "2023-09-18T00:58:47.495154700Z",
     "start_time": "2023-09-18T00:58:47.388326700Z"
    }
   },
   "id": "d492c67475b0cb3"
  },
  {
   "cell_type": "code",
   "execution_count": 33,
   "outputs": [
    {
     "data": {
      "text/plain": "<Figure size 640x480 with 1 Axes>",
      "image/png": "[encoded data removed]"
     },
     "metadata": {},
     "output_type": "display_data"
    }
   ],
   "source": [
    "# Plot the explained variance\n",
    "\n",
    "plt.plot(exp_var_cumul)\n",
    "plt.xlabel('Number of components')\n",
    "plt.ylabel('Cumulative explained variance')\n",
    "plt.show()\n"
   ],
   "metadata": {
    "collapsed": false,
    "ExecuteTime": {
     "end_time": "2023-09-18T00:58:47.666515Z",
     "start_time": "2023-09-18T00:58:47.495154700Z"
    }
   },
   "id": "fbda2fb480d7f87d"
  },
  {
   "cell_type": "code",
   "execution_count": 34,
   "outputs": [
    {
     "data": {
      "text/plain": "             match_id       esportsGameId           team_id_1  outcome_1  \\\n0  110429332689390645  110429332689390646  101383793572656373          0   \n2  110429332689390649  110429332689390650  101383793572656373          1   \n3  110429332689390651  110429332689390652  101383793572656373          1   \n4  110429332689390653  110429332689390654  101383793572656373          1   \n5  110429332689390655  110429332689390656  103461966965149786          0   \n\n            team_id_2  outcome_2  team_1_outcome  team_1_first_riftHerald_ind  \\\n0   98767991926151025          1        0.500000                     0.500000   \n2  107563714667537640          0        0.250000                     0.500000   \n3  101383793569248484          0        0.428571                     0.428571   \n4  109637393694097670          0        0.000000                     0.666667   \n5  101383793572656373          1        0.800000                     0.600000   \n\n   team_1_first_riftHerald_time  team_1_num_riftHerald  ...  \\\n0                    502.565667               1.000000  ...   \n2                    532.797000               1.250000  ...   \n3                    502.565667               1.000000  ...   \n4                    532.797000               1.333333  ...   \n5                    487.116000               0.600000  ...   \n\n   team_2_jungle_lane_damage_to_champions_dominance_at_game_end  \\\n0                                           0.606506              \n2                                           0.464965              \n3                                           0.425305              \n4                                           0.504736              \n5                                           0.538895              \n\n   team_2_mid_lane_damage_to_champions_dominance_at_game_end  \\\n0                                           0.580308           \n2                                           0.509989           \n3                                           0.485137           \n4                                           0.530444           \n5                                           0.563655           \n\n   team_2_bot_lane_damage_to_champions_dominance_at_game_end  \\\n0                                           0.609232           \n2                                           0.460627           \n3                                           0.363654           \n4                                           0.576663           \n5                                           0.471605           \n\n   team_2_support_lane_damage_to_champions_dominance_at_game_end  \\\n0                                           0.554306               \n2                                           0.446400               \n3                                           0.561610               \n4                                           0.315533               \n5                                           0.534977               \n\n   team_2_top_lane_damage_to_buildings_dominance_at_game_end  \\\n0                                           0.662987           \n2                                           0.534402           \n3                                           0.320566           \n4                                           0.306184           \n5                                           0.559675           \n\n   team_2_jungle_lane_damage_to_buildings_dominance_at_game_end  \\\n0                                           0.643732              \n2                                           0.348362              \n3                                           0.437748              \n4                                           0.705176              \n5                                           0.641821              \n\n   team_2_mid_lane_damage_to_buildings_dominance_at_game_end  \\\n0                                           0.819850           \n2                                           0.485577           \n3                                           0.567664           \n4                                           0.617319           \n5                                           0.477813           \n\n   team_2_bot_lane_damage_to_buildings_dominance_at_game_end  \\\n0                                           0.631369           \n2                                           0.490636           \n3                                           0.376977           \n4                                           0.857179           \n5                                           0.544909           \n\n   team_2_support_lane_damage_to_buildings_dominance_at_game_end  \\\n0                                           0.703694               \n2                                           0.488176               \n3                                           0.361214               \n4                                           0.893378               \n5                                           0.867261               \n\n   team_2_region  \n0           EMEA  \n2           EMEA  \n3           EMEA  \n4           EMEA  \n5           EMEA  \n\n[5 rows x 2408 columns]",
      "text/html": "<div>\n<style scoped>\n    .dataframe tbody tr th:only-of-type {\n        vertical-align: middle;\n    }\n\n    .dataframe tbody tr th {\n        vertical-align: top;\n    }\n\n    .dataframe thead th {\n        text-align: right;\n    }\n</style>\n<table border=\"1\" class=\"dataframe\">\n  <thead>\n    <tr style=\"text-align: right;\">\n      <th></th>\n      <th>match_id</th>\n      <th>esportsGameId</th>\n      <th>team_id_1</th>\n      <th>outcome_1</th>\n      <th>team_id_2</th>\n      <th>outcome_2</th>\n      <th>team_1_outcome</th>\n      <th>team_1_first_riftHerald_ind</th>\n      <th>team_1_first_riftHerald_time</th>\n      <th>team_1_num_riftHerald</th>\n      <th>...</th>\n      <th>team_2_jungle_lane_damage_to_champions_dominance_at_game_end</th>\n      <th>team_2_mid_lane_damage_to_champions_dominance_at_game_end</th>\n      <th>team_2_bot_lane_damage_to_champions_dominance_at_game_end</th>\n      <th>team_2_support_lane_damage_to_champions_dominance_at_game_end</th>\n      <th>team_2_top_lane_damage_to_buildings_dominance_at_game_end</th>\n      <th>team_2_jungle_lane_damage_to_buildings_dominance_at_game_end</th>\n      <th>team_2_mid_lane_damage_to_buildings_dominance_at_game_end</th>\n      <th>team_2_bot_lane_damage_to_buildings_dominance_at_game_end</th>\n      <th>team_2_support_lane_damage_to_buildings_dominance_at_game_end</th>\n      <th>team_2_region</th>\n    </tr>\n  </thead>\n  <tbody>\n    <tr>\n      <th>0</th>\n      <td>110429332689390645</td>\n      <td>110429332689390646</td>\n      <td>101383793572656373</td>\n      <td>0</td>\n      <td>98767991926151025</td>\n      <td>1</td>\n      <td>0.500000</td>\n      <td>0.500000</td>\n      <td>502.565667</td>\n      <td>1.000000</td>\n      <td>...</td>\n      <td>0.606506</td>\n      <td>0.580308</td>\n      <td>0.609232</td>\n      <td>0.554306</td>\n      <td>0.662987</td>\n      <td>0.643732</td>\n      <td>0.819850</td>\n      <td>0.631369</td>\n      <td>0.703694</td>\n      <td>EMEA</td>\n    </tr>\n    <tr>\n      <th>2</th>\n      <td>110429332689390649</td>\n      <td>110429332689390650</td>\n      <td>101383793572656373</td>\n      <td>1</td>\n      <td>107563714667537640</td>\n      <td>0</td>\n      <td>0.250000</td>\n      <td>0.500000</td>\n      <td>532.797000</td>\n      <td>1.250000</td>\n      <td>...</td>\n      <td>0.464965</td>\n      <td>0.509989</td>\n      <td>0.460627</td>\n      <td>0.446400</td>\n      <td>0.534402</td>\n      <td>0.348362</td>\n      <td>0.485577</td>\n      <td>0.490636</td>\n      <td>0.488176</td>\n      <td>EMEA</td>\n    </tr>\n    <tr>\n      <th>3</th>\n      <td>110429332689390651</td>\n      <td>110429332689390652</td>\n      <td>101383793572656373</td>\n      <td>1</td>\n      <td>101383793569248484</td>\n      <td>0</td>\n      <td>0.428571</td>\n      <td>0.428571</td>\n      <td>502.565667</td>\n      <td>1.000000</td>\n      <td>...</td>\n      <td>0.425305</td>\n      <td>0.485137</td>\n      <td>0.363654</td>\n      <td>0.561610</td>\n      <td>0.320566</td>\n      <td>0.437748</td>\n      <td>0.567664</td>\n      <td>0.376977</td>\n      <td>0.361214</td>\n      <td>EMEA</td>\n    </tr>\n    <tr>\n      <th>4</th>\n      <td>110429332689390653</td>\n      <td>110429332689390654</td>\n      <td>101383793572656373</td>\n      <td>1</td>\n      <td>109637393694097670</td>\n      <td>0</td>\n      <td>0.000000</td>\n      <td>0.666667</td>\n      <td>532.797000</td>\n      <td>1.333333</td>\n      <td>...</td>\n      <td>0.504736</td>\n      <td>0.530444</td>\n      <td>0.576663</td>\n      <td>0.315533</td>\n      <td>0.306184</td>\n      <td>0.705176</td>\n      <td>0.617319</td>\n      <td>0.857179</td>\n      <td>0.893378</td>\n      <td>EMEA</td>\n    </tr>\n    <tr>\n      <th>5</th>\n      <td>110429332689390655</td>\n      <td>110429332689390656</td>\n      <td>103461966965149786</td>\n      <td>0</td>\n      <td>101383793572656373</td>\n      <td>1</td>\n      <td>0.800000</td>\n      <td>0.600000</td>\n      <td>487.116000</td>\n      <td>0.600000</td>\n      <td>...</td>\n      <td>0.538895</td>\n      <td>0.563655</td>\n      <td>0.471605</td>\n      <td>0.534977</td>\n      <td>0.559675</td>\n      <td>0.641821</td>\n      <td>0.477813</td>\n      <td>0.544909</td>\n      <td>0.867261</td>\n      <td>EMEA</td>\n    </tr>\n  </tbody>\n</table>\n<p>5 rows × 2408 columns</p>\n</div>"
     },
     "execution_count": 34,
     "metadata": {},
     "output_type": "execute_result"
    }
   ],
   "source": [
    "training_data.head()"
   ],
   "metadata": {
    "collapsed": false,
    "ExecuteTime": {
     "end_time": "2023-09-18T00:58:47.736730Z",
     "start_time": "2023-09-18T00:58:47.637032Z"
    }
   },
   "id": "3826932d2bcd7ce0"
  },
  {
   "cell_type": "code",
   "execution_count": 57,
   "outputs": [
    {
     "data": {
      "text/plain": "RandomForestClassifier(max_depth=10, n_estimators=1000, random_state=0)",
      "text/html": "<style>#sk-container-id-7 {color: black;}#sk-container-id-7 pre{padding: 0;}#sk-container-id-7 div.sk-toggleable {background-color: white;}#sk-container-id-7 label.sk-toggleable__label {cursor: pointer;display: block;width: 100%;margin-bottom: 0;padding: 0.3em;box-sizing: border-box;text-align: center;}#sk-container-id-7 label.sk-toggleable__label-arrow:before {content: \"▸\";float: left;margin-right: 0.25em;color: #696969;}#sk-container-id-7 label.sk-toggleable__label-arrow:hover:before {color: black;}#sk-container-id-7 div.sk-estimator:hover label.sk-toggleable__label-arrow:before {color: black;}#sk-container-id-7 div.sk-toggleable__content {max-height: 0;max-width: 0;overflow: hidden;text-align: left;background-color: #f0f8ff;}#sk-container-id-7 div.sk-toggleable__content pre {margin: 0.2em;color: black;border-radius: 0.25em;background-color: #f0f8ff;}#sk-container-id-7 input.sk-toggleable__control:checked~div.sk-toggleable__content {max-height: 200px;max-width: 100%;overflow: auto;}#sk-container-id-7 input.sk-toggleable__control:checked~label.sk-toggleable__label-arrow:before {content: \"▾\";}#sk-container-id-7 div.sk-estimator input.sk-toggleable__control:checked~label.sk-toggleable__label {background-color: #d4ebff;}#sk-container-id-7 div.sk-label input.sk-toggleable__control:checked~label.sk-toggleable__label {background-color: #d4ebff;}#sk-container-id-7 input.sk-hidden--visually {border: 0;clip: rect(1px 1px 1px 1px);clip: rect(1px, 1px, 1px, 1px);height: 1px;margin: -1px;overflow: hidden;padding: 0;position: absolute;width: 1px;}#sk-container-id-7 div.sk-estimator {font-family: monospace;background-color: #f0f8ff;border: 1px dotted black;border-radius: 0.25em;box-sizing: border-box;margin-bottom: 0.5em;}#sk-container-id-7 div.sk-estimator:hover {background-color: #d4ebff;}#sk-container-id-7 div.sk-parallel-item::after {content: \"\";width: 100%;border-bottom: 1px solid gray;flex-grow: 1;}#sk-container-id-7 div.sk-label:hover label.sk-toggleable__label {background-color: #d4ebff;}#sk-container-id-7 div.sk-serial::before {content: \"\";position: absolute;border-left: 1px solid gray;box-sizing: border-box;top: 0;bottom: 0;left: 50%;z-index: 0;}#sk-container-id-7 div.sk-serial {display: flex;flex-direction: column;align-items: center;background-color: white;padding-right: 0.2em;padding-left: 0.2em;position: relative;}#sk-container-id-7 div.sk-item {position: relative;z-index: 1;}#sk-container-id-7 div.sk-parallel {display: flex;align-items: stretch;justify-content: center;background-color: white;position: relative;}#sk-container-id-7 div.sk-item::before, #sk-container-id-7 div.sk-parallel-item::before {content: \"\";position: absolute;border-left: 1px solid gray;box-sizing: border-box;top: 0;bottom: 0;left: 50%;z-index: -1;}#sk-container-id-7 div.sk-parallel-item {display: flex;flex-direction: column;z-index: 1;position: relative;background-color: white;}#sk-container-id-7 div.sk-parallel-item:first-child::after {align-self: flex-end;width: 50%;}#sk-container-id-7 div.sk-parallel-item:last-child::after {align-self: flex-start;width: 50%;}#sk-container-id-7 div.sk-parallel-item:only-child::after {width: 0;}#sk-container-id-7 div.sk-dashed-wrapped {border: 1px dashed gray;margin: 0 0.4em 0.5em 0.4em;box-sizing: border-box;padding-bottom: 0.4em;background-color: white;}#sk-container-id-7 div.sk-label label {font-family: monospace;font-weight: bold;display: inline-block;line-height: 1.2em;}#sk-container-id-7 div.sk-label-container {text-align: center;}#sk-container-id-7 div.sk-container {/* jupyter's `normalize.less` sets `[hidden] { display: none; }` but bootstrap.min.css set `[hidden] { display: none !important; }` so we also need the `!important` here to be able to override the default hidden behavior on the sphinx rendered scikit-learn.org. See: https://github.com/scikit-learn/scikit-learn/issues/21755 */display: inline-block !important;position: relative;}#sk-container-id-7 div.sk-text-repr-fallback {display: none;}</style><div id=\"sk-container-id-7\" class=\"sk-top-container\"><div class=\"sk-text-repr-fallback\"><pre>RandomForestClassifier(max_depth=10, n_estimators=1000, random_state=0)</pre><b>In a Jupyter environment, please rerun this cell to show the HTML representation or trust the notebook. <br />On GitHub, the HTML representation is unable to render, please try loading this page with nbviewer.org.</b></div><div class=\"sk-container\" hidden><div class=\"sk-item\"><div class=\"sk-estimator sk-toggleable\"><input class=\"sk-toggleable__control sk-hidden--visually\" id=\"sk-estimator-id-7\" type=\"checkbox\" checked><label for=\"sk-estimator-id-7\" class=\"sk-toggleable__label sk-toggleable__label-arrow\">RandomForestClassifier</label><div class=\"sk-toggleable__content\"><pre>RandomForestClassifier(max_depth=10, n_estimators=1000, random_state=0)</pre></div></div></div></div></div>"
     },
     "execution_count": 57,
     "metadata": {},
     "output_type": "execute_result"
    }
   ],
   "source": [
    "# fit a random forest model on the training data\n",
    "from sklearn.ensemble import RandomForestClassifier\n",
    "\n",
    "rf = RandomForestClassifier(n_estimators=1000, max_depth=10, random_state=0)\n",
    "non_game_features = ['match_id', 'esportsGameId', 'team_id_1', 'team_id_2', 'outcome_1', 'outcome_2', 'team_1_league', 'team_2_league']\n",
    "rf.fit(training_data.drop(non_game_features, axis=1), training_data['outcome_1'])\n",
    "\n",
    "# select_game_features = ['team_1_outcome', 'team_2_outcome']\n",
    "# rf.fit(training_data[select_game_features], training_data['outcome_1'])"
   ],
   "metadata": {
    "collapsed": false,
    "ExecuteTime": {
     "end_time": "2023-09-18T01:11:09.342835Z",
     "start_time": "2023-09-18T01:11:04.570990700Z"
    }
   },
   "id": "1ee360f39fb29980"
  },
  {
   "cell_type": "code",
   "execution_count": 58,
   "outputs": [
    {
     "data": {
      "text/plain": "                                                    importance\nteam_1_support_xp_per_min_at_14                       0.005492\nteam_2_support_xp_per_min_at_14                       0.005043\nteam_2_support_XP_at_14                               0.004830\nteam_1_support_XP_at_14                               0.004718\nteam_1_bot_CHAMPIONS_KILLED_at_20                     0.004376\nteam_1_support_KDA_at_30                              0.003580\nteam_1_mid_wards_per_min_at_20                        0.003294\nteam_1_top_vision_per_min_diff_at_20                  0.002827\nteam_1_jungle_trade_efficiency_at_14                  0.002795\nteam_2_bot_CHAMPIONS_KILLED_at_20                     0.002640\nteam_1_bot_gold_spent_at_14                           0.002451\nteam_2_mid_lane_damage_to_champions_dominance_a...    0.002366\nteam_2_mid_wards_per_min_at_20                        0.002309\nteam_2_jungle_lane_damage_to_champions_dominanc...    0.002303\nteam_2_support_KDA_at_30                              0.002277\nteam_2_top_KDA_diff_at_game_end                       0.002264\nteam_2_jungle_TOTAL_DAMAGE_TAKEN_at_20                0.002232\nteam_1_mid_lane_damage_to_champions_dominance_a...    0.002177\nteam_2_mid_damage_to_champions_per_min_diff_at_14     0.002124\nteam_2_jungle_trade_efficiency_at_14                  0.002111",
      "text/html": "<div>\n<style scoped>\n    .dataframe tbody tr th:only-of-type {\n        vertical-align: middle;\n    }\n\n    .dataframe tbody tr th {\n        vertical-align: top;\n    }\n\n    .dataframe thead th {\n        text-align: right;\n    }\n</style>\n<table border=\"1\" class=\"dataframe\">\n  <thead>\n    <tr style=\"text-align: right;\">\n      <th></th>\n      <th>importance</th>\n    </tr>\n  </thead>\n  <tbody>\n    <tr>\n      <th>team_1_support_xp_per_min_at_14</th>\n      <td>0.005492</td>\n    </tr>\n    <tr>\n      <th>team_2_support_xp_per_min_at_14</th>\n      <td>0.005043</td>\n    </tr>\n    <tr>\n      <th>team_2_support_XP_at_14</th>\n      <td>0.004830</td>\n    </tr>\n    <tr>\n      <th>team_1_support_XP_at_14</th>\n      <td>0.004718</td>\n    </tr>\n    <tr>\n      <th>team_1_bot_CHAMPIONS_KILLED_at_20</th>\n      <td>0.004376</td>\n    </tr>\n    <tr>\n      <th>team_1_support_KDA_at_30</th>\n      <td>0.003580</td>\n    </tr>\n    <tr>\n      <th>team_1_mid_wards_per_min_at_20</th>\n      <td>0.003294</td>\n    </tr>\n    <tr>\n      <th>team_1_top_vision_per_min_diff_at_20</th>\n      <td>0.002827</td>\n    </tr>\n    <tr>\n      <th>team_1_jungle_trade_efficiency_at_14</th>\n      <td>0.002795</td>\n    </tr>\n    <tr>\n      <th>team_2_bot_CHAMPIONS_KILLED_at_20</th>\n      <td>0.002640</td>\n    </tr>\n    <tr>\n      <th>team_1_bot_gold_spent_at_14</th>\n      <td>0.002451</td>\n    </tr>\n    <tr>\n      <th>team_2_mid_lane_damage_to_champions_dominance_at_14</th>\n      <td>0.002366</td>\n    </tr>\n    <tr>\n      <th>team_2_mid_wards_per_min_at_20</th>\n      <td>0.002309</td>\n    </tr>\n    <tr>\n      <th>team_2_jungle_lane_damage_to_champions_dominance_at_game_end</th>\n      <td>0.002303</td>\n    </tr>\n    <tr>\n      <th>team_2_support_KDA_at_30</th>\n      <td>0.002277</td>\n    </tr>\n    <tr>\n      <th>team_2_top_KDA_diff_at_game_end</th>\n      <td>0.002264</td>\n    </tr>\n    <tr>\n      <th>team_2_jungle_TOTAL_DAMAGE_TAKEN_at_20</th>\n      <td>0.002232</td>\n    </tr>\n    <tr>\n      <th>team_1_mid_lane_damage_to_champions_dominance_at_14</th>\n      <td>0.002177</td>\n    </tr>\n    <tr>\n      <th>team_2_mid_damage_to_champions_per_min_diff_at_14</th>\n      <td>0.002124</td>\n    </tr>\n    <tr>\n      <th>team_2_jungle_trade_efficiency_at_14</th>\n      <td>0.002111</td>\n    </tr>\n  </tbody>\n</table>\n</div>"
     },
     "execution_count": 58,
     "metadata": {},
     "output_type": "execute_result"
    }
   ],
   "source": [
    "# Get the feature importances from the model\n",
    "feature_importances = pd.DataFrame(rf.feature_importances_,\n",
    "                                   index = training_data.drop(non_game_features, axis=1).columns,\n",
    "                                   columns=['importance']).sort_values('importance', ascending=False)\n",
    "feature_importances.head(20)"
   ],
   "metadata": {
    "collapsed": false,
    "ExecuteTime": {
     "end_time": "2023-09-18T01:11:10.192470800Z",
     "start_time": "2023-09-18T01:11:10.063761700Z"
    }
   },
   "id": "ee276589d8661734"
  },
  {
   "cell_type": "code",
   "execution_count": 39,
   "outputs": [],
   "source": [
    "# Prepare the inference dataset \n",
    "# Apply the same operations as the training set w.r.t. joins, drops, and imputations with minor modifications\n",
    "testing_data = testing_data.merge(rename_features(inference_game_data.drop(['platformGameId', 'start_time'], axis=1), game_features + ['league'], \"team_1\"), \n",
    "                                    how='left', \n",
    "                                    left_on=['esportsGameId', 'team_id_1'], \n",
    "                                    right_on=['esportsGameId', 'team_id'],\n",
    "                                    suffixes=['_to_drop','_to_drop'])\n",
    "testing_data = testing_data.merge(rename_features(inference_game_data.drop(['platformGameId', 'start_time'], axis=1), game_features + ['league'], \"team_2\"), \n",
    "                                    how='left', \n",
    "                                    left_on=['esportsGameId', 'team_id_2'], \n",
    "                                    right_on=['esportsGameId', 'team_id'],\n",
    "                                    suffixes=['_to_drop','_to_drop'])\n",
    "\n",
    "# At this point all remaining nan values occur because the team has not reached a certain status yet (e.g. no first kills in any games up to that point)\n",
    "# Fill these with -1\n",
    "testing_data.fillna(-1, inplace=True)\n",
    "\n",
    "# Drop the columns that were used for joining (have '_to_drop' suffix). \n",
    "testing_data.drop([x for x in testing_data.columns if '_to_drop' in x], axis=1, inplace=True)\n",
    "# Drop league as we have featurized it into team_1_league and team_2_league\n",
    "testing_data.drop(['league'], axis=1, inplace=True)"
   ],
   "metadata": {
    "collapsed": false,
    "ExecuteTime": {
     "end_time": "2023-09-18T01:00:40.304911900Z",
     "start_time": "2023-09-18T01:00:40.210465800Z"
    }
   },
   "id": "5c163980e216bf66"
  },
  {
   "cell_type": "code",
   "execution_count": 62,
   "outputs": [
    {
     "name": "stdout",
     "output_type": "stream",
     "text": [
      "Train model accuracy: 1.0\n",
      "Train baseline accuracy: 0.6532258064516129\n",
      "Test model accuracy: 0.3125\n",
      "Test baseline accuracy: 0.6875\n"
     ]
    }
   ],
   "source": [
    "# Predict on the training data\n",
    "pred_train_model = rf.predict(training_data.drop(non_game_features, axis=1))\n",
    "pred_train_base = training_data['team_1_outcome'] >= training_data['team_2_outcome']\n",
    "\n",
    "# Predict on the testing data\n",
    "pred_test_model = rf.predict(testing_data.drop(non_game_features, axis=1))\n",
    "pred_test_base = testing_data['team_1_outcome'] >= testing_data['team_2_outcome']\n",
    "\n",
    "acc_train_model = np.mean(pred_train_model == training_data['outcome_1'])\n",
    "acc_train_base = np.mean(pred_train_base == training_data['outcome_1'])\n",
    "\n",
    "acc_test_model = np.mean(pred_test_model == testing_data['outcome_1'])\n",
    "acc_test_base = np.mean(pred_test_base == testing_data['outcome_1'])\n",
    "\n",
    "print(f\"Train model accuracy: {acc_train_model}\")\n",
    "print(f\"Train baseline accuracy: {acc_train_base}\")\n",
    "\n",
    "print(f\"Test model accuracy: {acc_test_model}\")\n",
    "print(f\"Test baseline accuracy: {acc_test_base}\")"
   ],
   "metadata": {
    "collapsed": false,
    "ExecuteTime": {
     "end_time": "2023-09-18T01:17:52.680335500Z",
     "start_time": "2023-09-18T01:17:52.447729300Z"
    }
   },
   "id": "749160a2ee822de4"
  },
  {
   "cell_type": "code",
   "execution_count": 56,
   "outputs": [
    {
     "name": "stdout",
     "output_type": "stream",
     "text": [
      "Model accuracy: 0.3125\n",
      "Baseline accuracy: 0.6875\n"
     ]
    }
   ],
   "source": [
    "# Predict on the testing data\n",
    "predictions = rf.predict(testing_data[select_game_features])\n",
    "base_predictions = testing_data['team_1_outcome'] >= testing_data['team_2_outcome']\n",
    "\n",
    "acc_model = np.mean(predictions == testing_data['outcome_1'])\n",
    "acc_base = np.mean(base_predictions == testing_data['outcome_1'])\n",
    "\n",
    "print(f\"Model accuracy: {acc_model}\")\n",
    "print(f\"Baseline accuracy: {acc_base}\")"
   ],
   "metadata": {
    "collapsed": false,
    "ExecuteTime": {
     "end_time": "2023-09-18T01:10:53.193830900Z",
     "start_time": "2023-09-18T01:10:53.097195100Z"
    }
   },
   "id": "93111731f442d939"
  },
  {
   "cell_type": "code",
   "execution_count": null,
   "outputs": [],
   "source": [],
   "metadata": {
    "collapsed": false
   },
   "id": "c146101beca4af50"
  }
 ],
 "metadata": {
  "kernelspec": {
   "display_name": "Python 3",
   "language": "python",
   "name": "python3"
  },
  "language_info": {
   "codemirror_mode": {
    "name": "ipython",
    "version": 2
   },
   "file_extension": ".py",
   "mimetype": "text/x-python",
   "name": "python",
   "nbconvert_exporter": "python",
   "pygments_lexer": "ipython2",
   "version": "2.7.6"
  }
 },
 "nbformat": 4,
 "nbformat_minor": 5
}
