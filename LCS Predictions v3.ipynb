{
 "cells": [
  {
   "cell_type": "code",
   "execution_count": 1,
   "id": "initial_id",
   "metadata": {
    "collapsed": true,
    "ExecuteTime": {
     "end_time": "2023-09-24T01:18:32.308192300Z",
     "start_time": "2023-09-24T01:18:30.261131600Z"
    }
   },
   "outputs": [],
   "source": [
    "import pandas as pd\n",
    "pd.set_option('mode.chained_assignment', None)\n",
    "import numpy as np\n",
    "import os\n",
    "from tqdm.notebook import tqdm\n",
    "\n",
    "from data_processing.GameFeaturesGenerator import GameFeaturesGenerator\n",
    "from data_processing.TournamentDataProcessor import TournamentDataProcessor\n",
    "from data_processing.LeaguesDataProcessor import LeaguesDataProcessor\n",
    "from data_processing.utils.download_functions import *"
   ]
  },
  {
   "cell_type": "code",
   "execution_count": 2,
   "outputs": [
    {
     "data": {
      "text/plain": "['2021_raw_game_data',\n 'leagues.json',\n 'mapping_data.json',\n 'players.json',\n 'teams.json',\n 'tournaments.json']"
     },
     "execution_count": 2,
     "metadata": {},
     "output_type": "execute_result"
    }
   ],
   "source": [
    "os.chdir('esports-data')\n",
    "os.listdir()"
   ],
   "metadata": {
    "collapsed": false,
    "ExecuteTime": {
     "end_time": "2023-09-24T01:18:32.330167500Z",
     "start_time": "2023-09-24T01:18:32.314175200Z"
    }
   },
   "id": "c27f1bec209468e9"
  },
  {
   "cell_type": "code",
   "execution_count": 3,
   "outputs": [],
   "source": [
    "# Read in tournament data\n",
    "with open(\"tournaments.json\", \"r\") as json_file:\n",
    "   tournament_data_all = json.load(json_file)\n",
    "\n",
    "# Read in mappings data\n",
    "with open(\"mapping_data.json\", \"r\") as json_file:\n",
    "   mappings_data = json.load(json_file)\n",
    "   \n",
    "mappings = {\n",
    "   esports_game[\"esportsGameId\"]: esports_game for esports_game in mappings_data\n",
    "}\n",
    "\n",
    "# Set up LeaguesDataProcessor\n",
    "leagues_data_processor = LeaguesDataProcessor()\n",
    "\n",
    "# Only retrieve LCS tournament data ['lcs_summer_2023']\n",
    "# tournament_data = [x for x in tournament_data_all if x['slug']=='lec_summer_2023'][0]# Open basic files\n",
    "tournament_data = [x for x in tournament_data_all if x['slug']=='msi_2021'][0]"
   ],
   "metadata": {
    "collapsed": false,
    "ExecuteTime": {
     "end_time": "2023-09-24T01:18:39.610983100Z",
     "start_time": "2023-09-24T01:18:37.240040300Z"
    }
   },
   "id": "7ba6c24de9d66983"
  },
  {
   "cell_type": "code",
   "execution_count": 4,
   "outputs": [
    {
     "data": {
      "text/plain": "[['Regular Season', 1], ['Playoffs', 1]]"
     },
     "execution_count": 4,
     "metadata": {},
     "output_type": "execute_result"
    }
   ],
   "source": [
    "tournament_data_processor = TournamentDataProcessor(tournament_data, leagues_data_processor.leagues_df)\n",
    "tournament_data_processor.get_tournament_stages()"
   ],
   "metadata": {
    "collapsed": false,
    "ExecuteTime": {
     "end_time": "2023-09-22T00:27:04.592562Z",
     "start_time": "2023-09-22T00:27:04.567077400Z"
    }
   },
   "id": "524bc41d8d23bbda"
  },
  {
   "cell_type": "code",
   "execution_count": 5,
   "outputs": [
    {
     "name": "stdout",
     "output_type": "stream",
     "text": [
      "90\n",
      "34\n"
     ]
    }
   ],
   "source": [
    "training_data, testing_data = tournament_data_processor.get_tournament_data(training_stages=['Regular Season'], testing_stages=['Playoffs'])\n",
    "# training_data, testing_data = tournament_data_processor.get_tournament_data(training_stages=[], testing_stages=[])\n",
    "print(len(training_data))\n",
    "print(len(testing_data))"
   ],
   "metadata": {
    "collapsed": false,
    "ExecuteTime": {
     "end_time": "2023-09-22T00:27:09.068147900Z",
     "start_time": "2023-09-22T00:27:08.962522Z"
    }
   },
   "id": "db940bb352ade57c"
  },
  {
   "cell_type": "code",
   "execution_count": 10,
   "outputs": [
    {
     "data": {
      "text/plain": "             match_id       esportsGameId league           team_id_1  \\\n0  106269680921743317  106269680921743318    LEC  101383793572656373   \n1  106269680921743319  106269680921743320    LEC  101383793569248484   \n2  106269680921743321  106269680921743322    LEC   98767991926151025   \n3  106269680921743323  106269680921743324    LEC  101383793569248484   \n4  106269680921743325  106269680921743326    LEC   98767991940181526   \n\n   outcome_1           team_id_2  outcome_2  \n0          0  101383793569248484          1  \n1          0   98767991866488695          1  \n2          1  101383793569248484          0  \n3          0  103461966965149786          1  \n4          1  101383793569248484          0  ",
      "text/html": "<div>\n<style scoped>\n    .dataframe tbody tr th:only-of-type {\n        vertical-align: middle;\n    }\n\n    .dataframe tbody tr th {\n        vertical-align: top;\n    }\n\n    .dataframe thead th {\n        text-align: right;\n    }\n</style>\n<table border=\"1\" class=\"dataframe\">\n  <thead>\n    <tr style=\"text-align: right;\">\n      <th></th>\n      <th>match_id</th>\n      <th>esportsGameId</th>\n      <th>league</th>\n      <th>team_id_1</th>\n      <th>outcome_1</th>\n      <th>team_id_2</th>\n      <th>outcome_2</th>\n    </tr>\n  </thead>\n  <tbody>\n    <tr>\n      <th>0</th>\n      <td>106269680921743317</td>\n      <td>106269680921743318</td>\n      <td>LEC</td>\n      <td>101383793572656373</td>\n      <td>0</td>\n      <td>101383793569248484</td>\n      <td>1</td>\n    </tr>\n    <tr>\n      <th>1</th>\n      <td>106269680921743319</td>\n      <td>106269680921743320</td>\n      <td>LEC</td>\n      <td>101383793569248484</td>\n      <td>0</td>\n      <td>98767991866488695</td>\n      <td>1</td>\n    </tr>\n    <tr>\n      <th>2</th>\n      <td>106269680921743321</td>\n      <td>106269680921743322</td>\n      <td>LEC</td>\n      <td>98767991926151025</td>\n      <td>1</td>\n      <td>101383793569248484</td>\n      <td>0</td>\n    </tr>\n    <tr>\n      <th>3</th>\n      <td>106269680921743323</td>\n      <td>106269680921743324</td>\n      <td>LEC</td>\n      <td>101383793569248484</td>\n      <td>0</td>\n      <td>103461966965149786</td>\n      <td>1</td>\n    </tr>\n    <tr>\n      <th>4</th>\n      <td>106269680921743325</td>\n      <td>106269680921743326</td>\n      <td>LEC</td>\n      <td>98767991940181526</td>\n      <td>1</td>\n      <td>101383793569248484</td>\n      <td>0</td>\n    </tr>\n  </tbody>\n</table>\n</div>"
     },
     "execution_count": 10,
     "metadata": {},
     "output_type": "execute_result"
    }
   ],
   "source": [
    "training_data.head() # Need to add the time for sorting purposes \n",
    "# [match_id, esportsGameId, league, team_id_1, team_id_2, outcome_1, outcome_2]"
   ],
   "metadata": {
    "collapsed": false,
    "ExecuteTime": {
     "end_time": "2023-09-22T00:32:20.761376600Z",
     "start_time": "2023-09-22T00:32:20.744392700Z"
    }
   },
   "id": "57935bddc808640f"
  },
  {
   "cell_type": "code",
   "execution_count": 9,
   "outputs": [
    {
     "data": {
      "text/plain": "'106269680921743320'"
     },
     "execution_count": 9,
     "metadata": {},
     "output_type": "execute_result"
    }
   ],
   "source": [
    "game_id"
   ],
   "metadata": {
    "collapsed": false,
    "ExecuteTime": {
     "end_time": "2023-09-22T00:29:03.256079Z",
     "start_time": "2023-09-22T00:29:03.225803100Z"
    }
   },
   "id": "d1c02de0f7f5c8bb"
  },
  {
   "cell_type": "code",
   "execution_count": 7,
   "outputs": [
    {
     "name": "stdout",
     "output_type": "stream",
     "text": [
      "games/ESPORTSTMNT05:1971421.json written\n",
      "games/ESPORTSTMNT06:1840899.json written\n"
     ]
    }
   ],
   "source": [
    "directory = \"games\"\n",
    "if not os.path.exists(directory):\n",
    "   os.makedirs(directory)\n",
    "\n",
    "# Load each game and process them\n",
    "game_rows = []\n",
    "# for i in tqdm(range(len(training_data))):\n",
    "for i in range(2):\n",
    "    try:\n",
    "        game_id = training_data.iloc[i]['esportsGameId']\n",
    "        game_mapping_data = mappings[game_id]\n",
    "        platform_game_id = game_mapping_data['platformGameId']\n",
    "        download_gzip_and_write_to_json(f\"{directory}/{platform_game_id}\")\n",
    "        with open(f\"games/{platform_game_id}.json\", \"r\") as json_file:\n",
    "            game_data = json.load(json_file)\n",
    "    except KeyError:\n",
    "        print(f\"Match {game_id} was not found\")\n",
    "        continue\n",
    "    try:\n",
    "        game_features = GameFeaturesGenerator(game_data, game_mapping_data).process_game()\n",
    "    except Exception as e:\n",
    "        print(f\"Error processing game {game_id}\")\n",
    "        print(e)\n",
    "        continue\n",
    "    game_features['league'] = training_data.iloc[i]['league']\n",
    "    game_rows.append(game_features)\n",
    "\n",
    "game_rows = pd.concat(game_rows)\n",
    "game_rows_leagues = leagues_data_processor.transform_league_col(game_rows['league'])\n",
    "game_rows = pd.concat([game_rows.drop(['league'],axis=1).reset_index(), game_rows_leagues], axis=1)"
   ],
   "metadata": {
    "collapsed": false,
    "ExecuteTime": {
     "end_time": "2023-09-22T00:27:23.301255900Z",
     "start_time": "2023-09-22T00:27:17.419225700Z"
    }
   },
   "id": "7a261335d7205a48"
  },
  {
   "cell_type": "code",
   "execution_count": 11,
   "outputs": [
    {
     "data": {
      "text/plain": "['game',\n 'games',\n 'game_processing_tmp',\n 'leagues.json',\n 'mapping_data.json',\n 'players.json',\n 'teams.json',\n 'tournaments.json']"
     },
     "execution_count": 11,
     "metadata": {},
     "output_type": "execute_result"
    }
   ],
   "source": [
    "os.listdir()"
   ],
   "metadata": {
    "collapsed": false,
    "ExecuteTime": {
     "end_time": "2023-09-22T00:42:28.809220800Z",
     "start_time": "2023-09-22T00:42:28.765891300Z"
    }
   },
   "id": "f3a7a70c2d1dfdaf"
  },
  {
   "cell_type": "code",
   "execution_count": 8,
   "outputs": [
    {
     "name": "stdout",
     "output_type": "stream",
     "text": [
      "124\n"
     ]
    }
   ],
   "source": [
    "\"\"\"\n",
    "1. Sort the game_rows by team_id and start_time \n",
    "2. Create features for each team by averaging stats of the last 5 games that they played (or the most recent statistics if possible, with a \"num_prev_games) column\n",
    "    This yields a row of data where the features are the average of the last 5 games that the team played BEFORE the game of ['platformGameId', 'esportsGameId', 'team_id', 'start_time']\n",
    "    We also need to drop the first row where we don't have any data to average over\n",
    "3. Mark the last row of each team's data as the last game\n",
    "    This is so that we can use this to predict the next game\n",
    "3. Later join to the reg_season_games data for training the model \n",
    "4. Use the trained model to predict on the playoff_games data for testing \n",
    "\"\"\"\n",
    "\n",
    "non_game_features = ['platformGameId', 'esportsGameId', 'team_id', 'start_time', 'league']\n",
    "game_features = [x for x in game_rows.columns if x not in non_game_features]\n",
    "all_team_ids = np.unique(game_rows['team_id'])\n",
    "processed_game_data = []\n",
    "for team in all_team_ids:\n",
    "    team_data = game_rows[game_rows['team_id']==team]\n",
    "    team_data = team_data.sort_values(by=['start_time'])\n",
    "    team_data['num_prev_games'] = np.arange(len(team_data))\n",
    "    # First lag by 1 game so that the current game is not included in the average\n",
    "    team_data_features = team_data[game_features].shift(1).rolling(window=50, min_periods=1).mean()\n",
    "    team_data[game_features] = team_data_features\n",
    "    # Drop rows where num_prev_games == 0 as this indicates that it's the team's first game \n",
    "    team_data = team_data[team_data['num_prev_games']!=0]\n",
    "    # Add one more column to indicate if the row is the last of the team's games\n",
    "    last_game_indicator_col = pd.DataFrame({'last_game_ind': team_data['num_prev_games']==team_data['num_prev_games'].max()})\n",
    "    team_data = pd.concat([team_data, last_game_indicator_col], axis=1)\n",
    "    processed_game_data.append(team_data)\n",
    "\n",
    "processed_game_data = pd.concat(processed_game_data)\n",
    "print(len(processed_game_data))\n",
    "\n",
    "inference_game_data = processed_game_data[processed_game_data['last_game_ind']==True]"
   ],
   "metadata": {
    "collapsed": false,
    "ExecuteTime": {
     "end_time": "2023-09-18T00:47:12.227110Z",
     "start_time": "2023-09-18T00:47:08.116735300Z"
    }
   },
   "id": "28f54d0ddec33b69"
  },
  {
   "cell_type": "code",
   "execution_count": 9,
   "outputs": [
    {
     "data": {
      "text/plain": "          platformGameId       esportsGameId             team_id  \\\n1  ESPORTSTMNT04:2684543  110429332689390730  101383793567806688   \n1  ESPORTSTMNT04:2685587  110429332689390658  101383793567806688   \n0  ESPORTSTMNT04:2688038  110429332689390700  101383793567806688   \n1  ESPORTSTMNT04:2688138  110429332689390674  101383793567806688   \n1  ESPORTSTMNT04:2687183  110429332689390688  101383793567806688   \n\n               start_time   outcome  first_riftHerald_ind  \\\n1 2023-06-18 16:07:24.814  0.000000              1.000000   \n1 2023-06-19 16:08:17.672  0.000000              0.500000   \n0 2023-06-24 16:07:08.059  0.333333              0.666667   \n1 2023-06-25 19:24:17.121  0.250000              0.500000   \n1 2023-06-26 19:07:38.970  0.200000              0.600000   \n\n   first_riftHerald_time  num_riftHerald  first_dragon_ind  first_dragon_time  \\\n1             558.178000        2.000000          1.000000         558.178000   \n1             558.178000        1.500000          0.500000         558.178000   \n0             455.447500        1.333333          0.666667         455.447500   \n1             455.447500        1.250000          0.500000         455.447500   \n1             502.377667        1.200000          0.600000         502.377667   \n\n   ...  bot_lane_damage_to_champions_dominance_at_game_end  \\\n1  ...                                           0.437309    \n1  ...                                           0.442252    \n0  ...                                           0.452675    \n1  ...                                           0.447200    \n1  ...                                           0.436109    \n\n   support_lane_damage_to_champions_dominance_at_game_end  \\\n1                                           0.842920        \n1                                           0.601724        \n0                                           0.473845        \n1                                           0.473721        \n1                                           0.454344        \n\n   top_lane_damage_to_buildings_dominance_at_game_end  \\\n1                                           0.927730    \n1                                           0.465223    \n0                                           0.522723    \n1                                           0.498290    \n1                                           0.516027    \n\n   jungle_lane_damage_to_buildings_dominance_at_game_end  \\\n1                                           0.000000       \n1                                           0.015356       \n0                                           0.168517       \n1                                           0.126388       \n1                                           0.133921       \n\n   mid_lane_damage_to_buildings_dominance_at_game_end  \\\n1                                           0.152756    \n1                                           0.130747    \n0                                           0.163081    \n1                                           0.151471    \n1                                           0.187554    \n\n   bot_lane_damage_to_buildings_dominance_at_game_end  \\\n1                                           0.300315    \n1                                           0.267114    \n0                                           0.318320    \n1                                           0.260248    \n1                                           0.300366    \n\n   support_lane_damage_to_buildings_dominance_at_game_end  region  \\\n1                                           0.000000         EMEA   \n1                                           0.021463         EMEA   \n0                                           0.189840         EMEA   \n1                                           0.142380         EMEA   \n1                                           0.237914         EMEA   \n\n   num_prev_games  last_game_ind  \n1               1          False  \n1               2          False  \n0               3          False  \n1               4          False  \n1               5          False  \n\n[5 rows x 1207 columns]",
      "text/html": "<div>\n<style scoped>\n    .dataframe tbody tr th:only-of-type {\n        vertical-align: middle;\n    }\n\n    .dataframe tbody tr th {\n        vertical-align: top;\n    }\n\n    .dataframe thead th {\n        text-align: right;\n    }\n</style>\n<table border=\"1\" class=\"dataframe\">\n  <thead>\n    <tr style=\"text-align: right;\">\n      <th></th>\n      <th>platformGameId</th>\n      <th>esportsGameId</th>\n      <th>team_id</th>\n      <th>start_time</th>\n      <th>outcome</th>\n      <th>first_riftHerald_ind</th>\n      <th>first_riftHerald_time</th>\n      <th>num_riftHerald</th>\n      <th>first_dragon_ind</th>\n      <th>first_dragon_time</th>\n      <th>...</th>\n      <th>bot_lane_damage_to_champions_dominance_at_game_end</th>\n      <th>support_lane_damage_to_champions_dominance_at_game_end</th>\n      <th>top_lane_damage_to_buildings_dominance_at_game_end</th>\n      <th>jungle_lane_damage_to_buildings_dominance_at_game_end</th>\n      <th>mid_lane_damage_to_buildings_dominance_at_game_end</th>\n      <th>bot_lane_damage_to_buildings_dominance_at_game_end</th>\n      <th>support_lane_damage_to_buildings_dominance_at_game_end</th>\n      <th>region</th>\n      <th>num_prev_games</th>\n      <th>last_game_ind</th>\n    </tr>\n  </thead>\n  <tbody>\n    <tr>\n      <th>1</th>\n      <td>ESPORTSTMNT04:2684543</td>\n      <td>110429332689390730</td>\n      <td>101383793567806688</td>\n      <td>2023-06-18 16:07:24.814</td>\n      <td>0.000000</td>\n      <td>1.000000</td>\n      <td>558.178000</td>\n      <td>2.000000</td>\n      <td>1.000000</td>\n      <td>558.178000</td>\n      <td>...</td>\n      <td>0.437309</td>\n      <td>0.842920</td>\n      <td>0.927730</td>\n      <td>0.000000</td>\n      <td>0.152756</td>\n      <td>0.300315</td>\n      <td>0.000000</td>\n      <td>EMEA</td>\n      <td>1</td>\n      <td>False</td>\n    </tr>\n    <tr>\n      <th>1</th>\n      <td>ESPORTSTMNT04:2685587</td>\n      <td>110429332689390658</td>\n      <td>101383793567806688</td>\n      <td>2023-06-19 16:08:17.672</td>\n      <td>0.000000</td>\n      <td>0.500000</td>\n      <td>558.178000</td>\n      <td>1.500000</td>\n      <td>0.500000</td>\n      <td>558.178000</td>\n      <td>...</td>\n      <td>0.442252</td>\n      <td>0.601724</td>\n      <td>0.465223</td>\n      <td>0.015356</td>\n      <td>0.130747</td>\n      <td>0.267114</td>\n      <td>0.021463</td>\n      <td>EMEA</td>\n      <td>2</td>\n      <td>False</td>\n    </tr>\n    <tr>\n      <th>0</th>\n      <td>ESPORTSTMNT04:2688038</td>\n      <td>110429332689390700</td>\n      <td>101383793567806688</td>\n      <td>2023-06-24 16:07:08.059</td>\n      <td>0.333333</td>\n      <td>0.666667</td>\n      <td>455.447500</td>\n      <td>1.333333</td>\n      <td>0.666667</td>\n      <td>455.447500</td>\n      <td>...</td>\n      <td>0.452675</td>\n      <td>0.473845</td>\n      <td>0.522723</td>\n      <td>0.168517</td>\n      <td>0.163081</td>\n      <td>0.318320</td>\n      <td>0.189840</td>\n      <td>EMEA</td>\n      <td>3</td>\n      <td>False</td>\n    </tr>\n    <tr>\n      <th>1</th>\n      <td>ESPORTSTMNT04:2688138</td>\n      <td>110429332689390674</td>\n      <td>101383793567806688</td>\n      <td>2023-06-25 19:24:17.121</td>\n      <td>0.250000</td>\n      <td>0.500000</td>\n      <td>455.447500</td>\n      <td>1.250000</td>\n      <td>0.500000</td>\n      <td>455.447500</td>\n      <td>...</td>\n      <td>0.447200</td>\n      <td>0.473721</td>\n      <td>0.498290</td>\n      <td>0.126388</td>\n      <td>0.151471</td>\n      <td>0.260248</td>\n      <td>0.142380</td>\n      <td>EMEA</td>\n      <td>4</td>\n      <td>False</td>\n    </tr>\n    <tr>\n      <th>1</th>\n      <td>ESPORTSTMNT04:2687183</td>\n      <td>110429332689390688</td>\n      <td>101383793567806688</td>\n      <td>2023-06-26 19:07:38.970</td>\n      <td>0.200000</td>\n      <td>0.600000</td>\n      <td>502.377667</td>\n      <td>1.200000</td>\n      <td>0.600000</td>\n      <td>502.377667</td>\n      <td>...</td>\n      <td>0.436109</td>\n      <td>0.454344</td>\n      <td>0.516027</td>\n      <td>0.133921</td>\n      <td>0.187554</td>\n      <td>0.300366</td>\n      <td>0.237914</td>\n      <td>EMEA</td>\n      <td>5</td>\n      <td>False</td>\n    </tr>\n  </tbody>\n</table>\n<p>5 rows × 1207 columns</p>\n</div>"
     },
     "execution_count": 9,
     "metadata": {},
     "output_type": "execute_result"
    }
   ],
   "source": [
    "processed_game_data.head()"
   ],
   "metadata": {
    "collapsed": false,
    "ExecuteTime": {
     "end_time": "2023-09-18T00:47:12.322783300Z",
     "start_time": "2023-09-18T00:47:12.221126600Z"
    }
   },
   "id": "eb2293ccb875a51d"
  },
  {
   "cell_type": "code",
   "execution_count": 30,
   "outputs": [],
   "source": [
    "def rename_features(df, features, prefix):\n",
    "    return df.rename(columns=dict(zip(features, [f'{prefix}_{x}' for x in features])))\n",
    "\n",
    "def get_last_game(df):\n",
    "    return df[df['last_game']==True]\n",
    "\n",
    "# Apply columns swapping on training_data\n",
    "training_data, testing_data = tournament_data_processor.append_flipped_team_and_outcomes_to_tournament()\n",
    "\n",
    "# Join reg_season_games with game_data_featurized based on reg_season_games['esportsGameId'] == game_data_featurized['esportsGameId']\n",
    "# For the team features, join on reg_season_games['team_id_1'] == game_data_featurized['team_id'] and reg_season_games['team_id_2'] == game_data_featurized['team_id']\n",
    "# When doing so, rename the features of game_data_featurized to be team_1_feature and team_2_feature\n",
    "# TODO: fix game_features to include num_prev_games and last_game_ind \n",
    "training_data = training_data.merge(rename_features(processed_game_data.drop(['platformGameId', 'start_time'], axis=1), game_features + ['league'], \"team_1\"), \n",
    "                                    how='left', \n",
    "                                    left_on=['esportsGameId', 'team_id_1'], \n",
    "                                    right_on=['esportsGameId', 'team_id'],\n",
    "                                    suffixes=['_to_drop','_to_drop'])\n",
    "training_data = training_data.merge(rename_features(processed_game_data.drop(['platformGameId', 'start_time'], axis=1), game_features + ['league'], \"team_2\"), \n",
    "                                    how='left', \n",
    "                                    left_on=['esportsGameId', 'team_id_2'], \n",
    "                                    right_on=['esportsGameId', 'team_id'],\n",
    "                                    suffixes=['_to_drop','_to_drop'])\n",
    "\n",
    "# drop the games where the outcome is NaN, those games are when one team has not had any games yet\n",
    "training_data.dropna(subset=['team_1_outcome', 'team_2_outcome'], inplace=True)\n",
    "\n",
    "# At this point all remaining nan values occur because the team has not reached a certain status yet (e.g. no first kills in any games up to that point)\n",
    "# Fill these with -1\n",
    "training_data.fillna(-1, inplace=True)\n",
    "\n",
    "# Drop the columns that were used for joining (have '_to_drop' suffix). \n",
    "training_data.drop([x for x in training_data.columns if '_to_drop' in x], axis=1, inplace=True)\n",
    "# Drop league as we have featurized it into team_1_league and team_2_league\n",
    "training_data.drop(['league'], axis=1, inplace=True)"
   ],
   "metadata": {
    "collapsed": false,
    "ExecuteTime": {
     "end_time": "2023-09-18T00:58:37.375224900Z",
     "start_time": "2023-09-18T00:58:37.266515100Z"
    }
   },
   "id": "ab0a2c80a8998cf3"
  },
  {
   "cell_type": "code",
   "execution_count": 31,
   "outputs": [],
   "source": [
    "def impute_nans(df, features):\n",
    "    df = df.copy(deep=True)\n",
    "    # First group by team_id and then fillna with the mean of the team\n",
    "    df[features] = df.groupby('team_id')[features].transform(lambda x: x.fillna(x.mean(skipna=True)))\n",
    "    # If any NaNs remain, fill with the mean of the column\n",
    "    df[features] = df[features].fillna(df[features].mean())\n",
    "    return df\n",
    "\n",
    "processed_game_data_imputed = impute_nans(processed_game_data, game_features)"
   ],
   "metadata": {
    "collapsed": false,
    "ExecuteTime": {
     "end_time": "2023-09-18T00:58:47.385334600Z",
     "start_time": "2023-09-18T00:58:42.728200500Z"
    }
   },
   "id": "a636d4aaf657eb9"
  },
  {
   "cell_type": "code",
   "execution_count": 32,
   "outputs": [],
   "source": [
    "from sklearn.decomposition import PCA\n",
    "from sklearn.preprocessing import StandardScaler\n",
    "import matplotlib.pyplot as plt\n",
    "\n",
    "std_scaler = StandardScaler()\n",
    "pca = PCA()\n",
    "processed_game_data_imputed = std_scaler.fit_transform(processed_game_data_imputed[game_features])\n",
    "pca.fit(processed_game_data_imputed)\n",
    "exp_var_cumul = np.cumsum(pca.explained_variance_ratio_)"
   ],
   "metadata": {
    "collapsed": false,
    "ExecuteTime": {
     "end_time": "2023-09-18T00:58:47.495154700Z",
     "start_time": "2023-09-18T00:58:47.388326700Z"
    }
   },
   "id": "d492c67475b0cb3"
  },
  {
   "cell_type": "code",
   "execution_count": 33,
   "outputs": [
    {
     "data": {
      "text/plain": "<Figure size 640x480 with 1 Axes>",
      "image/png": "[encoded data removed]"
     },
     "metadata": {},
     "output_type": "display_data"
    }
   ],
   "source": [
    "# Plot the explained variance\n",
    "\n",
    "plt.plot(exp_var_cumul)\n",
    "plt.xlabel('Number of components')\n",
    "plt.ylabel('Cumulative explained variance')\n",
    "plt.show()\n"
   ],
   "metadata": {
    "collapsed": false,
    "ExecuteTime": {
     "end_time": "2023-09-18T00:58:47.666515Z",
     "start_time": "2023-09-18T00:58:47.495154700Z"
    }
   },
   "id": "fbda2fb480d7f87d"
  },
  {
   "cell_type": "code",
   "execution_count": 34,
   "outputs": [
    {
     "data": {
      "text/plain": "             match_id       esportsGameId           team_id_1  outcome_1  \\\n0  110429332689390645  110429332689390646  101383793572656373          0   \n2  110429332689390649  110429332689390650  101383793572656373          1   \n3  110429332689390651  110429332689390652  101383793572656373          1   \n4  110429332689390653  110429332689390654  101383793572656373          1   \n5  110429332689390655  110429332689390656  103461966965149786          0   \n\n            team_id_2  outcome_2  team_1_outcome  team_1_first_riftHerald_ind  \\\n0   98767991926151025          1        0.500000                     0.500000   \n2  107563714667537640          0        0.250000                     0.500000   \n3  101383793569248484          0        0.428571                     0.428571   \n4  109637393694097670          0        0.000000                     0.666667   \n5  101383793572656373          1        0.800000                     0.600000   \n\n   team_1_first_riftHerald_time  team_1_num_riftHerald  ...  \\\n0                    502.565667               1.000000  ...   \n2                    532.797000               1.250000  ...   \n3                    502.565667               1.000000  ...   \n4                    532.797000               1.333333  ...   \n5                    487.116000               0.600000  ...   \n\n   team_2_jungle_lane_damage_to_champions_dominance_at_game_end  \\\n0                                           0.606506              \n2                                           0.464965              \n3                                           0.425305              \n4                                           0.504736              \n5                                           0.538895              \n\n   team_2_mid_lane_damage_to_champions_dominance_at_game_end  \\\n0                                           0.580308           \n2                                           0.509989           \n3                                           0.485137           \n4                                           0.530444           \n5                                           0.563655           \n\n   team_2_bot_lane_damage_to_champions_dominance_at_game_end  \\\n0                                           0.609232           \n2                                           0.460627           \n3                                           0.363654           \n4                                           0.576663           \n5                                           0.471605           \n\n   team_2_support_lane_damage_to_champions_dominance_at_game_end  \\\n0                                           0.554306               \n2                                           0.446400               \n3                                           0.561610               \n4                                           0.315533               \n5                                           0.534977               \n\n   team_2_top_lane_damage_to_buildings_dominance_at_game_end  \\\n0                                           0.662987           \n2                                           0.534402           \n3                                           0.320566           \n4                                           0.306184           \n5                                           0.559675           \n\n   team_2_jungle_lane_damage_to_buildings_dominance_at_game_end  \\\n0                                           0.643732              \n2                                           0.348362              \n3                                           0.437748              \n4                                           0.705176              \n5                                           0.641821              \n\n   team_2_mid_lane_damage_to_buildings_dominance_at_game_end  \\\n0                                           0.819850           \n2                                           0.485577           \n3                                           0.567664           \n4                                           0.617319           \n5                                           0.477813           \n\n   team_2_bot_lane_damage_to_buildings_dominance_at_game_end  \\\n0                                           0.631369           \n2                                           0.490636           \n3                                           0.376977           \n4                                           0.857179           \n5                                           0.544909           \n\n   team_2_support_lane_damage_to_buildings_dominance_at_game_end  \\\n0                                           0.703694               \n2                                           0.488176               \n3                                           0.361214               \n4                                           0.893378               \n5                                           0.867261               \n\n   team_2_region  \n0           EMEA  \n2           EMEA  \n3           EMEA  \n4           EMEA  \n5           EMEA  \n\n[5 rows x 2408 columns]",
      "text/html": "<div>\n<style scoped>\n    .dataframe tbody tr th:only-of-type {\n        vertical-align: middle;\n    }\n\n    .dataframe tbody tr th {\n        vertical-align: top;\n    }\n\n    .dataframe thead th {\n        text-align: right;\n    }\n</style>\n<table border=\"1\" class=\"dataframe\">\n  <thead>\n    <tr style=\"text-align: right;\">\n      <th></th>\n      <th>match_id</th>\n      <th>esportsGameId</th>\n      <th>team_id_1</th>\n      <th>outcome_1</th>\n      <th>team_id_2</th>\n      <th>outcome_2</th>\n      <th>team_1_outcome</th>\n      <th>team_1_first_riftHerald_ind</th>\n      <th>team_1_first_riftHerald_time</th>\n      <th>team_1_num_riftHerald</th>\n      <th>...</th>\n      <th>team_2_jungle_lane_damage_to_champions_dominance_at_game_end</th>\n      <th>team_2_mid_lane_damage_to_champions_dominance_at_game_end</th>\n      <th>team_2_bot_lane_damage_to_champions_dominance_at_game_end</th>\n      <th>team_2_support_lane_damage_to_champions_dominance_at_game_end</th>\n      <th>team_2_top_lane_damage_to_buildings_dominance_at_game_end</th>\n      <th>team_2_jungle_lane_damage_to_buildings_dominance_at_game_end</th>\n      <th>team_2_mid_lane_damage_to_buildings_dominance_at_game_end</th>\n      <th>team_2_bot_lane_damage_to_buildings_dominance_at_game_end</th>\n      <th>team_2_support_lane_damage_to_buildings_dominance_at_game_end</th>\n      <th>team_2_region</th>\n    </tr>\n  </thead>\n  <tbody>\n    <tr>\n      <th>0</th>\n      <td>110429332689390645</td>\n      <td>110429332689390646</td>\n      <td>101383793572656373</td>\n      <td>0</td>\n      <td>98767991926151025</td>\n      <td>1</td>\n      <td>0.500000</td>\n      <td>0.500000</td>\n      <td>502.565667</td>\n      <td>1.000000</td>\n      <td>...</td>\n      <td>0.606506</td>\n      <td>0.580308</td>\n      <td>0.609232</td>\n      <td>0.554306</td>\n      <td>0.662987</td>\n      <td>0.643732</td>\n      <td>0.819850</td>\n      <td>0.631369</td>\n      <td>0.703694</td>\n      <td>EMEA</td>\n    </tr>\n    <tr>\n      <th>2</th>\n      <td>110429332689390649</td>\n      <td>110429332689390650</td>\n      <td>101383793572656373</td>\n      <td>1</td>\n      <td>107563714667537640</td>\n      <td>0</td>\n      <td>0.250000</td>\n      <td>0.500000</td>\n      <td>532.797000</td>\n      <td>1.250000</td>\n      <td>...</td>\n      <td>0.464965</td>\n      <td>0.509989</td>\n      <td>0.460627</td>\n      <td>0.446400</td>\n      <td>0.534402</td>\n      <td>0.348362</td>\n      <td>0.485577</td>\n      <td>0.490636</td>\n      <td>0.488176</td>\n      <td>EMEA</td>\n    </tr>\n    <tr>\n      <th>3</th>\n      <td>110429332689390651</td>\n      <td>110429332689390652</td>\n      <td>101383793572656373</td>\n      <td>1</td>\n      <td>101383793569248484</td>\n      <td>0</td>\n      <td>0.428571</td>\n      <td>0.428571</td>\n      <td>502.565667</td>\n      <td>1.000000</td>\n      <td>...</td>\n      <td>0.425305</td>\n      <td>0.485137</td>\n      <td>0.363654</td>\n      <td>0.561610</td>\n      <td>0.320566</td>\n      <td>0.437748</td>\n      <td>0.567664</td>\n      <td>0.376977</td>\n      <td>0.361214</td>\n      <td>EMEA</td>\n    </tr>\n    <tr>\n      <th>4</th>\n      <td>110429332689390653</td>\n      <td>110429332689390654</td>\n      <td>101383793572656373</td>\n      <td>1</td>\n      <td>109637393694097670</td>\n      <td>0</td>\n      <td>0.000000</td>\n      <td>0.666667</td>\n      <td>532.797000</td>\n      <td>1.333333</td>\n      <td>...</td>\n      <td>0.504736</td>\n      <td>0.530444</td>\n      <td>0.576663</td>\n      <td>0.315533</td>\n      <td>0.306184</td>\n      <td>0.705176</td>\n      <td>0.617319</td>\n      <td>0.857179</td>\n      <td>0.893378</td>\n      <td>EMEA</td>\n    </tr>\n    <tr>\n      <th>5</th>\n      <td>110429332689390655</td>\n      <td>110429332689390656</td>\n      <td>103461966965149786</td>\n      <td>0</td>\n      <td>101383793572656373</td>\n      <td>1</td>\n      <td>0.800000</td>\n      <td>0.600000</td>\n      <td>487.116000</td>\n      <td>0.600000</td>\n      <td>...</td>\n      <td>0.538895</td>\n      <td>0.563655</td>\n      <td>0.471605</td>\n      <td>0.534977</td>\n      <td>0.559675</td>\n      <td>0.641821</td>\n      <td>0.477813</td>\n      <td>0.544909</td>\n      <td>0.867261</td>\n      <td>EMEA</td>\n    </tr>\n  </tbody>\n</table>\n<p>5 rows × 2408 columns</p>\n</div>"
     },
     "execution_count": 34,
     "metadata": {},
     "output_type": "execute_result"
    }
   ],
   "source": [
    "training_data.head()"
   ],
   "metadata": {
    "collapsed": false,
    "ExecuteTime": {
     "end_time": "2023-09-18T00:58:47.736730Z",
     "start_time": "2023-09-18T00:58:47.637032Z"
    }
   },
   "id": "3826932d2bcd7ce0"
  },
  {
   "cell_type": "code",
   "execution_count": 57,
   "outputs": [
    {
     "data": {
      "text/plain": "RandomForestClassifier(max_depth=10, n_estimators=1000, random_state=0)",
      "text/html": "<style>#sk-container-id-7 {color: black;}#sk-container-id-7 pre{padding: 0;}#sk-container-id-7 div.sk-toggleable {background-color: white;}#sk-container-id-7 label.sk-toggleable__label {cursor: pointer;display: block;width: 100%;margin-bottom: 0;padding: 0.3em;box-sizing: border-box;text-align: center;}#sk-container-id-7 label.sk-toggleable__label-arrow:before {content: \"▸\";float: left;margin-right: 0.25em;color: #696969;}#sk-container-id-7 label.sk-toggleable__label-arrow:hover:before {color: black;}#sk-container-id-7 div.sk-estimator:hover label.sk-toggleable__label-arrow:before {color: black;}#sk-container-id-7 div.sk-toggleable__content {max-height: 0;max-width: 0;overflow: hidden;text-align: left;background-color: #f0f8ff;}#sk-container-id-7 div.sk-toggleable__content pre {margin: 0.2em;color: black;border-radius: 0.25em;background-color: #f0f8ff;}#sk-container-id-7 input.sk-toggleable__control:checked~div.sk-toggleable__content {max-height: 200px;max-width: 100%;overflow: auto;}#sk-container-id-7 input.sk-toggleable__control:checked~label.sk-toggleable__label-arrow:before {content: \"▾\";}#sk-container-id-7 div.sk-estimator input.sk-toggleable__control:checked~label.sk-toggleable__label {background-color: #d4ebff;}#sk-container-id-7 div.sk-label input.sk-toggleable__control:checked~label.sk-toggleable__label {background-color: #d4ebff;}#sk-container-id-7 input.sk-hidden--visually {border: 0;clip: rect(1px 1px 1px 1px);clip: rect(1px, 1px, 1px, 1px);height: 1px;margin: -1px;overflow: hidden;padding: 0;position: absolute;width: 1px;}#sk-container-id-7 div.sk-estimator {font-family: monospace;background-color: #f0f8ff;border: 1px dotted black;border-radius: 0.25em;box-sizing: border-box;margin-bottom: 0.5em;}#sk-container-id-7 div.sk-estimator:hover {background-color: #d4ebff;}#sk-container-id-7 div.sk-parallel-item::after {content: \"\";width: 100%;border-bottom: 1px solid gray;flex-grow: 1;}#sk-container-id-7 div.sk-label:hover label.sk-toggleable__label {background-color: #d4ebff;}#sk-container-id-7 div.sk-serial::before {content: \"\";position: absolute;border-left: 1px solid gray;box-sizing: border-box;top: 0;bottom: 0;left: 50%;z-index: 0;}#sk-container-id-7 div.sk-serial {display: flex;flex-direction: column;align-items: center;background-color: white;padding-right: 0.2em;padding-left: 0.2em;position: relative;}#sk-container-id-7 div.sk-item {position: relative;z-index: 1;}#sk-container-id-7 div.sk-parallel {display: flex;align-items: stretch;justify-content: center;background-color: white;position: relative;}#sk-container-id-7 div.sk-item::before, #sk-container-id-7 div.sk-parallel-item::before {content: \"\";position: absolute;border-left: 1px solid gray;box-sizing: border-box;top: 0;bottom: 0;left: 50%;z-index: -1;}#sk-container-id-7 div.sk-parallel-item {display: flex;flex-direction: column;z-index: 1;position: relative;background-color: white;}#sk-container-id-7 div.sk-parallel-item:first-child::after {align-self: flex-end;width: 50%;}#sk-container-id-7 div.sk-parallel-item:last-child::after {align-self: flex-start;width: 50%;}#sk-container-id-7 div.sk-parallel-item:only-child::after {width: 0;}#sk-container-id-7 div.sk-dashed-wrapped {border: 1px dashed gray;margin: 0 0.4em 0.5em 0.4em;box-sizing: border-box;padding-bottom: 0.4em;background-color: white;}#sk-container-id-7 div.sk-label label {font-family: monospace;font-weight: bold;display: inline-block;line-height: 1.2em;}#sk-container-id-7 div.sk-label-container {text-align: center;}#sk-container-id-7 div.sk-container {/* jupyter's `normalize.less` sets `[hidden] { display: none; }` but bootstrap.min.css set `[hidden] { display: none !important; }` so we also need the `!important` here to be able to override the default hidden behavior on the sphinx rendered scikit-learn.org. See: https://github.com/scikit-learn/scikit-learn/issues/21755 */display: inline-block !important;position: relative;}#sk-container-id-7 div.sk-text-repr-fallback {display: none;}</style><div id=\"sk-container-id-7\" class=\"sk-top-container\"><div class=\"sk-text-repr-fallback\"><pre>RandomForestClassifier(max_depth=10, n_estimators=1000, random_state=0)</pre><b>In a Jupyter environment, please rerun this cell to show the HTML representation or trust the notebook. <br />On GitHub, the HTML representation is unable to render, please try loading this page with nbviewer.org.</b></div><div class=\"sk-container\" hidden><div class=\"sk-item\"><div class=\"sk-estimator sk-toggleable\"><input class=\"sk-toggleable__control sk-hidden--visually\" id=\"sk-estimator-id-7\" type=\"checkbox\" checked><label for=\"sk-estimator-id-7\" class=\"sk-toggleable__label sk-toggleable__label-arrow\">RandomForestClassifier</label><div class=\"sk-toggleable__content\"><pre>RandomForestClassifier(max_depth=10, n_estimators=1000, random_state=0)</pre></div></div></div></div></div>"
     },
     "execution_count": 57,
     "metadata": {},
     "output_type": "execute_result"
    }
   ],
   "source": [
    "# fit a random forest model on the training data\n",
    "from sklearn.ensemble import RandomForestClassifier\n",
    "\n",
    "rf = RandomForestClassifier(n_estimators=1000, max_depth=10, random_state=0)\n",
    "non_game_features = ['match_id', 'esportsGameId', 'team_id_1', 'team_id_2', 'outcome_1', 'outcome_2', 'team_1_league', 'team_2_league']\n",
    "rf.fit(training_data.drop(non_game_features, axis=1), training_data['outcome_1'])\n",
    "\n",
    "# select_game_features = ['team_1_outcome', 'team_2_outcome']\n",
    "# rf.fit(training_data[select_game_features], training_data['outcome_1'])"
   ],
   "metadata": {
    "collapsed": false,
    "ExecuteTime": {
     "end_time": "2023-09-18T01:11:09.342835Z",
     "start_time": "2023-09-18T01:11:04.570990700Z"
    }
   },
   "id": "1ee360f39fb29980"
  },
  {
   "cell_type": "code",
   "execution_count": 58,
   "outputs": [
    {
     "data": {
      "text/plain": "                                                    importance\nteam_1_support_xp_per_min_at_14                       0.005492\nteam_2_support_xp_per_min_at_14                       0.005043\nteam_2_support_XP_at_14                               0.004830\nteam_1_support_XP_at_14                               0.004718\nteam_1_bot_CHAMPIONS_KILLED_at_20                     0.004376\nteam_1_support_KDA_at_30                              0.003580\nteam_1_mid_wards_per_min_at_20                        0.003294\nteam_1_top_vision_per_min_diff_at_20                  0.002827\nteam_1_jungle_trade_efficiency_at_14                  0.002795\nteam_2_bot_CHAMPIONS_KILLED_at_20                     0.002640\nteam_1_bot_gold_spent_at_14                           0.002451\nteam_2_mid_lane_damage_to_champions_dominance_a...    0.002366\nteam_2_mid_wards_per_min_at_20                        0.002309\nteam_2_jungle_lane_damage_to_champions_dominanc...    0.002303\nteam_2_support_KDA_at_30                              0.002277\nteam_2_top_KDA_diff_at_game_end                       0.002264\nteam_2_jungle_TOTAL_DAMAGE_TAKEN_at_20                0.002232\nteam_1_mid_lane_damage_to_champions_dominance_a...    0.002177\nteam_2_mid_damage_to_champions_per_min_diff_at_14     0.002124\nteam_2_jungle_trade_efficiency_at_14                  0.002111",
      "text/html": "<div>\n<style scoped>\n    .dataframe tbody tr th:only-of-type {\n        vertical-align: middle;\n    }\n\n    .dataframe tbody tr th {\n        vertical-align: top;\n    }\n\n    .dataframe thead th {\n        text-align: right;\n    }\n</style>\n<table border=\"1\" class=\"dataframe\">\n  <thead>\n    <tr style=\"text-align: right;\">\n      <th></th>\n      <th>importance</th>\n    </tr>\n  </thead>\n  <tbody>\n    <tr>\n      <th>team_1_support_xp_per_min_at_14</th>\n      <td>0.005492</td>\n    </tr>\n    <tr>\n      <th>team_2_support_xp_per_min_at_14</th>\n      <td>0.005043</td>\n    </tr>\n    <tr>\n      <th>team_2_support_XP_at_14</th>\n      <td>0.004830</td>\n    </tr>\n    <tr>\n      <th>team_1_support_XP_at_14</th>\n      <td>0.004718</td>\n    </tr>\n    <tr>\n      <th>team_1_bot_CHAMPIONS_KILLED_at_20</th>\n      <td>0.004376</td>\n    </tr>\n    <tr>\n      <th>team_1_support_KDA_at_30</th>\n      <td>0.003580</td>\n    </tr>\n    <tr>\n      <th>team_1_mid_wards_per_min_at_20</th>\n      <td>0.003294</td>\n    </tr>\n    <tr>\n      <th>team_1_top_vision_per_min_diff_at_20</th>\n      <td>0.002827</td>\n    </tr>\n    <tr>\n      <th>team_1_jungle_trade_efficiency_at_14</th>\n      <td>0.002795</td>\n    </tr>\n    <tr>\n      <th>team_2_bot_CHAMPIONS_KILLED_at_20</th>\n      <td>0.002640</td>\n    </tr>\n    <tr>\n      <th>team_1_bot_gold_spent_at_14</th>\n      <td>0.002451</td>\n    </tr>\n    <tr>\n      <th>team_2_mid_lane_damage_to_champions_dominance_at_14</th>\n      <td>0.002366</td>\n    </tr>\n    <tr>\n      <th>team_2_mid_wards_per_min_at_20</th>\n      <td>0.002309</td>\n    </tr>\n    <tr>\n      <th>team_2_jungle_lane_damage_to_champions_dominance_at_game_end</th>\n      <td>0.002303</td>\n    </tr>\n    <tr>\n      <th>team_2_support_KDA_at_30</th>\n      <td>0.002277</td>\n    </tr>\n    <tr>\n      <th>team_2_top_KDA_diff_at_game_end</th>\n      <td>0.002264</td>\n    </tr>\n    <tr>\n      <th>team_2_jungle_TOTAL_DAMAGE_TAKEN_at_20</th>\n      <td>0.002232</td>\n    </tr>\n    <tr>\n      <th>team_1_mid_lane_damage_to_champions_dominance_at_14</th>\n      <td>0.002177</td>\n    </tr>\n    <tr>\n      <th>team_2_mid_damage_to_champions_per_min_diff_at_14</th>\n      <td>0.002124</td>\n    </tr>\n    <tr>\n      <th>team_2_jungle_trade_efficiency_at_14</th>\n      <td>0.002111</td>\n    </tr>\n  </tbody>\n</table>\n</div>"
     },
     "execution_count": 58,
     "metadata": {},
     "output_type": "execute_result"
    }
   ],
   "source": [
    "# Get the feature importances from the model\n",
    "feature_importances = pd.DataFrame(rf.feature_importances_,\n",
    "                                   index = training_data.drop(non_game_features, axis=1).columns,\n",
    "                                   columns=['importance']).sort_values('importance', ascending=False)\n",
    "feature_importances.head(20)"
   ],
   "metadata": {
    "collapsed": false,
    "ExecuteTime": {
     "end_time": "2023-09-18T01:11:10.192470800Z",
     "start_time": "2023-09-18T01:11:10.063761700Z"
    }
   },
   "id": "ee276589d8661734"
  },
  {
   "cell_type": "code",
   "execution_count": 39,
   "outputs": [],
   "source": [
    "# Prepare the inference dataset \n",
    "# Apply the same operations as the training set w.r.t. joins, drops, and imputations with minor modifications\n",
    "testing_data = testing_data.merge(rename_features(inference_game_data.drop(['platformGameId', 'start_time'], axis=1), game_features + ['league'], \"team_1\"), \n",
    "                                    how='left', \n",
    "                                    left_on=['esportsGameId', 'team_id_1'], \n",
    "                                    right_on=['esportsGameId', 'team_id'],\n",
    "                                    suffixes=['_to_drop','_to_drop'])\n",
    "testing_data = testing_data.merge(rename_features(inference_game_data.drop(['platformGameId', 'start_time'], axis=1), game_features + ['league'], \"team_2\"), \n",
    "                                    how='left', \n",
    "                                    left_on=['esportsGameId', 'team_id_2'], \n",
    "                                    right_on=['esportsGameId', 'team_id'],\n",
    "                                    suffixes=['_to_drop','_to_drop'])\n",
    "\n",
    "# At this point all remaining nan values occur because the team has not reached a certain status yet (e.g. no first kills in any games up to that point)\n",
    "# Fill these with -1\n",
    "testing_data.fillna(-1, inplace=True)\n",
    "\n",
    "# Drop the columns that were used for joining (have '_to_drop' suffix). \n",
    "testing_data.drop([x for x in testing_data.columns if '_to_drop' in x], axis=1, inplace=True)\n",
    "# Drop league as we have featurized it into team_1_league and team_2_league\n",
    "testing_data.drop(['league'], axis=1, inplace=True)"
   ],
   "metadata": {
    "collapsed": false,
    "ExecuteTime": {
     "end_time": "2023-09-18T01:00:40.304911900Z",
     "start_time": "2023-09-18T01:00:40.210465800Z"
    }
   },
   "id": "5c163980e216bf66"
  },
  {
   "cell_type": "code",
   "execution_count": 62,
   "outputs": [
    {
     "name": "stdout",
     "output_type": "stream",
     "text": [
      "Train model accuracy: 1.0\n",
      "Train baseline accuracy: 0.6532258064516129\n",
      "Test model accuracy: 0.3125\n",
      "Test baseline accuracy: 0.6875\n"
     ]
    }
   ],
   "source": [
    "# Predict on the training data\n",
    "pred_train_model = rf.predict(training_data.drop(non_game_features, axis=1))\n",
    "pred_train_base = training_data['team_1_outcome'] >= training_data['team_2_outcome']\n",
    "\n",
    "# Predict on the testing data\n",
    "pred_test_model = rf.predict(testing_data.drop(non_game_features, axis=1))\n",
    "pred_test_base = testing_data['team_1_outcome'] >= testing_data['team_2_outcome']\n",
    "\n",
    "acc_train_model = np.mean(pred_train_model == training_data['outcome_1'])\n",
    "acc_train_base = np.mean(pred_train_base == training_data['outcome_1'])\n",
    "\n",
    "acc_test_model = np.mean(pred_test_model == testing_data['outcome_1'])\n",
    "acc_test_base = np.mean(pred_test_base == testing_data['outcome_1'])\n",
    "\n",
    "print(f\"Train model accuracy: {acc_train_model}\")\n",
    "print(f\"Train baseline accuracy: {acc_train_base}\")\n",
    "\n",
    "print(f\"Test model accuracy: {acc_test_model}\")\n",
    "print(f\"Test baseline accuracy: {acc_test_base}\")"
   ],
   "metadata": {
    "collapsed": false,
    "ExecuteTime": {
     "end_time": "2023-09-18T01:17:52.680335500Z",
     "start_time": "2023-09-18T01:17:52.447729300Z"
    }
   },
   "id": "749160a2ee822de4"
  },
  {
   "cell_type": "code",
   "execution_count": 56,
   "outputs": [
    {
     "name": "stdout",
     "output_type": "stream",
     "text": [
      "Model accuracy: 0.3125\n",
      "Baseline accuracy: 0.6875\n"
     ]
    }
   ],
   "source": [
    "# Predict on the testing data\n",
    "predictions = rf.predict(testing_data[select_game_features])\n",
    "base_predictions = testing_data['team_1_outcome'] >= testing_data['team_2_outcome']\n",
    "\n",
    "acc_model = np.mean(predictions == testing_data['outcome_1'])\n",
    "acc_base = np.mean(base_predictions == testing_data['outcome_1'])\n",
    "\n",
    "print(f\"Model accuracy: {acc_model}\")\n",
    "print(f\"Baseline accuracy: {acc_base}\")"
   ],
   "metadata": {
    "collapsed": false,
    "ExecuteTime": {
     "end_time": "2023-09-18T01:10:53.193830900Z",
     "start_time": "2023-09-18T01:10:53.097195100Z"
    }
   },
   "id": "93111731f442d939"
  },
  {
   "cell_type": "code",
   "execution_count": null,
   "outputs": [],
   "source": [],
   "metadata": {
    "collapsed": false
   },
   "id": "c146101beca4af50"
  }
 ],
 "metadata": {
  "kernelspec": {
   "display_name": "Python 3",
   "language": "python",
   "name": "python3"
  },
  "language_info": {
   "codemirror_mode": {
    "name": "ipython",
    "version": 2
   },
   "file_extension": ".py",
   "mimetype": "text/x-python",
   "name": "python",
   "nbconvert_exporter": "python",
   "pygments_lexer": "ipython2",
   "version": "2.7.6"
  }
 },
 "nbformat": 4,
 "nbformat_minor": 5
}
